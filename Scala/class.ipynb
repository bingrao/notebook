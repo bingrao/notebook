{
 "cells": [
  {
   "cell_type": "markdown",
   "metadata": {},
   "source": [
    "# Class Parameters"
   ]
  },
  {
   "cell_type": "markdown",
   "metadata": {},
   "source": [
    "## 1. Class Parameters"
   ]
  },
  {
   "cell_type": "code",
   "execution_count": 2,
   "metadata": {},
   "outputs": [
    {
     "data": {
      "text/plain": [
       "defined \u001b[32mclass\u001b[39m \u001b[36mRational\u001b[39m\r\n",
       "defined \u001b[32mclass\u001b[39m \u001b[36mCaseRational\u001b[39m"
      ]
     },
     "execution_count": 2,
     "metadata": {},
     "output_type": "execute_result"
    }
   ],
   "source": [
    "class Rational(n:Int, d:Int)\n",
    "case class CaseRational(n:Int, d:Int)"
   ]
  },
  {
   "cell_type": "code",
   "execution_count": 5,
   "metadata": {},
   "outputs": [
    {
     "data": {
      "text/plain": [
       "\u001b[36ma\u001b[39m: \u001b[32mRational\u001b[39m = ammonite.$sess.cmd1$Helper$Rational@2cf0adbd\r\n",
       "\u001b[36mb\u001b[39m: \u001b[32mCaseRational\u001b[39m = \u001b[33mCaseRational\u001b[39m(\u001b[32m1\u001b[39m, \u001b[32m2\u001b[39m)"
      ]
     },
     "execution_count": 5,
     "metadata": {},
     "output_type": "execute_result"
    }
   ],
   "source": [
    "val a = new Rational(1,2)\n",
    "val b = CaseRational(1, 2)"
   ]
  },
  {
   "cell_type": "markdown",
   "metadata": {},
   "source": [
    "We have define a rational class using two different way. For each defition, we also define two class parameters n and d. \n",
    "\n",
    "    1.in the definiton of \"Class\", you cannot access them from outside of class, but it works in case class\n",
    "    2. The class parameters can be accessed in anywhere of the inner class."
   ]
  },
  {
   "cell_type": "code",
   "execution_count": 3,
   "metadata": {},
   "outputs": [
    {
     "name": "stderr",
     "output_type": "stream",
     "text": [
      "cmd3.sc:1: value n is not a member of ammonite.$sess.cmd2.wrapper.cmd1.Rational\n",
      "val res3 = a.n\n",
      "             ^Compilation Failed"
     ]
    },
    {
     "ename": "",
     "evalue": "",
     "output_type": "error",
     "traceback": [
      "Compilation Failed"
     ]
    }
   ],
   "source": [
    "a.n"
   ]
  },
  {
   "cell_type": "code",
   "execution_count": 6,
   "metadata": {},
   "outputs": [
    {
     "data": {
      "text/plain": [
       "\u001b[36mres5\u001b[39m: \u001b[32mInt\u001b[39m = \u001b[32m1\u001b[39m"
      ]
     },
     "execution_count": 6,
     "metadata": {},
     "output_type": "execute_result"
    }
   ],
   "source": [
    "b.n"
   ]
  },
  {
   "cell_type": "markdown",
   "metadata": {},
   "source": [
    "Here, the following code is a another example about above observation"
   ]
  },
  {
   "cell_type": "code",
   "execution_count": 5,
   "metadata": {},
   "outputs": [
    {
     "name": "stderr",
     "output_type": "stream",
     "text": [
      "cmd5.sc:4: value d is not a member of Helper.this.Rational\n",
      "        new Rational(n*that.d + that.n*d, d*that.d)\n",
      "                            ^cmd5.sc:4: value n is not a member of Helper.this.Rational\n",
      "        new Rational(n*that.d + that.n*d, d*that.d)\n",
      "                                     ^cmd5.sc:4: value d is not a member of Helper.this.Rational\n",
      "        new Rational(n*that.d + that.n*d, d*that.d)\n",
      "                                                 ^Compilation Failed"
     ]
    },
    {
     "ename": "",
     "evalue": "",
     "output_type": "error",
     "traceback": [
      "Compilation Failed"
     ]
    }
   ],
   "source": [
    "class Rational(n:Int, d:Int){\n",
    "    require(d != 0) // Precondtion for the class\n",
    "    def add(that: Rational): Rational = \n",
    "        new Rational(n*that.d + that.n*d, d*that.d)\n",
    "}"
   ]
  },
  {
   "cell_type": "code",
   "execution_count": 7,
   "metadata": {},
   "outputs": [
    {
     "data": {
      "text/plain": [
       "defined \u001b[32mclass\u001b[39m \u001b[36mCaseRational\u001b[39m"
      ]
     },
     "execution_count": 7,
     "metadata": {},
     "output_type": "execute_result"
    }
   ],
   "source": [
    "case class CaseRational(n:Int, d:Int){\n",
    "    require(d != 0) // Precondtion for the class\n",
    "    def add(that: CaseRational): CaseRational = CaseRational(n*that.d + that.n*d, d*that.d)\n",
    "}"
   ]
  },
  {
   "cell_type": "markdown",
   "metadata": {},
   "source": [
    "So the solution to this problem is"
   ]
  },
  {
   "cell_type": "code",
   "execution_count": 8,
   "metadata": {},
   "outputs": [
    {
     "data": {
      "text/plain": [
       "defined \u001b[32mclass\u001b[39m \u001b[36mRational\u001b[39m"
      ]
     },
     "execution_count": 8,
     "metadata": {},
     "output_type": "execute_result"
    }
   ],
   "source": [
    "class Rational(n:Int, d:Int){\n",
    "    require(d != 0) // Precondtion for the class\n",
    "    val numer: Int = n\n",
    "    val denom: Int = d \n",
    "    def add(that: Rational): Rational = \n",
    "        new Rational(n*that.denom + that.numer*d, d*that.denom)\n",
    "}"
   ]
  },
  {
   "cell_type": "markdown",
   "metadata": {},
   "source": [
    "## Self Reference/Self-type"
   ]
  },
  {
   "cell_type": "markdown",
   "metadata": {},
   "source": [
    "The keyword *this* refers to the object instance on which the currently executing method was invoked, or if used in a constructor, the object instance being constructed"
   ]
  },
  {
   "cell_type": "code",
   "execution_count": 12,
   "metadata": {},
   "outputs": [
    {
     "data": {
      "text/plain": [
       "defined \u001b[32mclass\u001b[39m \u001b[36mRational\u001b[39m"
      ]
     },
     "execution_count": 12,
     "metadata": {},
     "output_type": "execute_result"
    }
   ],
   "source": [
    "class Rational(n:Int, d:Int){\n",
    "    require(d != 0) // Precondtion for the class\n",
    "    val numer: Int = n\n",
    "    val denom: Int = d \n",
    "    def add(that: Rational): Rational = \n",
    "        new Rational(n*that.denom + that.numer*d, d*that.denom)\n",
    "    def lessThan(that: Rational) = this.numer * that.denom < this.denom * that.numer\n",
    "}"
   ]
  },
  {
   "cell_type": "markdown",
   "metadata": {},
   "source": [
    "Self-type"
   ]
  },
  {
   "cell_type": "code",
   "execution_count": 11,
   "metadata": {},
   "outputs": [
    {
     "data": {
      "text/plain": [
       "defined \u001b[32mclass\u001b[39m \u001b[36mRational\u001b[39m"
      ]
     },
     "execution_count": 11,
     "metadata": {},
     "output_type": "execute_result"
    }
   ],
   "source": [
    "class Rational(n:Int, d:Int){ r =>\n",
    "    require(d != 0) // Precondtion for the class\n",
    "    val numer: Int = n\n",
    "    val denom: Int = d \n",
    "    def add(that: Rational): Rational = \n",
    "        new Rational(n*that.denom + that.numer*d, d*that.denom)\n",
    "    def lessThan(that: Rational) = r.numer * that.denom < r.denom * that.numer\n",
    "}"
   ]
  },
  {
   "cell_type": "markdown",
   "metadata": {},
   "source": [
    "Self-types are a way to declare that a trait must be mixed into another trait, even though it doesn’t directly extend it. That makes the members of the dependency available without imports.\n",
    "\n",
    "A self-type is a way to narrow the type of this or another identifier that aliases this. The syntax looks like normal function syntax but means something entirely different.\n",
    "\n",
    "To use a self-type in a trait, write an identifier, the type of another trait to mix in, and a => (e.g. someIdentifier: SomeOtherTrait =>)."
   ]
  },
  {
   "cell_type": "code",
   "execution_count": 13,
   "metadata": {},
   "outputs": [
    {
     "name": "stdout",
     "output_type": "stream",
     "text": [
      "real Beyoncé: Just spilled my glass of lemonade\n"
     ]
    },
    {
     "data": {
      "text/plain": [
       "defined \u001b[32mtrait\u001b[39m \u001b[36mUser\u001b[39m\r\n",
       "defined \u001b[32mtrait\u001b[39m \u001b[36mTweeter\u001b[39m\r\n",
       "defined \u001b[32mclass\u001b[39m \u001b[36mVerifiedTweeter\u001b[39m\r\n",
       "\u001b[36mrealBeyoncé\u001b[39m: \u001b[32mVerifiedTweeter\u001b[39m = ammonite.$sess.cmd12$Helper$VerifiedTweeter@32ac5594"
      ]
     },
     "execution_count": 13,
     "metadata": {},
     "output_type": "execute_result"
    }
   ],
   "source": [
    "trait User {\n",
    "  def username: String\n",
    "}\n",
    "\n",
    "trait Tweeter {\n",
    "  this: User =>  // reassign this\n",
    "  def tweet(tweetText: String) = println(s\"$username: $tweetText\")\n",
    "}\n",
    "\n",
    "class VerifiedTweeter(val username_ : String) extends Tweeter with User {  // We mixin User because Tweeter required it\n",
    "  def username = s\"real $username_\"\n",
    "}\n",
    "\n",
    "val realBeyoncé = new VerifiedTweeter(\"Beyoncé\")\n",
    "realBeyoncé.tweet(\"Just spilled my glass of lemonade\")  // prints \"real Beyoncé: Just spilled my glass of lemonade\""
   ]
  },
  {
   "cell_type": "markdown",
   "metadata": {},
   "source": [
    "Because we said this: User => in trait Tweeter, now the variable username is in scope for the tweet method. This also means that since VerifiedTweeter extends Tweeter, it must also mix-in User (using with User)."
   ]
  },
  {
   "cell_type": "markdown",
   "metadata": {},
   "source": [
    "## Auxiliary Constructors\n",
    "\n",
    "    1.In scala, every auxiliary constructor must invoke another constructor of the same class as its first action. In other words, the first statement in every auxiliary constrcutor in every scala class will have the form \"this(...)\". The invoked constructor is either the primary constrcutor or another auxililairy constrcutor  that comes texually before the calling constructor. \n",
    "    2.The net effect of this rule is that every constructor invocation in Scala will end up eventually calling the primanry construcotr of the class. \n",
    "    3. The primanry constructor is thus the single point of entry of a class.\n",
    "    4. Only the primary constructor can invoke a superclass constructor, but in java any constructor only does this. "
   ]
  },
  {
   "cell_type": "code",
   "execution_count": 14,
   "metadata": {},
   "outputs": [
    {
     "data": {
      "text/plain": [
       "defined \u001b[32mclass\u001b[39m \u001b[36mRational\u001b[39m"
      ]
     },
     "execution_count": 14,
     "metadata": {},
     "output_type": "execute_result"
    }
   ],
   "source": [
    "class Rational(n:Int, d:Int){ r =>\n",
    "    require(d != 0) // Precondtion for the class\n",
    "    val numer: Int = n\n",
    "    val denom: Int = d\n",
    "    def this(n: Int) = this(n, 1) // auxiliary constructor\n",
    "    def add(that: Rational): Rational = \n",
    "        new Rational(n*that.denom + that.numer*d, d*that.denom)\n",
    "    def lessThan(that: Rational) = r.numer * that.denom < r.denom * that.numer\n",
    "}"
   ]
  },
  {
   "cell_type": "markdown",
   "metadata": {},
   "source": [
    "##   Private fields and methods\n",
    "\n",
    "They can only be accessed in the body of the class, but not outside."
   ]
  },
  {
   "cell_type": "code",
   "execution_count": 1,
   "metadata": {},
   "outputs": [
    {
     "data": {
      "text/plain": [
       "defined \u001b[32mclass\u001b[39m \u001b[36mRational\u001b[39m"
      ]
     },
     "execution_count": 1,
     "metadata": {},
     "output_type": "execute_result"
    }
   ],
   "source": [
    "class Rational(n:Int, d:Int){ r =>\n",
    "    require(d != 0) // Precondtion for the class\n",
    "    private val g = gcd(n.abs, d.abs)\n",
    "    val numer: Int = n\n",
    "    val denom: Int = d\n",
    "    def this(n: Int) = this(n, 1) // auxiliary constructor\n",
    "    def add(that: Rational): Rational = \n",
    "        new Rational(n*that.denom + that.numer*d, d*that.denom)\n",
    "    def lessThan(that: Rational) = r.numer * that.denom < r.denom * that.numer\n",
    "\n",
    "    private def gcd(a:Int, b:Int):Int = if (b == 0) a else gcd(b, a %b) // recursive function need to be defined a return type\n",
    "}"
   ]
  },
  {
   "cell_type": "code",
   "execution_count": null,
   "metadata": {},
   "outputs": [],
   "source": []
  }
 ],
 "metadata": {
  "kernelspec": {
   "display_name": "Scala",
   "language": "scala",
   "name": "scala"
  },
  "language_info": {
   "codemirror_mode": "text/x-scala",
   "file_extension": ".sc",
   "mimetype": "text/x-scala",
   "name": "scala",
   "nbconvert_exporter": "script",
   "version": "2.13.3"
  },
  "latex_envs": {
   "LaTeX_envs_menu_present": true,
   "autoclose": true,
   "autocomplete": true,
   "bibliofile": "biblio.bib",
   "cite_by": "apalike",
   "current_citInitial": 1,
   "eqLabelWithNumbers": true,
   "eqNumInitial": 1,
   "hotkeys": {
    "equation": "Ctrl-E",
    "itemize": "Ctrl-I"
   },
   "labels_anchors": false,
   "latex_user_defs": false,
   "report_style_numbering": false,
   "user_envs_cfg": false
  },
  "toc": {
   "base_numbering": 1,
   "nav_menu": {},
   "number_sections": true,
   "sideBar": true,
   "skip_h1_title": false,
   "title_cell": "Table of Contents",
   "title_sidebar": "Contents",
   "toc_cell": false,
   "toc_position": {},
   "toc_section_display": true,
   "toc_window_display": false
  }
 },
 "nbformat": 4,
 "nbformat_minor": 4
}
