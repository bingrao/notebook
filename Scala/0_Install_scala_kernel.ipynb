{
 "cells": [
  {
   "cell_type": "markdown",
   "metadata": {},
   "source": [
    "# Install Conda Environment\n",
    "\n",
    "\n",
    "\n",
    "# Create a notebook environment for Scala\n",
    "\n",
    "```\n",
    "# conda create -n notebook python=3.7\n",
    "\n",
    "# conda activate notebook\n",
    "\n",
    "# conda install -c conda-forge jupyterlab\n",
    "\n",
    "# conda install -c conda-forge jupyter_contrib_nbextensions\n",
    "\n",
    "# jupyter contrib nbextension install --user\n",
    "\n",
    "# jupyter nbextension enable spellchecker/main\n",
    "\n",
    "```\n",
    "\n",
    "\n",
    "# Install Coursier software in windows\n",
    "\n",
    "\n",
    "```\n",
    "> bitsadmin /transfer cs-cli https://git.io/coursier-cli-windows-exe \"%cd%\\cs.exe\"\n",
    ">.\\cs --help\n",
    "```\n",
    "# Install almond for scala\n",
    "```\n",
    "> .\\cs launch --fork almond:0.10.0 --scala 2.12.11 -- --install\n",
    "```\n",
    "## Getting help about the launcher\n",
    "```\n",
    ">.\\cs launch --fork almond -- --help\n",
    "```\n",
    "## Uninstall the almond kernel\n",
    "```\n",
    "# jupyter kernelspec list\n",
    "# jupyter kernelspec remove scala\n",
    "```\n",
    "\n",
    "\n",
    "# Reference\n",
    "\n",
    "1. [Miniconda](https://docs.conda.io/en/latest/miniconda.html#windows-installers)\n",
    "2. [Jupyter](https://jupyter.org/install)\n",
    "3. [Jupyter extention](https://jupyter-contrib-nbextensions.readthedocs.io/en/latest/install.html)\n",
    "4. [Courier install on windows](https://get-coursier.io/docs/cli-installation)\n",
    "4. [Almond](https://almond.sh/docs/quick-start-install)\n"
   ]
  },
  {
   "cell_type": "code",
   "execution_count": null,
   "metadata": {},
   "outputs": [],
   "source": []
  }
 ],
 "metadata": {
  "kernelspec": {
   "display_name": "Scala",
   "language": "scala",
   "name": "scala"
  },
  "language_info": {
   "codemirror_mode": "text/x-scala",
   "file_extension": ".sc",
   "mimetype": "text/x-scala",
   "name": "scala",
   "nbconvert_exporter": "script",
   "version": "2.13.3"
  },
  "latex_envs": {
   "LaTeX_envs_menu_present": true,
   "autoclose": true,
   "autocomplete": true,
   "bibliofile": "biblio.bib",
   "cite_by": "apalike",
   "current_citInitial": 1,
   "eqLabelWithNumbers": true,
   "eqNumInitial": 1,
   "hotkeys": {
    "equation": "Ctrl-E",
    "itemize": "Ctrl-I"
   },
   "labels_anchors": false,
   "latex_user_defs": false,
   "report_style_numbering": false,
   "user_envs_cfg": false
  },
  "toc": {
   "base_numbering": 1,
   "nav_menu": {},
   "number_sections": true,
   "sideBar": true,
   "skip_h1_title": false,
   "title_cell": "Table of Contents",
   "title_sidebar": "Contents",
   "toc_cell": false,
   "toc_position": {},
   "toc_section_display": true,
   "toc_window_display": false
  }
 },
 "nbformat": 4,
 "nbformat_minor": 4
}
