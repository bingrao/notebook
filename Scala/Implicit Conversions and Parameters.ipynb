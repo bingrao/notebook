{
 "cells": [
  {
   "cell_type": "markdown",
   "metadata": {},
   "source": [
    "# Scenario\n",
    "\n",
    "\n",
    "**You can change or extend your own code as you wish to cover new features or API. However, if you want to use someone's libraies, you usally have to take them as they are.**\n",
    "\n",
    "\n",
    "**Solutions** to alleviate this problem have sprung up in programming languages\n",
    " 1. Ruby has modules\n",
    " 2. Smalltalk let pacakges add to each other's class\n",
    " 3. C\\#3.0 has static extension modules, which are more local but also more restrictive, in that you can only add methods, not fields, to a class, and you cannot make a class implement new interfaces.\n",
    " 4. For Bytecode programming langauge, we can also use code imstrumentation to insert a function to some specicial position in the code to expose some information or get current state of runing code. \n",
    " 4. Scala's answer is implicit conversions and parameters.\n",
    "\n",
    "## What is implicit conversion\n",
    "\n",
    "1. A value can be passed “automatically” to the definition of a method/class via implicit parameters\n",
    "2. Implicits definitions are those that the compiler is allowed to insert into a **program** in order to fix any of its type errors. For example, if *** x + y *** is not compiled well and has a type mismatch error on *x* since there is no operator *+* defined in *x*. So the compiler meight change it to ***convert(x) + y***, where *convert* is some available implicit convertion to change *x* to something that has a *+* method, then this change might fix a program so that it can type checks and return correctly. You should be noticed that the coversion should work in a specific scope,  which means you need to define them in a context of code."
   ]
  },
  {
   "cell_type": "markdown",
   "metadata": {
    "heading_collapsed": true
   },
   "source": [
    "# Rules for imlicits\n",
    "\n",
    "## Making Rules\n",
    "\n",
    "**Only defitions marked by *implict* are available.** \n",
    "1. You can use it to mark any variable, function, class or object definition\n",
    "2. Variables and singleton objects marked implicit can be used as *implicit parameters*. \n"
   ]
  },
  {
   "cell_type": "code",
   "execution_count": 3,
   "metadata": {
    "hidden": true
   },
   "outputs": [
    {
     "data": {
      "text/plain": [
       "\u001b[36mres2\u001b[39m: \u001b[32mString\u001b[39m = \u001b[32m\"2abbc\"\u001b[39m"
      ]
     },
     "execution_count": 3,
     "metadata": {},
     "output_type": "execute_result"
    }
   ],
   "source": [
    "// you will get a runtime error, since there is a type mismatch between a integer and string types.\n",
    "2 + \"abbc\""
   ]
  },
  {
   "cell_type": "code",
   "execution_count": 4,
   "metadata": {
    "hidden": true
   },
   "outputs": [
    {
     "data": {
      "text/plain": [
       "defined \u001b[32mfunction\u001b[39m \u001b[36mintToString\u001b[39m"
      ]
     },
     "execution_count": 4,
     "metadata": {},
     "output_type": "execute_result"
    }
   ],
   "source": [
    "implicit def intToString(x:Int) = x.toString"
   ]
  },
  {
   "cell_type": "code",
   "execution_count": 5,
   "metadata": {
    "hidden": true
   },
   "outputs": [
    {
     "data": {
      "text/plain": [
       "\u001b[36mres4\u001b[39m: \u001b[32mString\u001b[39m = \u001b[32m\"2abbc\"\u001b[39m"
      ]
     },
     "execution_count": 5,
     "metadata": {},
     "output_type": "execute_result"
    }
   ],
   "source": [
    "2 + \"abbc\""
   ]
  },
  {
   "cell_type": "markdown",
   "metadata": {
    "hidden": true
   },
   "source": [
    "In the inner compiler, the above expression is parsed and represented by *intToString(2) + \"abbc\")* acturally."
   ]
  },
  {
   "cell_type": "markdown",
   "metadata": {
    "hidden": true
   },
   "source": [
    "## Scope Rule\n",
    "\n",
    "**An inserted implicit conversion must be in scope as a single identifier, or be associated with the source or target type of the coversion**\n",
    "\n",
    "There are two kinds of places that compiler will look for the avaialble implicit definitions:\n",
    "\n",
    "1. The current working scope. Therefore, you must in some way bring the definitions into the scope. For example you can import them from other packages.  \n",
    "2. The implicit conversion must be in scope as a **single** identifier. For example, *someVarible.convert* is not inserted by compiler to expand x to *someVarible.convert(x) + y*."
   ]
  },
  {
   "cell_type": "code",
   "execution_count": 7,
   "metadata": {
    "hidden": true
   },
   "outputs": [
    {
     "data": {
      "text/plain": [
       "defined \u001b[32mfunction\u001b[39m \u001b[36mintToString\u001b[39m"
      ]
     },
     "execution_count": 7,
     "metadata": {},
     "output_type": "execute_result"
    }
   ],
   "source": []
  },
  {
   "cell_type": "markdown",
   "metadata": {
    "hidden": true
   },
   "source": [
    "3. There's one exception to the \"single identifier\" rule. The compiler will aso look for implicit definitions in the companion object of the source or expected target types of the coversion. "
   ]
  },
  {
   "cell_type": "code",
   "execution_count": 2,
   "metadata": {
    "hidden": true
   },
   "outputs": [
    {
     "data": {
      "text/plain": [
       "defined \u001b[32mclass\u001b[39m \u001b[36mcurrency\u001b[39m\r\n",
       "defined \u001b[32mclass\u001b[39m \u001b[36mEuro\u001b[39m\r\n",
       "defined \u001b[32mclass\u001b[39m \u001b[36mDollar\u001b[39m"
      ]
     },
     "execution_count": 2,
     "metadata": {},
     "output_type": "execute_result"
    }
   ],
   "source": [
    "abstract class currency(n:Float){\n",
    "    val nums = n\n",
    "}\n",
    "\n",
    "class Euro(n:Float) extends currency(n)\n",
    "\n",
    "class Dollar(n:Float) extends currency(n){\n",
    "    def add(a: Dollar) = new Dollar(this.nums + a.nums)\n",
    "}"
   ]
  },
  {
   "cell_type": "code",
   "execution_count": 3,
   "metadata": {
    "hidden": true
   },
   "outputs": [
    {
     "data": {
      "text/plain": [
       "\u001b[36ma_euro\u001b[39m: \u001b[32mEuro\u001b[39m = ammonite.$sess.cmd1$Helper$Euro@282ee7a4"
      ]
     },
     "execution_count": 3,
     "metadata": {},
     "output_type": "execute_result"
    }
   ],
   "source": [
    "val a_euro = new Euro(10)"
   ]
  },
  {
   "cell_type": "code",
   "execution_count": 4,
   "metadata": {
    "hidden": true
   },
   "outputs": [
    {
     "data": {
      "text/plain": [
       "\u001b[36ma_dollar\u001b[39m: \u001b[32mDollar\u001b[39m = ammonite.$sess.cmd1$Helper$Dollar@3fb3ea15"
      ]
     },
     "execution_count": 4,
     "metadata": {},
     "output_type": "execute_result"
    }
   ],
   "source": [
    "val a_dollar = new Dollar(15)"
   ]
  },
  {
   "cell_type": "code",
   "execution_count": 4,
   "metadata": {
    "hidden": true
   },
   "outputs": [
    {
     "name": "stderr",
     "output_type": "stream",
     "text": [
      "cmd4.sc:1: type mismatch;\n",
      " found   : ammonite.$sess.cmd2.wrapper.cmd1.Euro\n",
      " required: ammonite.$sess.cmd3.wrapper.cmd1.Dollar\n",
      "val res4 = a_dollar add(a_euro)\n",
      "                        ^Compilation Failed"
     ]
    },
    {
     "ename": "",
     "evalue": "",
     "output_type": "error",
     "traceback": [
      "Compilation Failed"
     ]
    }
   ],
   "source": [
    "a_dollar add(a_euro)"
   ]
  },
  {
   "cell_type": "markdown",
   "metadata": {
    "hidden": true
   },
   "source": [
    "There is a type mismatch issue here, since the add function in Dollar can only take Dollar class. So there are two ways to fix this issue.\n",
    "\n",
    "1. In the companion object of target class, that is \"Dollar\", you can define an implicit conversion "
   ]
  },
  {
   "cell_type": "code",
   "execution_count": 7,
   "metadata": {
    "hidden": true
   },
   "outputs": [
    {
     "data": {
      "text/plain": [
       "defined \u001b[32mclass\u001b[39m \u001b[36mcurrency\u001b[39m\r\n",
       "defined \u001b[32mclass\u001b[39m \u001b[36mEuro\u001b[39m\r\n",
       "defined \u001b[32mclass\u001b[39m \u001b[36mDollar\u001b[39m\r\n",
       "defined \u001b[32mobject\u001b[39m \u001b[36mDollar\u001b[39m\r\n",
       "\u001b[36ma_euro\u001b[39m: \u001b[32mEuro\u001b[39m = ammonite.$sess.cmd6$Helper$Euro@32baf94d\r\n",
       "\u001b[36ma_dollar\u001b[39m: \u001b[32mDollar\u001b[39m = ammonite.$sess.cmd6$Helper$Dollar@5b935dfa"
      ]
     },
     "execution_count": 7,
     "metadata": {},
     "output_type": "execute_result"
    }
   ],
   "source": [
    "abstract class currency(n:Float){\n",
    "    val nums = n\n",
    "}\n",
    "\n",
    "class Euro(n:Float) extends currency(n)\n",
    "\n",
    "class Dollar(n:Float) extends currency(n){\n",
    "    def add(a: Dollar) = new Dollar(this.nums + a.nums)\n",
    "}\n",
    "\n",
    "object Dollar{\n",
    "    implicit def dollarToEuro(x: Euro) = new Dollar(x.nums)\n",
    "}\n",
    "\n",
    "val a_euro = new Euro(10)\n",
    "val a_dollar = new Dollar(15)"
   ]
  },
  {
   "cell_type": "code",
   "execution_count": 8,
   "metadata": {
    "hidden": true
   },
   "outputs": [
    {
     "data": {
      "text/plain": [
       "\u001b[36mres7\u001b[39m: \u001b[32mDollar\u001b[39m = ammonite.$sess.cmd6$Helper$Dollar@6bafad15"
      ]
     },
     "execution_count": 8,
     "metadata": {},
     "output_type": "execute_result"
    }
   ],
   "source": [
    "a_dollar add(a_euro)"
   ]
  },
  {
   "cell_type": "markdown",
   "metadata": {
    "hidden": true
   },
   "source": [
    "2. In the companion object of source class, that is \"Euro\", you can define an implicit conversion "
   ]
  },
  {
   "cell_type": "code",
   "execution_count": 9,
   "metadata": {
    "hidden": true
   },
   "outputs": [
    {
     "data": {
      "text/plain": [
       "defined \u001b[32mclass\u001b[39m \u001b[36mcurrency\u001b[39m\r\n",
       "defined \u001b[32mclass\u001b[39m \u001b[36mEuro\u001b[39m\r\n",
       "defined \u001b[32mclass\u001b[39m \u001b[36mDollar\u001b[39m\r\n",
       "defined \u001b[32mobject\u001b[39m \u001b[36mEuro\u001b[39m\r\n",
       "\u001b[36ma_euro\u001b[39m: \u001b[32mEuro\u001b[39m = ammonite.$sess.cmd8$Helper$Euro@4912d8a1\r\n",
       "\u001b[36ma_dollar\u001b[39m: \u001b[32mDollar\u001b[39m = ammonite.$sess.cmd8$Helper$Dollar@2947c4bc"
      ]
     },
     "execution_count": 9,
     "metadata": {},
     "output_type": "execute_result"
    }
   ],
   "source": [
    "abstract class currency(n:Float){\n",
    "    val nums = n\n",
    "}\n",
    "\n",
    "class Euro(n:Float) extends currency(n)\n",
    "\n",
    "class Dollar(n:Float) extends currency(n){\n",
    "    def add(a: Dollar) = new Dollar(this.nums + a.nums)\n",
    "}\n",
    "\n",
    "object Euro{\n",
    "    implicit def dollarToEuro(x: Euro) = new Dollar(x.nums)\n",
    "}\n",
    "\n",
    "val a_euro = new Euro(10)\n",
    "val a_dollar = new Dollar(15)"
   ]
  },
  {
   "cell_type": "code",
   "execution_count": 10,
   "metadata": {
    "hidden": true
   },
   "outputs": [
    {
     "data": {
      "text/plain": [
       "\u001b[36mres9\u001b[39m: \u001b[32mDollar\u001b[39m = ammonite.$sess.cmd8$Helper$Dollar@7555afe5"
      ]
     },
     "execution_count": 10,
     "metadata": {},
     "output_type": "execute_result"
    }
   ],
   "source": [
    "a_dollar add(a_euro)"
   ]
  },
  {
   "cell_type": "markdown",
   "metadata": {
    "hidden": true
   },
   "source": [
    "In above two cases, the coversion *dollarToEuro* is said to the *associated* to the type *Dollar* or *Euro*. The compiler will find such an associated conversion every time it needs to convert from an instance of type *Dollar*. There is no need to import it seperately into your program.\n",
    "\n",
    "**You cannot define an implicit conversion in the class, See followed examples**"
   ]
  },
  {
   "cell_type": "code",
   "execution_count": 12,
   "metadata": {
    "hidden": true
   },
   "outputs": [
    {
     "data": {
      "text/plain": [
       "defined \u001b[32mclass\u001b[39m \u001b[36mcurrency\u001b[39m\r\n",
       "defined \u001b[32mclass\u001b[39m \u001b[36mEuro\u001b[39m\r\n",
       "defined \u001b[32mclass\u001b[39m \u001b[36mDollar\u001b[39m\r\n",
       "\u001b[36ma_euro\u001b[39m: \u001b[32mEuro\u001b[39m = ammonite.$sess.cmd11$Helper$Euro@74446b7a\r\n",
       "\u001b[36ma_dollar\u001b[39m: \u001b[32mDollar\u001b[39m = ammonite.$sess.cmd11$Helper$Dollar@789f82ca"
      ]
     },
     "execution_count": 12,
     "metadata": {},
     "output_type": "execute_result"
    }
   ],
   "source": [
    "abstract class currency(n:Float){\n",
    "    val nums = n\n",
    "}\n",
    "\n",
    "class Euro(n:Float) extends currency(n){\n",
    "    implicit def dollarToEuro(x: Euro) = new Dollar(x.nums)\n",
    "}\n",
    "\n",
    "class Dollar(n:Float) extends currency(n){\n",
    "    def add(a: Dollar) = new Dollar(this.nums + a.nums)\n",
    "}\n",
    "val a_euro = new Euro(10)\n",
    "val a_dollar = new Dollar(15)"
   ]
  },
  {
   "cell_type": "markdown",
   "metadata": {
    "hidden": true
   },
   "source": []
  },
  {
   "cell_type": "code",
   "execution_count": 12,
   "metadata": {
    "hidden": true
   },
   "outputs": [
    {
     "name": "stderr",
     "output_type": "stream",
     "text": [
      "cmd12.sc:1: type mismatch;\n",
      " found   : cmd12.this.cmd11.Euro\n",
      " required: cmd12.this.cmd11.Dollar\n",
      "val res12 = a_dollar add(a_euro)\n",
      "                         ^Compilation Failed"
     ]
    },
    {
     "ename": "",
     "evalue": "",
     "output_type": "error",
     "traceback": [
      "Compilation Failed"
     ]
    }
   ],
   "source": [
    "a_dollar add(a_euro)"
   ]
  },
  {
   "cell_type": "markdown",
   "metadata": {
    "hidden": true
   },
   "source": [
    "There are some benefits from scope rule\n",
    "1. it helps with modular reasoning. When you read code in a file, except for the context definiton in the code, the only things you need to consider from other files are those that are either imported or explicitly referrenced through a fully qualified name. "
   ]
  },
  {
   "cell_type": "markdown",
   "metadata": {
    "hidden": true
   },
   "source": [
    "## One-at-a-time rule\n",
    "\n",
    "For *x + y*, the compiler will never rewrite it to *convert1(convert2(x)) + y*. For sanity's sake, the compiler does not insert further implicit conversions when it is already in the middle of trying another implicit. \n",
    "\n",
    "However, it is possible to **circumvent this restriction** by having implicits take implicit parameters. For example:  "
   ]
  },
  {
   "cell_type": "code",
   "execution_count": 12,
   "metadata": {
    "hidden": true
   },
   "outputs": [],
   "source": [
    "//TODO"
   ]
  },
  {
   "cell_type": "markdown",
   "metadata": {
    "hidden": true
   },
   "source": [
    "## Explicits-First Rule\n",
    "\n",
    "**Whenever code type checks as it is written, no implicits are attempted** A corollary of this rule is that you can always replace implicit identifiers by explicit ones."
   ]
  },
  {
   "cell_type": "markdown",
   "metadata": {
    "hidden": true
   },
   "source": [
    "## Naming an implicit conversion\n",
    "\n",
    "Implicit conversions can have arbitrary names. The name of an implicit conversion matters only in two situations:\n",
    "1. if you want to write it explicitly in a method application\n",
    "2. for determining which implicit conversions are available at any place in the program\n",
    "\n",
    "\n",
    "To illustrate the second point, say you have an object with two implicit conversions:"
   ]
  },
  {
   "cell_type": "code",
   "execution_count": 12,
   "metadata": {
    "hidden": true
   },
   "outputs": [
    {
     "name": "stderr",
     "output_type": "stream",
     "text": [
      "(console):2:62 expected (If | While | Try | DoWhile | For | Throw | Return | ImplicitLambda | SmallerExprOrLambda)\r\n",
      "object MyConversions {\n",
      "    implicit def stringWrapper(s: String):IndexedSeq[Char] = ...\n",
      "    implicit def intToString(x: Int): String = ...\n",
      "}\r\n",
      "                                                                                    ^"
     ]
    },
    {
     "ename": "",
     "evalue": "",
     "output_type": "error",
     "traceback": [
      "(console):2:62 expected (If | While | Try | DoWhile | For | Throw | Return | ImplicitLambda | SmallerExprOrLambda)\r\nobject MyConversions {\n    implicit def stringWrapper(s: String):IndexedSeq[Char] = ...\n    implicit def intToString(x: Int): String = ...\n}\r\n                                                                                    ^"
     ]
    }
   ],
   "source": [
    "object MyConversions {\n",
    "    implicit def stringWrapper(s: String):IndexedSeq[Char] = ...\n",
    "    implicit def intToString(x: Int): String = ...\n",
    "}"
   ]
  },
  {
   "cell_type": "markdown",
   "metadata": {
    "hidden": true
   },
   "source": [
    "In your application, you want to make use of the *stringWrapper* conversion, but you don’t want integers to be converted automatically to strings by means of the *intToString* conversion. You can achieve this by importing only one conversion, but not the other."
   ]
  },
  {
   "cell_type": "code",
   "execution_count": 12,
   "metadata": {
    "hidden": true
   },
   "outputs": [
    {
     "name": "stderr",
     "output_type": "stream",
     "text": [
      "(console):2:2 expected (`this` | Id)\r\n",
      "import MyConversions.stringWrapper\n",
      "... // code making use of stringWrapper\r\n",
      "                                    ^"
     ]
    },
    {
     "ename": "",
     "evalue": "",
     "output_type": "error",
     "traceback": [
      "(console):2:2 expected (`this` | Id)\r\nimport MyConversions.stringWrapper\n... // code making use of stringWrapper\r\n                                    ^"
     ]
    }
   ],
   "source": [
    "import MyConversions.stringWrapper\n",
    "... // code making use of stringWrapper"
   ]
  },
  {
   "cell_type": "markdown",
   "metadata": {
    "hidden": true
   },
   "source": [
    "## Where implicits are tried \n",
    "There are three places implicits are used in the language\n",
    "1. **Implicit conversions to an expected type.** let you use one type in a context where a different type is expected. For example, you might have a String and want to pass it to a method that requires an *IndexedSeq[Char]*.\n",
    "\n",
    "2. **Implicit Conversions of the receiver of a selection.** let you adapt the receiver of a method call, i.e., the object on which a method is invoked, if the method is not applicable on the original type. An example is *\"abc\".exists*, which is converted to *stringWrapper(\"abc\").exists* because the exists method is not available on Strings but is available on *IndexedSeqs*\n",
    "\n",
    "3. **Implicit parameters.** are usually used to provide more information to the called function about what the caller wants. Implicit parameters are especially useful with generic functions, where the called function might otherwise know nothing at all about the type of one or more arguments."
   ]
  },
  {
   "cell_type": "markdown",
   "metadata": {},
   "source": [
    "# Implicit conversion to an expected type\n",
    "\n",
    "\n",
    "Whenever the compiler sees an **X**, but needs a **Y**, it will look for an implicit function that converts X to Y. \n",
    "\n",
    "Speaking very briefly about the latter type, if one calls a method m on an object o of a class C, and that class does not support method m, then Scala will look for an implicit conversion from C to something that does support m. "
   ]
  },
  {
   "cell_type": "code",
   "execution_count": 17,
   "metadata": {},
   "outputs": [
    {
     "name": "stderr",
     "output_type": "stream",
     "text": [
      "cmd17.sc:1: type mismatch;\n",
      " found   : Double(3.5)\n",
      " required: Int\n",
      "val i:Int = 3.5\n",
      "            ^Compilation Failed"
     ]
    },
    {
     "ename": "",
     "evalue": "",
     "output_type": "error",
     "traceback": [
      "Compilation Failed"
     ]
    }
   ],
   "source": [
    "// normally a double cannot be used as an integer, because it loses precision\n",
    "val i:Int = 3.5"
   ]
  },
  {
   "cell_type": "markdown",
   "metadata": {},
   "source": [
    "However, you can define an implicit conversion to smooth this over:"
   ]
  },
  {
   "cell_type": "code",
   "execution_count": 18,
   "metadata": {},
   "outputs": [
    {
     "data": {
      "text/plain": [
       "defined \u001b[32mfunction\u001b[39m \u001b[36mdoubleToInt\u001b[39m\r\n",
       "\u001b[36mi\u001b[39m: \u001b[32mInt\u001b[39m = \u001b[32m3\u001b[39m"
      ]
     },
     "execution_count": 18,
     "metadata": {},
     "output_type": "execute_result"
    }
   ],
   "source": [
    "implicit def doubleToInt(x: Double) = x.toInt\n",
    "val i: Int = 3.5"
   ]
  },
  {
   "cell_type": "markdown",
   "metadata": {},
   "source": [
    "What happens here is that the compiler sees a Double, specifically 3.5, in a context where it requires an Int. So far, the compiler is looking at an ordinary type error. Before giving up, though, it searches for an implicit conversion from Double to Int. In this case, it finds one: doubleToInt, because doubleToInt is in scope as a single identifier. (Outside the interpreter, you might bring doubleToInt into scope via an import or possibly through inheritance.) The compiler then inserts a call to doubleToInt automatically. Behind the scenes, the code becomes:"
   ]
  },
  {
   "cell_type": "code",
   "execution_count": 19,
   "metadata": {},
   "outputs": [
    {
     "data": {
      "text/plain": [
       "\u001b[36mi\u001b[39m: \u001b[32mInt\u001b[39m = \u001b[32m3\u001b[39m"
      ]
     },
     "execution_count": 19,
     "metadata": {},
     "output_type": "execute_result"
    }
   ],
   "source": [
    "val i: Int = doubleToInt(3.5) // This is literally an implicit conversion"
   ]
  },
  {
   "cell_type": "markdown",
   "metadata": {},
   "source": [
    "Converting Doubles to Ints might raise some eyebrows, because it’s a dubious idea to have something that causes a loss in precision happen invisibly. So this is not really a conversion we recommend. **It makes much more sense to go the other way, from some more constrained type to a more general one**. For instance, an Int can be converted without loss of precision\n",
    "to a Double, so an implicit conversion from Int to Double makes sense. In fact, that’s exactly what happens. The cala.Predef object, which is implicitly imported into every Scala program, defines implicit conversions that convert “smaller” numeric types to “larger” ones."
   ]
  },
  {
   "cell_type": "markdown",
   "metadata": {},
   "source": [
    "# Converting the receiver\n",
    "\n",
    "\n",
    "Implicit conversions also apply to the receiver of a method call, the object on which the method is invoked. This kind of implicit conversion has two main uses.\n",
    "1. Receiver conversions allow smoother integration of a new class into an existing class hierarchy\n",
    "2. They support writing domainspecific languages (DSLs) within the language\n",
    "\n",
    "To see how it works, suppose you write down obj.doIt, and obj does not have a member named doIt. The compiler will try to insert conversions before giving up. In this case, the conversion needs to apply to the receiver, obj. The compiler will act as if the expected “type” of obj were “has a member named doIt.” This “has a doIt” type is not a normal Scala type, but it is there conceptually and is why the compiler will insert an implicit conversion in this case."
   ]
  },
  {
   "cell_type": "markdown",
   "metadata": {},
   "source": [
    "## Interoperating with new types\n",
    "\n",
    "As mentioned previously, one major use of receiver conversions is allowing smoother integration of new with existing types. In particular, they allow you to enable client programmers to use instances of existing types as if they were instances of your new type"
   ]
  },
  {
   "cell_type": "code",
   "execution_count": 1,
   "metadata": {},
   "outputs": [
    {
     "data": {
      "text/plain": [
       "defined \u001b[32mclass\u001b[39m \u001b[36mRational\u001b[39m"
      ]
     },
     "execution_count": 1,
     "metadata": {},
     "output_type": "execute_result"
    }
   ],
   "source": [
    "class Rational(n: Int, d: Int) {\n",
    "    require(d != 0)\n",
    "    private val g = gcd(n.abs, d.abs)\n",
    "    \n",
    "    val numer = n / g\n",
    "    val denom = d / g\n",
    "    def this(n: Int) = this(n, 1)\n",
    "    def + (that: Rational): Rational =\n",
    "        new Rational(\n",
    "            numer * that.denom + that.numer * denom,\n",
    "            denom * that.denom\n",
    "        )\n",
    "    def + (i: Int): Rational = new Rational(numer + i * denom, denom)\n",
    "    \n",
    "    override def toString = numer +\"/\"+ denom\n",
    "    private def gcd(a: Int, b: Int): Int = if (b == 0) a else gcd(b, a % b)\n",
    "}"
   ]
  },
  {
   "cell_type": "code",
   "execution_count": 2,
   "metadata": {},
   "outputs": [
    {
     "data": {
      "text/plain": [
       "\u001b[36moneHalf\u001b[39m: \u001b[32mRational\u001b[39m = 1/2"
      ]
     },
     "execution_count": 2,
     "metadata": {},
     "output_type": "execute_result"
    }
   ],
   "source": [
    "val oneHalf = new Rational(1, 2)"
   ]
  },
  {
   "cell_type": "code",
   "execution_count": 3,
   "metadata": {},
   "outputs": [
    {
     "data": {
      "text/plain": [
       "\u001b[36mres2\u001b[39m: \u001b[32mRational\u001b[39m = 3/2"
      ]
     },
     "execution_count": 3,
     "metadata": {},
     "output_type": "execute_result"
    }
   ],
   "source": [
    "oneHalf + 1"
   ]
  },
  {
   "cell_type": "code",
   "execution_count": 3,
   "metadata": {},
   "outputs": [
    {
     "name": "stderr",
     "output_type": "stream",
     "text": [
      "cmd3.sc:1: overloaded method + with alternatives:\n",
      "  (x: Double)Double <and>\n",
      "  (x: Float)Float <and>\n",
      "  (x: Long)Long <and>\n",
      "  (x: Int)Int <and>\n",
      "  (x: Char)Int <and>\n",
      "  (x: Short)Int <and>\n",
      "  (x: Byte)Int <and>\n",
      "  (x: String)String\n",
      " cannot be applied to (ammonite.$sess.cmd1.wrapper.cmd0.Rational)\n",
      "val res3 = 1 + oneHalf\n",
      "             ^Compilation Failed"
     ]
    },
    {
     "ename": "",
     "evalue": "",
     "output_type": "error",
     "traceback": [
      "Compilation Failed"
     ]
    }
   ],
   "source": [
    "// This expression is tricky because the receiver, 1, does not have a suitable + method working on a rational number. \n",
    "// So there is a compiling error\n",
    "1 + oneHalf"
   ]
  },
  {
   "cell_type": "markdown",
   "metadata": {},
   "source": [
    "To allow this kind of mixed arithmetic, you need to define an implicit conversion from Int to Rational"
   ]
  },
  {
   "cell_type": "code",
   "execution_count": 4,
   "metadata": {},
   "outputs": [
    {
     "data": {
      "text/plain": [
       "defined \u001b[32mfunction\u001b[39m \u001b[36mintToRational\u001b[39m"
      ]
     },
     "execution_count": 4,
     "metadata": {},
     "output_type": "execute_result"
    }
   ],
   "source": [
    "implicit def intToRational(x: Int) = new Rational(x, 1)"
   ]
  },
  {
   "cell_type": "code",
   "execution_count": 5,
   "metadata": {},
   "outputs": [
    {
     "data": {
      "text/plain": [
       "\u001b[36mres4\u001b[39m: \u001b[32mRational\u001b[39m = 3/2"
      ]
     },
     "execution_count": 5,
     "metadata": {},
     "output_type": "execute_result"
    }
   ],
   "source": [
    "1 + oneHalf"
   ]
  },
  {
   "cell_type": "markdown",
   "metadata": {},
   "source": [
    "What happens behind the scenes here is that Scala compiler first tries to type check the expression 1 + oneHalf as it is. This fails because Int has several + methods, but none that takes a Rational argument. Next, the compiler searches for an implicit conversion from Int to another type that has a + method which can be applied to a Rational. It finds your conversion and applies it, which yields:"
   ]
  },
  {
   "cell_type": "code",
   "execution_count": 6,
   "metadata": {},
   "outputs": [
    {
     "data": {
      "text/plain": [
       "\u001b[36mres5\u001b[39m: \u001b[32mRational\u001b[39m = 3/2"
      ]
     },
     "execution_count": 6,
     "metadata": {},
     "output_type": "execute_result"
    }
   ],
   "source": [
    "intToRational(1) + oneHalf"
   ]
  },
  {
   "cell_type": "markdown",
   "metadata": {},
   "source": [
    "## Simulating new syntax\n",
    "\n",
    "The other major use of implicit conversions is to simulate adding new syntax. Recall that you can make a Map using syntax like this: "
   ]
  },
  {
   "cell_type": "code",
   "execution_count": 7,
   "metadata": {},
   "outputs": [
    {
     "data": {
      "text/plain": [
       "\u001b[36ma\u001b[39m: \u001b[32mMap\u001b[39m[\u001b[32mInt\u001b[39m, \u001b[32mString\u001b[39m] = \u001b[33mMap\u001b[39m(\u001b[32m1\u001b[39m -> \u001b[32m\"one\"\u001b[39m, \u001b[32m2\u001b[39m -> \u001b[32m\"two\"\u001b[39m, \u001b[32m3\u001b[39m -> \u001b[32m\"three\"\u001b[39m)"
      ]
     },
     "execution_count": 7,
     "metadata": {},
     "output_type": "execute_result"
    }
   ],
   "source": [
    "val a = Map(1 -> \"one\", 2 -> \"two\", 3 ->\"three\")"
   ]
  },
  {
   "cell_type": "markdown",
   "metadata": {},
   "source": [
    "In this definition, Have you wondered how the \"->\" is supported? \n",
    "\n",
    "Actually, it is not syntax. Instead \"->\" is a method of the class **ArrowAssoc**, a class defined inside the standard Scala preamble (scala.Predef). The preamble also defines an implicit conversion from Any to ArrowAssoc. When you write following statement:"
   ]
  },
  {
   "cell_type": "code",
   "execution_count": 10,
   "metadata": {},
   "outputs": [
    {
     "data": {
      "text/plain": [
       "\u001b[36mres9\u001b[39m: (\u001b[32mInt\u001b[39m, \u001b[32mString\u001b[39m) = (\u001b[32m1\u001b[39m, \u001b[32m\"one\"\u001b[39m)"
      ]
     },
     "execution_count": 10,
     "metadata": {},
     "output_type": "execute_result"
    }
   ],
   "source": [
    "1 -> \"one\""
   ]
  },
  {
   "cell_type": "markdown",
   "metadata": {},
   "source": [
    "The compiler inserts a conversion from 1 to **ArrowAssoc** so that the \"->\" method can be found. \n",
    "\n",
    "```\n",
    "package scala\n",
    "object Predef {\n",
    "class ArrowAssoc[A](x: A) {\n",
    "    def ->[B](y: B): Tuple2[A, B] = Tuple2(x, y)\n",
    "}\n",
    "implicit def any2ArrowAssoc[A](x: A): ArrowAssoc[A] = new ArrowAssoc(x)\n",
    "...\n",
    "}\n",
    "```"
   ]
  },
  {
   "cell_type": "code",
   "execution_count": 11,
   "metadata": {},
   "outputs": [
    {
     "data": {
      "text/plain": [
       "\u001b[36mres10\u001b[39m: (\u001b[32mInt\u001b[39m, \u001b[32mString\u001b[39m) = (\u001b[32m1\u001b[39m, \u001b[32m\"one\"\u001b[39m)"
      ]
     },
     "execution_count": 11,
     "metadata": {},
     "output_type": "execute_result"
    }
   ],
   "source": [
    "ArrowAssoc(1) -> \"one\""
   ]
  },
  {
   "cell_type": "markdown",
   "metadata": {},
   "source": [
    "This “rich wrappers” pattern is common in libraries that provide syntax-like extensions to the language, so you should be ready to recognize the pattern when you see it. Whenever you see someone calling methods that appear not to exist in the receiver class, they are probably using implicits. Similarly, if you see a class named RichSomething, e.g., RichInt or RichBoolean, that class is likely adding syntax-like methods to type Something.\n",
    "\n",
    "As you can now see, these rich wrappers apply more widely, often letting you get by with an internal DSL defined as a library where programmers in other languages might feel the need to develop an external DSL."
   ]
  },
  {
   "cell_type": "markdown",
   "metadata": {},
   "source": [
    "# Implicit Parameters\n",
    "\n",
    "\n",
    "A method can have an implicit parameter list, marked by the implicit keyword at the start of the parameter list. If the parameters in that parameter list are not passed as usual, Scala will look if it can get an implicit value of the correct type, and if it can, pass it automatically.\n",
    "\n",
    "The places Scala will look for these parameters fall into two categories:\n",
    "\n",
    "1. Scala will first look for implicit definitions and implicit parameters that can be accessed directly (without a prefix) at the point the method with the implicit parameter block is called\n",
    "2. Then it looks for members marked implicit in all the companion objects associated with the implicit candidate type."
   ]
  },
  {
   "cell_type": "code",
   "execution_count": 16,
   "metadata": {},
   "outputs": [
    {
     "data": {
      "text/plain": [
       "\u001b[32mimport \u001b[39m\u001b[36mscala.math._\n",
       "\u001b[39m\r\n",
       "defined \u001b[32mfunction\u001b[39m \u001b[36mfoo\u001b[39m"
      ]
     },
     "execution_count": 16,
     "metadata": {},
     "output_type": "execute_result"
    }
   ],
   "source": [
    "import scala.math._\n",
    "def foo[T](t: T)(implicit integral: Integral[T]): Unit = {\n",
    "    println(integral)\n",
    "}"
   ]
  },
  {
   "cell_type": "code",
   "execution_count": 21,
   "metadata": {},
   "outputs": [
    {
     "name": "stdout",
     "output_type": "stream",
     "text": [
      "scala.math.Numeric$IntIsIntegral$@5d63bd3e\n"
     ]
    }
   ],
   "source": [
    "foo(0)"
   ]
  },
  {
   "cell_type": "markdown",
   "metadata": {},
   "source": [
    "## Context Bounds\n",
    "\n",
    "Another common pattern in implicit parameters is the type class pattern. This pattern enables the provision of common interfaces to classes which did not declare them. It can both serve as a bridge pattern – gaining separation of concerns – and as an adapter pattern."
   ]
  },
  {
   "cell_type": "code",
   "execution_count": 23,
   "metadata": {},
   "outputs": [
    {
     "data": {
      "text/plain": [
       "defined \u001b[32mfunction\u001b[39m \u001b[36msum\u001b[39m"
      ]
     },
     "execution_count": 23,
     "metadata": {},
     "output_type": "execute_result"
    }
   ],
   "source": [
    "def sum[T](list: List[T])(implicit integral: Integral[T]): T = {\n",
    "    import integral._   // get the implicits in question into scope\n",
    "    list.foldLeft(integral.zero)(_ + _)\n",
    "}"
   ]
  },
  {
   "cell_type": "markdown",
   "metadata": {},
   "source": [
    "There is also a syntactic sugar for it, called a context bound, which is made less useful by the need to refer to the implicit. A straight conversion of that method looks like this:"
   ]
  },
  {
   "cell_type": "code",
   "execution_count": 25,
   "metadata": {},
   "outputs": [
    {
     "data": {
      "text/plain": [
       "defined \u001b[32mfunction\u001b[39m \u001b[36msum\u001b[39m"
      ]
     },
     "execution_count": 25,
     "metadata": {},
     "output_type": "execute_result"
    }
   ],
   "source": [
    "def sum[T : Integral](list: List[T]): T = {\n",
    "    val integral = implicitly[Integral[T]]\n",
    "    import integral._   // get the implicits in question into scope\n",
    "    list.foldLeft(integral.zero)(_ + _)\n",
    "}"
   ]
  },
  {
   "cell_type": "markdown",
   "metadata": {},
   "source": [
    "Context bounds are more useful when you just need to pass them to other methods that use them. For example, the method *sorted* on *Seq* needs an implicit Ordering. To create a method reverseSort, one could write:"
   ]
  },
  {
   "cell_type": "code",
   "execution_count": 27,
   "metadata": {},
   "outputs": [
    {
     "data": {
      "text/plain": [
       "defined \u001b[32mfunction\u001b[39m \u001b[36mreverseSort\u001b[39m"
      ]
     },
     "execution_count": 27,
     "metadata": {},
     "output_type": "execute_result"
    }
   ],
   "source": [
    "def reverseSort[T : Ordering](seq: Seq[T]) = seq.sorted.reverse"
   ]
  },
  {
   "cell_type": "markdown",
   "metadata": {},
   "source": [
    "Because Ordering[T] was implicitly passed to reverseSort, it can then pass it implicitly to sorted."
   ]
  },
  {
   "cell_type": "markdown",
   "metadata": {},
   "source": [
    "# Implicit Class\n",
    "\n",
    "The implicit keyword will now be allowed as an annotation on classes. Classes annotated with the *implicit* keyword are referred to as *implicit classes*.\n",
    "\n",
    "1. An implicit class must have a primary constructor **with exactly one argument** in its first parameter list. It may also include an additional implicit parameter list. \n",
    "2. An implicit class must be defined in a scope where method definitions are allowed (not at the **top** level).\n",
    "3. An implicit class is desugared into **a class** and **implicit method** pairing, where the implicit method mimics the constructor of the class.\n",
    "\n",
    "For example: "
   ]
  },
  {
   "cell_type": "code",
   "execution_count": 11,
   "metadata": {},
   "outputs": [
    {
     "name": "stderr",
     "output_type": "stream",
     "text": [
      "(console):3:6 expected (`this` | Id)\r\n",
      "implicit class RichInt(n: Int) extends Ordered[Int] {\n",
      "    def min(m: Int): Int = if (n <= m) n else m\n",
      "    ...\n",
      "}\r\n",
      "                                                                                                           ^"
     ]
    },
    {
     "ename": "",
     "evalue": "",
     "output_type": "error",
     "traceback": [
      "(console):3:6 expected (`this` | Id)\r\nimplicit class RichInt(n: Int) extends Ordered[Int] {\n    def min(m: Int): Int = if (n <= m) n else m\n    ...\n}\r\n                                                                                                           ^"
     ]
    }
   ],
   "source": [
    "implicit class RichInt(n: Int) extends Ordered[Int] {\n",
    "    def min(m: Int): Int = if (n <= m) n else m\n",
    "    ...\n",
    "}"
   ]
  },
  {
   "cell_type": "markdown",
   "metadata": {},
   "source": [
    "will be transformed by the compiler as follows:"
   ]
  },
  {
   "cell_type": "code",
   "execution_count": 11,
   "metadata": {},
   "outputs": [
    {
     "name": "stderr",
     "output_type": "stream",
     "text": [
      "(console):3:4 expected (`this` | Id)\r\n",
      "class RichInt(n: Int) extends Ordered[Int] {\n",
      "  def min(m: Int): Int = if (n <= m) n else m\n",
      "  ...\n",
      "}\n",
      "implicit final def RichInt(n: Int): RichInt = new RichInt(n)\r\n",
      "                                                                                              ^"
     ]
    },
    {
     "ename": "",
     "evalue": "",
     "output_type": "error",
     "traceback": [
      "(console):3:4 expected (`this` | Id)\r\nclass RichInt(n: Int) extends Ordered[Int] {\n  def min(m: Int): Int = if (n <= m) n else m\n  ...\n}\nimplicit final def RichInt(n: Int): RichInt = new RichInt(n)\r\n                                                                                              ^"
     ]
    }
   ],
   "source": [
    "class RichInt(n: Int) extends Ordered[Int] {\n",
    "  def min(m: Int): Int = if (n <= m) n else m\n",
    "  ...\n",
    "}\n",
    "implicit final def RichInt(n: Int): RichInt = new RichInt(n)"
   ]
  },
  {
   "cell_type": "markdown",
   "metadata": {},
   "source": [
    "The generated implicit method(**RichInt**) will have the same name as the implicit class(**RichInt**). This allows importing the implicit conversion using the name of the class, as one expects from other implicit definitions"
   ]
  },
  {
   "cell_type": "markdown",
   "metadata": {},
   "source": [
    "4. Annotations on implicit classes default to attaching to the generated class and the method. For example:"
   ]
  },
  {
   "cell_type": "code",
   "execution_count": 11,
   "metadata": {},
   "outputs": [
    {
     "name": "stderr",
     "output_type": "stream",
     "text": [
      "cmd11.sc:1: not found: type bar\n",
      "@bar\n",
      " ^Compilation Failed"
     ]
    },
    {
     "ename": "",
     "evalue": "",
     "output_type": "error",
     "traceback": [
      "Compilation Failed"
     ]
    }
   ],
   "source": [
    "@bar\n",
    "implicit class Foo(n: Int)"
   ]
  },
  {
   "cell_type": "markdown",
   "metadata": {},
   "source": [
    "Will desugar into:"
   ]
  },
  {
   "cell_type": "code",
   "execution_count": 11,
   "metadata": {},
   "outputs": [
    {
     "name": "stderr",
     "output_type": "stream",
     "text": [
      "cmd11.sc:1: not found: type bar\n",
      "@bar class Foo(n:Int)\n",
      " ^cmd11.sc:2: not found: type bar\n",
      "@bar implicit def Foo(n: Int): Foo = new Foo(n)\n",
      " ^Compilation Failed"
     ]
    },
    {
     "ename": "",
     "evalue": "",
     "output_type": "error",
     "traceback": [
      "Compilation Failed"
     ]
    }
   ],
   "source": [
    "@bar class Foo(n:Int)\n",
    "@bar implicit def Foo(n: Int): Foo = new Foo(n)"
   ]
  },
  {
   "cell_type": "markdown",
   "metadata": {},
   "source": [
    "5. The annotation.target annotations will be expanded to include a genClass and method annotation. This can be used to target annotations at just the generated class or the generated method of an implicit class. For example:"
   ]
  },
  {
   "cell_type": "code",
   "execution_count": 11,
   "metadata": {},
   "outputs": [
    {
     "name": "stderr",
     "output_type": "stream",
     "text": [
      "cmd11.sc:1: not found: type bar\n",
      "@(bar @genClass) implicit class Foo(n: Int)\n",
      "  ^cmd11.sc:1: not found: type genClass\n",
      "@(bar @genClass) implicit class Foo(n: Int)\n",
      "       ^Compilation Failed"
     ]
    },
    {
     "ename": "",
     "evalue": "",
     "output_type": "error",
     "traceback": [
      "Compilation Failed"
     ]
    }
   ],
   "source": [
    "@(bar @genClass) implicit class Foo(n: Int)"
   ]
  },
  {
   "cell_type": "markdown",
   "metadata": {},
   "source": [
    "will desugar into"
   ]
  },
  {
   "cell_type": "code",
   "execution_count": 11,
   "metadata": {},
   "outputs": [
    {
     "name": "stderr",
     "output_type": "stream",
     "text": [
      "cmd11.sc:2: not found: type bar\n",
      "@bar class Foo(n: Int)\n",
      " ^Compilation Failed"
     ]
    },
    {
     "ename": "",
     "evalue": "",
     "output_type": "error",
     "traceback": [
      "Compilation Failed"
     ]
    }
   ],
   "source": [
    "implicit def Foo(n: Int): Foo = new Foo(n)\n",
    "@bar class Foo(n: Int)"
   ]
  },
  {
   "cell_type": "markdown",
   "metadata": {},
   "source": [
    "## Restrictions\n",
    "\n",
    "Implicit classes have the following restrictions:\n",
    "\n",
    "1. They must be defined inside of another *trait/class/object*"
   ]
  },
  {
   "cell_type": "code",
   "execution_count": 14,
   "metadata": {},
   "outputs": [
    {
     "data": {
      "text/plain": [
       "defined \u001b[32mobject\u001b[39m \u001b[36mHelpers\u001b[39m\r\n",
       "defined \u001b[32mclass\u001b[39m \u001b[36mRichDouble\u001b[39m"
      ]
     },
     "execution_count": 14,
     "metadata": {},
     "output_type": "execute_result"
    }
   ],
   "source": [
    "object Helpers {\n",
    "   implicit class RichInt(x: Int) // OK!\n",
    "}\n",
    "implicit class RichDouble(x: Double) // BAD!"
   ]
  },
  {
   "cell_type": "markdown",
   "metadata": {},
   "source": [
    "2. They may only take one non-implicit argument in their constructor, but can take multiple implicit parameters"
   ]
  },
  {
   "cell_type": "code",
   "execution_count": 14,
   "metadata": {},
   "outputs": [
    {
     "name": "stderr",
     "output_type": "stream",
     "text": [
      "cmd14.sc:2: implicit classes must accept exactly one primary constructor parameter\n",
      "implicit class IndexerBad[T](collection: Seq[T], index: Int) // BAD!\n",
      "               ^Compilation Failed"
     ]
    },
    {
     "ename": "",
     "evalue": "",
     "output_type": "error",
     "traceback": [
      "Compilation Failed"
     ]
    }
   ],
   "source": [
    "implicit class RichDate(date: java.util.Date) // OK!\n",
    "implicit class IndexerBad[T](collection: Seq[T], index: Int) // BAD!\n",
    "implicit class IndexerOK[T](collection: Seq[T])(implicit index: Int) // OK, with one implicit parameter"
   ]
  },
  {
   "cell_type": "markdown",
   "metadata": {},
   "source": [
    "While it’s possible to create an implicit class with more than one non-implicit argument, such classes aren’t used during implicit lookup."
   ]
  },
  {
   "cell_type": "markdown",
   "metadata": {},
   "source": [
    "3. There may not be any method, member or object in scope with the same name as the implicit class. This means an implicit class cannot be a case class.\n",
    "\n",
    "```\n",
    "object Bar\n",
    "implicit class Bar(x: Int) // BAD!\n",
    "\n",
    "val x = 5\n",
    "implicit class x(y: Int) // BAD!\n",
    "\n",
    "implicit case class Baz(x: Int) // BAD!\n",
    "```"
   ]
  },
  {
   "cell_type": "markdown",
   "metadata": {},
   "source": [
    "# Implicit conversions as implicit parameters\n",
    "There’s one situation where an implicit is both an implicit conversion and an implicit parameter. For example:"
   ]
  },
  {
   "cell_type": "code",
   "execution_count": 20,
   "metadata": {},
   "outputs": [
    {
     "data": {
      "text/plain": [
       "defined \u001b[32mfunction\u001b[39m \u001b[36mgetIndex\u001b[39m\r\n",
       "\u001b[36mres19_1\u001b[39m: \u001b[32mInt\u001b[39m = \u001b[32m0\u001b[39m"
      ]
     },
     "execution_count": 20,
     "metadata": {},
     "output_type": "execute_result"
    }
   ],
   "source": [
    "def getIndex[T, CC](seq: CC, value: T)(implicit conv: CC => Seq[T]) = seq.indexOf(value)\n",
    "\n",
    "getIndex(\"abc\", 'a')"
   ]
  },
  {
   "cell_type": "markdown",
   "metadata": {},
   "source": [
    "The method *getIndex* can receive any object, as long as there is an implicit conversion available from its class to *Seq[T]*. Because of that, a String can be passed to *getIndex*, and it will work.\n",
    "\n",
    "Behind the scenes, the compiler changes *seq.IndexOf(value)* to *conv(seq).indexOf(value)*"
   ]
  },
  {
   "cell_type": "markdown",
   "metadata": {},
   "source": [
    "# Where do Implicits Come From?\n",
    "\n",
    "## Implicits Defined in Lexical Scope\n",
    "When a value of a certain name is required, lexical scope is searched for a value with that name. Similarly, when an implicit value of a certain type is required, lexical scope is searched for a value with that type.\n",
    "\n",
    "For example, here is a function that takes an implicit scaling factor. The function requires a parameter of type Int, and there is a value of that type in scope. The variable name n does not matter in this case.\n"
   ]
  },
  {
   "cell_type": "code",
   "execution_count": 28,
   "metadata": {},
   "outputs": [
    {
     "data": {
      "text/plain": [
       "\u001b[36mn\u001b[39m: \u001b[32mInt\u001b[39m = \u001b[32m5\u001b[39m\r\n",
       "defined \u001b[32mfunction\u001b[39m \u001b[36mscale\u001b[39m\r\n",
       "\u001b[36mres27_2\u001b[39m: \u001b[32mInt\u001b[39m = \u001b[32m25\u001b[39m"
      ]
     },
     "execution_count": 28,
     "metadata": {},
     "output_type": "execute_result"
    }
   ],
   "source": [
    "implicit val n: Int = 5\n",
    "def scale(x: Int)(implicit y: Int) = x * y\n",
    "scale(5) // takes n from the current scope, with the result 25"
   ]
  },
  {
   "cell_type": "markdown",
   "metadata": {},
   "source": [
    "The invocation can be rewritten scale(5)(n). If n can be referenced using its simple name, as shown here, it is eligible as an implicit value."
   ]
  },
  {
   "cell_type": "markdown",
   "metadata": {},
   "source": [
    "An implicit value can be introduced into scope by an import statement:"
   ]
  },
  {
   "cell_type": "code",
   "execution_count": 29,
   "metadata": {},
   "outputs": [
    {
     "ename": "",
     "evalue": "",
     "output_type": "error",
     "traceback": [
      "\u001b[31mjava.util.NoSuchElementException: key not found: TERM\u001b[39m\r\n  scala.collection.MapOps.default(\u001b[32mMap.scala\u001b[39m:\u001b[32m251\u001b[39m)\r\n  scala.collection.MapOps.default$(\u001b[32mMap.scala\u001b[39m:\u001b[32m250\u001b[39m)\r\n  scala.collection.AbstractMap.default(\u001b[32mMap.scala\u001b[39m:\u001b[32m381\u001b[39m)\r\n  scala.collection.MapOps.apply(\u001b[32mMap.scala\u001b[39m:\u001b[32m153\u001b[39m)\r\n  scala.collection.MapOps.apply$(\u001b[32mMap.scala\u001b[39m:\u001b[32m152\u001b[39m)\r\n  scala.collection.AbstractMap.apply(\u001b[32mMap.scala\u001b[39m:\u001b[32m381\u001b[39m)\r\n  ammonite.$sess.cmd28$Helper.<init>(\u001b[32mcmd28.sc\u001b[39m:\u001b[32m3\u001b[39m)\r\n  ammonite.$sess.cmd28$.<clinit>(\u001b[32mcmd28.sc\u001b[39m:\u001b[32m7\u001b[39m)"
     ]
    }
   ],
   "source": [
    "import scala.collection.JavaConverters._\n",
    "def env = System.getenv().asScala   // extension method enabled by imported implicit\n",
    "val term = env(\"TERM\")              // it's a Scala Map"
   ]
  },
  {
   "cell_type": "markdown",
   "metadata": {},
   "source": [
    "## Implicits Defined in Implicit Scope\n",
    "Implicit syntax can avoid the import tax, which of course is a “sin tax,” by leveraging “implicit scope”, which depends on the type of the implicit instead of imports in lexical scope.\n",
    "\n",
    "When an implicit of type T is required, implicit scope includes the companion object T:"
   ]
  },
  {
   "cell_type": "code",
   "execution_count": 30,
   "metadata": {},
   "outputs": [
    {
     "data": {
      "text/plain": [
       "defined \u001b[32mtrait\u001b[39m \u001b[36mT\u001b[39m\r\n",
       "defined \u001b[32mobject\u001b[39m \u001b[36mT\u001b[39m"
      ]
     },
     "execution_count": 30,
     "metadata": {},
     "output_type": "execute_result"
    }
   ],
   "source": [
    "trait T\n",
    "object T { implicit val t: T = new T { } }"
   ]
  },
  {
   "cell_type": "markdown",
   "metadata": {},
   "source": [
    "# Reference"
   ]
  },
  {
   "cell_type": "markdown",
   "metadata": {},
   "source": [
    "1. [WHERE DOES SCALA LOOK FOR IMPLICITS?](https://docs.scala-lang.org/tutorials/FAQ/finding-implicits.html)\n",
    "2. [IMPLICIT PARAMETERS](https://docs.scala-lang.org/tour/implicit-parameters.html)"
   ]
  },
  {
   "cell_type": "markdown",
   "metadata": {},
   "source": []
  },
  {
   "cell_type": "code",
   "execution_count": null,
   "metadata": {},
   "outputs": [],
   "source": []
  }
 ],
 "metadata": {
  "kernelspec": {
   "display_name": "Scala",
   "language": "scala",
   "name": "scala"
  },
  "language_info": {
   "codemirror_mode": "text/x-scala",
   "file_extension": ".sc",
   "mimetype": "text/x-scala",
   "name": "scala",
   "nbconvert_exporter": "script",
   "version": "2.13.3"
  },
  "latex_envs": {
   "LaTeX_envs_menu_present": true,
   "autoclose": true,
   "autocomplete": true,
   "bibliofile": "biblio.bib",
   "cite_by": "apalike",
   "current_citInitial": 1,
   "eqLabelWithNumbers": true,
   "eqNumInitial": 1,
   "hotkeys": {
    "equation": "Ctrl-E",
    "itemize": "Ctrl-I"
   },
   "labels_anchors": false,
   "latex_user_defs": false,
   "report_style_numbering": false,
   "user_envs_cfg": false
  },
  "toc": {
   "base_numbering": 1,
   "nav_menu": {},
   "number_sections": true,
   "sideBar": true,
   "skip_h1_title": false,
   "title_cell": "Table of Contents",
   "title_sidebar": "Contents",
   "toc_cell": false,
   "toc_position": {},
   "toc_section_display": true,
   "toc_window_display": false
  }
 },
 "nbformat": 4,
 "nbformat_minor": 4
}
