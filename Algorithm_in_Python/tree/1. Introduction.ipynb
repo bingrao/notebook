{
 "cells": [
  {
   "cell_type": "markdown",
   "metadata": {},
   "source": [
    "# Introduction"
   ]
  },
  {
   "cell_type": "markdown",
   "metadata": {},
   "source": [
    "A **Tree** is a colletions of entities called **nodes**. Nodes are connected by **edges**. Each node contains a value or data, and it may or may not have a child node.\n",
    "\n",
    "**root**: The first node of a tree and it does not have parent node\n",
    "**Parent**: \n",
    "**Child**:\n",
    "**edge**: \n",
    "**leaf**: is a node without any children nodes\n",
    "**height**: The height of a tree is the length of the longest path to a **leaf**\n",
    "**depth**: The depth of a node is the length of the path to its root\n"
   ]
  },
  {
   "cell_type": "markdown",
   "metadata": {},
   "source": [
    "# Binary tree\n",
    "\n",
    "在计算机科学中，二叉树是一种“树”数据结构，树上的每个节点最多有两个孩子，分别为左孩和右孩。"
   ]
  },
  {
   "cell_type": "code",
   "execution_count": 83,
   "metadata": {
    "code_folding": []
   },
   "outputs": [],
   "source": [
    "def pre_order(root: TreeNode):\n",
    "    if root is None: return []\n",
    "    return [root.value] + pre_order(root.left) + pre_order(root.right)\n",
    "\n",
    "def pre_order_iterative(root: TreeNode):\n",
    "    results = []\n",
    "    # Base case\n",
    "    if root is None:\n",
    "        return results\n",
    "    \n",
    "    # create an empty stack and push root to it\n",
    "    nodeStack = []\n",
    "    nodeStack.append(root)\n",
    "    \n",
    "    # Pop all items one by one. Do following for every popped item\n",
    "    # a) print it\n",
    "    # b) push its right child\n",
    "    # c) push its left child\n",
    "    # Note that right child is pushed first so that left\n",
    "    # is processed first */\n",
    "    while(len(nodeStack) > 0):\n",
    "         \n",
    "        # Pop the top item from stack and print it\n",
    "        node = nodeStack.pop()\n",
    "        results += [node.value]\n",
    "         \n",
    "        # Push right and left children of the popped node\n",
    "        # to stack\n",
    "        if node.right is not None:\n",
    "            nodeStack.append(node.right)\n",
    "        if node.left is not None:\n",
    "            nodeStack.append(node.left)\n",
    "    \n",
    "    return results\n",
    "\n",
    "# Iterative function to do Preorder traversal of the tree\n",
    "def preorderIterative(root):\n",
    "    results = []\n",
    "    if root is None: return results\n",
    " \n",
    "    nodeStack = []\n",
    " \n",
    "    # start from root node (set current node to root node)\n",
    "    curr = root\n",
    " \n",
    "    # run till stack is not empty or current is \n",
    "    # not NULL\n",
    "    while (len(nodeStack) or curr != None):\n",
    "     \n",
    "        # Print left children while exist\n",
    "        # and keep appending right into the \n",
    "        # stack.\n",
    "        while curr is not None:\n",
    "            results.append(curr.data)\n",
    "            if curr.right is not None:\n",
    "                nodeStack.append(curr.right)\n",
    "            curr = curr.left\n",
    "         \n",
    "        # We reach when curr is NULL, so We\n",
    "        # take out a right child from stack\n",
    "        if (len(nodeStack) > 0):\n",
    "            curr = nodeStack[-1]\n",
    "            nodeStack.pop()\n",
    "    \n",
    "    return results"
   ]
  },
  {
   "cell_type": "code",
   "execution_count": 77,
   "metadata": {
    "code_folding": [
     4
    ]
   },
   "outputs": [],
   "source": [
    "def in_order(node: TreeNode):\n",
    "    if node is None: return []\n",
    "    return  in_order(node.left) + [node.value] + in_order(node.right)\n",
    "        \n",
    "def in_order_iterative(root: TreeNode):\n",
    "    results = []\n",
    "    # Base case\n",
    "    if root is None:\n",
    "        return results\n",
    "    \n",
    "    # create an empty stack and push root to it\n",
    "    nodeStack = []\n",
    "    # Set current to root of binary tree\n",
    "    current = root\n",
    "    \n",
    "    while True:\n",
    "        if current is not None:\n",
    "            # Place pointer to a tree node on the stack \n",
    "            # before traversing the node's left subtree\n",
    "            nodeStack.append(current)\n",
    "            current = current.left\n",
    "        elif(nodeStack):\n",
    "            current = nodeStack.pop()\n",
    "            results.append(current.value)\n",
    "            \n",
    "            # We have visited the node and its left \n",
    "            # subtree. Now, it's right subtree's turn\n",
    "            current = current.right\n",
    "        else:\n",
    "            break\n",
    "    return results"
   ]
  },
  {
   "cell_type": "code",
   "execution_count": 88,
   "metadata": {
    "code_folding": [
     0,
     4
    ]
   },
   "outputs": [],
   "source": [
    "def post_order(node: TreeNode):\n",
    "    if node is None: return []\n",
    "    return  post_order(node.left) + post_order(node.right) + [node.value]\n",
    "\n",
    "def peek(stack): \n",
    "    if len(stack) > 0: \n",
    "        return stack[-1] \n",
    "    return None\n",
    "\n",
    "def post_order_iterative(root: TreeNode):\n",
    "    results = []\n",
    "    \n",
    "    # Check for empty tree \n",
    "    if root is None: \n",
    "        return\n",
    " \n",
    "    stack = [] \n",
    "     \n",
    "    while(True):\n",
    "        while (root):\n",
    "            # Push root's right child and then root to stack \n",
    "            if root.right is not None: \n",
    "                stack.append(root.right) \n",
    "            stack.append(root)\n",
    " \n",
    "            # Set root as root's left child \n",
    "            root = root.left\n",
    "         \n",
    "        # Pop an item from stack and set it as root \n",
    "        root = stack.pop()\n",
    " \n",
    "        # If the popped item has a right child and the \n",
    "        # right child is not processed yet, then make sure \n",
    "        # right child is processed before root \n",
    "        if (root.right is not None and peek(stack) == root.right): \n",
    "            stack.pop() # Remove right child from stack \n",
    "            stack.append(root) # Push root back to stack \n",
    "            root = root.right # change root so that the right childis processed next \n",
    "        else: \n",
    "            # Else print root's data and set root as None \n",
    "            results.append(root.value) \n",
    "            root = None\n",
    " \n",
    "        if (len(stack) <= 0): \n",
    "                break\n",
    "    return results"
   ]
  },
  {
   "cell_type": "code",
   "execution_count": 79,
   "metadata": {
    "code_folding": []
   },
   "outputs": [],
   "source": [
    "class TreeNode:\n",
    "    def __init__(self, value, left = None, right = None):\n",
    "        self.value = value\n",
    "        self.left = left\n",
    "        self.right = right\n",
    "class BinaryTree:\n",
    "    def __init__(self, head):\n",
    "        self.root = TreeNode(head)\n",
    "    \n",
    "    def insert(self, value, direction=\"left\"):\n",
    "        assert direction == \"left\" or direction == \"right\"\n",
    "        node = TreeNode(value)\n",
    "        if direction == \"left\":\n",
    "            if self.root.left is None:\n",
    "                self.root.left = node\n",
    "            else:\n",
    "                node.left = self.root.left\n",
    "                self.root.left = node\n",
    "        else:\n",
    "            if self.root.right is None:\n",
    "                self.root.right = node\n",
    "            else:\n",
    "                node.right = self.root.right\n",
    "                self.root.right = node\n",
    "                \n",
    "    def traverse(self, way=\"pre_order\"):\n",
    "        \n",
    "        \n",
    "        if way == \"pre_order\":\n",
    "            return pre_order(self.root)\n",
    "        elif way == \"in_order\":\n",
    "            return in_order(self.root)\n",
    "        else:\n",
    "            return post_order(self.root)\n",
    "        "
   ]
  },
  {
   "cell_type": "code",
   "execution_count": 80,
   "metadata": {},
   "outputs": [],
   "source": [
    "root = BinaryTree(10)\n",
    "for i in range(1, 5):\n",
    "    if i % 2 == 0:\n",
    "        root.insert(i)\n",
    "    else:\n",
    "        root.insert(i, \"right\")"
   ]
  },
  {
   "cell_type": "code",
   "execution_count": 81,
   "metadata": {},
   "outputs": [
    {
     "name": "stdout",
     "output_type": "stream",
     "text": [
      "[10, 4, 2, 3, 1]\n",
      "[10, 4, 2, 3, 1]\n"
     ]
    }
   ],
   "source": [
    "print(root.traverse(\"pre_order\"))\n",
    "print(pre_order_iterative(root.root))"
   ]
  },
  {
   "cell_type": "code",
   "execution_count": 82,
   "metadata": {},
   "outputs": [
    {
     "name": "stdout",
     "output_type": "stream",
     "text": [
      "[2, 4, 10, 3, 1]\n",
      "[2, 4, 10, 3, 1]\n"
     ]
    }
   ],
   "source": [
    "print(root.traverse(\"in_order\"))\n",
    "print(in_order_iterative(root.root))"
   ]
  },
  {
   "cell_type": "code",
   "execution_count": 89,
   "metadata": {},
   "outputs": [
    {
     "name": "stdout",
     "output_type": "stream",
     "text": [
      "[2, 4, 1, 3, 10]\n",
      "[2, 4, 1, 3, 10]\n"
     ]
    }
   ],
   "source": [
    "print(root.traverse(\"post_order\"))\n",
    "print(post_order_iterative(root.root))"
   ]
  },
  {
   "cell_type": "code",
   "execution_count": null,
   "metadata": {},
   "outputs": [],
   "source": []
  },
  {
   "cell_type": "code",
   "execution_count": null,
   "metadata": {},
   "outputs": [],
   "source": []
  }
 ],
 "metadata": {
  "kernelspec": {
   "display_name": "Python 3",
   "language": "python",
   "name": "python3"
  },
  "language_info": {
   "codemirror_mode": {
    "name": "ipython",
    "version": 3
   },
   "file_extension": ".py",
   "mimetype": "text/x-python",
   "name": "python",
   "nbconvert_exporter": "python",
   "pygments_lexer": "ipython3",
   "version": "3.7.8"
  },
  "latex_envs": {
   "LaTeX_envs_menu_present": true,
   "autoclose": true,
   "autocomplete": true,
   "bibliofile": "biblio.bib",
   "cite_by": "apalike",
   "current_citInitial": 1,
   "eqLabelWithNumbers": true,
   "eqNumInitial": 1,
   "hotkeys": {
    "equation": "Ctrl-E",
    "itemize": "Ctrl-I"
   },
   "labels_anchors": false,
   "latex_user_defs": false,
   "report_style_numbering": false,
   "user_envs_cfg": false
  },
  "toc": {
   "base_numbering": 1,
   "nav_menu": {},
   "number_sections": true,
   "sideBar": true,
   "skip_h1_title": false,
   "title_cell": "Table of Contents",
   "title_sidebar": "Contents",
   "toc_cell": false,
   "toc_position": {},
   "toc_section_display": true,
   "toc_window_display": false
  }
 },
 "nbformat": 4,
 "nbformat_minor": 4
}
