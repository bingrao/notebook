{
 "cells": [
  {
   "cell_type": "code",
   "execution_count": 13,
   "metadata": {},
   "outputs": [],
   "source": [
    "from IPython.display import Image\n",
    "from typing import List\n",
    "\n",
    "arr = [61, 17, 29, 22, 34, 60, 72, 21, 50, 1, 62]"
   ]
  },
  {
   "cell_type": "markdown",
   "metadata": {},
   "source": [
    "# Bubble Sort\n",
    "\n",
    "冒泡排序是排序算法中较为简单的一种，英文称为Bubble Sort。它遍历所有的数据，每次对相邻元素进行两两比较，如果顺序和预先规定的顺序不一致，则进行位置交换；这样一次遍历会将最大或最小的数据上浮到顶端，之后再重复同样的操作，直到所有的数据有序。"
   ]
  },
  {
   "cell_type": "code",
   "execution_count": 95,
   "metadata": {},
   "outputs": [],
   "source": [
    "import copy\n",
    "def bubble_sort(nums: List[int]) -> List[int]:\n",
    "    data = copy.deepcopy(nums)\n",
    "    def swap(nums: List[int], i: int, j: int):\n",
    "        tmp = nums[i]\n",
    "        nums[i] = nums[j]\n",
    "        nums[j] = tmp\n",
    "  \n",
    "    for i, a in enumerate(data):\n",
    "        for j, b in enumerate(data):\n",
    "            if a > b:\n",
    "                swap(data, i, j)\n",
    "    \n",
    "    return data    \n",
    "    "
   ]
  },
  {
   "cell_type": "code",
   "execution_count": 96,
   "metadata": {},
   "outputs": [
    {
     "data": {
      "text/plain": [
       "[72, 62, 61, 60, 50, 34, 29, 22, 21, 17, 1]"
      ]
     },
     "execution_count": 96,
     "metadata": {},
     "output_type": "execute_result"
    }
   ],
   "source": [
    "bubble_sort(arr)"
   ]
  },
  {
   "cell_type": "code",
   "execution_count": 97,
   "metadata": {},
   "outputs": [
    {
     "data": {
      "text/plain": [
       "[21, 1, 17, 22, 29, 34, 50, 60, 61, 62, 72]"
      ]
     },
     "execution_count": 97,
     "metadata": {},
     "output_type": "execute_result"
    }
   ],
   "source": [
    "arr"
   ]
  },
  {
   "cell_type": "markdown",
   "metadata": {},
   "source": [
    "#  Select Sort\n",
    "\n",
    "选择排序简单直观，英文称为Selection Sort，先在数据中找出最大或最小的元素，放到序列的起始；然后再从余下的数据中继续寻找最大或最小的元素，依次放到排序序列中，直到所有数据样本排序完成。"
   ]
  },
  {
   "cell_type": "code",
   "execution_count": 98,
   "metadata": {
    "code_folding": []
   },
   "outputs": [],
   "source": [
    "import copy\n",
    "def selection_sort(nums: List[int]) -> List[int]:\n",
    "    data = copy.deepcopy(nums)\n",
    "    length = len(data)\n",
    "    def swap(i: int, j: int, nums: List[int] = data):\n",
    "        tmp = nums[i]\n",
    "        nums[i] = nums[j]\n",
    "        nums[j] = tmp\n",
    "    \n",
    "    for i in range(len(data)):\n",
    "        max_idx = i\n",
    "        for j in range(i+1, len(data)):\n",
    "            if data[j] > data[i]:\n",
    "                max_idx = j\n",
    "        if max_idx != i: swap(i, max_idx)\n",
    "    \n",
    "    return data    "
   ]
  },
  {
   "cell_type": "code",
   "execution_count": 99,
   "metadata": {},
   "outputs": [
    {
     "data": {
      "text/plain": [
       "[72, 21, 62, 61, 60, 50, 34, 29, 22, 17, 1]"
      ]
     },
     "execution_count": 99,
     "metadata": {},
     "output_type": "execute_result"
    }
   ],
   "source": [
    "selection_sort(arr)"
   ]
  },
  {
   "cell_type": "code",
   "execution_count": 100,
   "metadata": {},
   "outputs": [
    {
     "data": {
      "text/plain": [
       "[21, 1, 17, 22, 29, 34, 50, 60, 61, 62, 72]"
      ]
     },
     "execution_count": 100,
     "metadata": {},
     "output_type": "execute_result"
    }
   ],
   "source": [
    "arr"
   ]
  },
  {
   "cell_type": "markdown",
   "metadata": {},
   "source": [
    "# Insertion Sort\n",
    "\n",
    "插入排序英文称为Insertion Sort，它通过构建有序序列，对于未排序的数据序列，在已排序序列中从后向前扫描，找到相应的位置并插入，类似打扑克牌时的码牌。插入排序有一种优化的算法，可以进行拆半插入。\n",
    "\n",
    "基本思路是先将待排序序列的第一个元素看做一个有序序列，把第二个元素到最后一个元素当成是未排序序列；然后从头到尾依次扫描未排序序列，将扫描到的每个元素插入有序序列的适当位置，直到所有数据都完成排序；如果待插入的元素与有序序列中的某个元素相等，则将待插入元素插入到相等元素的后面。"
   ]
  },
  {
   "cell_type": "code",
   "execution_count": 101,
   "metadata": {},
   "outputs": [],
   "source": [
    "import copy\n",
    "def insert_sort(nums: List[int]) -> List[int]:\n",
    "    data = copy.deepcopy(nums)\n",
    "    length = len(data)\n",
    "\n",
    "    for i in range(1, length):\n",
    "        key = data[i]\n",
    "        pos = -1\n",
    "        for j in range(i - 1, -1, -1):\n",
    "            if data[j] > key:\n",
    "                data[j + 1] = data[j]\n",
    "                pos = j\n",
    "            else:\n",
    "                pos = j + 1\n",
    "                break\n",
    "        data[pos] = key\n",
    "    return data  "
   ]
  },
  {
   "cell_type": "code",
   "execution_count": 102,
   "metadata": {},
   "outputs": [
    {
     "data": {
      "text/plain": [
       "[1, 17, 21, 22, 29, 34, 50, 60, 61, 62, 72]"
      ]
     },
     "execution_count": 102,
     "metadata": {},
     "output_type": "execute_result"
    }
   ],
   "source": [
    "insert_sort(arr)"
   ]
  },
  {
   "cell_type": "code",
   "execution_count": 103,
   "metadata": {},
   "outputs": [
    {
     "data": {
      "text/plain": [
       "[21, 1, 17, 22, 29, 34, 50, 60, 61, 62, 72]"
      ]
     },
     "execution_count": 103,
     "metadata": {},
     "output_type": "execute_result"
    }
   ],
   "source": [
    "arr"
   ]
  },
  {
   "cell_type": "markdown",
   "metadata": {},
   "source": [
    "# Shell Sort\n",
    "\n",
    "希尔排序也称递减增量排序，是插入排序的一种改进版本，英文称为Shell Sort，效率虽高，但它是一种不稳定的排序算法。\n",
    "\n",
    "插入排序在对几乎已经排好序的数据操作时，效果是非常好的；但是插入排序每次只能移动一位数据，因此插入排序效率比较低。\n",
    "\n",
    "希尔排序在插入排序的基础上进行了改进，它的基本思路是先将整个数据序列分割成若干子序列分别进行直接插入排序，待整个序列中的记录基本有序时，再对全部数据进行依次直接插入排序。"
   ]
  },
  {
   "cell_type": "code",
   "execution_count": null,
   "metadata": {},
   "outputs": [],
   "source": []
  },
  {
   "cell_type": "markdown",
   "metadata": {},
   "source": [
    "# Merge Sort\n",
    "\n",
    "归并排序英文称为Merge Sort，归并排序是建立在归并操作上的一种有效的排序算法。该算法是采用分治法（Divide and Conquer）的一个非常典型的应用。它首先将数据样本拆分为两个子数据样本, 并分别对它们排序, 最后再将两个子数据样本合并在一起; 拆分后的两个子数据样本序列, 再继续递归的拆分为更小的子数据样本序列, 再分别进行排序, 直到最后数据序列为1，而不再拆分，此时即完成对数据样本的最终排序。\n",
    "\n",
    "归并排序严格遵循从左到右或从右到左的顺序合并子数据序列, 它不会改变相同数据之间的相对顺序, 因此归并排序是一种稳定的排序算法.\n",
    "\n",
    "作为一种典型的分而治之思想的算法应用，归并排序的实现分为两种方法：\n",
    "1. 自上而下的递归；\n",
    "2. 自下而上的迭代；"
   ]
  },
  {
   "cell_type": "code",
   "execution_count": 104,
   "metadata": {},
   "outputs": [],
   "source": [
    "import copy\n",
    "def merge_sort(nums: List[int]) -> List[int]:\n",
    "    if len(nums) < 2: return nums\n",
    "    \n",
    "    pivot_idx = len(nums) // 2    \n",
    "    \n",
    "    left = merge_sort(nums[:pivot_idx])\n",
    "    \n",
    "    right = merge_sort(nums[pivot_idx:])\n",
    "        \n",
    "    data = []\n",
    "    i = 0\n",
    "    j = 0\n",
    "    while i < len(left) and j < len(right):\n",
    "        \n",
    "        if left[i] <= right[j]:\n",
    "            data.append(left[i])\n",
    "            i += 1\n",
    "        else:\n",
    "            data.append(right[j])\n",
    "            j += 1\n",
    "        \n",
    "    if i < len(left): data += left[i:]\n",
    "    if j < len(right): data += right[j:]\n",
    "    \n",
    "    \n",
    "    return data\n",
    "        \n",
    "    "
   ]
  },
  {
   "cell_type": "code",
   "execution_count": 105,
   "metadata": {},
   "outputs": [
    {
     "data": {
      "text/plain": [
       "[1, 17, 21, 22, 29, 34, 50, 60, 61, 62, 72]"
      ]
     },
     "execution_count": 105,
     "metadata": {},
     "output_type": "execute_result"
    }
   ],
   "source": [
    "merge_sort(arr)"
   ]
  },
  {
   "cell_type": "markdown",
   "metadata": {},
   "source": [
    "# Quicksort\n",
    "快速排序,英文称为Quicksort，又称划分交换排序 partition-exchange sort 简称快排。\n",
    "\n",
    "快速排序使用分治法（Divide and conquer）策略来把一个序列（list）分为两个子序列（sub-lists）。首先从数列中挑出一个元素，并将这个元素称为「基准」，英文pivot。重新排序数列，所有比基准值小的元素摆放在基准前面，所有比基准值大的元素摆在基准后面（相同的数可以到任何一边）。在这个分区结束之后，该基准就处于数列的中间位置。这个称为分区（partition）操作。之后，在子序列中继续重复这个方法，直到最后整个数据序列排序完成。"
   ]
  },
  {
   "cell_type": "code",
   "execution_count": 106,
   "metadata": {},
   "outputs": [],
   "source": [
    "import copy\n",
    "def quick_sort(nums: List[int]) -> List[int]:\n",
    "    \n",
    "    if len(nums) <= 1: return nums\n",
    "    \n",
    "    left = []\n",
    "    right = []\n",
    "    \n",
    "    pivot_idx = len(nums) // 2\n",
    "    pivot = nums[pivot_idx]\n",
    "    \n",
    "    \n",
    "    for i, n in enumerate(nums):\n",
    "        if i != pivot_idx:\n",
    "            if n <= pivot:\n",
    "                left.append(n)\n",
    "            else:\n",
    "                right.append(n)\n",
    "    left = quick_sort(left)\n",
    "    right = quick_sort(right)\n",
    "    \n",
    "    return left + [pivot] + right"
   ]
  },
  {
   "cell_type": "code",
   "execution_count": 107,
   "metadata": {},
   "outputs": [
    {
     "data": {
      "text/plain": [
       "[1, 17, 21, 22, 29, 34, 50, 60, 61, 62, 72]"
      ]
     },
     "execution_count": 107,
     "metadata": {},
     "output_type": "execute_result"
    }
   ],
   "source": [
    "quick_sort(arr)"
   ]
  },
  {
   "cell_type": "markdown",
   "metadata": {},
   "source": [
    "# 堆排序\n",
    "\n",
    "\n",
    "堆排序，英文称Heapsort，是指利用堆这种数据结构所设计的一种排序算法。堆积是一个近似完全二叉树的结构，并同时满足堆积的性质：即子结点的键值或索引总是小于（或者大于）它的父节点。堆排序实现分为两种方法：\n",
    "\n",
    "1. 大顶堆：每个节点的值都大于或等于其子节点的值，在堆排序算法中用于升序排列；\n",
    "2. 小顶堆：每个节点的值都小于或等于其子节点的值，在堆排序算法中用于降序排列；\n",
    "\n",
    "算法步骤：\n",
    "\n",
    "1. 创建一个堆 H[0……n-1]；\n",
    "2. 把堆首（最大值）和堆尾互换；\n",
    "3. 把堆的尺寸缩小 1，并调用 shift_down(0)，目的是把新的数组顶端数据调整到相应位置；\n",
    "4. 重复步骤 2，直到堆的尺寸为 1\n"
   ]
  },
  {
   "cell_type": "code",
   "execution_count": 108,
   "metadata": {},
   "outputs": [],
   "source": [
    "def heapsort_max(arr, start, end):\n",
    "    dad = start\n",
    "    son = dad * 2 + 1\n",
    "    while son <= end:\n",
    "        if son + 1 <= end and arr[son] < arr[son + 1]:\n",
    "            son += 1\n",
    "        else:\n",
    "            tmp = arr[dad]\n",
    "            arr[dad] = arr[son]\n",
    "            arr[son] = tmp\n",
    "            dad = son\n",
    "            son = dad * 2 + 1\n",
    "\n",
    "def heap_sort(arr):\n",
    "    for i in range(len(arr) // 2 - 1, -1, -1):\n",
    "        heapsort_max(arr, i, len(arr) - 1)\n",
    "    \n",
    "    for i in range(len(arr) - 1, 0, -1):\n",
    "        tmp = arr[0]\n",
    "        arr[0] = arr[i]\n",
    "        arr[i] = tmp\n",
    "        heapsort_max(arr, 0, i - 1)\n",
    "    return arr"
   ]
  },
  {
   "cell_type": "code",
   "execution_count": 109,
   "metadata": {},
   "outputs": [
    {
     "data": {
      "text/plain": [
       "[1, 17, 21, 22, 29, 34, 50, 60, 61, 62, 72]"
      ]
     },
     "execution_count": 109,
     "metadata": {},
     "output_type": "execute_result"
    }
   ],
   "source": [
    "heap_sort(arr)"
   ]
  },
  {
   "cell_type": "markdown",
   "metadata": {},
   "source": [
    "# 计数排序\n",
    "计数排序英文称Counting sort，是一种稳定的线性时间排序算法。计数排序使用一个额外的数组C，其中第i个元素是待排序数组A中值等于 i的元素的个数。然后根据数组C来将A中的元素排到正确的位置。基本的步骤如下：\n",
    "\n",
    "1. 找出待排序的数组中最大和最小的元素\n",
    "2. 统计数组中每个值为i的元素出现的次数，存入数组C的第i项\n",
    "3. 对所有的计数累加,从C中的第一个元素开始，每一项和前一项相加\n",
    "4. 反向填充目标数组,将每个元素i放在新数组的第C[i]项，每放一个元素就将C[i]减去1\n"
   ]
  },
  {
   "cell_type": "code",
   "execution_count": 110,
   "metadata": {},
   "outputs": [],
   "source": [
    "def counting_sort(arr):\n",
    "    count = {}\n",
    "    data = []\n",
    "    for num in arr:\n",
    "        if num in count:\n",
    "            count[num] += 1\n",
    "        else:\n",
    "            count[num] = 1\n",
    "    \n",
    "    for key in range(min(arr), max(arr) + 1):\n",
    "        if key in count:\n",
    "            data += [key] * count[key]\n",
    "    return data"
   ]
  },
  {
   "cell_type": "code",
   "execution_count": 111,
   "metadata": {},
   "outputs": [
    {
     "data": {
      "text/plain": [
       "[1, 17, 21, 22, 29, 34, 50, 60, 61, 62, 72]"
      ]
     },
     "execution_count": 111,
     "metadata": {},
     "output_type": "execute_result"
    }
   ],
   "source": [
    "counting_sort(arr)"
   ]
  },
  {
   "cell_type": "markdown",
   "metadata": {},
   "source": [
    "# 桶排序\n",
    "\n",
    "桶排序也称为箱排序，英文称为 Bucket Sort。它是将数组划分到一定数量的有序的桶里，然后再对每个桶中的数据进行排序，最后再将各个桶里的数据有序的合并到一起。"
   ]
  },
  {
   "cell_type": "code",
   "execution_count": null,
   "metadata": {},
   "outputs": [],
   "source": []
  },
  {
   "cell_type": "markdown",
   "metadata": {},
   "source": [
    "# 基数排序\n",
    "\n",
    "基数排序英文称Radix sort，是一种非比较型整数排序算法，其原理是将整数按位数切割成不同的数字，然后按每个位数分别比较。由于整数也可以表达字符串和特定格式的浮点数，所以基数排序也仅限于整数。它首先将所有待比较数值，统一为同样的数位长度，数位较短的数前面补零。然后，从最低位开始，依次进行一次排序。这样从最低位排序一直到最高位排序完成以后，数列就变成一个有序序列。"
   ]
  },
  {
   "cell_type": "code",
   "execution_count": null,
   "metadata": {},
   "outputs": [],
   "source": []
  }
 ],
 "metadata": {
  "kernelspec": {
   "display_name": "Python 3",
   "language": "python",
   "name": "python3"
  },
  "language_info": {
   "codemirror_mode": {
    "name": "ipython",
    "version": 3
   },
   "file_extension": ".py",
   "mimetype": "text/x-python",
   "name": "python",
   "nbconvert_exporter": "python",
   "pygments_lexer": "ipython3",
   "version": "3.7.8"
  },
  "latex_envs": {
   "LaTeX_envs_menu_present": true,
   "autoclose": true,
   "autocomplete": true,
   "bibliofile": "biblio.bib",
   "cite_by": "apalike",
   "current_citInitial": 1,
   "eqLabelWithNumbers": true,
   "eqNumInitial": 1,
   "hotkeys": {
    "equation": "Ctrl-E",
    "itemize": "Ctrl-I"
   },
   "labels_anchors": false,
   "latex_user_defs": false,
   "report_style_numbering": false,
   "user_envs_cfg": false
  },
  "toc": {
   "base_numbering": 1,
   "nav_menu": {},
   "number_sections": true,
   "sideBar": true,
   "skip_h1_title": false,
   "title_cell": "Table of Contents",
   "title_sidebar": "Contents",
   "toc_cell": false,
   "toc_position": {},
   "toc_section_display": true,
   "toc_window_display": false
  }
 },
 "nbformat": 4,
 "nbformat_minor": 4
}
