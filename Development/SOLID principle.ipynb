{
 "cells": [
  {
   "cell_type": "markdown",
   "id": "8f7b0c01",
   "metadata": {
    "heading_collapsed": true
   },
   "source": [
    "# SOLID Principle\n",
    "\n",
    "Software has an old methodology called the SOLID principle.\n",
    "\n",
    "1. **S** stands for **Single Responsibility Principle (SRP)**\n",
    "2. **O** stands for **Open Closed Principle (OCP)**\n",
    "3. **L** stands for **Liskov Subsitution Princple (LSP)**\n",
    "4. **I** stands for **Interface Segregation Principle (ISP)**\n",
    "5. **D** stands for **Dependency Inversion Principle (DIP)**"
   ]
  },
  {
   "cell_type": "markdown",
   "id": "2a0e022d",
   "metadata": {
    "heading_collapsed": true
   },
   "source": [
    "# Single Responsibility Principle (SRP)"
   ]
  },
  {
   "cell_type": "markdown",
   "id": "b97c9fba",
   "metadata": {
    "hidden": true
   },
   "source": [
    "## What does it mean “Single Responsibility Principle?”\n",
    "\n",
    "**Every Software Component should have only one responsibility.**\n",
    "\n",
    "“Software component” could refer to a class or a function or a method or even a module.\n",
    "\n",
    "* “a class should have one responsibility.”.\n",
    "* “a function should tackle only one task” .\n",
    "\n",
    "\n",
    "### 1. Always Aim for High Cohesion\n",
    "\n",
    "**Cohesion is the degree to which the various parts of a software component are related**\n",
    "\n"
   ]
  },
  {
   "cell_type": "code",
   "execution_count": 10,
   "id": "8f3282a4",
   "metadata": {
    "code_folding": [],
    "hidden": true
   },
   "outputs": [],
   "source": [
    "##### Before Refactoring ######\n",
    "\"\"\"\n",
    "Too Many Responsibilities \n",
    "  - Measurements of squares \n",
    "  - Rendering images of squares \n",
    "\"\"\"\n",
    "class Square:\n",
    "    def __init__(self):\n",
    "        self.side = 5\n",
    "    \n",
    "    def calculateArea():\n",
    "        return self.side * self.side\n",
    "    \n",
    "    def calculatePerimeter():\n",
    "        return self.side * 4\n",
    "    \n",
    "    def draw():\n",
    "        if highResolutionMonitor:\n",
    "            # Render a high resolution image of a square\n",
    "            pass\n",
    "        else:\n",
    "            # Render a normal image of a square\n",
    "            pass\n",
    "    \n",
    "    def rotate(degree):\n",
    "        # Rotate the image of the square clockwise to\n",
    "        # the required degree and re-render\n",
    "        pass"
   ]
  },
  {
   "cell_type": "markdown",
   "id": "f80c4789",
   "metadata": {
    "hidden": true
   },
   "source": [
    "Our Square class has now two responsibilities: Not only does square take care of Measurements of squares, but it also renders images of squares."
   ]
  },
  {
   "cell_type": "code",
   "execution_count": 11,
   "id": "bb4da42c",
   "metadata": {
    "hidden": true
   },
   "outputs": [],
   "source": [
    "##### After Refactoring ######\n",
    "\n",
    "# Responsibility: Measurements of squares \n",
    "class Square:\n",
    "    def __init__(self):\n",
    "        self.side = 5\n",
    "    \n",
    "    def calculateArea():\n",
    "        return self.side * self.side\n",
    "    \n",
    "    def calculatePerimeter():\n",
    "        return self.side * 4\n",
    "\n",
    "# Responsibility: Rendering images of squares \n",
    "class SquareUI:\n",
    "    def __init__(self):\n",
    "        pass\n",
    "    def draw():\n",
    "        if highResolutionMonitor:\n",
    "            # Render a high resolution image of a square\n",
    "            pass\n",
    "        else:\n",
    "            # Render a normal image of a square\n",
    "            pass\n",
    "    \n",
    "    def rotate(degree):\n",
    "        # Rotate the image of the square clockwise to\n",
    "        # the required degree and re-render\n",
    "        pass"
   ]
  },
  {
   "cell_type": "markdown",
   "id": "3a9fc778",
   "metadata": {
    "hidden": true
   },
   "source": [
    "As you can see Square now only tackles measurements, and SquareUI handles only rendering."
   ]
  },
  {
   "cell_type": "markdown",
   "id": "f924ace5",
   "metadata": {
    "hidden": true
   },
   "source": [
    "### 2 Avoid Tight Coupling\n",
    "\n",
    "**Coupling is defined as the level of inter dependency between various software components**"
   ]
  },
  {
   "cell_type": "code",
   "execution_count": 13,
   "id": "2a0b13cb",
   "metadata": {
    "hidden": true
   },
   "outputs": [],
   "source": [
    "# /** Before Refactoring **/ \n",
    "\"\"\"\n",
    "// Tightly Coupled \n",
    "// Responsibility: Handle core student profile data\n",
    "// Responsibility: Handle Database Operations \n",
    "\"\"\"\n",
    "class Student:\n",
    "    \n",
    "    def __init__(self):\n",
    "        self.studentId = None\n",
    "        self.studentDOB = None\n",
    "        self.address = None\n",
    "    \n",
    "    def save():\n",
    "        \"\"\"\n",
    "        Serialize object into a string representation\n",
    "            \n",
    "            But there is a problem, because this only work with MySQL, What if you have\n",
    "            to use a different database?\n",
    "        \n",
    "        \"\"\"\n",
    "        objectStr = MyUtils.serialzieIntoAString(self)\n",
    "        connection, stmt = None, None\n",
    "        try:\n",
    "            connection = DriverManager.getConnection(\"jdbc:mysql://localhost:3306/MyDb\", \"root\", \"password\")\n",
    "            stmt = connection.createStatement()\n",
    "            stmt.execute(\"INSERT INTO STUDENTS VALUES (\" + objectStr + \")\")\n",
    "        except:\n",
    "            print(\"An exception occurred\")\n",
    "        \n",
    "    def getStudentId():\n",
    "        return self.studentId\n",
    "    \n",
    "    def setStudentId(studentId):\n",
    "        self.studentId = studentId"
   ]
  },
  {
   "cell_type": "markdown",
   "id": "1f12c83a",
   "metadata": {
    "hidden": true
   },
   "source": [
    "This code, especially save() method is a big problem. This only works with ‘MySQL’. What if you have to use a different database? The code example above show the tight coupling. In software, tight coupling is an undesirable feature."
   ]
  },
  {
   "cell_type": "code",
   "execution_count": 16,
   "id": "af28fa4b",
   "metadata": {
    "hidden": true
   },
   "outputs": [],
   "source": [
    "# /** After Refactoring **/ \n",
    "\n",
    "# Responsibility: Handle Database Operations\n",
    "class StudentRepository:\n",
    "    \n",
    "    def __init__(self):\n",
    "        pass\n",
    "    \n",
    "    def save():\n",
    "        \"\"\"\n",
    "        Serialize object into a string representation\n",
    "            \n",
    "            But there is a problem, because this only work with MySQL, What if you have\n",
    "            to use a different database?\n",
    "        \n",
    "        \"\"\"\n",
    "        objectStr = MyUtils.serialzieIntoAString(self)\n",
    "        connection, stmt = None, None\n",
    "        try:\n",
    "            connection = DriverManager.getConnection(\"jdbc:mysql://localhost:3306/MyDb\", \"root\", \"password\")\n",
    "            stmt = connection.createStatement()\n",
    "            stmt.execute(\"INSERT INTO STUDENTS VALUES (\" + objectStr + \")\")\n",
    "        except:\n",
    "            print(\"An exception occurred\")\n",
    "\n",
    "# Responsibility: Handle core student profile data\n",
    "class Student:\n",
    "    \n",
    "    def __init__(self):\n",
    "        self.studentId = None\n",
    "        self.studentDOB = None\n",
    "        self.address = None\n",
    "    \n",
    "    def save():\n",
    "        StudentRepository().save(this)\n",
    "        \n",
    "    def getStudentId():\n",
    "        return self.studentId\n",
    "    \n",
    "    def setStudentId(studentId):\n",
    "        self.studentId = studentId"
   ]
  },
  {
   "cell_type": "markdown",
   "id": "213ec408",
   "metadata": {
    "hidden": true
   },
   "source": [
    "Now, we have two classes instead of one. StudentRepository is for handling database operations and Student is for handling student profile data.\n",
    "\n",
    "In this way, you can change your database on StudentRepository anytime you need to change databases. And Student's save() method won’t change its functionality when you implement another database in StudentRepository."
   ]
  },
  {
   "cell_type": "markdown",
   "id": "dc85b41d",
   "metadata": {
    "hidden": true
   },
   "source": [
    "### 3. Software component needs only one reason to change"
   ]
  },
  {
   "cell_type": "markdown",
   "id": "09a581c6",
   "metadata": {
    "hidden": true
   },
   "source": [
    "**Software is never dormant. It always keeps changing.**\n",
    "\n",
    "Let’s see our refactored code. Consider the possibilities of what might be changed in the future."
   ]
  },
  {
   "cell_type": "code",
   "execution_count": null,
   "id": "0d838f63",
   "metadata": {
    "hidden": true
   },
   "outputs": [],
   "source": [
    "# /** After Refactoring **/ \n",
    "\n",
    "# Responsibility: Handle Database Operations\n",
    "# // Changes might occur   \n",
    "# // 1. A change in the database backend, as advised by the technical team.\n",
    "class StudentRepository:\n",
    "    \n",
    "    def __init__(self):\n",
    "        pass\n",
    "    \n",
    "    def save():\n",
    "        \"\"\"\n",
    "        Serialize object into a string representation\n",
    "            \n",
    "            But there is a problem, because this only work with MySQL, What if you have\n",
    "            to use a different database?\n",
    "        \n",
    "        \"\"\"\n",
    "        objectStr = MyUtils.serialzieIntoAString(self)\n",
    "        connection, stmt = None, None\n",
    "        try:\n",
    "            connection = DriverManager.getConnection(\"jdbc:mysql://localhost:3306/MyDb\", \"root\", \"password\")\n",
    "            stmt = connection.createStatement()\n",
    "            stmt.execute(\"INSERT INTO STUDENTS VALUES (\" + objectStr + \")\")\n",
    "        except:\n",
    "            print(\"An exception occurred\")\n",
    "\n",
    "# Responsibility: Handle core student profile data\n",
    "# // Changes might occur\n",
    "# // 1. A change in Student Data Format \n",
    "class Student:\n",
    "    \n",
    "    def __init__(self):\n",
    "        self.studentId = None\n",
    "        self.studentDOB = None\n",
    "        self.address = None\n",
    "    \n",
    "    def save():\n",
    "        StudentRepository().save(this)\n",
    "        \n",
    "    def getStudentId():\n",
    "        return self.studentId\n",
    "    \n",
    "    def setStudentId(studentId):\n",
    "        self.studentId = studentId"
   ]
  },
  {
   "cell_type": "markdown",
   "id": "854704ee",
   "metadata": {
    "heading_collapsed": true
   },
   "source": [
    "# Open Closed Principle (OCP)"
   ]
  },
  {
   "cell_type": "code",
   "execution_count": null,
   "id": "fa78bd28",
   "metadata": {
    "hidden": true
   },
   "outputs": [],
   "source": []
  },
  {
   "cell_type": "markdown",
   "id": "4aab9521",
   "metadata": {},
   "source": [
    "# Liskov Subsitution Princple"
   ]
  },
  {
   "cell_type": "markdown",
   "id": "9ad8a734",
   "metadata": {},
   "source": [
    "# Interface Segregation Principle"
   ]
  },
  {
   "cell_type": "markdown",
   "id": "52a92b1c",
   "metadata": {
    "heading_collapsed": true
   },
   "source": [
    "# Dependency Inversion Principle (DIP)"
   ]
  },
  {
   "cell_type": "markdown",
   "id": "940f0aa3",
   "metadata": {
    "hidden": true
   },
   "source": [
    "## What is Dependency Inversion Principle?\n",
    "**High-level modules should not depend on low-level modules. Both should depend on abstractions.**\n",
    "\n",
    "Well-organized code always has a hierarchy. There is a **high-level** modules and **low-level** modules. But sometimes rookie developers misunderstand this concept, and they bring directly low-level modules to high-level modules."
   ]
  },
  {
   "cell_type": "code",
   "execution_count": 18,
   "id": "0c89afc1",
   "metadata": {
    "hidden": true
   },
   "outputs": [],
   "source": [
    "# low level module        \n",
    "class SQLProductRepository():\n",
    "    def getAllProductNames():\n",
    "        return Arrays.asList(\"soap\", \"toothpaste\", \"shampoo\")\n",
    "    \n",
    "# High level module\n",
    "class ProductCatalog:\n",
    "    def listAllProducts():\n",
    "        sqlProductRepository = SQLProductRepository()\n",
    "        allProductNames = sqlProductRepository.getAllProductNames()\n",
    "        # Display product names"
   ]
  },
  {
   "cell_type": "markdown",
   "id": "23aced90",
   "metadata": {
    "hidden": true
   },
   "source": [
    "**Problem**\n",
    "\n",
    "ProductCatalog class is high-level module but it depends on its submodule SQLProductRepository, which is conflicted with DIP. "
   ]
  },
  {
   "cell_type": "markdown",
   "id": "f0606b9b",
   "metadata": {
    "hidden": true
   },
   "source": [
    "## What is Abstraction?"
   ]
  },
  {
   "cell_type": "code",
   "execution_count": 19,
   "id": "5e524e73",
   "metadata": {
    "hidden": true
   },
   "outputs": [],
   "source": [
    "class Benz:\n",
    "    def __init__(self):\n",
    "        pass\n",
    "    \n",
    "    def drive(self):\n",
    "        pass\n",
    "\n",
    "class CarUtil:\n",
    "    def drive(benz: Benz):\n",
    "        benz.drive()"
   ]
  },
  {
   "cell_type": "markdown",
   "id": "41001230",
   "metadata": {
    "hidden": true
   },
   "source": [
    "As you can see the code above, CarUtil class’s static drive method is dependent on Benz. You should provide Benz instance in order for CarUtil’s drive() method to function. In software design, it is called **‘tight-coupling’**. This also means, when you change drive() method inside Benz class, CarUtil is directly affected. This is prone to make bugs.\n",
    "\n",
    "**Tight Coupling is the most undesirable feature in Software**"
   ]
  },
  {
   "cell_type": "code",
   "execution_count": 20,
   "id": "f65f555a",
   "metadata": {
    "hidden": true
   },
   "outputs": [],
   "source": [
    "# Code with Abstraction\n",
    "class Car:\n",
    "    def drive():\n",
    "        pass\n",
    "    \n",
    "class Benz(Car):\n",
    "    def drive(): pass\n",
    "\n",
    "class Tesla(Car):\n",
    "    def drive(): pass\n",
    "\n",
    "class CarUtil:\n",
    "    def drive(car: Car):\n",
    "        car.drive()"
   ]
  },
  {
   "cell_type": "markdown",
   "id": "83b6e065",
   "metadata": {
    "hidden": true
   },
   "source": [
    "This code looks perfect. CarUtil’s static drive method doesn’t depend on Benz, but it depends on Car interface. Now, it can take any argument which implements Car Interface. This is called abstraction. It is also called **‘loose-coupling’**."
   ]
  },
  {
   "cell_type": "markdown",
   "id": "e78f774c",
   "metadata": {
    "hidden": true
   },
   "source": [
    "## Refactoring Previous Code with Abstraction\n",
    "**“Abstractions should not depend on details. Details should depend on abstractions.”**"
   ]
  },
  {
   "cell_type": "code",
   "execution_count": null,
   "id": "da527bfd",
   "metadata": {
    "hidden": true
   },
   "outputs": [],
   "source": [
    "class ProductRepository:\n",
    "    def getAllProductNames(): pass\n",
    "\n",
    "# low level module\n",
    "class SQLProductRepository(ProductRepository):\n",
    "    def getAllProductNames():\n",
    "        return Arrays.asList(\"soap\", \"toothpaste\", \"shampoo\")\n",
    "\n",
    "# High Level Module \n",
    "class ProductCatalog:\n",
    "    def listAllProducts():\n",
    "        # High Level Module depends on Abstraction \n",
    "        productRepository =  ProductRepository()\n",
    "        allProductNames = productRepository.getAllProductNames()\n",
    "        # Display product names"
   ]
  },
  {
   "cell_type": "markdown",
   "id": "5c6b49fb",
   "metadata": {
    "hidden": true
   },
   "source": [
    "Now, *ProductCatalog* depends on *ProductRepository* instead of *SQLProductRepository*.\n",
    "\n",
    "1. you don’t know what database you are going to use. It may not be specifically SQL.\n",
    "\n",
    "2. ProductCatalog‘s listAllProducts() does not depend on a specific object. This means, when you change code in SQLProductRepository, ProductCatalog is not directly affected. You just have achieved loose-coupling."
   ]
  },
  {
   "cell_type": "markdown",
   "id": "619899b7",
   "metadata": {
    "hidden": true
   },
   "source": [
    "## One strep forward, Dependency Injection\n",
    "\n",
    "You’re now injecting ProductRepository to ProductCatalog. This is a common practice and even recommended way to build objects."
   ]
  },
  {
   "cell_type": "code",
   "execution_count": 23,
   "id": "c81f148c",
   "metadata": {
    "hidden": true
   },
   "outputs": [],
   "source": [
    "class ProductRepository:\n",
    "    def getAllProductNames(): pass\n",
    "\n",
    "# low level module\n",
    "class SQLProductRepository(ProductRepository):\n",
    "    def getAllProductNames():\n",
    "        return Arrays.asList(\"soap\", \"toothpaste\", \"shampoo\")\n",
    "\n",
    "# High Level Module \n",
    "class ProductCatalog:\n",
    "    def __init__(self, productRepository):\n",
    "        # inject dependency from outier parameters\n",
    "        self.productRepository = productRepository\n",
    "        \n",
    "    def listAllProducts():\n",
    "        # High Level Module depends on Abstraction \n",
    "        allProductNames = self.productRepository.getAllProductNames()\n",
    "        # Display product names"
   ]
  },
  {
   "cell_type": "markdown",
   "id": "16bba07c",
   "metadata": {},
   "source": [
    "# Reference\n",
    "\n",
    "1. [Single Responsibility Principle](https://paigeshin1991.medium.com/single-responsibility-principle-what-working-as-a-software-engineer-you-dont-know-it-e74883f92944)"
   ]
  },
  {
   "cell_type": "code",
   "execution_count": null,
   "id": "b3ff6d2e",
   "metadata": {},
   "outputs": [],
   "source": []
  }
 ],
 "metadata": {
  "kernelspec": {
   "display_name": "Python 3",
   "language": "python",
   "name": "python3"
  },
  "language_info": {
   "codemirror_mode": {
    "name": "ipython",
    "version": 3
   },
   "file_extension": ".py",
   "mimetype": "text/x-python",
   "name": "python",
   "nbconvert_exporter": "python",
   "pygments_lexer": "ipython3",
   "version": "3.7.11"
  },
  "latex_envs": {
   "LaTeX_envs_menu_present": true,
   "autoclose": false,
   "autocomplete": true,
   "bibliofile": "biblio.bib",
   "cite_by": "apalike",
   "current_citInitial": 1,
   "eqLabelWithNumbers": true,
   "eqNumInitial": 1,
   "hotkeys": {
    "equation": "Ctrl-E",
    "itemize": "Ctrl-I"
   },
   "labels_anchors": false,
   "latex_user_defs": false,
   "report_style_numbering": false,
   "user_envs_cfg": false
  },
  "nbTranslate": {
   "displayLangs": [
    "*"
   ],
   "hotkey": "alt-t",
   "langInMainMenu": true,
   "sourceLang": "en",
   "targetLang": "fr",
   "useGoogleTranslate": true
  }
 },
 "nbformat": 4,
 "nbformat_minor": 5
}
