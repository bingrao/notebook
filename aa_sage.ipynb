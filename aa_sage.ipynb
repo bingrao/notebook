{
 "cells": [
  {
   "cell_type": "markdown",
   "metadata": {},
   "source": [
    "This version is implemented based on Sage Math software"
   ]
  },
  {
   "cell_type": "code",
   "execution_count": 1,
   "metadata": {},
   "outputs": [],
   "source": [
    "import logging\n",
    "import numpy as np\n",
    "from functools import reduce\n",
    "logging.basicConfig(level=logging.DEBUG)\n",
    "\n",
    "p=random_prime(2^12)\n",
    "Zp = GF(p)  # Finite Field of size 67"
   ]
  },
  {
   "cell_type": "code",
   "execution_count": 2,
   "metadata": {},
   "outputs": [],
   "source": [
    "# to store vectorlist for mapping from alphabet to vectors\n",
    "# alphabetlist='ABCDEFGHIJKLMNOPQRSTUVWXYZabcdefghijklmnopqrstuvwxyz '\n",
    "alphabetlist='ABCD'\n",
    "vectorlist = matrix(len(alphabetlist))\n",
    "for i in range(len(alphabetlist)):\n",
    "   vectorlist[i,i] = 1\n",
    "\n",
    "#input: alphabet\n",
    "#ouput: vector\n",
    "#53 symbols to vectors. a-z,A-Z,and blank.\n",
    "def MapAlphabetToVector(x):\n",
    "    i=alphabetlist.index(x)\n",
    "    return vectorlist[i]"
   ]
  },
  {
   "cell_type": "code",
   "execution_count": 3,
   "metadata": {},
   "outputs": [],
   "source": [
    "#find a number in a list\n",
    "#not find, return -1\n",
    "def FindinList(tem, lxs):\n",
    "    lenlist=len(lxs)\n",
    "    ret=-1\n",
    "    for x in range(lenlist):\n",
    "        if lxs[x]==tem:\n",
    "            ret=x\n",
    "            break\n",
    "    return ret"
   ]
  },
  {
   "cell_type": "code",
   "execution_count": 4,
   "metadata": {},
   "outputs": [],
   "source": [
    "#generate n randome numbers, not repeated\n",
    "def GenR(n, Zp):\n",
    "    l_xs=[]\n",
    "    tem = Zp.random_element() # Get next primary number in FP\n",
    "    while tem == 0:\n",
    "        tem = Zp.random_element()\n",
    "    l_xs.append(tem)\n",
    "    while len(l_xs) < n:\n",
    "        tem = Zp.random_element()\n",
    "        while tem==0:\n",
    "            tem = Zp.random_element()\n",
    "        if FindinList(tem,l_xs)<0:\n",
    "            l_xs.append(tem)\n",
    "    return l_xs\n"
   ]
  },
  {
   "cell_type": "code",
   "execution_count": 5,
   "metadata": {},
   "outputs": [],
   "source": [
    "#input:prime number, order\n",
    "#output a efficiency list of a polynomial\n",
    "def GenPolynomial(p, n_Polynomialorder):\n",
    "    Zp = GF(p)\n",
    "    n_efficiency = []\n",
    "    for i in range(n_Polynomialorder + 1):\n",
    "        n_efficiency.append(Zp.random_element())\n",
    "    return n_efficiency"
   ]
  },
  {
   "cell_type": "code",
   "execution_count": 6,
   "metadata": {},
   "outputs": [],
   "source": [
    "#input: order, efficiency, xvlaues\n",
    "#output: Result\n",
    "def EvalPolynomial(n_Polynomialorder, n_efficiency, xvlaues):\n",
    "    result=0\n",
    "    for i in range(n_Polynomialorder + 1):\n",
    "        result=result + n_efficiency[i] * xvlaues^i\n",
    "    return result"
   ]
  },
  {
   "cell_type": "code",
   "execution_count": 7,
   "metadata": {},
   "outputs": [],
   "source": [
    "# Create a secret y among n_clounds with polynomial degree n_order\n",
    "def secretshare(y, n_clouds, n_order, l_xs):\n",
    "    shares = []\n",
    "    f_poly = GenPolynomial(p, n_order)\n",
    "    f_poly[0] = y\n",
    "    for x in range(n_clouds):\n",
    "        resultValue = EvalPolynomial(n_order, f_poly, l_xs[x])\n",
    "        shares.append(resultValue)\n",
    "    return shares"
   ]
  },
  {
   "cell_type": "code",
   "execution_count": 8,
   "metadata": {},
   "outputs": [],
   "source": [
    "def interpolate(x_values, y_values, x=0):\n",
    "    def _basis(j):\n",
    "        p = [(x - x_values[m]) / (x_values[j] - x_values[m]) for m in range(k) if m != j]\n",
    "        return reduce(np.multiply, p)\n",
    "\n",
    "    assert len(x_values) != 0 and (len(x_values) == len(y_values)), \\\n",
    "        \"x and y cannot be empty and must have the same length\"\n",
    "    k = len(x_values)\n",
    "    return sum(_basis(j) * y_values[j] for j in range(k))"
   ]
  },
  {
   "cell_type": "code",
   "execution_count": 9,
   "metadata": {},
   "outputs": [
    {
     "name": "stderr",
     "output_type": "stream",
     "text": [
      "INFO:root:main program\n",
      "\n",
      "INFO:root:----------------------------------------------------------------------\n"
     ]
    }
   ],
   "source": [
    "logging.info('main program\\n')\n",
    "logging.info('----------------------------------------------------------------------')\n",
    "# main program"
   ]
  },
  {
   "cell_type": "code",
   "execution_count": 10,
   "metadata": {},
   "outputs": [
    {
     "name": "stderr",
     "output_type": "stream",
     "text": [
      "INFO:root:The finite filed we are using: Zp=Finite Field of size 1697\n",
      "INFO:root:cloud numbers: 10\n",
      "INFO:root:x values for each cloud: [396, 965, 102, 784, 1169, 1426, 215, 8, 1644, 1320]\n"
     ]
    }
   ],
   "source": [
    "# number of clouds\n",
    "n_clouds=10\n",
    "# genearte n_clouds x values for each cloud as an identification of an clound\n",
    "l_xs=[]\n",
    "l_xs=GenR(n_clouds, Zp)\n",
    "logging.info(f\"The finite filed we are using: Zp={Zp}\")\n",
    "logging.info(f\"cloud numbers: {len(l_xs)}\")\n",
    "logging.info(f\"x values for each cloud: {l_xs}\")"
   ]
  },
  {
   "cell_type": "code",
   "execution_count": 11,
   "metadata": {},
   "outputs": [
    {
     "data": {
      "text/plain": [
       "<class 'sage.rings.integer.Integer'>"
      ]
     },
     "execution_count": 11,
     "metadata": {},
     "output_type": "execute_result"
    }
   ],
   "source": [
    "type(n_clouds)"
   ]
  },
  {
   "cell_type": "code",
   "execution_count": 12,
   "metadata": {},
   "outputs": [
    {
     "data": {
      "text/plain": [
       "<class 'sage.rings.finite_rings.integer_mod.IntegerMod_int'>"
      ]
     },
     "execution_count": 12,
     "metadata": {},
     "output_type": "execute_result"
    }
   ],
   "source": [
    "type(l_xs[0])"
   ]
  },
  {
   "cell_type": "code",
   "execution_count": null,
   "metadata": {},
   "outputs": [],
   "source": []
  },
  {
   "cell_type": "code",
   "execution_count": null,
   "metadata": {},
   "outputs": [],
   "source": []
  },
  {
   "cell_type": "code",
   "execution_count": 13,
   "metadata": {},
   "outputs": [
    {
     "name": "stderr",
     "output_type": "stream",
     "text": [
      "INFO:root:file stream to be searched: ABCD\n"
     ]
    }
   ],
   "source": [
    "# input one file to share\n",
    "FiletoBestored='ABCD'.strip()\n",
    "logging.info(f\"file stream to be searched: {FiletoBestored}\")\n",
    "# Map FiletoBestored to VectorList\n",
    "vector=[]\n",
    "\n",
    "# for temporary store vector\n",
    "l_Filshares=[]\n",
    "# for one file in one cloud, one row for one cloud. (for example 10 clouds)\n",
    "# in each row, every cell for one alphabet (for example each cell consists of 53 elements)\n",
    "\n",
    "for x in range(n_clouds):\n",
    "    l_Filshares.append([])"
   ]
  },
  {
   "cell_type": "code",
   "execution_count": 14,
   "metadata": {},
   "outputs": [
    {
     "data": {
      "text/plain": [
       "[838, 1385, 448, 1041, 582, 161, 494, 635, 1316, 1094]"
      ]
     },
     "execution_count": 14,
     "metadata": {},
     "output_type": "execute_result"
    }
   ],
   "source": [
    "shares=secretshare(1, n_clouds, 1, l_xs)  # one degree sharing, so we need 1 here.\n",
    "shares"
   ]
  },
  {
   "cell_type": "code",
   "execution_count": null,
   "metadata": {},
   "outputs": [],
   "source": []
  },
  {
   "cell_type": "code",
   "execution_count": 15,
   "metadata": {},
   "outputs": [
    {
     "name": "stderr",
     "output_type": "stream",
     "text": [
      "INFO:root:The char [A] --> (1, 0, 0, 0)\n"
     ]
    }
   ],
   "source": [
    "x = FiletoBestored[0]\n",
    "vector=MapAlphabetToVector(x) # Get a vector representation for a char x\n",
    "logging.info(f\"The char [{x}] --> {vector}\")"
   ]
  },
  {
   "cell_type": "code",
   "execution_count": 16,
   "metadata": {},
   "outputs": [
    {
     "data": {
      "text/plain": [
       "[[], [], [], [], [], [], [], [], [], []]"
      ]
     },
     "execution_count": 16,
     "metadata": {},
     "output_type": "execute_result"
    }
   ],
   "source": [
    "l_y_vectorshares=[] # for one vector,or for one symbol\n",
    "for xx in range(n_clouds):\n",
    "    l_y_vectorshares.append([])\n",
    "l_y_vectorshares"
   ]
  },
  {
   "cell_type": "code",
   "execution_count": 17,
   "metadata": {},
   "outputs": [],
   "source": [
    "# for xx in range(n_clouds):\n",
    "#     l_y_vectorshares[xx].append(shares[xx])\n",
    "# l_y_vectorshares"
   ]
  },
  {
   "cell_type": "code",
   "execution_count": 18,
   "metadata": {},
   "outputs": [],
   "source": [
    "for x in FiletoBestored:\n",
    "    vector=MapAlphabetToVector(x) # Get a vector representation for a char x\n",
    "\n",
    "    #secret share each vector\n",
    "    l_y_vectorshares=[] # for one vector,or for one symbol\n",
    "    for xx in range(n_clouds):\n",
    "        l_y_vectorshares.append([])\n",
    "\n",
    "    shares=[]  #for one element (0 or 1)\n",
    "    for y in vector:\n",
    "        shares=secretshare(y, n_clouds, 1, l_xs)  # one degree sharing, so we need 1 here.\n",
    "        for xx in range(n_clouds):\n",
    "            l_y_vectorshares[xx].append(shares[xx])\n",
    "    \n",
    "    # send to clouds\n",
    "    # transfer data in l_y_vectorshares to l_Filshares\n",
    "    for xx in range(n_clouds):\n",
    "        l_Filshares[xx].append(l_y_vectorshares[xx])\n"
   ]
  },
  {
   "cell_type": "code",
   "execution_count": 19,
   "metadata": {},
   "outputs": [
    {
     "name": "stderr",
     "output_type": "stream",
     "text": [
      "INFO:root:len(l_Filshares) = 10, len(l_Filshares[0]) = 4 , len(l_Filshares[0][0]) = 4\n",
      "INFO:root:l_Filshares[0][0]: [520, 530, 769, 80]\n"
     ]
    }
   ],
   "source": [
    "logging.info(f\"len(l_Filshares) = {len(l_Filshares)}, len(l_Filshares[0]) = {len(l_Filshares[0])} , len(l_Filshares[0][0]) = {len(l_Filshares[0][0])}\")\n",
    "\n",
    "logging.info(f\"l_Filshares[0][0]: {l_Filshares[0][0]}\")"
   ]
  },
  {
   "cell_type": "code",
   "execution_count": 20,
   "metadata": {},
   "outputs": [
    {
     "name": "stderr",
     "output_type": "stream",
     "text": [
      "INFO:root:distribute file ending...\n",
      "INFO:root:-----------------------------------\n"
     ]
    }
   ],
   "source": [
    "logging.info('distribute file ending...')\n",
    "logging.info('-----------------------------------')"
   ]
  },
  {
   "cell_type": "code",
   "execution_count": 21,
   "metadata": {},
   "outputs": [
    {
     "name": "stderr",
     "output_type": "stream",
     "text": [
      "INFO:root:Generate AA now\n"
     ]
    }
   ],
   "source": [
    "logging.info('Generate AA now')\n",
    "\n",
    "n_node=5\n",
    "l_Node=[]\n",
    "l_NodesharesforC=[]\n",
    "for i in range(n_node):\n",
    "    l_Node.append(0)"
   ]
  },
  {
   "cell_type": "code",
   "execution_count": 22,
   "metadata": {},
   "outputs": [
    {
     "data": {
      "text/plain": [
       "[0, 0, 0, 0, 0]"
      ]
     },
     "execution_count": 22,
     "metadata": {},
     "output_type": "execute_result"
    }
   ],
   "source": [
    "l_Node"
   ]
  },
  {
   "cell_type": "code",
   "execution_count": 23,
   "metadata": {},
   "outputs": [],
   "source": [
    "# set initial value for each node\n",
    "l_Node[0]=1  #for 'L'\n",
    "l_Node[1]=0  #for 'o'\n",
    "l_Node[2]=0  #for 'v'\n",
    "l_Node[3]=0  #for 'e'\n",
    "l_Node[4]=0"
   ]
  },
  {
   "cell_type": "code",
   "execution_count": 24,
   "metadata": {},
   "outputs": [
    {
     "data": {
      "text/plain": [
       "[1, 0, 0, 0, 0]"
      ]
     },
     "execution_count": 24,
     "metadata": {},
     "output_type": "execute_result"
    }
   ],
   "source": [
    "l_Node"
   ]
  },
  {
   "cell_type": "code",
   "execution_count": 25,
   "metadata": {},
   "outputs": [],
   "source": [
    "# set positon for the word 'Love'\n",
    "n_1to2=alphabetlist.index('A') #it is 11\n",
    "n_2to3=alphabetlist.index('B') #it is 40\n",
    "n_3to4=alphabetlist.index('C') #it is 47\n",
    "n_4to5=alphabetlist.index('D') #it is 30"
   ]
  },
  {
   "cell_type": "code",
   "execution_count": 26,
   "metadata": {},
   "outputs": [
    {
     "name": "stderr",
     "output_type": "stream",
     "text": [
      "INFO:root:Index [A -> 0], [B -> 1], [C -> 2], [D -> 3]\n"
     ]
    }
   ],
   "source": [
    "logging.info(f\"Index [A -> {n_1to2}], [B -> {n_2to3}], [C -> {n_3to4}], [D -> {n_4to5}]\")"
   ]
  },
  {
   "cell_type": "code",
   "execution_count": 27,
   "metadata": {},
   "outputs": [],
   "source": [
    "#set initial cell for n_clouds clouds\n",
    "for xx in range(n_clouds):\n",
    "    l_NodesharesforC.append([])"
   ]
  },
  {
   "cell_type": "code",
   "execution_count": 28,
   "metadata": {},
   "outputs": [
    {
     "data": {
      "text/plain": [
       "[[], [], [], [], [], [], [], [], [], []]"
      ]
     },
     "execution_count": 28,
     "metadata": {},
     "output_type": "execute_result"
    }
   ],
   "source": [
    "l_NodesharesforC"
   ]
  },
  {
   "cell_type": "code",
   "execution_count": 29,
   "metadata": {},
   "outputs": [
    {
     "name": "stderr",
     "output_type": "stream",
     "text": [
      "INFO:root:Secret[1], Node[0], Shares[2]: [1583, 683, 489, 1026, 1302, 387, 1506, 324, 574, 507]\n",
      "INFO:root:Secret[0], Node[1], Shares[3]: [1149, 809, 386, 962, 136, 123, 1432, 1441, 19, 165]\n",
      "INFO:root:Secret[0], Node[2], Shares[4]: [320, 432, 500, 760, 835, 1665, 174, 763, 1246, 275]\n",
      "INFO:root:Secret[0], Node[3], Shares[5]: [1082, 276, 841, 1416, 1282, 225, 579, 1032, 978, 1646]\n",
      "INFO:root:Secret[0], Node[4], Shares[6]: [1091, 1211, 1367, 34, 964, 1297, 482, 1394, 713, 1599]\n"
     ]
    }
   ],
   "source": [
    "# secret share AA\n",
    "# each share for x cloud is stored in l_NodesharesforC[x]\n",
    "for i in range(n_node):\n",
    "    shares = secretshare(l_Node[i], n_clouds, i + 2, l_xs)\n",
    "    logging.info(f\"Secret[{l_Node[i]}], Node[{i}], Shares[{i+2}]: {shares}\")\n",
    "    for xx in range(n_clouds):\n",
    "#         logging.info(f\"Secret[{l_Node[i]}], Cloud[{xx}], Shares: {shares[xx]}\")\n",
    "        l_NodesharesforC[xx].append(shares[xx])"
   ]
  },
  {
   "cell_type": "code",
   "execution_count": 30,
   "metadata": {},
   "outputs": [
    {
     "name": "stderr",
     "output_type": "stream",
     "text": [
      "INFO:root:len(l_NodesharesforC) = 10, len(l_NodesharesforC[0]) = 5\n",
      "INFO:root:l_NodesharesforC[0]: [1583, 1149, 320, 1082, 1091]\n"
     ]
    }
   ],
   "source": [
    "logging.info(f\"len(l_NodesharesforC) = {len(l_NodesharesforC)}, len(l_NodesharesforC[0]) = {len(l_NodesharesforC[0])}\")\n",
    "\n",
    "logging.info(f\"l_NodesharesforC[0]: {l_NodesharesforC[0]}\")"
   ]
  },
  {
   "cell_type": "markdown",
   "metadata": {},
   "source": [
    "The state of each node will be shared among 10 clounds, as shown in l_NodesharesforC. In this object, each row means five shares state of nodes in a cloud server."
   ]
  },
  {
   "cell_type": "code",
   "execution_count": 31,
   "metadata": {},
   "outputs": [
    {
     "data": {
      "text/plain": [
       "[[1583, 1149, 320, 1082, 1091],\n",
       " [683, 809, 432, 276, 1211],\n",
       " [489, 386, 500, 841, 1367],\n",
       " [1026, 962, 760, 1416, 34],\n",
       " [1302, 136, 835, 1282, 964],\n",
       " [387, 123, 1665, 225, 1297],\n",
       " [1506, 1432, 174, 579, 482],\n",
       " [324, 1441, 763, 1032, 1394],\n",
       " [574, 19, 1246, 978, 713],\n",
       " [507, 165, 275, 1646, 1599]]"
      ]
     },
     "execution_count": 31,
     "metadata": {},
     "output_type": "execute_result"
    }
   ],
   "source": [
    "l_NodesharesforC"
   ]
  },
  {
   "cell_type": "code",
   "execution_count": 32,
   "metadata": {},
   "outputs": [
    {
     "name": "stderr",
     "output_type": "stream",
     "text": [
      "INFO:root:original AA:N0,N1,N2,N3,N4 -> [1, 0, 0, 0, 0]\n",
      "INFO:root:Generate AA ending...\n",
      "INFO:root:---------------------------------------\n"
     ]
    }
   ],
   "source": [
    "logging.info(f\"original AA:N0,N1,N2,N3,N4 -> {l_Node}\")\n",
    "logging.info(f\"Generate AA ending...\")\n",
    "logging.info(\"---------------------------------------\")"
   ]
  },
  {
   "cell_type": "code",
   "execution_count": 33,
   "metadata": {},
   "outputs": [
    {
     "name": "stderr",
     "output_type": "stream",
     "text": [
      "INFO:root:Updating AA now\n"
     ]
    },
    {
     "data": {
      "text/plain": [
       "4"
      ]
     },
     "execution_count": 33,
     "metadata": {},
     "output_type": "execute_result"
    }
   ],
   "source": [
    "# todo upate AA in clouds.\n",
    "logging.info(\"Updating AA now\")\n",
    "\n",
    "# each cloud will update AA for theirselves\n",
    "FileLen=len(l_Filshares[0]) # it is 14 for 'Alice Love Bob'\n",
    "FileLen"
   ]
  },
  {
   "cell_type": "code",
   "execution_count": 34,
   "metadata": {},
   "outputs": [
    {
     "name": "stderr",
     "output_type": "stream",
     "text": [
      "INFO:root:[B]-Server[0, Input [520, 530, 769, 80], State Machine [1583, 1149, 320, 1082, 1091]\n",
      "INFO:root:[4]-1091 = 1091 + 1082 * 80\n",
      "INFO:root:[4]-1104\n",
      "INFO:root:[3]-1082 = 320 * 769\n",
      "INFO:root:[3]-15\n",
      "INFO:root:[2]-320 = 1149 * 530\n",
      "INFO:root:[2]-1444\n",
      "INFO:root:1149 = 1583 * 520\n",
      "INFO:root:[1]-115\n",
      "INFO:root:[A]-Server[0, Input [520, 530, 769, 80], State Machine [1583, 115, 1444, 15, 1104]\n",
      "\n",
      "INFO:root:[B]-Server[1, Input [1510, 923, 1304, 1292], State Machine [683, 809, 432, 276, 1211]\n",
      "INFO:root:[4]-1211 = 1211 + 276 * 1292\n",
      "INFO:root:[4]-1433\n",
      "INFO:root:[3]-276 = 432 * 1304\n",
      "INFO:root:[3]-1621\n",
      "INFO:root:[2]-432 = 809 * 923\n",
      "INFO:root:[2]-27\n",
      "INFO:root:809 = 683 * 1510\n",
      "INFO:root:[1]-1251\n",
      "INFO:root:[A]-Server[1, Input [1510, 923, 1304, 1292], State Machine [683, 1251, 27, 1621, 1433]\n",
      "\n",
      "INFO:root:[B]-Server[2, Input [1446, 1165, 1098, 432], State Machine [489, 386, 500, 841, 1367]\n",
      "INFO:root:[4]-1367 = 1367 + 841 * 432\n",
      "INFO:root:[4]-1521\n",
      "INFO:root:[3]-841 = 500 * 1098\n",
      "INFO:root:[3]-869\n",
      "INFO:root:[2]-500 = 386 * 1165\n",
      "INFO:root:[2]-1682\n",
      "INFO:root:386 = 489 * 1446\n",
      "INFO:root:[1]-1142\n",
      "INFO:root:[A]-Server[2, Input [1446, 1165, 1098, 432], State Machine [489, 1142, 1682, 869, 1521]\n",
      "\n",
      "INFO:root:[B]-Server[3, Input [360, 1135, 254, 1324], State Machine [1026, 962, 760, 1416, 34]\n",
      "INFO:root:[4]-34 = 34 + 1416 * 1324\n",
      "INFO:root:[4]-1330\n",
      "INFO:root:[3]-1416 = 760 * 254\n",
      "INFO:root:[3]-1279\n",
      "INFO:root:[2]-760 = 962 * 1135\n",
      "INFO:root:[2]-699\n",
      "INFO:root:962 = 1026 * 360\n",
      "INFO:root:[1]-1111\n",
      "INFO:root:[A]-Server[3, Input [360, 1135, 254, 1324], State Machine [1026, 1111, 699, 1279, 1330]\n",
      "\n",
      "INFO:root:[B]-Server[4, Input [1006, 1556, 106, 459], State Machine [1302, 136, 835, 1282, 964]\n",
      "INFO:root:[4]-964 = 964 + 1282 * 459\n",
      "INFO:root:[4]-543\n",
      "INFO:root:[3]-1282 = 835 * 106\n",
      "INFO:root:[3]-266\n",
      "INFO:root:[2]-835 = 136 * 1556\n",
      "INFO:root:[2]-1188\n",
      "INFO:root:136 = 1302 * 1006\n",
      "INFO:root:[1]-1425\n",
      "INFO:root:[A]-Server[4, Input [1006, 1556, 106, 459], State Machine [1302, 1425, 1188, 266, 543]\n",
      "\n",
      "INFO:root:[B]-Server[5, Input [970, 1480, 1475, 1248], State Machine [387, 123, 1665, 225, 1297]\n",
      "INFO:root:[4]-1297 = 1297 + 225 * 1248\n",
      "INFO:root:[4]-395\n",
      "INFO:root:[3]-225 = 1665 * 1475\n",
      "INFO:root:[3]-316\n",
      "INFO:root:[2]-1665 = 123 * 1480\n",
      "INFO:root:[2]-461\n",
      "INFO:root:123 = 387 * 970\n",
      "INFO:root:[1]-353\n",
      "INFO:root:[A]-Server[5, Input [970, 1480, 1475, 1248], State Machine [387, 353, 461, 316, 395]\n",
      "\n",
      "INFO:root:[B]-Server[6, Input [1067, 742, 1416, 112], State Machine [1506, 1432, 174, 579, 482]\n",
      "INFO:root:[4]-482 = 482 + 579 * 112\n",
      "INFO:root:[4]-844\n",
      "INFO:root:[3]-579 = 174 * 1416\n",
      "INFO:root:[3]-319\n",
      "INFO:root:[2]-174 = 1432 * 742\n",
      "INFO:root:[2]-222\n",
      "INFO:root:1432 = 1506 * 1067\n",
      "INFO:root:[1]-1540\n",
      "INFO:root:[A]-Server[6, Input [1067, 742, 1416, 112], State Machine [1506, 1540, 222, 319, 844]\n",
      "\n",
      "INFO:root:[B]-Server[7, Input [680, 1622, 1284, 533], State Machine [324, 1441, 763, 1032, 1394]\n",
      "INFO:root:[4]-1394 = 1394 + 1032 * 533\n",
      "INFO:root:[4]-1622\n",
      "INFO:root:[3]-1032 = 763 * 1284\n",
      "INFO:root:[3]-523\n",
      "INFO:root:[2]-763 = 1441 * 1622\n",
      "INFO:root:[2]-533\n",
      "INFO:root:1441 = 324 * 680\n",
      "INFO:root:[1]-1407\n",
      "INFO:root:[A]-Server[7, Input [680, 1622, 1284, 533], State Machine [324, 1407, 533, 523, 1622]\n",
      "\n",
      "INFO:root:[B]-Server[8, Input [1230, 709, 827, 75], State Machine [574, 19, 1246, 978, 713]\n",
      "INFO:root:[4]-713 = 713 + 978 * 75\n",
      "INFO:root:[4]-1092\n",
      "INFO:root:[3]-978 = 1246 * 827\n",
      "INFO:root:[3]-363\n",
      "INFO:root:[2]-1246 = 19 * 709\n",
      "INFO:root:[2]-1592\n",
      "INFO:root:19 = 574 * 1230\n",
      "INFO:root:[1]-68\n",
      "INFO:root:[A]-Server[8, Input [1230, 709, 827, 75], State Machine [574, 68, 1592, 363, 1092]\n",
      "\n",
      "INFO:root:[B]-Server[9, Input [34, 1201, 1432, 1398], State Machine [507, 165, 275, 1646, 1599]\n",
      "INFO:root:[4]-1599 = 1599 + 1646 * 1398\n",
      "INFO:root:[4]-1575\n",
      "INFO:root:[3]-1646 = 275 * 1432\n",
      "INFO:root:[3]-96\n",
      "INFO:root:[2]-275 = 165 * 1201\n",
      "INFO:root:[2]-1313\n",
      "INFO:root:165 = 507 * 34\n",
      "INFO:root:[1]-268\n",
      "INFO:root:[A]-Server[9, Input [34, 1201, 1432, 1398], State Machine [507, 268, 1313, 96, 1575]\n",
      "\n",
      "INFO:root:[B]-Server[0, Input [1230, 1233, 1475, 64], State Machine [1583, 115, 1444, 15, 1104]\n",
      "INFO:root:[4]-1104 = 1104 + 15 * 64\n",
      "INFO:root:[4]-367\n",
      "INFO:root:[3]-15 = 1444 * 1475\n",
      "INFO:root:[3]-165\n",
      "INFO:root:[2]-1444 = 115 * 1233\n",
      "INFO:root:[2]-944\n",
      "INFO:root:115 = 1583 * 1230\n",
      "INFO:root:[1]-631\n",
      "INFO:root:[A]-Server[0, Input [1230, 1233, 1475, 64], State Machine [1583, 631, 944, 165, 367]\n",
      "\n",
      "INFO:root:[B]-Server[1, Input [349, 552, 1336, 1373], State Machine [683, 1251, 27, 1621, 1433]\n",
      "INFO:root:[4]-1433 = 1433 + 1621 * 1373\n",
      "INFO:root:[4]-602\n",
      "INFO:root:[3]-1621 = 27 * 1336\n",
      "INFO:root:[3]-435\n",
      "INFO:root:[2]-27 = 1251 * 552\n",
      "INFO:root:[2]-1570\n",
      "INFO:root:1251 = 683 * 349\n",
      "INFO:root:[1]-787\n",
      "INFO:root:[A]-Server[1, Input [349, 552, 1336, 1373], State Machine [683, 787, 1570, 435, 602]\n",
      "\n",
      "INFO:root:[B]-Server[2, Input [1551, 884, 1177, 685], State Machine [489, 1142, 1682, 869, 1521]\n",
      "INFO:root:[4]-1521 = 1521 + 869 * 685\n",
      "INFO:root:[4]-1139\n",
      "INFO:root:[3]-869 = 1682 * 1177\n",
      "INFO:root:[3]-1012\n",
      "INFO:root:[2]-1682 = 1142 * 884\n",
      "INFO:root:[2]-1510\n",
      "INFO:root:1142 = 489 * 1551\n",
      "INFO:root:[1]-1577\n",
      "INFO:root:[A]-Server[2, Input [1551, 884, 1177, 685], State Machine [489, 1577, 1510, 1012, 1139]\n",
      "\n",
      "INFO:root:[B]-Server[3, Input [841, 366, 229, 41], State Machine [1026, 1111, 699, 1279, 1330]\n",
      "INFO:root:[4]-1330 = 1330 + 1279 * 41\n",
      "INFO:root:[4]-1162\n",
      "INFO:root:[3]-1279 = 699 * 229\n",
      "INFO:root:[3]-553\n",
      "INFO:root:[2]-699 = 1111 * 366\n",
      "INFO:root:[2]-1043\n",
      "INFO:root:1111 = 1026 * 841\n",
      "INFO:root:[1]-790\n",
      "INFO:root:[A]-Server[3, Input [841, 366, 229, 41], State Machine [1026, 790, 1043, 553, 1162]\n",
      "\n",
      "INFO:root:[B]-Server[4, Input [57, 621, 296, 1046], State Machine [1302, 1425, 1188, 266, 543]\n",
      "INFO:root:[4]-543 = 543 + 266 * 1046\n",
      "INFO:root:[4]-471\n",
      "INFO:root:[3]-266 = 1188 * 296\n",
      "INFO:root:[3]-369\n",
      "INFO:root:[2]-1188 = 1425 * 621\n",
      "INFO:root:[2]-788\n",
      "INFO:root:1425 = 1302 * 57\n",
      "INFO:root:[1]-1243\n",
      "INFO:root:[A]-Server[4, Input [57, 621, 296, 1046], State Machine [1302, 1243, 788, 369, 471]\n",
      "\n",
      "INFO:root:[B]-Server[5, Input [521, 1232, 949, 659], State Machine [387, 353, 461, 316, 395]\n",
      "INFO:root:[4]-395 = 395 + 316 * 659\n",
      "INFO:root:[4]-1605\n",
      "INFO:root:[3]-316 = 461 * 949\n",
      "INFO:root:[3]-1360\n",
      "INFO:root:[2]-461 = 353 * 1232\n",
      "INFO:root:[2]-464\n",
      "INFO:root:353 = 387 * 521\n",
      "INFO:root:[1]-1381\n",
      "INFO:root:[A]-Server[5, Input [521, 1232, 949, 659], State Machine [387, 1381, 464, 1360, 1605]\n",
      "\n",
      "INFO:root:[B]-Server[6, Input [25, 1047, 368, 429], State Machine [1506, 1540, 222, 319, 844]\n",
      "INFO:root:[4]-844 = 844 + 319 * 429\n",
      "INFO:root:[4]-238\n",
      "INFO:root:[3]-319 = 222 * 368\n",
      "INFO:root:[3]-240\n",
      "INFO:root:[2]-222 = 1540 * 1047\n",
      "INFO:root:[2]-230\n",
      "INFO:root:1540 = 1506 * 25\n",
      "INFO:root:[1]-316\n",
      "INFO:root:[A]-Server[6, Input [25, 1047, 368, 429], State Machine [1506, 316, 230, 240, 238]\n",
      "\n",
      "INFO:root:[B]-Server[7, Input [1619, 403, 1024, 87], State Machine [324, 1407, 533, 523, 1622]\n",
      "INFO:root:[4]-1622 = 1622 + 523 * 87\n",
      "INFO:root:[4]-1304\n",
      "INFO:root:[3]-523 = 533 * 1024\n",
      "INFO:root:[3]-1055\n",
      "INFO:root:[2]-533 = 1407 * 403\n",
      "INFO:root:[2]-223\n",
      "INFO:root:1407 = 324 * 1619\n",
      "INFO:root:[1]-183\n",
      "INFO:root:[A]-Server[7, Input [1619, 403, 1024, 87], State Machine [324, 183, 223, 1055, 1304]\n",
      "\n",
      "INFO:root:[B]-Server[8, Input [941, 1156, 4, 60], State Machine [574, 68, 1592, 363, 1092]\n",
      "INFO:root:[4]-1092 = 1092 + 363 * 60\n",
      "INFO:root:[4]-811\n",
      "INFO:root:[3]-363 = 1592 * 4\n",
      "INFO:root:[3]-1277\n",
      "INFO:root:[2]-1592 = 68 * 1156\n",
      "INFO:root:[2]-546\n",
      "INFO:root:68 = 574 * 941\n",
      "INFO:root:[1]-488\n",
      "INFO:root:[A]-Server[8, Input [941, 1156, 4, 60], State Machine [574, 488, 546, 1277, 811]\n",
      "\n",
      "INFO:root:[B]-Server[9, Input [706, 148, 957, 779], State Machine [507, 268, 1313, 96, 1575]\n",
      "INFO:root:[4]-1575 = 1575 + 96 * 779\n",
      "INFO:root:[4]-1691\n",
      "INFO:root:[3]-96 = 1313 * 957\n",
      "INFO:root:[3]-761\n",
      "INFO:root:[2]-1313 = 268 * 148\n",
      "INFO:root:[2]-633\n",
      "INFO:root:268 = 507 * 706\n",
      "INFO:root:[1]-1572\n",
      "INFO:root:[A]-Server[9, Input [706, 148, 957, 779], State Machine [507, 1572, 633, 761, 1691]\n",
      "\n",
      "INFO:root:[B]-Server[0, Input [1086, 1336, 494, 602], State Machine [1583, 631, 944, 165, 367]\n",
      "INFO:root:[4]-367 = 367 + 165 * 602\n",
      "INFO:root:[4]-1271\n",
      "INFO:root:[3]-165 = 944 * 494\n",
      "INFO:root:[3]-1358\n",
      "INFO:root:[2]-944 = 631 * 1336\n",
      "INFO:root:[2]-1304\n",
      "INFO:root:631 = 1583 * 1086\n",
      "INFO:root:[1]-77\n",
      "INFO:root:[A]-Server[0, Input [1086, 1336, 494, 602], State Machine [1583, 77, 1304, 1358, 1271]\n",
      "\n"
     ]
    },
    {
     "name": "stderr",
     "output_type": "stream",
     "text": [
      "INFO:root:[B]-Server[1, Input [1078, 873, 581, 1407], State Machine [683, 787, 1570, 435, 602]\n",
      "INFO:root:[4]-602 = 602 + 435 * 1407\n",
      "INFO:root:[4]-30\n",
      "INFO:root:[3]-435 = 1570 * 581\n",
      "INFO:root:[3]-881\n",
      "INFO:root:[2]-1570 = 787 * 873\n",
      "INFO:root:[2]-1463\n",
      "INFO:root:787 = 683 * 1078\n",
      "INFO:root:[1]-1473\n",
      "INFO:root:[A]-Server[1, Input [1078, 873, 581, 1407], State Machine [683, 1473, 1463, 881, 30]\n",
      "\n",
      "INFO:root:[B]-Server[2, Input [434, 87, 1645, 875], State Machine [489, 1577, 1510, 1012, 1139]\n",
      "INFO:root:[4]-1139 = 1139 + 1012 * 875\n",
      "INFO:root:[4]-805\n",
      "INFO:root:[3]-1012 = 1510 * 1645\n",
      "INFO:root:[3]-1239\n",
      "INFO:root:[2]-1510 = 1577 * 87\n",
      "INFO:root:[2]-1439\n",
      "INFO:root:1577 = 489 * 434\n",
      "INFO:root:[1]-101\n",
      "INFO:root:[A]-Server[2, Input [434, 87, 1645, 875], State Machine [489, 101, 1439, 1239, 805]\n",
      "\n",
      "INFO:root:[B]-Server[3, Input [1173, 1068, 1457, 969], State Machine [1026, 790, 1043, 553, 1162]\n",
      "INFO:root:[4]-1162 = 1162 + 553 * 969\n",
      "INFO:root:[4]-767\n",
      "INFO:root:[3]-553 = 1043 * 1457\n",
      "INFO:root:[3]-836\n",
      "INFO:root:[2]-1043 = 790 * 1068\n",
      "INFO:root:[2]-311\n",
      "INFO:root:790 = 1026 * 1173\n",
      "INFO:root:[1]-325\n",
      "INFO:root:[A]-Server[3, Input [1173, 1068, 1457, 969], State Machine [1026, 325, 311, 836, 767]\n",
      "\n",
      "INFO:root:[B]-Server[4, Input [249, 1047, 475, 1460], State Machine [1302, 1243, 788, 369, 471]\n",
      "INFO:root:[4]-471 = 471 + 369 * 1460\n",
      "INFO:root:[4]-1262\n",
      "INFO:root:[3]-369 = 788 * 475\n",
      "INFO:root:[3]-960\n",
      "INFO:root:[2]-788 = 1243 * 1047\n",
      "INFO:root:[2]-1519\n",
      "INFO:root:1243 = 1302 * 249\n",
      "INFO:root:[1]-71\n",
      "INFO:root:[A]-Server[4, Input [249, 1047, 475, 1460], State Machine [1302, 71, 1519, 960, 1262]\n",
      "\n",
      "INFO:root:[B]-Server[5, Input [311, 817, 225, 1585], State Machine [387, 1381, 464, 1360, 1605]\n",
      "INFO:root:[4]-1605 = 1605 + 1360 * 1585\n",
      "INFO:root:[4]-318\n",
      "INFO:root:[3]-1360 = 464 * 225\n",
      "INFO:root:[3]-883\n",
      "INFO:root:[2]-464 = 1381 * 817\n",
      "INFO:root:[2]-1469\n",
      "INFO:root:1381 = 387 * 311\n",
      "INFO:root:[1]-1567\n",
      "INFO:root:[A]-Server[5, Input [311, 817, 225, 1585], State Machine [387, 1567, 1469, 883, 318]\n",
      "\n",
      "INFO:root:[B]-Server[6, Input [1181, 1531, 1370, 164], State Machine [1506, 316, 230, 240, 238]\n",
      "INFO:root:[4]-238 = 238 + 240 * 164\n",
      "INFO:root:[4]-567\n",
      "INFO:root:[3]-240 = 230 * 1370\n",
      "INFO:root:[3]-1155\n",
      "INFO:root:[2]-230 = 316 * 1531\n",
      "INFO:root:[2]-151\n",
      "INFO:root:316 = 1506 * 1181\n",
      "INFO:root:[1]-130\n",
      "INFO:root:[A]-Server[6, Input [1181, 1531, 1370, 164], State Machine [1506, 130, 151, 1155, 567]\n",
      "\n",
      "INFO:root:[B]-Server[7, Input [999, 1604, 1228, 235], State Machine [324, 183, 223, 1055, 1304]\n",
      "INFO:root:[4]-1304 = 1304 + 1055 * 235\n",
      "INFO:root:[4]-1467\n",
      "INFO:root:[3]-1055 = 223 * 1228\n",
      "INFO:root:[3]-627\n",
      "INFO:root:[2]-223 = 183 * 1604\n",
      "INFO:root:[2]-1648\n",
      "INFO:root:183 = 324 * 999\n",
      "INFO:root:[1]-1246\n",
      "INFO:root:[A]-Server[7, Input [999, 1604, 1228, 235], State Machine [324, 1246, 1648, 627, 1467]\n",
      "\n",
      "INFO:root:[B]-Server[8, Input [806, 404, 145, 1625], State Machine [574, 488, 546, 1277, 811]\n",
      "INFO:root:[4]-811 = 811 + 1277 * 1625\n",
      "INFO:root:[4]-505\n",
      "INFO:root:[3]-1277 = 546 * 145\n",
      "INFO:root:[3]-1108\n",
      "INFO:root:[2]-546 = 488 * 404\n",
      "INFO:root:[2]-300\n",
      "INFO:root:488 = 574 * 806\n",
      "INFO:root:[1]-1060\n",
      "INFO:root:[A]-Server[8, Input [806, 404, 145, 1625], State Machine [574, 1060, 300, 1108, 505]\n",
      "\n",
      "INFO:root:[B]-Server[9, Input [226, 1625, 513, 1441], State Machine [507, 1572, 633, 761, 1691]\n",
      "INFO:root:[4]-1691 = 1691 + 761 * 1441\n",
      "INFO:root:[4]-333\n",
      "INFO:root:[3]-761 = 633 * 513\n",
      "INFO:root:[3]-602\n",
      "INFO:root:[2]-633 = 1572 * 1625\n",
      "INFO:root:[2]-515\n",
      "INFO:root:1572 = 507 * 226\n",
      "INFO:root:[1]-883\n",
      "INFO:root:[A]-Server[9, Input [226, 1625, 513, 1441], State Machine [507, 883, 515, 602, 333]\n",
      "\n",
      "INFO:root:[B]-Server[0, Input [11, 1004, 1045, 872], State Machine [1583, 77, 1304, 1358, 1271]\n",
      "INFO:root:[4]-1271 = 1271 + 1358 * 872\n",
      "INFO:root:[4]-941\n",
      "INFO:root:[3]-1358 = 1304 * 1045\n",
      "INFO:root:[3]-1686\n",
      "INFO:root:[2]-1304 = 77 * 1004\n",
      "INFO:root:[2]-943\n",
      "INFO:root:77 = 1583 * 11\n",
      "INFO:root:[1]-443\n",
      "INFO:root:[A]-Server[0, Input [11, 1004, 1045, 872], State Machine [1583, 443, 943, 1686, 941]\n",
      "\n",
      "INFO:root:[B]-Server[1, Input [1111, 1281, 331, 1425], State Machine [683, 1473, 1463, 881, 30]\n",
      "INFO:root:[4]-30 = 30 + 881 * 1425\n",
      "INFO:root:[4]-1372\n",
      "INFO:root:[3]-881 = 1463 * 331\n",
      "INFO:root:[3]-608\n",
      "INFO:root:[2]-1463 = 1473 * 1281\n",
      "INFO:root:[2]-1546\n",
      "INFO:root:1473 = 683 * 1111\n",
      "INFO:root:[1]-254\n",
      "INFO:root:[A]-Server[1, Input [1111, 1281, 331, 1425], State Machine [683, 254, 1546, 608, 1372]\n",
      "\n",
      "INFO:root:[B]-Server[2, Input [1417, 670, 552, 971], State Machine [489, 101, 1439, 1239, 805]\n",
      "INFO:root:[4]-805 = 805 + 1239 * 971\n",
      "INFO:root:[4]-701\n",
      "INFO:root:[3]-1239 = 1439 * 552\n",
      "INFO:root:[3]-132\n",
      "INFO:root:[2]-1439 = 101 * 670\n",
      "INFO:root:[2]-1487\n",
      "INFO:root:101 = 489 * 1417\n",
      "INFO:root:[1]-537\n",
      "INFO:root:[A]-Server[2, Input [1417, 670, 552, 971], State Machine [489, 537, 1487, 132, 701]\n",
      "\n",
      "INFO:root:[B]-Server[3, Input [776, 325, 749, 1434], State Machine [1026, 325, 311, 836, 767]\n",
      "INFO:root:[4]-767 = 767 + 836 * 1434\n",
      "INFO:root:[4]-1509\n",
      "INFO:root:[3]-836 = 311 * 749\n",
      "INFO:root:[3]-450\n",
      "INFO:root:[2]-311 = 325 * 325\n",
      "INFO:root:[2]-411\n",
      "INFO:root:325 = 1026 * 776\n",
      "INFO:root:[1]-283\n",
      "INFO:root:[A]-Server[3, Input [776, 325, 749, 1434], State Machine [1026, 283, 411, 450, 1509]\n",
      "\n",
      "INFO:root:[B]-Server[4, Input [551, 924, 1435, 1668], State Machine [1302, 71, 1519, 960, 1262]\n",
      "INFO:root:[4]-1262 = 1262 + 960 * 1668\n",
      "INFO:root:[4]-574\n",
      "INFO:root:[3]-960 = 1519 * 1435\n",
      "INFO:root:[3]-817\n",
      "INFO:root:[2]-1519 = 71 * 924\n",
      "INFO:root:[2]-1118\n",
      "INFO:root:71 = 1302 * 551\n",
      "INFO:root:[1]-1268\n",
      "INFO:root:[A]-Server[4, Input [551, 924, 1435, 1668], State Machine [1302, 1268, 1118, 817, 574]\n",
      "\n",
      "INFO:root:[B]-Server[5, Input [511, 50, 1029, 352], State Machine [387, 1567, 1469, 883, 318]\n",
      "INFO:root:[4]-318 = 318 + 883 * 352\n",
      "INFO:root:[4]-583\n",
      "INFO:root:[3]-883 = 1469 * 1029\n",
      "INFO:root:[3]-1271\n",
      "INFO:root:[2]-1469 = 1567 * 50\n",
      "INFO:root:[2]-288\n",
      "INFO:root:1567 = 387 * 511\n",
      "INFO:root:[1]-905\n",
      "INFO:root:[A]-Server[5, Input [511, 50, 1029, 352], State Machine [387, 905, 288, 1271, 583]\n",
      "\n",
      "INFO:root:[B]-Server[6, Input [1373, 48, 1463, 881], State Machine [1506, 130, 151, 1155, 567]\n",
      "INFO:root:[4]-567 = 567 + 1155 * 881\n",
      "INFO:root:[4]-1619\n",
      "INFO:root:[3]-1155 = 151 * 1463\n",
      "INFO:root:[3]-303\n",
      "INFO:root:[2]-151 = 130 * 48\n",
      "INFO:root:[2]-1149\n",
      "INFO:root:130 = 1506 * 1373\n",
      "INFO:root:[1]-792\n",
      "INFO:root:[A]-Server[6, Input [1373, 48, 1463, 881], State Machine [1506, 792, 1149, 303, 1619]\n",
      "\n",
      "INFO:root:[B]-Server[7, Input [943, 1683, 1341, 310], State Machine [324, 1246, 1648, 627, 1467]\n",
      "INFO:root:[4]-1467 = 1467 + 627 * 310\n",
      "INFO:root:[4]-682\n",
      "INFO:root:[3]-627 = 1648 * 1341\n",
      "INFO:root:[3]-474\n",
      "INFO:root:[2]-1648 = 1246 * 1683\n",
      "INFO:root:[2]-1223\n",
      "INFO:root:1246 = 324 * 943\n",
      "INFO:root:[1]-72\n",
      "INFO:root:[A]-Server[7, Input [943, 1683, 1341, 310], State Machine [324, 72, 1223, 474, 682]\n",
      "\n",
      "INFO:root:[B]-Server[8, Input [1177, 517, 1510, 1560], State Machine [574, 1060, 300, 1108, 505]\n",
      "INFO:root:[4]-505 = 505 + 1108 * 1560\n",
      "INFO:root:[4]-1439\n",
      "INFO:root:[3]-1108 = 300 * 1510\n",
      "INFO:root:[3]-1598\n",
      "INFO:root:[2]-300 = 1060 * 517\n",
      "INFO:root:[2]-1586\n",
      "INFO:root:1060 = 574 * 1177\n",
      "INFO:root:[1]-192\n",
      "INFO:root:[A]-Server[8, Input [1177, 517, 1510, 1560], State Machine [574, 192, 1586, 1598, 1439]\n",
      "\n",
      "INFO:root:[B]-Server[9, Input [1168, 1084, 655, 76], State Machine [507, 883, 515, 602, 333]\n",
      "INFO:root:[4]-333 = 333 + 602 * 76\n",
      "INFO:root:[4]-266\n",
      "INFO:root:[3]-602 = 515 * 655\n",
      "INFO:root:[3]-1319\n",
      "INFO:root:[2]-515 = 883 * 1084\n",
      "INFO:root:[2]-64\n",
      "INFO:root:883 = 507 * 1168\n",
      "INFO:root:[1]-1620\n",
      "INFO:root:[A]-Server[9, Input [1168, 1084, 655, 76], State Machine [507, 1620, 64, 1319, 266]\n",
      "\n"
     ]
    }
   ],
   "source": [
    "for i in range(FileLen):\n",
    "    # for each symbol in file stream\n",
    "    for xx in range(n_clouds):\n",
    "        logging.info(f\"[B]-Server[{xx}, Input {l_Filshares[xx][i]}, State Machine {l_NodesharesforC[xx]}\")\n",
    "        logging.info(f\"[4]-{l_NodesharesforC[xx][4]} = {l_NodesharesforC[xx][4]} + {l_NodesharesforC[xx][3]} * {l_Filshares[xx][i][n_4to5]}\")\n",
    "        l_NodesharesforC[xx][4] = l_NodesharesforC[xx][4] + l_NodesharesforC[xx][3] * l_Filshares[xx][i][n_4to5]\n",
    "        logging.info(f\"[4]-{l_NodesharesforC[xx][4]}\")\n",
    "        \n",
    "        \n",
    "        \n",
    "        \n",
    "        \n",
    "        logging.info(f\"[3]-{l_NodesharesforC[xx][3]} = {l_NodesharesforC[xx][2]} * {l_Filshares[xx][i][n_3to4]}\")\n",
    "        l_NodesharesforC[xx][3] = l_NodesharesforC[xx][2] * l_Filshares[xx][i][n_3to4]\n",
    "        logging.info(f\"[3]-{l_NodesharesforC[xx][3]}\")\n",
    "        \n",
    "        logging.info(f\"[2]-{l_NodesharesforC[xx][2]} = {l_NodesharesforC[xx][1]} * {l_Filshares[xx][i][n_2to3]}\")\n",
    "        l_NodesharesforC[xx][2] = l_NodesharesforC[xx][1] * l_Filshares[xx][i][n_2to3]\n",
    "        logging.info(f\"[2]-{l_NodesharesforC[xx][2]}\")\n",
    "        \n",
    "        logging.info(f\"{l_NodesharesforC[xx][1]} = {l_NodesharesforC[xx][0]} * {l_Filshares[xx][i][n_1to2]}\")\n",
    "        l_NodesharesforC[xx][1] = l_NodesharesforC[xx][0] * l_Filshares[xx][i][n_1to2]\n",
    "        logging.info(f\"[1]-{l_NodesharesforC[xx][1]}\")\n",
    "        \n",
    "        logging.info(f\"[A]-Server[{xx}, Input {l_Filshares[xx][i]}, State Machine {l_NodesharesforC[xx]}\\n\")"
   ]
  },
  {
   "cell_type": "code",
   "execution_count": 35,
   "metadata": {},
   "outputs": [
    {
     "data": {
      "text/plain": [
       "3869660"
      ]
     },
     "execution_count": 35,
     "metadata": {},
     "output_type": "execute_result"
    }
   ],
   "source": [
    "1910 * 2026"
   ]
  },
  {
   "cell_type": "code",
   "execution_count": 36,
   "metadata": {},
   "outputs": [
    {
     "data": {
      "text/plain": [
       "<class 'sage.rings.finite_rings.integer_mod.IntegerMod_int'>"
      ]
     },
     "execution_count": 36,
     "metadata": {},
     "output_type": "execute_result"
    }
   ],
   "source": [
    "type(l_NodesharesforC[0][0])"
   ]
  },
  {
   "cell_type": "code",
   "execution_count": null,
   "metadata": {},
   "outputs": [],
   "source": []
  },
  {
   "cell_type": "code",
   "execution_count": null,
   "metadata": {},
   "outputs": [],
   "source": []
  },
  {
   "cell_type": "code",
   "execution_count": null,
   "metadata": {},
   "outputs": [],
   "source": []
  },
  {
   "cell_type": "code",
   "execution_count": 37,
   "metadata": {},
   "outputs": [
    {
     "name": "stderr",
     "output_type": "stream",
     "text": [
      "INFO:root:The state machine is updated according to input\n"
     ]
    },
    {
     "data": {
      "text/plain": [
       "[[1583, 443, 943, 1686, 941],\n",
       " [683, 254, 1546, 608, 1372],\n",
       " [489, 537, 1487, 132, 701],\n",
       " [1026, 283, 411, 450, 1509],\n",
       " [1302, 1268, 1118, 817, 574],\n",
       " [387, 905, 288, 1271, 583],\n",
       " [1506, 792, 1149, 303, 1619],\n",
       " [324, 72, 1223, 474, 682],\n",
       " [574, 192, 1586, 1598, 1439],\n",
       " [507, 1620, 64, 1319, 266]]"
      ]
     },
     "execution_count": 37,
     "metadata": {},
     "output_type": "execute_result"
    }
   ],
   "source": [
    "logging.info(\"The state machine is updated according to input\")\n",
    "l_NodesharesforC"
   ]
  },
  {
   "cell_type": "code",
   "execution_count": 38,
   "metadata": {},
   "outputs": [
    {
     "name": "stderr",
     "output_type": "stream",
     "text": [
      "INFO:root:Upate AA ending...\n",
      "INFO:root:--------------------------------------------\n",
      "INFO:root:Reconstruct AA now\n",
      "INFO:root:l_Node is reinitilized [0, 0, 0, 0, 0]\n"
     ]
    }
   ],
   "source": [
    "logging.info(\"Upate AA ending...\")\n",
    "logging.info(\"--------------------------------------------\")\n",
    "\n",
    "# todo Reconstruct AA\n",
    "logging.info(\"Reconstruct AA now\")\n",
    "# From shares got from clouds\n",
    "# which are stored in list l_NodesharesforC\n",
    "n_node = 5\n",
    "for i in range(n_node):\n",
    "    l_Node[i] = 0\n",
    "logging.info(f\"l_Node is reinitilized {l_Node}\")"
   ]
  },
  {
   "cell_type": "code",
   "execution_count": 39,
   "metadata": {},
   "outputs": [
    {
     "name": "stderr",
     "output_type": "stream",
     "text": [
      "INFO:root:The identifier of each party server is: l_xs=[396, 965, 102, 784, 1169, 1426, 215, 8, 1644, 1320]\n",
      "INFO:root:l_Node[0] = 1 is recovered using lxs=[396, 965, 102], lys=[1583, 683, 489]\n",
      "INFO:root:l_Node[1] = 0 is recovered using lxs=[396, 965, 102, 784], lys=[443, 254, 537, 283]\n",
      "INFO:root:l_Node[2] = 0 is recovered using lxs=[396, 965, 102, 784, 1169], lys=[943, 1546, 1487, 411, 1118]\n",
      "INFO:root:l_Node[3] = 0 is recovered using lxs=[396, 965, 102, 784, 1169, 1426], lys=[1686, 608, 132, 450, 817, 1271]\n",
      "INFO:root:l_Node[4] = 1 is recovered using lxs=[396, 965, 102, 784, 1169, 1426, 215], lys=[941, 1372, 701, 1509, 574, 583, 1619]\n"
     ]
    }
   ],
   "source": [
    "logging.info(f\"The identifier of each party server is: l_xs={l_xs}\")\n",
    "for xx in range(5):\n",
    "    lxs = []\n",
    "    lys = []\n",
    "    for y in range(xx + 3):\n",
    "        lxs.append(l_xs[y])\n",
    "        lys.append(l_NodesharesforC[y][xx])\n",
    "    \n",
    "    l_Node[xx] = interpolate(lxs, lys)\n",
    "    logging.info(f\"l_Node[{xx}] = {l_Node[xx]} is recovered using lxs={lxs}, lys={lys}\")\n"
   ]
  },
  {
   "cell_type": "code",
   "execution_count": 40,
   "metadata": {},
   "outputs": [
    {
     "name": "stderr",
     "output_type": "stream",
     "text": [
      "INFO:root:Reconstruct AA:N0,N1,N2,N3,N4 -> [1, 0, 0, 0, 1]\n",
      "INFO:root:Reconstruct AA ending...\n",
      "INFO:root:-------------------------------------\n"
     ]
    }
   ],
   "source": [
    "# the second node\n",
    "\n",
    "logging.info(f\"Reconstruct AA:N0,N1,N2,N3,N4 -> {l_Node}\")\n",
    "logging.info(\"Reconstruct AA ending...\")\n",
    "logging.info(\"-------------------------------------\")"
   ]
  },
  {
   "cell_type": "code",
   "execution_count": null,
   "metadata": {},
   "outputs": [],
   "source": []
  },
  {
   "cell_type": "code",
   "execution_count": null,
   "metadata": {},
   "outputs": [],
   "source": []
  },
  {
   "cell_type": "code",
   "execution_count": null,
   "metadata": {},
   "outputs": [],
   "source": []
  },
  {
   "cell_type": "code",
   "execution_count": null,
   "metadata": {},
   "outputs": [],
   "source": []
  },
  {
   "cell_type": "code",
   "execution_count": null,
   "metadata": {},
   "outputs": [],
   "source": []
  },
  {
   "cell_type": "code",
   "execution_count": null,
   "metadata": {},
   "outputs": [],
   "source": []
  },
  {
   "cell_type": "code",
   "execution_count": null,
   "metadata": {},
   "outputs": [],
   "source": []
  },
  {
   "cell_type": "code",
   "execution_count": null,
   "metadata": {},
   "outputs": [],
   "source": []
  }
 ],
 "metadata": {
  "kernelspec": {
   "display_name": "SageMath 9.0",
   "language": "sage",
   "name": "sagemath"
  },
  "language_info": {
   "codemirror_mode": {
    "name": "ipython",
    "version": 3
   },
   "file_extension": ".py",
   "mimetype": "text/x-python",
   "name": "python",
   "nbconvert_exporter": "python",
   "pygments_lexer": "ipython3",
   "version": "3.7.3"
  }
 },
 "nbformat": 4,
 "nbformat_minor": 2
}
