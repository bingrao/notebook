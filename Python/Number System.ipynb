{
 "cells": [
  {
   "cell_type": "markdown",
   "metadata": {},
   "source": [
    "# Introduction"
   ]
  },
  {
   "cell_type": "markdown",
   "metadata": {},
   "source": [
    "Python provided three kinds of number system:\n",
    "\n",
    "1. Decimal (base 10), no prefix\n",
    "2. Binary (base 2), prefix: 0b\n",
    "3. Octal (base 8), prefix: 0o\n",
    "4. Hexadecimal (base 16), 0~9, A, B, C, D, E, F, prefix 0x"
   ]
  },
  {
   "cell_type": "code",
   "execution_count": 10,
   "metadata": {},
   "outputs": [
    {
     "name": "stdout",
     "output_type": "stream",
     "text": [
      "Decimal: 60\n",
      "Binary: 60 <class 'int'>\n",
      "Octmal: 60 <class 'int'>\n",
      "Haxadecimal: 60 <class 'int'>\n"
     ]
    }
   ],
   "source": [
    "# Decimal\n",
    "print('Decimal:', 60)\n",
    "\n",
    "print('Binary:', 0b111100, type(0b111100))\n",
    "\n",
    "print('Octmal:', 0o74, type(0o74))\n",
    "\n",
    "print('Haxadecimal:', 0x3c, type(0x3c))"
   ]
  },
  {
   "cell_type": "markdown",
   "metadata": {},
   "source": [
    "# Convert"
   ]
  },
  {
   "cell_type": "markdown",
   "metadata": {},
   "source": [
    "## Decimal to Binary, Octmal and Haxadecimal\n",
    "\n",
    "In this program, we have used built-in functions **bin(), oct() and hex()** to convert the given decimal number into respective number systems.\n",
    "\n",
    "These functions take an **integer (in decimal)** and return a **string**."
   ]
  },
  {
   "cell_type": "code",
   "execution_count": 9,
   "metadata": {},
   "outputs": [
    {
     "name": "stdout",
     "output_type": "stream",
     "text": [
      "The decimal value of 344 is:\n",
      "0b101011000 in binary and its type <class 'str'>\n",
      "0o530 in octal and its type <class 'str'>\n",
      "0x158 in hexadecimal and its type <class 'str'>\n"
     ]
    }
   ],
   "source": [
    "# Python program to convert decimal into other number systems\n",
    "dec = 344\n",
    "\n",
    "print(\"The decimal value of\", dec, \"is:\")\n",
    "print(bin(dec), \"in binary and its type\", type(bin(dec)))\n",
    "print(oct(dec), \"in octal and its type\", type(oct(dec)))\n",
    "print(hex(dec), \"in hexadecimal and its type\", type(hex(dec)))"
   ]
  },
  {
   "cell_type": "markdown",
   "metadata": {},
   "source": [
    "## Binary, Octmal and Haxadecimal to Decimal\n",
    "\n",
    "1. We can print a value, and there is no need to convert it to decimal. Since print function prints the value in decimal format. \n",
    "\n",
    "2. We still can use **int()** method to convert them (string format) into decimal by defining base of the number system  "
   ]
  },
  {
   "cell_type": "code",
   "execution_count": 21,
   "metadata": {},
   "outputs": [
    {
     "name": "stdout",
     "output_type": "stream",
     "text": [
      "Binary to Decimal: 0b10011100 -> 156\n",
      "Octmal to Decimal: 0o234 -> 156\n",
      "Haxadecimal to Decimal: 0x9c -> 156\n"
     ]
    }
   ],
   "source": [
    "dec = 156\n",
    "print(f\"Binary to Decimal: {bin(dec)} -> {int(bin(dec), 2)}\")\n",
    "print(f\"Octal to Decimal: {oct(dec)} -> {int(oct(dec), 8)}\")\n",
    "print(f\"Haxadecimal to Decimal: {hex(dec)} -> {int(hex(dec), 16)}\")"
   ]
  },
  {
   "cell_type": "code",
   "execution_count": 23,
   "metadata": {},
   "outputs": [
    {
     "data": {
      "text/plain": [
       "156"
      ]
     },
     "execution_count": 23,
     "metadata": {},
     "output_type": "execute_result"
    }
   ],
   "source": [
    "def binary_to_decimal(binary_num: str) -> int:\n",
    "    if binary_num[:2] not in ['0b', '0B']:\n",
    "        return None\n",
    "    index = len(binary_num) - 3\n",
    "    reg = 0\n",
    "    for num in binary_num[2:]:\n",
    "        reg += int(num) * (2 ** index)\n",
    "        index -= 1\n",
    "    return reg\n",
    "binary_to_decimal(bin(dec))"
   ]
  },
  {
   "cell_type": "code",
   "execution_count": 24,
   "metadata": {},
   "outputs": [
    {
     "data": {
      "text/plain": [
       "156"
      ]
     },
     "execution_count": 24,
     "metadata": {},
     "output_type": "execute_result"
    }
   ],
   "source": [
    "def to_decimal(binary_num: str, base=2) -> int:\n",
    "    index = len(binary_num) - 3\n",
    "    reg = 0\n",
    "    for num in binary_num[2:]:\n",
    "        reg += int(num) * (base ** index)\n",
    "        index -= 1\n",
    "    return reg\n",
    "to_decimal(bin(dec))"
   ]
  },
  {
   "cell_type": "code",
   "execution_count": 25,
   "metadata": {},
   "outputs": [
    {
     "data": {
      "text/plain": [
       "156"
      ]
     },
     "execution_count": 25,
     "metadata": {},
     "output_type": "execute_result"
    }
   ],
   "source": [
    "to_decimal(oct(dec), 8)"
   ]
  },
  {
   "cell_type": "code",
   "execution_count": 28,
   "metadata": {},
   "outputs": [
    {
     "data": {
      "text/plain": [
       "156"
      ]
     },
     "execution_count": 28,
     "metadata": {},
     "output_type": "execute_result"
    }
   ],
   "source": [
    "def hex_to_decimal(hex_num: str) -> int:\n",
    "    index = len(hex_num) - 3\n",
    "    nums = {'0': 0, '1': 1, '2': 2, '3': 3, '4': 4, '5': 5, '6': 6, '7': 7, '8': 8, '9': 9, \n",
    "            'a': 10, 'b': 11, 'c': 12, 'd': 13, 'e': 14, 'f': 15}\n",
    "    reg = 0\n",
    "    for num in hex_num[2:]:\n",
    "        reg +=  nums[num] * (16 ** index)\n",
    "        index -= 1\n",
    "    return reg\n",
    "hex_to_decimal(hex(dec))"
   ]
  },
  {
   "cell_type": "markdown",
   "metadata": {},
   "source": [
    "# Bitwise Operator"
   ]
  },
  {
   "cell_type": "markdown",
   "metadata": {},
   "source": [
    "Bitwise operators are used to compare (binary) numbers:\n",
    "\n",
    "| Operator | Name | Description|\n",
    "| -------- | :--: | :----------|\n",
    "| & | and | Sets each bit to 1 if both bits are 1|\n",
    "| \\|\t| OR  | Sets each bit to 1 if one of two bits is 1|\n",
    "| ^\t| XOR\t| Sets each bit to 1 if only one of two bits is 1 |\n",
    "| ~ \t| NOT\t| Inverts all the bits |\n",
    "| <<\t| Zero fill left shift\t| Shift left by pushing zeros in from the right and let the leftmost bits fall off |\n",
    "| >>\t| Signed right shift\t| Shift right by pushing copies of the leftmost bit in from the left, and let the rightmost bits fall off |"
   ]
  },
  {
   "cell_type": "code",
   "execution_count": null,
   "metadata": {},
   "outputs": [],
   "source": []
  }
 ],
 "metadata": {
  "kernelspec": {
   "display_name": "Python 3 (ipykernel)",
   "language": "python",
   "name": "python3"
  },
  "language_info": {
   "codemirror_mode": {
    "name": "ipython",
    "version": 3
   },
   "file_extension": ".py",
   "mimetype": "text/x-python",
   "name": "python",
   "nbconvert_exporter": "python",
   "pygments_lexer": "ipython3",
   "version": "3.7.10"
  },
  "latex_envs": {
   "LaTeX_envs_menu_present": true,
   "autoclose": true,
   "autocomplete": true,
   "bibliofile": "biblio.bib",
   "cite_by": "apalike",
   "current_citInitial": 1,
   "eqLabelWithNumbers": true,
   "eqNumInitial": 1,
   "hotkeys": {
    "equation": "Ctrl-E",
    "itemize": "Ctrl-I"
   },
   "labels_anchors": false,
   "latex_user_defs": false,
   "report_style_numbering": false,
   "user_envs_cfg": false
  },
  "toc": {
   "base_numbering": 1,
   "nav_menu": {},
   "number_sections": true,
   "sideBar": true,
   "skip_h1_title": false,
   "title_cell": "Table of Contents",
   "title_sidebar": "Contents",
   "toc_cell": false,
   "toc_position": {},
   "toc_section_display": true,
   "toc_window_display": false
  }
 },
 "nbformat": 4,
 "nbformat_minor": 4
}
