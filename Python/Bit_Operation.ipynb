{
 "cells": [
  {
   "cell_type": "markdown",
   "id": "76eccbcf",
   "metadata": {},
   "source": [
    "# Overview of Python’s Bitwise Operators\n",
    "Bitwise operators look virtually the same across different programming languages:\n",
    "\n",
    "|Operator\t| Example\t| Meaning|\n",
    "|:---|:---|:---|\n",
    "|&\t|a & b\t|Bitwise AND|\n",
    "|\\|\t|a \\| b\t|Bitwise OR|\n",
    "|^\t|a ^ b\t|Bitwise XOR (exclusive OR)|\n",
    "|~\t|~a\t|Bitwise NOT|\n",
    "|<<\t|a << n\t|Bitwise left shift|\n",
    "|>>\t|a >> n\t|Bitwise right shift|\n",
    "\n",
    "All binary bitwise operators have a corresponding **compound operator** that performs an augmented assignment:\n",
    "\n",
    "|Operator\t|Example\t|Equivalent to|\n",
    "|---|---|---|\n",
    "|&=\t|a &= b\t|a = a & b|\n",
    "|\\|=\t|a \\|= b\t|a = a \\| b|\n",
    "|^=\t|a ^= b\t|a = a ^ b|\n",
    "|<<=\t|a <<= n\t|a = a << n|\n",
    "|>>=\t|a >>= n\t|a = a >> n|\n"
   ]
  },
  {
   "cell_type": "markdown",
   "id": "e822f6a0",
   "metadata": {},
   "source": [
    "# Why Use Binary?\n",
    "\n",
    "Most modern civilizations use **positional notation(进位制)**, which is efficient, flexible, and well suited for doing arithmetic.\n",
    "\n",
    "- base-two numeral system (binary system), for example 0x11101\n",
    "- base-eight numeral system, \n",
    "- base-ten numeral system， also known as the decimal system\n",
    "- base-sixteen numeral system\n",
    "\n",
    "\n",
    "Pros and Cons of Binary system vs decimal system\n",
    "\n",
    "- The binary system requires more storage space than the decimal system but is much less complicated to implement in hardware\n",
    "- the binary system is perfect for electronic devices, which translate digits into different voltage levels.\n",
    "- By employing only two states, you make the system more reliable and resistant to noise\n"
   ]
  },
  {
   "cell_type": "code",
   "execution_count": 2,
   "id": "1a727bc8",
   "metadata": {},
   "outputs": [
    {
     "data": {
      "text/plain": [
       "6"
      ]
     },
     "execution_count": 2,
     "metadata": {},
     "output_type": "execute_result"
    }
   ],
   "source": [
    "len(\"€uro\".encode(\"utf-8\"))"
   ]
  },
  {
   "cell_type": "code",
   "execution_count": 3,
   "id": "da5babe8",
   "metadata": {},
   "outputs": [
    {
     "data": {
      "text/plain": [
       "6"
      ]
     },
     "execution_count": 3,
     "metadata": {},
     "output_type": "execute_result"
    }
   ],
   "source": [
    "(42).bit_length()"
   ]
  },
  {
   "cell_type": "code",
   "execution_count": 4,
   "id": "0eeb5b79",
   "metadata": {},
   "outputs": [
    {
     "name": "stdout",
     "output_type": "stream",
     "text": [
      "€ b'\\xe2\\x82\\xac' 3\n",
      "u b'u' 1\n",
      "r b'r' 1\n",
      "o b'o' 1\n"
     ]
    }
   ],
   "source": [
    "for char in \"€uro\":\n",
    "    print(char, char.encode(\"utf-8\"), len(char.encode(\"utf-8\")))"
   ]
  },
  {
   "cell_type": "markdown",
   "id": "8cde166b",
   "metadata": {},
   "source": [
    "# Bitwise Logical Operators"
   ]
  },
  {
   "cell_type": "markdown",
   "id": "2cae141f",
   "metadata": {},
   "source": [
    "## Evaluating Boolean Expressions With Bitwise Operators\n",
    "\n",
    "Although this expression is syntactically correct, there are a few problems with it. \n",
    "1. it’s arguably less readable\n",
    "2. it doesn’t work as expected for all groups of data"
   ]
  },
  {
   "cell_type": "code",
   "execution_count": 5,
   "id": "b29f6015",
   "metadata": {},
   "outputs": [
    {
     "name": "stdout",
     "output_type": "stream",
     "text": [
      "True\n",
      "False\n"
     ]
    }
   ],
   "source": [
    "# The expression made of the bitwise operators evaluates to True, while the same expression built \n",
    "# from the logical operators evaluates to False. That’s because bitwise operators take precedence \n",
    "# over the comparison operators, changing how the whole expression is interpreted:\n",
    "# so the bit expression is interpreted as: age >= (18 & ~is_self_excluded)\n",
    "age = 18\n",
    "is_self_excluded = True\n",
    "print(age >= 18 & ~is_self_excluded)  # Bitwise logical operators\n",
    "\n",
    "print(age >= 18 and not is_self_excluded)  # Logical operators"
   ]
  },
  {
   "cell_type": "code",
   "execution_count": 6,
   "id": "d0c8f56e",
   "metadata": {},
   "outputs": [
    {
     "data": {
      "text/plain": [
       "0"
      ]
     },
     "execution_count": 6,
     "metadata": {},
     "output_type": "execute_result"
    }
   ],
   "source": [
    "# It’s as if someone put implicit parentheses around the wrong operands. To fix this, \n",
    "# you can put explicit parentheses, which will enforce the correct order of evaluation:\n",
    "(age >= 18) & ~is_self_excluded"
   ]
  },
  {
   "cell_type": "markdown",
   "id": "abc97d98",
   "metadata": {},
   "source": [
    "However, you no longer get a Boolean result. Python bitwise operators were designed primarily to work with integers, so their operands automatically get casted if needed. \n",
    "\n",
    "Unlike their logical counterparts, bitwise operators are evaluated eagerly\n",
    "1. short-circuit evaluation of Boolean expressions: Expressions using logical operators are evaluated lazily from left to right, it will stop as soon as the result of the entire expression is known\n",
    "\n",
    "2. For bitwise operators, even though knowing the left operand is sufficient to determine the value of the entire expression, all operands are always evaluated unconditionally."
   ]
  },
  {
   "cell_type": "markdown",
   "id": "5d400ece",
   "metadata": {},
   "source": [
    "### Bitwise AND\n",
    "\n",
    "1. The bitwise AND operator (&) performs **logical conjunction** on the corresponding bits of its operands. The resulting bit pattern is an intersection of the operator’s arguments\n",
    "2. Arithmetically, this is equivalent to a **product** of two bit values\n",
    "\\begin{aligned}\n",
    "(a \\& b)_i = a_i \\times b_i\n",
    "\\end{aligned}\n",
    "3. Notice that when operands have unequal bit-lengths, the shorter one is automatically padded with zeros to the left.\n",
    "4. Alternatively, you can take the **minimum** of the two bits in each pair."
   ]
  },
  {
   "cell_type": "code",
   "execution_count": 10,
   "id": "5daa1726",
   "metadata": {},
   "outputs": [
    {
     "name": "stdout",
     "output_type": "stream",
     "text": [
      "a 0b10011100, 156\n",
      "b 0b110100, 52\n",
      "c 0b10100, 20\n"
     ]
    }
   ],
   "source": [
    "a = 156\n",
    "b = 52\n",
    "c = a & b\n",
    "print(f\"a {bin(a)}, {a}\")\n",
    "print(f\"b {bin(b)}, {b}\")\n",
    "print(f\"c {bin(c)}, {c}\")"
   ]
  },
  {
   "cell_type": "markdown",
   "id": "c5e4a15a",
   "metadata": {},
   "source": [
    "### Bitwise OR\n",
    "\n",
    "1. The bitwise OR operator (|) performs **logical disjunction**. For each corresponding pair of bits, it returns a one if at least one of them is switched on.\n",
    "2. The resulting bit pattern is a **union** of the operator’s arguments.\n",
    "3. The arithmetic behind it is a combination of a **sum** and a **product** of the bit values.\n",
    "\\begin{equation}\n",
    "(a | b)_i = a_i + b_i - (a_i \\times b_i)\n",
    "\\end{equation}\n"
   ]
  },
  {
   "cell_type": "code",
   "execution_count": 11,
   "id": "c451c10c",
   "metadata": {},
   "outputs": [
    {
     "name": "stdout",
     "output_type": "stream",
     "text": [
      "a 0b10011100, 156\n",
      "b 0b110100, 52\n",
      "c 0b10111100, 188\n"
     ]
    }
   ],
   "source": [
    "c = a | b\n",
    "print(f\"a {bin(a)}, {a}\")\n",
    "print(f\"b {bin(b)}, {b}\")\n",
    "print(f\"c {bin(c)}, {c}\")"
   ]
  },
  {
   "cell_type": "markdown",
   "id": "6119194a",
   "metadata": {},
   "source": [
    "### Bitwise XOR\n",
    "1. Unlike bitwise AND, OR, and NOT, the bitwise XOR operator (^) doesn’t have a logical counterpart in Python.\n",
    "2. The name XOR stands for “exclusive or” since it performs exclusive disjunction on the bit pairs. In other words, every bit pair must contain opposing bit values to produce a one\n",
    "3. Similarly to the bitwise OR operator, the arithmetic of XOR involves a sum. However, while the bitwise OR clamps values at one, the XOR operator wraps them around with a sum modulo two\n",
    "\\begin{equation}\n",
    "(a^b)_i = (a_i + b_i) \\; mod \\; 2\n",
    "\\end{equation}"
   ]
  },
  {
   "cell_type": "code",
   "execution_count": 12,
   "id": "fc262cd2",
   "metadata": {},
   "outputs": [],
   "source": [
    "def xor(a, b):\n",
    "    return (a and not b) or (not a and b)"
   ]
  },
  {
   "cell_type": "code",
   "execution_count": 14,
   "id": "f0bf8912",
   "metadata": {},
   "outputs": [
    {
     "name": "stdout",
     "output_type": "stream",
     "text": [
      "a 0b10011100, 156\n",
      "b 0b110100, 52\n",
      "c 0b10101000, 168\n"
     ]
    }
   ],
   "source": [
    "c = a ^ b\n",
    "print(f\"a {bin(a)}, {a}\")\n",
    "print(f\"b {bin(b)}, {b}\")\n",
    "print(f\"c {bin(c)}, {c}\")"
   ]
  },
  {
   "cell_type": "markdown",
   "id": "63429a14",
   "metadata": {},
   "source": [
    "### Bitwise NOT\n",
    "\n",
    "1. It performs **logical negation** on a given number by flipping all of its bits.\n",
    "2. It can be expressed arithmetically as the subtraction of individual bit values from one\n",
    "\\begin{equation}\n",
    "\\sim a_i = 1 - a_i\n",
    "\\end{equation}"
   ]
  },
  {
   "cell_type": "code",
   "execution_count": 15,
   "id": "2258637a",
   "metadata": {},
   "outputs": [
    {
     "name": "stdout",
     "output_type": "stream",
     "text": [
      "a 0b10011100, 156\n",
      "c -0b10011101, -157\n"
     ]
    }
   ],
   "source": [
    "c = ~ a\n",
    "print(f\"a {bin(a)}, {a}\")\n",
    "print(f\"c {bin(c)}, {c}\")"
   ]
  },
  {
   "cell_type": "markdown",
   "id": "80b9b978",
   "metadata": {},
   "source": [
    "### Bitwise Shift Operators\n",
    "\n",
    "1. In general, shifting bits to the left corresponds to multiplying the number by a power of two, with an exponent equal to the number of places shifted\n",
    "\\begin{equation}\n",
    "a << n = a \\times 2^n\n",
    "\\end{equation}\n",
    "2. The left shift used to be a popular optimization technique because bit shifting is a single instruction and is cheaper to calculate than exponent or product."
   ]
  },
  {
   "cell_type": "code",
   "execution_count": 16,
   "id": "daf5b9a4",
   "metadata": {},
   "outputs": [
    {
     "name": "stdout",
     "output_type": "stream",
     "text": [
      "112 == 113\n",
      "224 == 114\n",
      "448 == 115\n"
     ]
    }
   ],
   "source": [
    "a = 56\n",
    "print (f\"{a << 1} == {a * 2^1}\")\n",
    "print (f\"{a << 2} == {a * 2^2}\")\n",
    "print (f\"{a << 3} == {a * 2^3}\")"
   ]
  },
  {
   "cell_type": "code",
   "execution_count": 18,
   "id": "565d5646",
   "metadata": {},
   "outputs": [
    {
     "name": "stdout",
     "output_type": "stream",
     "text": [
      "312\n",
      "56\n"
     ]
    }
   ],
   "source": [
    "print(f\"{39 << 3}\")\n",
    "print(f\"{(39 << 3) & 0xFF}\")"
   ]
  },
  {
   "cell_type": "markdown",
   "id": "677e215d",
   "metadata": {},
   "source": [
    "3. the right shift operator automatically floors the result. It’s virtually the same as a floor division by a power of two\n",
    "\\begin{equation}\n",
    "a >> n = \\lfloor \\frac{a}{2^n} \\rfloor\n",
    "\\end{equation}"
   ]
  },
  {
   "cell_type": "code",
   "execution_count": 20,
   "id": "956dd801",
   "metadata": {},
   "outputs": [
    {
     "name": "stdout",
     "output_type": "stream",
     "text": [
      "a: 157\n",
      "a >> 1: 78\n",
      "a >> 2: 39\n",
      "a >> 2: 39\n"
     ]
    }
   ],
   "source": [
    "a = 157\n",
    "print(f\"a: {a}\")\n",
    "print(f\"a >> 1: {a >> 1}\")\n",
    "print(f\"a >> 2: {a >> 2}\")\n",
    "print(f\"a >> 2: {a >> 2}\")"
   ]
  },
  {
   "cell_type": "markdown",
   "id": "4afca49c",
   "metadata": {},
   "source": [
    "In the following transformations: \n",
    "1. The bitwise right shift operator and the floor division operator both work the same way, even for negative numbers. \n",
    "2. However, the floor division lets you choose any divisor and not just a power of two. \n",
    "3. Using the bitwise right shift was a common way of improving the performance of some arithmetic divisions."
   ]
  },
  {
   "cell_type": "code",
   "execution_count": 19,
   "id": "99836431",
   "metadata": {},
   "outputs": [
    {
     "name": "stdout",
     "output_type": "stream",
     "text": [
      "5 >> 1: 2\n",
      "5 // 2: 2\n",
      "5 / 2 : 2.5\n"
     ]
    }
   ],
   "source": [
    "print(f\"5 >> 1: {5 >> 1}\")  # Bitwise right shift\n",
    "print(f\"5 // 2: {5 // 2}\")  # Floor division (integer division)\n",
    "print(f\"5 / 2 : {5 / 2 }\")  # Floating-point division"
   ]
  },
  {
   "cell_type": "code",
   "execution_count": null,
   "id": "ba18a2a3",
   "metadata": {},
   "outputs": [],
   "source": []
  },
  {
   "cell_type": "markdown",
   "id": "3db6581f",
   "metadata": {},
   "source": [
    "# Reference\n",
    "\n",
    "1. [Bitwise Operators in Python](https://realpython.com/python-bitwise-operators/)"
   ]
  },
  {
   "cell_type": "code",
   "execution_count": null,
   "id": "4516ee59",
   "metadata": {},
   "outputs": [],
   "source": []
  }
 ],
 "metadata": {
  "kernelspec": {
   "display_name": "Python 3",
   "language": "python",
   "name": "python3"
  },
  "language_info": {
   "codemirror_mode": {
    "name": "ipython",
    "version": 3
   },
   "file_extension": ".py",
   "mimetype": "text/x-python",
   "name": "python",
   "nbconvert_exporter": "python",
   "pygments_lexer": "ipython3",
   "version": "3.7.11"
  },
  "latex_envs": {
   "LaTeX_envs_menu_present": true,
   "autoclose": false,
   "autocomplete": true,
   "bibliofile": "biblio.bib",
   "cite_by": "apalike",
   "current_citInitial": 1,
   "eqLabelWithNumbers": true,
   "eqNumInitial": 1,
   "hotkeys": {
    "equation": "Ctrl-E",
    "itemize": "Ctrl-I"
   },
   "labels_anchors": false,
   "latex_user_defs": false,
   "report_style_numbering": false,
   "user_envs_cfg": false
  },
  "nbTranslate": {
   "displayLangs": [
    "*"
   ],
   "hotkey": "alt-t",
   "langInMainMenu": true,
   "sourceLang": "en",
   "targetLang": "fr",
   "useGoogleTranslate": true
  }
 },
 "nbformat": 4,
 "nbformat_minor": 5
}
