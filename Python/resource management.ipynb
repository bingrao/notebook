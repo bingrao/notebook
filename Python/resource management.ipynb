{
 "cells": [
  {
   "cell_type": "markdown",
   "id": "85865b33",
   "metadata": {},
   "source": [
    "# Introduction\n",
    "\n",
    "context management protocol allows you to create your own context managers so you can customize the way you deal with system resources."
   ]
  },
  {
   "cell_type": "markdown",
   "id": "6c2652d7",
   "metadata": {},
   "source": [
    "# The try … finally Approach\n",
    "Working with files is probably the most common example of resource management in programming. In Python, you can use a try … finally statement to handle opening and closing files properly"
   ]
  },
  {
   "cell_type": "code",
   "execution_count": 1,
   "id": "5befa33c",
   "metadata": {},
   "outputs": [],
   "source": [
    "# Safely open the file\n",
    "file = open(\"hello.txt\", \"w\")\n",
    "\n",
    "try:\n",
    "    # The try block in the above example can potentially \n",
    "    # raise exceptions, such as AttributeError or NameError. \n",
    "    file.write(\"Hello, World!\")\n",
    "except Exception as e:\n",
    "    # You can handle those exceptions in an except clause\n",
    "    print(f\"An error occurred while writing to the file: {e}\")\n",
    "finally:\n",
    "    # Make sure to close the file after using it\n",
    "    #  the finally clause will guarantee that file is properly closed, \n",
    "    # even if an exception occurs during the call to .write() in the \n",
    "    # try clause\n",
    "    file.close()"
   ]
  },
  {
   "cell_type": "markdown",
   "id": "74b09291",
   "metadata": {},
   "source": [
    "In this example, you catch any potential exceptions that can occur while writing to the file. In real-life situations, you should use a specific exception type instead of the general Exception to prevent unknown errors from passing silently."
   ]
  },
  {
   "cell_type": "markdown",
   "id": "8c294243",
   "metadata": {},
   "source": [
    "# The with Statement Approach\n",
    "\n",
    "The Python with statement creates a runtime context that allows you to run a group of statements under the control of a context manager. Compared to traditional **try … finally** constructs, the with statement can make your code **clearer, safer, and reusable.** \n",
    "To write a with statement, you need to use the following general syntax:\n",
    "```\n",
    "with expression as target_var:\n",
    "    do_something(target_var)\n",
    "```\n",
    "The context manager object results from evaluating the expression after with. In other words, expression must return an object that implements the **context management protocol**. This protocol consists of two special methods:\n",
    "\n",
    "1. **.\\_\\_enter\\_\\_()** is called by the with statement to enter the runtime context. typically provides the setup code. \n",
    "2. **.\\_\\_exit\\_\\_()** is called when the execution leaves the with code block. This method typically provides the teardown logic or cleanup code, such as calling .close() on an open file object\n",
    "\n",
    "The as specifier is optional. If you provide a target_var with as, then the return value of calling **.\\_\\_enter\\_\\_()** on the context manager object is bound to that variable.\n",
    "\n",
    "**Note:** Some context managers return None from .__enter__() because they have no useful object to give back to the caller. In these cases, specifying a target_var makes no sense.\n",
    "\n",
    "\n",
    "Here’s how the with statement proceeds when Python runs into it:\n",
    "1. Call expression to obtain a context manager.\n",
    "2. Store the context manager’s **.\\_\\_enter\\_\\_()** and **.\\_\\_exit\\_\\_()** methods for later use.\n",
    "3. Call **.\\_\\_enter\\_\\_()** on the context manager and bind its return value to target_var if provided.\n",
    "4. Execute the with code block.\n",
    "5. Call **.\\_\\_exit\\_\\_()** on the context manager when the with code block finishes."
   ]
  },
  {
   "cell_type": "code",
   "execution_count": 3,
   "id": "55b80dcb",
   "metadata": {},
   "outputs": [],
   "source": [
    "\"\"\"\n",
    "When you run this with statement, open() returns an io.TextIOBase object. \n",
    "This object is also a context manager, so the with statement calls \n",
    ".__enter__() and assigns its return value to file. Then you can manipulate \n",
    "the file inside the with code block. When the block ends, .__exit__() \n",
    "automatically gets called and closes the file for you, even if an exception\n",
    "is raised inside the with block.\n",
    "\"\"\"\n",
    "with open(\"hello.txt\", mode=\"w\") as file:\n",
    "    file.write(\"Hello, World!\")"
   ]
  },
  {
   "cell_type": "markdown",
   "id": "4c93b3cc",
   "metadata": {},
   "source": [
    "In Python 3.1 and later, the with statement supports multiple context managers. You can supply any number of context managers separated by commas:\n",
    "```\n",
    "with A() as a, B() as b:\n",
    "    pass\n",
    "```"
   ]
  },
  {
   "cell_type": "markdown",
   "id": "890467db",
   "metadata": {},
   "source": [
    "This works like nested with statements but without nesting. This might be useful when you need to open two files at a time, the first for reading and the second for writing:"
   ]
  },
  {
   "cell_type": "code",
   "execution_count": 5,
   "id": "005a24fb",
   "metadata": {},
   "outputs": [
    {
     "ename": "FileNotFoundError",
     "evalue": "[Errno 2] No such file or directory: 'input.txt'",
     "output_type": "error",
     "traceback": [
      "\u001b[0;31m---------------------------------------------------------------------------\u001b[0m",
      "\u001b[0;31mFileNotFoundError\u001b[0m                         Traceback (most recent call last)",
      "\u001b[0;32m<ipython-input-5-6a6c3249c141>\u001b[0m in \u001b[0;36m<module>\u001b[0;34m\u001b[0m\n\u001b[0;32m----> 1\u001b[0;31m \u001b[0;32mwith\u001b[0m \u001b[0mopen\u001b[0m\u001b[0;34m(\u001b[0m\u001b[0;34m\"input.txt\"\u001b[0m\u001b[0;34m)\u001b[0m \u001b[0;32mas\u001b[0m \u001b[0min_file\u001b[0m\u001b[0;34m,\u001b[0m \u001b[0mopen\u001b[0m\u001b[0;34m(\u001b[0m\u001b[0;34m\"output.txt\"\u001b[0m\u001b[0;34m,\u001b[0m \u001b[0;34m\"w\"\u001b[0m\u001b[0;34m)\u001b[0m \u001b[0;32mas\u001b[0m \u001b[0mout_file\u001b[0m\u001b[0;34m:\u001b[0m\u001b[0;34m\u001b[0m\u001b[0;34m\u001b[0m\u001b[0m\n\u001b[0m\u001b[1;32m      2\u001b[0m     \u001b[0;31m# Read content from input.txt\u001b[0m\u001b[0;34m\u001b[0m\u001b[0;34m\u001b[0m\u001b[0;34m\u001b[0m\u001b[0m\n\u001b[1;32m      3\u001b[0m     \u001b[0;31m# Transform the content\u001b[0m\u001b[0;34m\u001b[0m\u001b[0;34m\u001b[0m\u001b[0;34m\u001b[0m\u001b[0m\n\u001b[1;32m      4\u001b[0m     \u001b[0;31m# Write the transformed content to output.txt\u001b[0m\u001b[0;34m\u001b[0m\u001b[0;34m\u001b[0m\u001b[0;34m\u001b[0m\u001b[0m\n\u001b[1;32m      5\u001b[0m     \u001b[0;32mpass\u001b[0m\u001b[0;34m\u001b[0m\u001b[0;34m\u001b[0m\u001b[0m\n",
      "\u001b[0;31mFileNotFoundError\u001b[0m: [Errno 2] No such file or directory: 'input.txt'"
     ]
    }
   ],
   "source": [
    "\"\"\"\n",
    "In this example, you can add code for reading and transforming the content of input.txt. \n",
    "Then you write the final result to output.txt in the same code block.\n",
    "\"\"\"\n",
    "with open(\"input.txt\") as in_file, open(\"output.txt\", \"w\") as out_file:\n",
    "    # Read content from input.txt\n",
    "    # Transform the content\n",
    "    # Write the transformed content to output.txt\n",
    "    pass"
   ]
  },
  {
   "cell_type": "markdown",
   "id": "f63c8fc1",
   "metadata": {},
   "source": [
    "# Case Study of with Statement"
   ]
  },
  {
   "cell_type": "markdown",
   "id": "06e02e2c",
   "metadata": {},
   "source": [
    "## Working With Files\n",
    "Opening files using the with statement is generally recommended because it ensures that open file descriptors are automatically closed after the flow of execution leaves the with code block."
   ]
  },
  {
   "cell_type": "code",
   "execution_count": 6,
   "id": "eb17f911",
   "metadata": {},
   "outputs": [],
   "source": [
    "with open(\"hello.txt\", mode=\"w\") as file:\n",
    "    file.write(\"Hello, World!\")"
   ]
  },
  {
   "cell_type": "markdown",
   "id": "1535123c",
   "metadata": {},
   "source": [
    "Finally, whenever you load an external file, your program should check for possible issues, such as a missing file, writing and reading access, and so on. Here’s a general pattern that you should consider using when you’re working with files:"
   ]
  },
  {
   "cell_type": "code",
   "execution_count": 7,
   "id": "9fd2bc33",
   "metadata": {},
   "outputs": [],
   "source": [
    "import pathlib\n",
    "import logging\n",
    "\n",
    "file_path = pathlib.Path(\"hello.txt\")\n",
    "\n",
    "try:\n",
    "    with file_path.open(mode=\"w\") as file:\n",
    "        file.write(\"Hello, World!\")\n",
    "except OSError as error:\n",
    "    logging.error(\"Writing to file %s failed due to: %s\", file_path, error)"
   ]
  },
  {
   "cell_type": "markdown",
   "id": "694a4492",
   "metadata": {},
   "source": [
    "## Traversing Directories\n",
    "The os module provides a function called scandir(), which returns an iterator over os.DirEntry objects corresponding to the entries in a given directory. This function is specially designed to provide optimal performance when you’re traversing a directory structure."
   ]
  },
  {
   "cell_type": "code",
   "execution_count": 8,
   "id": "69d55f9f",
   "metadata": {},
   "outputs": [
    {
     "name": "stdout",
     "output_type": "stream",
     "text": [
      ".ipynb_checkpoints -> 4096 bytes\n",
      "Bit_Operation.ipynb -> 14657 bytes\n",
      "Common Data Struture.ipynb -> 40540 bytes\n",
      "data -> 4096 bytes\n",
      "Data Classes.ipynb -> 18070 bytes\n",
      "decorator.ipynb -> 48244 bytes\n",
      "Gnerator.ipynb -> 1665 bytes\n",
      "hello.txt -> 13 bytes\n",
      "image -> 4096 bytes\n",
      "Iteration, Iterables, Iterators, Looping and Comprehension.ipynb -> 41678 bytes\n",
      "Mutable vs Immutable Objects.ipynb -> 25664 bytes\n",
      "Number System.ipynb -> 7692 bytes\n",
      "resource management.ipynb -> 12238 bytes\n",
      "Shallow and Deep Copy.ipynb -> 4746 bytes\n",
      "subarray.ipynb -> 7219 bytes\n",
      "Timer.ipynb -> 5392 bytes\n"
     ]
    }
   ],
   "source": [
    "import os\n",
    "with os.scandir(\".\") as entries:\n",
    "    for entry in entries:\n",
    "        print(entry.name, \"->\", entry.stat().st_size, \"bytes\")"
   ]
  },
  {
   "cell_type": "markdown",
   "id": "334ab1af",
   "metadata": {},
   "source": [
    "## Performing High-Precision Calculations\n",
    "\n",
    "Unlike built-in floating-point numbers, the decimal module provides a way to adjust the precision to use in a given calculation that involves Decimal numbers. The precision defaults to 28 places, but you can change it to meet your problem requirements. A quick way to perform calculations with a custom precision is using localcontext() from decimal:"
   ]
  },
  {
   "cell_type": "code",
   "execution_count": 11,
   "id": "5d1afd76",
   "metadata": {},
   "outputs": [
    {
     "name": "stdout",
     "output_type": "stream",
     "text": [
      "0.0238095238095238095238095238095238095238095\n",
      "0.02380952380952380952380952381\n"
     ]
    }
   ],
   "source": [
    "\"\"\"\n",
    "Here, localcontext() provides a context manager that creates a local decimal \n",
    "context and allows you to perform calculations using a custom precision. \n",
    "In the with code block, you need to set .prec to the new precision you want to use, \n",
    "which is 42 places in the example above. When the with code block finishes, \n",
    "the precision is reset back to its default value, 28 places.\n",
    "\"\"\"\n",
    "from decimal import Decimal, localcontext\n",
    "with localcontext() as ctx:\n",
    "    ctx.prec = 42\n",
    "    r1 = Decimal(\"1\") / Decimal(\"42\")\n",
    "    print(r1)\n",
    "\n",
    "r2 = Decimal(\"1\") / Decimal(\"42\")\n",
    "print(r2)"
   ]
  },
  {
   "cell_type": "markdown",
   "id": "94ecabd0",
   "metadata": {},
   "source": [
    "## Handling Locks in Multithreaded Programs\n",
    "Another good example of using the with statement effectively in the Python standard library is **threading.Lock**. This class provides a primitive lock to prevent multiple threads from modifying a shared resource at the same time in a multithreaded application."
   ]
  },
  {
   "cell_type": "code",
   "execution_count": 14,
   "id": "a8078636",
   "metadata": {},
   "outputs": [],
   "source": [
    "import threading\n",
    "\n",
    "balance_lock = threading.Lock()\n",
    "\n",
    "# Use the try ... finally pattern\n",
    "balance_lock.acquire()\n",
    "try:\n",
    "    # Update the account balance here ...\n",
    "    pass\n",
    "finally:\n",
    "    balance_lock.release()\n",
    "\n",
    "# Use the with pattern\n",
    "with balance_lock:\n",
    "    \"\"\"\n",
    "    The with statement in the second example automatically acquires and releases \n",
    "    a lock when the flow of execution enters and leaves the statement.\n",
    "    \"\"\"\n",
    "    # Update the account balance here ...\n",
    "    pass"
   ]
  },
  {
   "cell_type": "markdown",
   "id": "c59b297c",
   "metadata": {},
   "source": [
    "## Testing for Exceptions With pytest\n",
    "\n",
    "several third-party libraries include objects that support the context management protocol. For example. \n",
    "\n",
    "Say you’re testing your code with pytest. Some of your functions and code blocks raise exceptions under certain situations, and you want to test those cases. To do that, you can use pytest.raises(). This function allows you to assert that a code block or a function call raises a given exception."
   ]
  },
  {
   "cell_type": "code",
   "execution_count": 17,
   "id": "1960f904",
   "metadata": {},
   "outputs": [
    {
     "ename": "ZeroDivisionError",
     "evalue": "division by zero",
     "output_type": "error",
     "traceback": [
      "\u001b[0;31m---------------------------------------------------------------------------\u001b[0m",
      "\u001b[0;31mZeroDivisionError\u001b[0m                         Traceback (most recent call last)",
      "\u001b[0;32m<ipython-input-17-bc757c3fda29>\u001b[0m in \u001b[0;36m<module>\u001b[0;34m\u001b[0m\n\u001b[0;32m----> 1\u001b[0;31m \u001b[0;36m1\u001b[0m \u001b[0;34m/\u001b[0m \u001b[0;36m0\u001b[0m\u001b[0;34m\u001b[0m\u001b[0;34m\u001b[0m\u001b[0m\n\u001b[0m",
      "\u001b[0;31mZeroDivisionError\u001b[0m: division by zero"
     ]
    }
   ],
   "source": [
    "1 / 0"
   ]
  },
  {
   "cell_type": "code",
   "execution_count": 18,
   "id": "9b0fb4c8",
   "metadata": {},
   "outputs": [
    {
     "ename": "ModuleNotFoundError",
     "evalue": "No module named 'pytes'",
     "output_type": "error",
     "traceback": [
      "\u001b[0;31m---------------------------------------------------------------------------\u001b[0m",
      "\u001b[0;31mModuleNotFoundError\u001b[0m                       Traceback (most recent call last)",
      "\u001b[0;32m<ipython-input-18-b6a793a565ed>\u001b[0m in \u001b[0;36m<module>\u001b[0;34m\u001b[0m\n\u001b[0;32m----> 1\u001b[0;31m \u001b[0;32mimport\u001b[0m \u001b[0mpytes\u001b[0m\u001b[0;34m\u001b[0m\u001b[0;34m\u001b[0m\u001b[0m\n\u001b[0m\u001b[1;32m      2\u001b[0m \u001b[0;32mwith\u001b[0m \u001b[0mpytest\u001b[0m\u001b[0;34m.\u001b[0m\u001b[0mraises\u001b[0m\u001b[0;34m(\u001b[0m\u001b[0mZeroDivisionError\u001b[0m\u001b[0;34m)\u001b[0m\u001b[0;34m:\u001b[0m\u001b[0;34m\u001b[0m\u001b[0;34m\u001b[0m\u001b[0m\n\u001b[1;32m      3\u001b[0m     \u001b[0;36m1\u001b[0m \u001b[0;34m/\u001b[0m \u001b[0;36m0\u001b[0m\u001b[0;34m\u001b[0m\u001b[0;34m\u001b[0m\u001b[0m\n",
      "\u001b[0;31mModuleNotFoundError\u001b[0m: No module named 'pytes'"
     ]
    }
   ],
   "source": [
    "import pytes\n",
    "with pytest.raises(ZeroDivisionError):\n",
    "    1 / 0"
   ]
  },
  {
   "cell_type": "code",
   "execution_count": 19,
   "id": "01d96e91",
   "metadata": {},
   "outputs": [],
   "source": [
    "favorites = {\"fruit\": \"apple\", \"pet\": \"dog\"}"
   ]
  },
  {
   "cell_type": "code",
   "execution_count": 20,
   "id": "947b742c",
   "metadata": {},
   "outputs": [
    {
     "ename": "KeyError",
     "evalue": "'car'",
     "output_type": "error",
     "traceback": [
      "\u001b[0;31m---------------------------------------------------------------------------\u001b[0m",
      "\u001b[0;31mKeyError\u001b[0m                                  Traceback (most recent call last)",
      "\u001b[0;32m<ipython-input-20-9ffdc1b05692>\u001b[0m in \u001b[0;36m<module>\u001b[0;34m\u001b[0m\n\u001b[0;32m----> 1\u001b[0;31m \u001b[0mfavorites\u001b[0m\u001b[0;34m[\u001b[0m\u001b[0;34m\"car\"\u001b[0m\u001b[0;34m]\u001b[0m\u001b[0;34m\u001b[0m\u001b[0;34m\u001b[0m\u001b[0m\n\u001b[0m",
      "\u001b[0;31mKeyError\u001b[0m: 'car'"
     ]
    }
   ],
   "source": [
    "favorites[\"car\"]"
   ]
  },
  {
   "cell_type": "code",
   "execution_count": 21,
   "id": "8a7fd486",
   "metadata": {},
   "outputs": [],
   "source": [
    "with pytest.raises(KeyError):\n",
    "    favorites[\"car\"]"
   ]
  },
  {
   "cell_type": "markdown",
   "id": "f0627879",
   "metadata": {},
   "source": [
    "# Using the async with Statement\n",
    "\n",
    "The with statement also has an asynchronous version, async with. You can use it to write context managers that depend on asynchronous code. It’s quite common to see async with in that kind of code, as many IO operations involve setup and teardown phases."
   ]
  },
  {
   "cell_type": "code",
   "execution_count": 22,
   "id": "059179de",
   "metadata": {},
   "outputs": [
    {
     "ename": "ModuleNotFoundError",
     "evalue": "No module named 'aiohttp'",
     "output_type": "error",
     "traceback": [
      "\u001b[0;31m---------------------------------------------------------------------------\u001b[0m",
      "\u001b[0;31mModuleNotFoundError\u001b[0m                       Traceback (most recent call last)",
      "\u001b[0;32m<ipython-input-22-ae3590891376>\u001b[0m in \u001b[0;36m<module>\u001b[0;34m\u001b[0m\n\u001b[1;32m      1\u001b[0m \u001b[0;31m# site_checker_v0.py\u001b[0m\u001b[0;34m\u001b[0m\u001b[0;34m\u001b[0m\u001b[0;34m\u001b[0m\u001b[0m\n\u001b[1;32m      2\u001b[0m \u001b[0;34m\u001b[0m\u001b[0m\n\u001b[0;32m----> 3\u001b[0;31m \u001b[0;32mimport\u001b[0m \u001b[0maiohttp\u001b[0m\u001b[0;34m\u001b[0m\u001b[0;34m\u001b[0m\u001b[0m\n\u001b[0m\u001b[1;32m      4\u001b[0m \u001b[0;32mimport\u001b[0m \u001b[0masyncio\u001b[0m\u001b[0;34m\u001b[0m\u001b[0;34m\u001b[0m\u001b[0m\n\u001b[1;32m      5\u001b[0m \u001b[0;34m\u001b[0m\u001b[0m\n",
      "\u001b[0;31mModuleNotFoundError\u001b[0m: No module named 'aiohttp'"
     ]
    }
   ],
   "source": [
    "# site_checker_v0.py\n",
    "\n",
    "import aiohttp\n",
    "import asyncio\n",
    "\n",
    "async def check(url):\n",
    "    async with aiohttp.ClientSession() as session:\n",
    "        async with session.get(url) as response:\n",
    "            print(f\"{url}: status -> {response.status}\")\n",
    "            html = await response.text()\n",
    "            print(f\"{url}: type -> {html[:17].strip()}\")\n",
    "\n",
    "async def main():\n",
    "    await asyncio.gather(\n",
    "        check(\"https://realpython.com\"),\n",
    "        check(\"https://pycoders.com\"),\n",
    "    )\n",
    "\n",
    "asyncio.run(main())"
   ]
  },
  {
   "cell_type": "markdown",
   "id": "c3946132",
   "metadata": {},
   "source": [
    "Comparing with \"with\" statement, \"async with\" statement:\n",
    "1. requires an asynchronous context manager that is able to suspend execution in its enter and exit method\n",
    "2. .\\_\\_aenter\\_\\_() will replace .\\_\\_enter\\_\\_() in a regular context manager.\n",
    "3. .\\_\\_aexit\\_\\_() will replace .\\_\\_exit\\_\\_() in a regular context manager.\n",
    "4. The async with ctx_mgr construct implicitly uses await ctx_mgr.\\_\\_aenter\\_\\_()\n",
    "5. await ctx_mgr.\\_\\_aexit\\_\\_() when exiting it. "
   ]
  },
  {
   "cell_type": "code",
   "execution_count": null,
   "id": "f5fc60e6",
   "metadata": {},
   "outputs": [],
   "source": []
  },
  {
   "cell_type": "markdown",
   "id": "a1558778",
   "metadata": {},
   "source": [
    "# Creating Custom Context Managers\n",
    "\n",
    "You can provide the same functionality by implementing both:\n",
    "1. Define .\\_\\_enter\\_\\_() and the .\\_\\_exit\\_\\_() special methods in your **class-based** context managers.\n",
    "2. create custom **function-based** context managers using the [contextlib.contextmanager](https://docs.python.org/3/library/contextlib.html#contextlib.contextmanager) decorator from the standard library and an appropriately coded [generator](https://realpython.com/introduction-to-python-generators/) function.\n",
    "\n",
    "In general, context managers and the with statement aren’t limited to resource management. They allow you to provide and reuse common setup and teardown code. In other words, with context managers, you can perform any pair of operations that needs to be done before and after another operation or procedure, such as:\n",
    "- Open and close\n",
    "- Lock and release\n",
    "- Change and reset\n",
    "- Create and delete\n",
    "- Enter and exit\n",
    "- Start and stop\n",
    "- Setup and teardown\n",
    "You can provide code to safely manage any of these pairs of operations in a context manager. Then you can reuse that context manager in with statements throughout your code. This prevents errors and reduces repetitive boilerplate code. It also makes your APIs safer, cleaner, and more user-friendly."
   ]
  },
  {
   "cell_type": "markdown",
   "id": "3ad361dd",
   "metadata": {},
   "source": [
    "## Coding Class-Based Context Managers"
   ]
  },
  {
   "cell_type": "code",
   "execution_count": 25,
   "id": "34197150",
   "metadata": {},
   "outputs": [],
   "source": [
    "class HelloContextManager:\n",
    "    def __enter__(self):\n",
    "        print(\"Entering the context...\")\n",
    "        return \"Hello, World!\"\n",
    "\n",
    "    def __exit__(self, exc_type, exc_value, exc_tb):\n",
    "        print(\"Leaving the context...\")\n",
    "        print(exc_type, exc_value, exc_tb, sep=\"\\n\")"
   ]
  },
  {
   "cell_type": "code",
   "execution_count": 26,
   "id": "231151bd",
   "metadata": {},
   "outputs": [
    {
     "name": "stdout",
     "output_type": "stream",
     "text": [
      "Entering the context...\n",
      "Hello, World!\n",
      "Leaving the context...\n",
      "None\n",
      "None\n",
      "None\n"
     ]
    }
   ],
   "source": [
    "with HelloContextManager() as hello:\n",
    "    print(hello)"
   ]
  },
  {
   "cell_type": "markdown",
   "id": "6e77453f",
   "metadata": {},
   "source": [
    "Now that you know how to implement the context management protocol, you can get a sense of what this would look like by coding a practical example. Here’s how you can take advantage of open() to create a context manager that opens files for writing:"
   ]
  },
  {
   "cell_type": "code",
   "execution_count": 27,
   "id": "1ae4b3e0",
   "metadata": {},
   "outputs": [],
   "source": [
    "# Opening Files for Writing: First Version\n",
    "# writable.py\n",
    "\n",
    "class WritableFile:\n",
    "    def __init__(self, file_path):\n",
    "        self.file_path = file_path\n",
    "\n",
    "    def __enter__(self):\n",
    "        self.file_obj = open(self.file_path, mode=\"w\")\n",
    "        return self.file_obj\n",
    "\n",
    "    def __exit__(self, exc_type, exc_val, exc_tb):\n",
    "        if self.file_obj:\n",
    "            self.file_obj.close()\n",
    "with WritableFile(\"hello.txt\") as file:\n",
    "    file.write(\"Hello, World!\")"
   ]
  },
  {
   "cell_type": "markdown",
   "id": "ab1812bc",
   "metadata": {},
   "source": [
    "A subtle detail to consider when you’re writing your own context managers is that sometimes you don’t have a useful object to return from .__enter__() and therefore to assign to the with target variable. In those cases, you can return None explicitly or you can just rely on Python’s implicit return value, which is None as well."
   ]
  },
  {
   "cell_type": "code",
   "execution_count": 28,
   "id": "df24221e",
   "metadata": {},
   "outputs": [
    {
     "name": "stdout",
     "output_type": "stream",
     "text": [
      "Back to the standard output...\n"
     ]
    }
   ],
   "source": [
    "# Redirecting the Standard Output\n",
    "import sys\n",
    "\n",
    "class RedirectedStdout:\n",
    "    def __init__(self, new_output):\n",
    "        self.new_output = new_output\n",
    "\n",
    "    def __enter__(self):\n",
    "        self.saved_output = sys.stdout\n",
    "        sys.stdout = self.new_output\n",
    "\n",
    "    def __exit__(self, exc_type, exc_val, exc_tb):\n",
    "        sys.stdout = self.saved_output\n",
    "\n",
    "with open(\"hello.txt\", \"w\") as file:\n",
    "    with RedirectedStdout(file):\n",
    "        print(\"Hello, World!\")\n",
    "    print(\"Back to the standard output...\")"
   ]
  },
  {
   "cell_type": "markdown",
   "id": "f7c9a99c",
   "metadata": {},
   "source": [
    "Just like every other class, a context manager can encapsulate some internal state. The following example shows how to create a stateful context manager to measure the execution time of a given code block or function:"
   ]
  },
  {
   "cell_type": "code",
   "execution_count": 29,
   "id": "0161a4d3",
   "metadata": {},
   "outputs": [],
   "source": [
    "# Measuring Execution Time\n",
    "# timing.py\n",
    "\n",
    "from time import perf_counter\n",
    "\n",
    "class Timer:\n",
    "    def __enter__(self):\n",
    "        self.start = perf_counter()\n",
    "        self.end = 0.0\n",
    "        return lambda: self.end - self.start\n",
    "\n",
    "    def __exit__(self, *args):\n",
    "        self.end = perf_counter()"
   ]
  },
  {
   "cell_type": "code",
   "execution_count": 30,
   "id": "c5220b6b",
   "metadata": {},
   "outputs": [],
   "source": [
    "from time import sleep\n",
    "with Timer() as timer:\n",
    "    # Time-consuming code goes here...\n",
    "    sleep(0.5)"
   ]
  },
  {
   "cell_type": "markdown",
   "id": "4877ca29",
   "metadata": {},
   "source": [
    "## Creating Function-Based Context Managers\n",
    "Python’s generator functions and the contextlib.contextmanager decorator provide an alternative and convenient way to implement the context management protocol. If you decorate an appropriately coded generator function with @contextmanager, then you get a function-based context manager that automatically provides both required methods, .\\_\\_enter\\_\\_() and .\\_\\_exit\\_\\_(). This can make your life more pleasant by saving you some boilerplate code.\n",
    "\n",
    "The general pattern to create a context manager using @contextmanager along with a generator function goes like this:"
   ]
  },
  {
   "cell_type": "code",
   "execution_count": 31,
   "id": "be9012db",
   "metadata": {},
   "outputs": [
    {
     "name": "stdout",
     "output_type": "stream",
     "text": [
      "Entering the context...\n",
      "Hello, world fro yield\n",
      "Leaving the context...\n"
     ]
    }
   ],
   "source": [
    "from contextlib import contextmanager\n",
    "\n",
    "@contextmanager\n",
    "def hello_context_manager():\n",
    "    # Before the yield statement, you have the setup section.\n",
    "    # There, you can place the code that acquires the managed resources.\n",
    "    # Everything before the yield runs when the flow of execution enters the context.\n",
    "    print(\"Entering the context...\")  \n",
    "    \n",
    "    yield \"Hello, world fro yield\"\n",
    "    \n",
    "    # After the yield statement, you have the teardown section, in which you can release \n",
    "    # the resources and do the cleanup. The code after yield runs at the end of the with \n",
    "    # block. The yield statement itself provides the object that will be assigned to the \n",
    "    # with target variable.\n",
    "    print(\"Leaving the context...\")\n",
    "\n",
    "    \n",
    "with hello_context_manager() as hello:\n",
    "    print(hello)"
   ]
  },
  {
   "cell_type": "code",
   "execution_count": 32,
   "id": "1c343ae9",
   "metadata": {},
   "outputs": [],
   "source": [
    "# Opening Files for Writing: Second Version\n",
    "from contextlib import contextmanager\n",
    "\n",
    "@contextmanager\n",
    "def writable_file(file_path):\n",
    "    file = open(file_path, mode=\"w\")\n",
    "    try:\n",
    "        yield file\n",
    "    finally:\n",
    "        file.close()\n",
    "\n",
    "with writable_file(\"hello.txt\") as file:\n",
    "    file.write(\"Hello, World!\")"
   ]
  },
  {
   "cell_type": "code",
   "execution_count": 34,
   "id": "68c265c0",
   "metadata": {},
   "outputs": [
    {
     "name": "stdout",
     "output_type": "stream",
     "text": [
      "Mocked time: 42\n"
     ]
    },
    {
     "ename": "NameError",
     "evalue": "name 'save_time' is not defined",
     "output_type": "error",
     "traceback": [
      "\u001b[0;31m---------------------------------------------------------------------------\u001b[0m",
      "\u001b[0;31mNameError\u001b[0m                                 Traceback (most recent call last)",
      "\u001b[0;32m<ipython-input-34-9f6accf3079d>\u001b[0m in \u001b[0;36m<module>\u001b[0;34m\u001b[0m\n\u001b[1;32m     11\u001b[0m     \u001b[0mtime\u001b[0m \u001b[0;34m=\u001b[0m \u001b[0msave_time\u001b[0m\u001b[0;34m\u001b[0m\u001b[0;34m\u001b[0m\u001b[0m\n\u001b[1;32m     12\u001b[0m \u001b[0;32mwith\u001b[0m \u001b[0mmock_time\u001b[0m\u001b[0;34m(\u001b[0m\u001b[0;34m)\u001b[0m\u001b[0;34m:\u001b[0m\u001b[0;34m\u001b[0m\u001b[0;34m\u001b[0m\u001b[0m\n\u001b[0;32m---> 13\u001b[0;31m     \u001b[0mprint\u001b[0m\u001b[0;34m(\u001b[0m\u001b[0;34mf\"Mocked time: {time()}\"\u001b[0m\u001b[0;34m)\u001b[0m\u001b[0;34m\u001b[0m\u001b[0;34m\u001b[0m\u001b[0m\n\u001b[0m",
      "\u001b[0;32m~/.local/opt/miniconda/envs/notebook/lib/python3.7/contextlib.py\u001b[0m in \u001b[0;36m__exit__\u001b[0;34m(self, type, value, traceback)\u001b[0m\n\u001b[1;32m    117\u001b[0m         \u001b[0;32mif\u001b[0m \u001b[0mtype\u001b[0m \u001b[0;32mis\u001b[0m \u001b[0;32mNone\u001b[0m\u001b[0;34m:\u001b[0m\u001b[0;34m\u001b[0m\u001b[0;34m\u001b[0m\u001b[0m\n\u001b[1;32m    118\u001b[0m             \u001b[0;32mtry\u001b[0m\u001b[0;34m:\u001b[0m\u001b[0;34m\u001b[0m\u001b[0;34m\u001b[0m\u001b[0m\n\u001b[0;32m--> 119\u001b[0;31m                 \u001b[0mnext\u001b[0m\u001b[0;34m(\u001b[0m\u001b[0mself\u001b[0m\u001b[0;34m.\u001b[0m\u001b[0mgen\u001b[0m\u001b[0;34m)\u001b[0m\u001b[0;34m\u001b[0m\u001b[0;34m\u001b[0m\u001b[0m\n\u001b[0m\u001b[1;32m    120\u001b[0m             \u001b[0;32mexcept\u001b[0m \u001b[0mStopIteration\u001b[0m\u001b[0;34m:\u001b[0m\u001b[0;34m\u001b[0m\u001b[0;34m\u001b[0m\u001b[0m\n\u001b[1;32m    121\u001b[0m                 \u001b[0;32mreturn\u001b[0m \u001b[0;32mFalse\u001b[0m\u001b[0;34m\u001b[0m\u001b[0;34m\u001b[0m\u001b[0m\n",
      "\u001b[0;32m<ipython-input-34-9f6accf3079d>\u001b[0m in \u001b[0;36mmock_time\u001b[0;34m()\u001b[0m\n\u001b[1;32m      9\u001b[0m     \u001b[0mtime\u001b[0m \u001b[0;34m=\u001b[0m \u001b[0;32mlambda\u001b[0m\u001b[0;34m:\u001b[0m \u001b[0;36m42\u001b[0m\u001b[0;34m\u001b[0m\u001b[0;34m\u001b[0m\u001b[0m\n\u001b[1;32m     10\u001b[0m     \u001b[0;32myield\u001b[0m\u001b[0;34m\u001b[0m\u001b[0;34m\u001b[0m\u001b[0m\n\u001b[0;32m---> 11\u001b[0;31m     \u001b[0mtime\u001b[0m \u001b[0;34m=\u001b[0m \u001b[0msave_time\u001b[0m\u001b[0;34m\u001b[0m\u001b[0;34m\u001b[0m\u001b[0m\n\u001b[0m\u001b[1;32m     12\u001b[0m \u001b[0;32mwith\u001b[0m \u001b[0mmock_time\u001b[0m\u001b[0;34m(\u001b[0m\u001b[0;34m)\u001b[0m\u001b[0;34m:\u001b[0m\u001b[0;34m\u001b[0m\u001b[0;34m\u001b[0m\u001b[0m\n\u001b[1;32m     13\u001b[0m     \u001b[0mprint\u001b[0m\u001b[0;34m(\u001b[0m\u001b[0;34mf\"Mocked time: {time()}\"\u001b[0m\u001b[0;34m)\u001b[0m\u001b[0;34m\u001b[0m\u001b[0;34m\u001b[0m\u001b[0m\n",
      "\u001b[0;31mNameError\u001b[0m: name 'save_time' is not defined"
     ]
    }
   ],
   "source": [
    "# Mocking the Time\n",
    "from contextlib import contextmanager\n",
    "from time import time\n",
    "\n",
    "@contextmanager\n",
    "def mock_time():\n",
    "    global time\n",
    "    saved_time = time\n",
    "    time = lambda: 42\n",
    "    yield\n",
    "    time = save_time\n",
    "with mock_time():\n",
    "    print(f\"Mocked time: {time()}\")"
   ]
  },
  {
   "cell_type": "markdown",
   "id": "e0075663",
   "metadata": {},
   "source": [
    "# Reference \n",
    "1. [Context Managers and Python's with Statement](https://realpython.com/python-with-statement/)\n",
    "2. [The “with” Statement](https://peps.python.org/pep-0343/)"
   ]
  },
  {
   "cell_type": "code",
   "execution_count": null,
   "id": "2a3ad1ef",
   "metadata": {},
   "outputs": [],
   "source": []
  }
 ],
 "metadata": {
  "kernelspec": {
   "display_name": "Python 3",
   "language": "python",
   "name": "python3"
  },
  "language_info": {
   "codemirror_mode": {
    "name": "ipython",
    "version": 3
   },
   "file_extension": ".py",
   "mimetype": "text/x-python",
   "name": "python",
   "nbconvert_exporter": "python",
   "pygments_lexer": "ipython3",
   "version": "3.7.11"
  },
  "latex_envs": {
   "LaTeX_envs_menu_present": true,
   "autoclose": false,
   "autocomplete": true,
   "bibliofile": "biblio.bib",
   "cite_by": "apalike",
   "current_citInitial": 1,
   "eqLabelWithNumbers": true,
   "eqNumInitial": 1,
   "hotkeys": {
    "equation": "Ctrl-E",
    "itemize": "Ctrl-I"
   },
   "labels_anchors": false,
   "latex_user_defs": false,
   "report_style_numbering": false,
   "user_envs_cfg": false
  },
  "nbTranslate": {
   "displayLangs": [
    "*"
   ],
   "hotkey": "alt-t",
   "langInMainMenu": true,
   "sourceLang": "en",
   "targetLang": "fr",
   "useGoogleTranslate": true
  }
 },
 "nbformat": 4,
 "nbformat_minor": 5
}
