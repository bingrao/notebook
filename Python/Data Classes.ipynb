{
 "cells": [
  {
   "cell_type": "markdown",
   "id": "57f2c7cf",
   "metadata": {},
   "source": [
    "# Introduction\n",
    "\n",
    "A data class is a class typically containing mainly data, although there aren’t really any restrictions. This module provides a decorator and functions for automatically adding generated special methods such as __init__() and __repr__() to user-defined classes. It is created using the new @dataclass decorator, as follows:"
   ]
  },
  {
   "cell_type": "code",
   "execution_count": 24,
   "id": "7f1cf381",
   "metadata": {},
   "outputs": [],
   "source": [
    "from dataclasses import dataclass\n",
    "\n",
    "@dataclass\n",
    "class InventoryItem:\n",
    "    \"\"\"Class for keeping track of an item in inventory.\"\"\"\n",
    "    name: str\n",
    "    unit_price: float\n",
    "    quantity_on_hand: int = 0\n",
    "\n",
    "    def total_cost(self) -> float:\n",
    "        return self.unit_price * self.quantity_on_hand"
   ]
  },
  {
   "cell_type": "markdown",
   "id": "b47dfc22",
   "metadata": {},
   "source": [
    "will add, among other things, a **\\_\\_init\\_\\_()** that looks like:"
   ]
  },
  {
   "cell_type": "code",
   "execution_count": 25,
   "id": "b6b230c5",
   "metadata": {},
   "outputs": [],
   "source": [
    "def __init__(self, name: str, unit_price: float, quantity_on_hand: int = 0):\n",
    "    self.name = name\n",
    "    self.unit_price = unit_price\n",
    "    self.quantity_on_hand = quantity_on_hand"
   ]
  },
  {
   "cell_type": "markdown",
   "id": "d8d6c5a9",
   "metadata": {},
   "source": [
    "Note that this method is automatically added to the class: it is not directly specified in the InventoryItem definition shown above."
   ]
  },
  {
   "cell_type": "code",
   "execution_count": 1,
   "id": "05b70393",
   "metadata": {},
   "outputs": [],
   "source": [
    "from dataclasses import dataclass\n",
    "\n",
    "@dataclass\n",
    "class DataClassCard:\n",
    "    rank: str\n",
    "    suit: str"
   ]
  },
  {
   "cell_type": "markdown",
   "id": "bbd1de6b",
   "metadata": {},
   "source": [
    "A data class comes with basic functionality already implemented. For instance, you can **instantiate, print, and compare** data class instances straight out of the box:"
   ]
  },
  {
   "cell_type": "code",
   "execution_count": 3,
   "id": "fe6c1948",
   "metadata": {},
   "outputs": [
    {
     "name": "stdout",
     "output_type": "stream",
     "text": [
      "Q\n",
      "DataClassCard(rank='Q', suit='Hearts')\n",
      "True\n"
     ]
    }
   ],
   "source": [
    "queen_of_hearts = DataClassCard('Q', 'Hearts')\n",
    "print(queen_of_hearts.rank)\n",
    "print(queen_of_hearts)\n",
    "print(queen_of_hearts == DataClassCard('Q', 'Hearts'))"
   ]
  },
  {
   "cell_type": "markdown",
   "id": "cdaad7c1",
   "metadata": {},
   "source": [
    "Compare that to a regular class. A minimal regular class would look something like this:"
   ]
  },
  {
   "cell_type": "code",
   "execution_count": 2,
   "id": "09c15bd4",
   "metadata": {},
   "outputs": [],
   "source": [
    "class RegularCard:\n",
    "    def __init__(self, rank, suit):\n",
    "        self.rank = rank\n",
    "        self.suit = suit"
   ]
  },
  {
   "cell_type": "markdown",
   "id": "63ea022b",
   "metadata": {},
   "source": [
    "While this is not much more code to write, you can already see signs of the boilerplate pain:\n",
    "1. rank and suit are both repeated three times simply to initialize an object.\n",
    "2. if you try to use this plain class, you’ll notice that the representation of the objects is not very descriptive\n",
    "3. for some reason a queen of hearts is not the same as a queen of hearts"
   ]
  },
  {
   "cell_type": "code",
   "execution_count": 4,
   "id": "37df52d8",
   "metadata": {},
   "outputs": [
    {
     "name": "stdout",
     "output_type": "stream",
     "text": [
      "Q\n",
      "<__main__.RegularCard object at 0x7f0a5427a310>\n",
      "False\n"
     ]
    }
   ],
   "source": [
    "queen_of_hearts = RegularCard('Q', 'Hearts')\n",
    "print(queen_of_hearts.rank)\n",
    "print(queen_of_hearts)\n",
    "print(queen_of_hearts == RegularCard('Q', 'Hearts'))"
   ]
  },
  {
   "cell_type": "markdown",
   "id": "371e451f",
   "metadata": {},
   "source": [
    "Regarding to data classes decorator:\n",
    "1. data classes implement a **.__repr__()** method to provide a nice string representation automatically. \n",
    "2. an **.__eq__()** method that can do basic object comparisons.\n",
    "\n",
    "For the RegularCard class to imitate the data class above, you need to add these methods as well:"
   ]
  },
  {
   "cell_type": "code",
   "execution_count": 6,
   "id": "53d358be",
   "metadata": {},
   "outputs": [],
   "source": [
    "class RegularCard:\n",
    "    def __init__(self, rank, suit):\n",
    "        self.rank = rank\n",
    "        self.suit = suit\n",
    "\n",
    "    def __repr__(self):\n",
    "        return (f'{self.__class__.__name__}'\n",
    "                f'(rank={self.rank!r}, suit={self.suit!r})')\n",
    "\n",
    "    def __eq__(self, other):\n",
    "        if other.__class__ is not self.__class__:\n",
    "            return NotImplemented\n",
    "        return (self.rank, self.suit) == (other.rank, other.suit)"
   ]
  },
  {
   "cell_type": "markdown",
   "id": "eb30fb71",
   "metadata": {},
   "source": [
    "# Basic Data Classes\n",
    "\n",
    "A data class is a regular Python class. The only thing that sets it apart is that it has [basic data model methods](https://docs.python.org/3/reference/datamodel.html#basic-customization),  like **.__init__(), .__repr__(), and .__eq__()** implemented for you. When you create a class with a data class decorator, the data class will automatically create a class for you with definitions of these model methods. "
   ]
  },
  {
   "cell_type": "code",
   "execution_count": 10,
   "id": "2022ba36",
   "metadata": {},
   "outputs": [
    {
     "name": "stdout",
     "output_type": "stream",
     "text": [
      "<class '__main__.Position'>\n"
     ]
    }
   ],
   "source": [
    "# As an example, we will create a Position class that will represent geographic \n",
    "# positions with a name as well as the latitude and longitude\n",
    "from dataclasses import dataclass\n",
    "\n",
    "@dataclass\n",
    "class Position:\n",
    "    \"\"\"\n",
    "    1. We just use variable annotations to list the fields in this class. \n",
    "    2. For each filed definition, we need to specify its type info\n",
    "    \"\"\"\n",
    "    name: str # variable annotations without self keywords\n",
    "    lon: float\n",
    "    lat: float\n",
    "\n",
    "print(Position)"
   ]
  },
  {
   "cell_type": "code",
   "execution_count": 11,
   "id": "3952d330",
   "metadata": {},
   "outputs": [
    {
     "name": "stdout",
     "output_type": "stream",
     "text": [
      "Position(name='Oslo', lon=10.8, lat=59.9)\n",
      "59.9\n",
      "Oslo is at 59.9°N, 10.8°E\n"
     ]
    }
   ],
   "source": [
    "pos = Position('Oslo', 10.8, 59.9)\n",
    "print(pos)\n",
    "print(pos.lat)\n",
    "print(f'{pos.name} is at {pos.lat}°N, {pos.lon}°E')"
   ]
  },
  {
   "cell_type": "markdown",
   "id": "dd41491e",
   "metadata": {},
   "source": [
    "You can also create data classes similarly to how named tuples are created. The following is (almost) equivalent to the definition of Position above:"
   ]
  },
  {
   "cell_type": "code",
   "execution_count": 12,
   "id": "25da55a3",
   "metadata": {},
   "outputs": [
    {
     "name": "stdout",
     "output_type": "stream",
     "text": [
      "<class 'types.Position'>\n"
     ]
    }
   ],
   "source": [
    "from dataclasses import make_dataclass\n",
    "\n",
    "Position = make_dataclass('Position', ['name', 'lat', 'lon'])\n",
    "print(Position)"
   ]
  },
  {
   "cell_type": "markdown",
   "id": "55f73793",
   "metadata": {
    "heading_collapsed": true
   },
   "source": [
    "## Default Values\n",
    "\n",
    "It is easy to add default values to the fields of your data class. This works exactly as if you had specified the default values in the definition of the **.__init__()** method of a regular class"
   ]
  },
  {
   "cell_type": "code",
   "execution_count": 13,
   "id": "10cc9846",
   "metadata": {
    "hidden": true
   },
   "outputs": [],
   "source": [
    "from dataclasses import dataclass\n",
    "\n",
    "@dataclass\n",
    "class Position:\n",
    "    name: str\n",
    "    lon: float = 0.0 # default value\n",
    "    lat: float = 0.0"
   ]
  },
  {
   "cell_type": "markdown",
   "id": "8f3bd0bf",
   "metadata": {
    "heading_collapsed": true
   },
   "source": [
    "## Type Hints\n",
    "In fact, adding some kind of type hint is **mandatory** when defining the fields in your data class.\n",
    "1. Without a type hint, the field will not be a part of the data class.\n",
    "2. if you do not want to add explicit types to your data class, use typing.Any"
   ]
  },
  {
   "cell_type": "code",
   "execution_count": 14,
   "id": "67d0ac28",
   "metadata": {
    "hidden": true
   },
   "outputs": [],
   "source": [
    "from dataclasses import dataclass\n",
    "from typing import Any\n",
    "\n",
    "@dataclass\n",
    "class WithoutExplicitTypes:\n",
    "    name: str\n",
    "    value: Any = 42"
   ]
  },
  {
   "cell_type": "markdown",
   "id": "31061fe6",
   "metadata": {},
   "source": [
    "## Adding Methods\n",
    "You already know that a data class is just a regular class. That means that you can freely add your own methods to a data class.\n",
    "\n",
    "You can add a **.distance_to()** method to your data class just like you can with normal classes:"
   ]
  },
  {
   "cell_type": "code",
   "execution_count": 16,
   "id": "bd0378a1",
   "metadata": {},
   "outputs": [],
   "source": [
    "from dataclasses import dataclass\n",
    "from math import asin, cos, radians, sin, sqrt\n",
    "\n",
    "@dataclass\n",
    "class Position:\n",
    "    name: str\n",
    "    lon: float = 0.0\n",
    "    lat: float = 0.0\n",
    "    \n",
    "    # add a normal class, but need to specific self keyword.\n",
    "    def distance_to(self, other):\n",
    "        r = 6371  # Earth radius in kilometers\n",
    "        lam_1, lam_2 = radians(self.lon), radians(other.lon)\n",
    "        phi_1, phi_2 = radians(self.lat), radians(other.lat)\n",
    "        h = (sin((phi_2 - phi_1) / 2)**2\n",
    "             + cos(phi_1) * cos(phi_2) * sin((lam_2 - lam_1) / 2)**2)\n",
    "        return 2 * r * asin(sqrt(h))"
   ]
  },
  {
   "cell_type": "code",
   "execution_count": 17,
   "id": "39e693ea",
   "metadata": {},
   "outputs": [
    {
     "data": {
      "text/plain": [
       "7181.7841229421165"
      ]
     },
     "execution_count": 17,
     "metadata": {},
     "output_type": "execute_result"
    }
   ],
   "source": [
    "oslo = Position('Oslo', 10.8, 59.9)\n",
    "vancouver = Position('Vancouver', -123.1, 49.3)\n",
    "oslo.distance_to(vancouver)"
   ]
  },
  {
   "cell_type": "markdown",
   "id": "4411c841",
   "metadata": {},
   "source": [
    "## field function"
   ]
  },
  {
   "cell_type": "code",
   "execution_count": null,
   "id": "04a3d4a6",
   "metadata": {},
   "outputs": [],
   "source": []
  },
  {
   "cell_type": "code",
   "execution_count": null,
   "id": "fdd9a015",
   "metadata": {},
   "outputs": [],
   "source": []
  },
  {
   "cell_type": "code",
   "execution_count": null,
   "id": "f4305eab",
   "metadata": {},
   "outputs": [],
   "source": []
  },
  {
   "cell_type": "markdown",
   "id": "1a573334",
   "metadata": {
    "heading_collapsed": true
   },
   "source": [
    "# Alternatives to Data Classes"
   ]
  },
  {
   "cell_type": "code",
   "execution_count": 23,
   "id": "79e43af3",
   "metadata": {
    "hidden": true
   },
   "outputs": [],
   "source": [
    "###################### Data class version\n",
    "from dataclasses import dataclass\n",
    "@dataclass\n",
    "class DataClassCard:\n",
    "    rank: str\n",
    "    suit: str\n",
    "queen_of_hearts = DataClassCard('Q', 'Hearts')\n",
    "        \n",
    "###################### Tuple\n",
    "queen_of_hearts_tuple = ('Q', 'Hearts')\n",
    "\n",
    "###################### namedtuple\n",
    "from collections import namedtuple\n",
    "NamedTupleCard = namedtuple('NamedTupleCard', ['rank', 'suit'])\n",
    "queen_of_hearts_name = NamedTupleCard('Q', 'Hearts')\n",
    "\n",
    "###################### Dictionary\n",
    "queen_of_hearts_dict = {'rank': 'Q', 'suit': 'Hearts'}\n",
    "\n",
    "\n",
    "###################### the attrs project.\n",
    "\n",
    "import attr\n",
    "\n",
    "@attr.s\n",
    "class AttrsCard:\n",
    "    rank = attr.ib()\n",
    "    suit = attr.ib()"
   ]
  },
  {
   "cell_type": "markdown",
   "id": "7a57c77b",
   "metadata": {
    "hidden": true
   },
   "source": [
    "## Comparing with Tuple/Dict \n",
    "\n",
    "They works. However, it puts a lot of responsibility on you as a programmer\n",
    "\n",
    "1. You need to remember that the queen_of_hearts_... variable represents a card.\n",
    "2. For the tuple version, you need to remember the order of the attributes. Writing ('Spades', 'A') will mess up your program but probably not give you an easily understandable error message.\n",
    "3. If you use the dict version, you must make sure the names of the attributes are consistent. For instance {'value': 'A', 'suit': 'Spades'} will not work as expected."
   ]
  },
  {
   "cell_type": "markdown",
   "id": "b54a84c3",
   "metadata": {
    "hidden": true
   },
   "source": [
    "## Comparing with namedtuple\n",
    "\n",
    "A better alternative is the [namedtuple](https://dbader.org/blog/writing-clean-python-with-namedtuples). It has long been used to create readable small data structures. \n",
    "\n",
    "1. data classes come with many more features than you have seen so far. \n",
    "2. the namedtuple has some other features that are not necessarily desirable. By design, a namedtuple is a regular tuple.\n",
    "3. namedtuple lacks of awareness about its own type can lead to subtle and hard-to-find bugs. especially since it will also happily compare two different namedtuple classes. \n",
    "4. it is hard to add default values to some of the fields in a namedtuple.\n",
    "5. A namedtuple is also by nature immutable. That is, the value of a namedtuple can never change. \n",
    "6. "
   ]
  },
  {
   "cell_type": "code",
   "execution_count": 21,
   "id": "8d31417e",
   "metadata": {
    "hidden": true
   },
   "outputs": [
    {
     "name": "stdout",
     "output_type": "stream",
     "text": [
      "True\n",
      "True\n"
     ]
    }
   ],
   "source": [
    "# By design, a namedtuple is a regular tuple. This can be seen in comparisons, for instance:\n",
    "print(queen_of_hearts_name == ('Q', 'Hearts'))\n",
    "\n",
    "# Two diferent definitions of namedtuple, but return true when comparing them\n",
    "Person = namedtuple('Person', ['first_initial', 'last_name'])\n",
    "ace_of_spades = NamedTupleCard('A', 'Spades')\n",
    "print(ace_of_spades == Person('A', 'Spades'))"
   ]
  },
  {
   "cell_type": "markdown",
   "id": "bde71310",
   "metadata": {
    "hidden": true
   },
   "source": [
    "Data classes will not replace all uses of namedtuple. For instance, if you need your data structure to behave like a tuple, then a named tuple is a great alternative!\n",
    "\n",
    "\n",
    "The [attrs](https://www.attrs.org/en/stable/) project is great and does support some features that data classes do not, including converters and validators. Furthermore, attrs has been around for a while and is supported in Python 2.7 as well as Python 3.4 and up. However, as attrs is not a part of the standard library, it does add an external dependency to your projects. Through data classes, similar functionality will be available everywhere.\n",
    "\n",
    "In addition to tuple, dict, namedtuple, and attrs, there are many other similar projects, including typing.NamedTuple, namedlist, attrdict, plumber, and fields. While data classes are a great new alternative, there are still use cases where one of the older variants fits better. For instance, if you need compatibility with a specific API expecting tuples or need functionality not supported in data classes."
   ]
  },
  {
   "cell_type": "markdown",
   "id": "b14210a2",
   "metadata": {},
   "source": [
    "# Reference\n",
    "1. [Data Classes in Python 3.7+ (Guide)](https://realpython.com/python-data-classes/)\n",
    "2. [PEP 557](https://peps.python.org/pep-0557/#id7)\n",
    "3. [dataclasses — Data Classes](https://docs.python.org/3/library/dataclasses.html)"
   ]
  },
  {
   "cell_type": "code",
   "execution_count": null,
   "id": "63576240",
   "metadata": {},
   "outputs": [],
   "source": []
  }
 ],
 "metadata": {
  "kernelspec": {
   "display_name": "Python 3",
   "language": "python",
   "name": "python3"
  },
  "language_info": {
   "codemirror_mode": {
    "name": "ipython",
    "version": 3
   },
   "file_extension": ".py",
   "mimetype": "text/x-python",
   "name": "python",
   "nbconvert_exporter": "python",
   "pygments_lexer": "ipython3",
   "version": "3.7.11"
  },
  "latex_envs": {
   "LaTeX_envs_menu_present": true,
   "autoclose": false,
   "autocomplete": true,
   "bibliofile": "biblio.bib",
   "cite_by": "apalike",
   "current_citInitial": 1,
   "eqLabelWithNumbers": true,
   "eqNumInitial": 1,
   "hotkeys": {
    "equation": "Ctrl-E",
    "itemize": "Ctrl-I"
   },
   "labels_anchors": false,
   "latex_user_defs": false,
   "report_style_numbering": false,
   "user_envs_cfg": false
  },
  "nbTranslate": {
   "displayLangs": [
    "*"
   ],
   "hotkey": "alt-t",
   "langInMainMenu": true,
   "sourceLang": "en",
   "targetLang": "fr",
   "useGoogleTranslate": true
  }
 },
 "nbformat": 4,
 "nbformat_minor": 5
}
