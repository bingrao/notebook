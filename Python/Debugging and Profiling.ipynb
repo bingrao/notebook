{
 "cells": [
  {
   "cell_type": "code",
   "execution_count": 1,
   "id": "ae75a216",
   "metadata": {},
   "outputs": [],
   "source": [
    "# timer.py\n",
    "\n",
    "# ...\n",
    "\n",
    "class Timer:\n",
    "    timers = {}\n",
    "\n",
    "    def __init__(\n",
    "        self,\n",
    "        name=None,\n",
    "        text=\"Elapsed time: {:0.4f} seconds\",\n",
    "        logger=print,\n",
    "    ):\n",
    "        self._start_time = None\n",
    "        self.name = name\n",
    "        self.text = text\n",
    "        self.logger = logger\n",
    "\n",
    "        # Add new named timers to dictionary of timers\n",
    "        if name:\n",
    "            self.timers.setdefault(name, 0)\n",
    "\n",
    "    # Other methods are unchanged\n",
    "\n",
    "    def stop(self):\n",
    "        \"\"\"Stop the timer, and report the elapsed time\"\"\"\n",
    "        if self._start_time is None:\n",
    "            raise TimerError(f\"Timer is not running. Use .start() to start it\")\n",
    "\n",
    "        elapsed_time = time.perf_counter() - self._start_time\n",
    "        self._start_time = None\n",
    "\n",
    "        if self.logger:\n",
    "            self.logger(self.text.format(elapsed_time))\n",
    "        if self.name:\n",
    "            self.timers[self.name] += elapsed_time\n",
    "\n",
    "        return elapsed_time"
   ]
  },
  {
   "cell_type": "code",
   "execution_count": 2,
   "id": "796ffa5b",
   "metadata": {},
   "outputs": [],
   "source": [
    "# timer.py\n",
    "\n",
    "from dataclasses import dataclass, field\n",
    "import time\n",
    "from typing import Callable, ClassVar, Dict, Optional\n",
    "\n",
    "class TimerError(Exception):\n",
    "    \"\"\"A custom exception used to report errors in use of Timer class\"\"\"\n",
    "\n",
    "@dataclass\n",
    "class Timer:\n",
    "    timers: ClassVar[Dict[str, float]] = {}\n",
    "    name: Optional[str] = None\n",
    "    text: str = \"Elapsed time: {:0.4f} seconds\"\n",
    "    logger: Optional[Callable[[str], None]] = print\n",
    "    _start_time: Optional[float] = field(default=None, init=False, repr=False)\n",
    "\n",
    "    def __post_init__(self) -> None:\n",
    "        \"\"\"Add timer to dict of timers after initialization\"\"\"\n",
    "        if self.name is not None:\n",
    "            self.timers.setdefault(self.name, 0)\n",
    "\n",
    "    def start(self) -> None:\n",
    "        \"\"\"Start a new timer\"\"\"\n",
    "        if self._start_time is not None:\n",
    "            raise TimerError(f\"Timer is running. Use .stop() to stop it\")\n",
    "\n",
    "        self._start_time = time.perf_counter()\n",
    "\n",
    "    def stop(self) -> float:\n",
    "        \"\"\"Stop the timer, and report the elapsed time\"\"\"\n",
    "        if self._start_time is None:\n",
    "            raise TimerError(f\"Timer is not running. Use .start() to start it\")\n",
    "\n",
    "        # Calculate elapsed time\n",
    "        elapsed_time = time.perf_counter() - self._start_time\n",
    "        self._start_time = None\n",
    "\n",
    "        # Report elapsed time\n",
    "        if self.logger:\n",
    "            self.logger(self.text.format(elapsed_time))\n",
    "        if self.name:\n",
    "            self.timers[self.name] += elapsed_time\n",
    "\n",
    "        return elapsed_time"
   ]
  },
  {
   "cell_type": "markdown",
   "id": "1b6f0625",
   "metadata": {},
   "source": [
    "# A Python Timer Context Manager"
   ]
  },
  {
   "cell_type": "code",
   "execution_count": null,
   "id": "70cedc39",
   "metadata": {},
   "outputs": [],
   "source": []
  },
  {
   "cell_type": "code",
   "execution_count": null,
   "id": "ac13f50c",
   "metadata": {},
   "outputs": [],
   "source": []
  },
  {
   "cell_type": "code",
   "execution_count": null,
   "id": "dbf7fb26",
   "metadata": {},
   "outputs": [],
   "source": []
  },
  {
   "cell_type": "markdown",
   "id": "53266287",
   "metadata": {},
   "source": [
    "# Refeerence\n",
    "\n",
    "1. [Python Timer Functions: Three Ways to Monitor Your Code](https://realpython.com/python-timer/)"
   ]
  },
  {
   "cell_type": "code",
   "execution_count": null,
   "id": "ea5ba1fb",
   "metadata": {},
   "outputs": [],
   "source": []
  }
 ],
 "metadata": {
  "kernelspec": {
   "display_name": "Python 3",
   "language": "python",
   "name": "python3"
  },
  "language_info": {
   "codemirror_mode": {
    "name": "ipython",
    "version": 3
   },
   "file_extension": ".py",
   "mimetype": "text/x-python",
   "name": "python",
   "nbconvert_exporter": "python",
   "pygments_lexer": "ipython3",
   "version": "3.7.11"
  },
  "latex_envs": {
   "LaTeX_envs_menu_present": true,
   "autoclose": false,
   "autocomplete": true,
   "bibliofile": "biblio.bib",
   "cite_by": "apalike",
   "current_citInitial": 1,
   "eqLabelWithNumbers": true,
   "eqNumInitial": 1,
   "hotkeys": {
    "equation": "Ctrl-E",
    "itemize": "Ctrl-I"
   },
   "labels_anchors": false,
   "latex_user_defs": false,
   "report_style_numbering": false,
   "user_envs_cfg": false
  },
  "nbTranslate": {
   "displayLangs": [
    "*"
   ],
   "hotkey": "alt-t",
   "langInMainMenu": true,
   "sourceLang": "en",
   "targetLang": "fr",
   "useGoogleTranslate": true
  }
 },
 "nbformat": 4,
 "nbformat_minor": 5
}
