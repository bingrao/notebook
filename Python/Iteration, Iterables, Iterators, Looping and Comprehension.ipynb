{
 "cells": [
  {
   "cell_type": "markdown",
   "metadata": {},
   "source": [
    "# Introduction"
   ]
  },
  {
   "cell_type": "markdown",
   "metadata": {
    "heading_collapsed": true
   },
   "source": [
    "# Iterables\n",
    "\n",
    "An **iterable** is an object capable of returning **its members one by one**. Said in other words, an iterable is anything that you can loop over with a *for* loop in Python."
   ]
  },
  {
   "cell_type": "markdown",
   "metadata": {
    "hidden": true
   },
   "source": [
    "## Sequences\n",
    "\n",
    "Sequences are a very common type of iterable. Some examples for built-in sequence types are **lists, strings, and tuples**."
   ]
  },
  {
   "cell_type": "code",
   "execution_count": 102,
   "metadata": {
    "hidden": true
   },
   "outputs": [
    {
     "name": "stdout",
     "output_type": "stream",
     "text": [
      "10\n",
      "12\n",
      "15\n",
      "18\n",
      "20\n"
     ]
    }
   ],
   "source": [
    "numbers = [10, 12, 15, 18, 20]\n",
    "fruits = [\"pineapple\", \"apple\", \"lemon\", \"strawberry\", \"orange\", \"kiwi\"]\n",
    "message = \"I love Python ❤️\"\n",
    "\n",
    "for num in numbers:\n",
    "    print(num)"
   ]
  },
  {
   "cell_type": "markdown",
   "metadata": {
    "hidden": true
   },
   "source": [
    "### Extracting Subset Sequence\n",
    "\n",
    "You can use indexes to get element or elements from the sequence. In Python, the indexes start from 0. Therefore, the first element in the list will have an index 0. We can also use **negative** indexes to access elements. The last element in the sequence will have an index **-1**, the one before the last one will have an index **-2** and so on. We have also something called slicing in Python which can be used to get multiple elements from the sequence. We can use it like this: sliceable[start_index: end_index: step].\n",
    "\n",
    "\n",
    "1. The **start_index** is the beginning index of the slice, the element at this index will be **included** to the result, the default value is 0\n",
    "2. The **end_index** is the end index of the slice, the element at this index will **not be included** to the result, the default value will be the length of the list. Also, the default value can be \"length of the list - 1\" if the step is negative. If you skip this, you will get all the elements from the start index to the end.\n",
    "3. The **step** is the amount by which the index increases, the default value is 1. If we set a **negative value** for the step, we’ll move backward.\n",
    "\n",
    "\n",
    "**[Indice Access]** They support efficient element access using integer indices via the **\\__getitem()\\__** special method (indexing) and define a **\\__length()\\__** method that returns the length of the sequence"
   ]
  },
  {
   "cell_type": "code",
   "execution_count": 103,
   "metadata": {
    "hidden": true
   },
   "outputs": [
    {
     "name": "stdout",
     "output_type": "stream",
     "text": [
      "10\n",
      "lemon\n",
      "❤\n"
     ]
    }
   ],
   "source": [
    "print(numbers[0])\n",
    "print(fruits[2])\n",
    "print(message[-2])"
   ]
  },
  {
   "cell_type": "markdown",
   "metadata": {
    "hidden": true
   },
   "source": [
    "**[Slicing Access]** Also, we can use the slicing technique on them."
   ]
  },
  {
   "cell_type": "code",
   "execution_count": 104,
   "metadata": {
    "hidden": true
   },
   "outputs": [
    {
     "name": "stdout",
     "output_type": "stream",
     "text": [
      "numbers[:2] -> numbers[:2]\n",
      "numbers[0:2] -> [10, 12]\n",
      "numbers[0:4:2] -> [10, 15]\n",
      "numbers[4:0:-1] -> [20, 18, 15, 12]\n",
      "fruits[1:] -> ['apple', 'lemon', 'strawberry', 'orange', 'kiwi']\n",
      "fruits[::] -> ['pineapple', 'apple', 'lemon', 'strawberry', 'orange', 'kiwi']\n",
      "fruits[0:2] -> ['pineapple', 'apple']\n",
      "fruits[-2:-1] -> ['orange']\n",
      "fruits[3:] -> ['strawberry', 'orange', 'kiwi']\n",
      "fruits[:4] -> ['pineapple', 'apple', 'lemon', 'strawberry']\n",
      "fruits[:]: ['pineapple', 'apple', 'lemon', 'strawberry', 'orange', 'kiwi']\n",
      "fruits[::-1] -> ['kiwi', 'orange', 'strawberry', 'lemon', 'apple', 'pineapple']\n",
      "fruits[::-2] -> ['kiwi', 'strawberry', 'apple']\n",
      "fruits[::2] -> ['pineapple', 'lemon', 'orange']\n",
      "fruits[0:6:1] -> ['pineapple', 'apple', 'lemon', 'strawberry', 'orange', 'kiwi']\n",
      "fruits[-1:-7:-1] -> ['kiwi', 'orange', 'strawberry', 'lemon', 'apple', 'pineapple']\n"
     ]
    }
   ],
   "source": [
    "# Slicing the sequences\n",
    "print(f\"numbers[:2] -> numbers[:2]\")\n",
    "print(f\"numbers[0:2] -> {numbers[0:2]}\")\n",
    "print(f\"numbers[0:4:2] -> {numbers[0:4:2]}\")\n",
    "print(f\"numbers[4:0:-1] -> {numbers[4:0:-1]}\")\n",
    "print(f\"fruits[1:] -> {fruits[1:]}\")\n",
    "print(f\"fruits[::] -> {fruits[::]}\")\n",
    "print(f\"fruits[0:2] -> {fruits[0:2]}\")\n",
    "print(f\"fruits[-2:-1] -> {fruits[-2:-1]}\")\n",
    "print(f\"fruits[3:] -> {fruits[3:]}\")\n",
    "print(f\"fruits[:4] -> {fruits[:4]}\")\n",
    "print(f\"fruits[:]: {fruits[:]}\")\n",
    "print(f\"fruits[::-1] -> {fruits[::-1]}\")\n",
    "print(f\"fruits[::-2] -> {fruits[::-2]}\")\n",
    "print(f\"fruits[::2] -> {fruits[::2]}\")\n",
    "\n",
    "# Understanding some default values\n",
    "print(f\"fruits[0:6:1] -> {fruits[0:6:1]}\")\n",
    "print(f\"fruits[-1:-7:-1] -> {fruits[-1:-7:-1]}\")"
   ]
  },
  {
   "cell_type": "markdown",
   "metadata": {
    "hidden": true
   },
   "source": [
    "## Other Iterables\n",
    "Many things in Python are iterables, but not all of them are sequences. **Dictionaries, file objects, sets, and generators** are all iterables, but none of them is a sequence."
   ]
  },
  {
   "cell_type": "code",
   "execution_count": 105,
   "metadata": {
    "hidden": true
   },
   "outputs": [],
   "source": [
    "my_set = {2, 3, 5}\n",
    "my_dict = {\"name\": \"Ventsislav\", \"age\": 24}\n",
    "# my_file = open(\"*.*\")\n",
    "squares = (n**2 for n in my_set)"
   ]
  },
  {
   "cell_type": "markdown",
   "metadata": {
    "hidden": true
   },
   "source": [
    "## Python’s for loops don’t use indices\n",
    "\n",
    "By default, for loop dose not use indices to iterate the objects. If the data is a kind of sequence, you can use follow snippet code to generate indices and access each element using indices style."
   ]
  },
  {
   "cell_type": "code",
   "execution_count": 106,
   "metadata": {
    "hidden": true
   },
   "outputs": [
    {
     "name": "stdout",
     "output_type": "stream",
     "text": [
      "1\n",
      "2\n",
      "3\n",
      "4\n",
      "5\n"
     ]
    }
   ],
   "source": [
    "index = 0\n",
    "numbers = [1, 2, 3, 4, 5]\n",
    "while index < len(numbers):\n",
    "    print(numbers[index])\n",
    "    index += 1"
   ]
  },
  {
   "cell_type": "markdown",
   "metadata": {
    "hidden": true
   },
   "source": [
    "However, what about the non-sequence objects? They don’t support indexing, so this approach will not work for them."
   ]
  },
  {
   "cell_type": "code",
   "execution_count": 107,
   "metadata": {
    "hidden": true
   },
   "outputs": [
    {
     "ename": "TypeError",
     "evalue": "'set' object is not subscriptable",
     "output_type": "error",
     "traceback": [
      "\u001b[1;31m---------------------------------------------------------------------------\u001b[0m",
      "\u001b[1;31mTypeError\u001b[0m                                 Traceback (most recent call last)",
      "\u001b[1;32m<ipython-input-107-b32402a5ef45>\u001b[0m in \u001b[0;36m<module>\u001b[1;34m()\u001b[0m\n\u001b[0;32m      2\u001b[0m \u001b[0mnumbers\u001b[0m \u001b[1;33m=\u001b[0m \u001b[1;33m{\u001b[0m\u001b[1;36m1\u001b[0m\u001b[1;33m,\u001b[0m \u001b[1;36m2\u001b[0m\u001b[1;33m,\u001b[0m \u001b[1;36m3\u001b[0m\u001b[1;33m,\u001b[0m \u001b[1;36m4\u001b[0m\u001b[1;33m,\u001b[0m \u001b[1;36m5\u001b[0m\u001b[1;33m}\u001b[0m \u001b[1;31m# a set, rather than a sequence\u001b[0m\u001b[1;33m\u001b[0m\u001b[1;33m\u001b[0m\u001b[0m\n\u001b[0;32m      3\u001b[0m \u001b[1;32mwhile\u001b[0m \u001b[0mindex\u001b[0m \u001b[1;33m<\u001b[0m \u001b[0mlen\u001b[0m\u001b[1;33m(\u001b[0m\u001b[0mnumbers\u001b[0m\u001b[1;33m)\u001b[0m\u001b[1;33m:\u001b[0m\u001b[1;33m\u001b[0m\u001b[1;33m\u001b[0m\u001b[0m\n\u001b[1;32m----> 4\u001b[1;33m     \u001b[0mprint\u001b[0m\u001b[1;33m(\u001b[0m\u001b[0mnumbers\u001b[0m\u001b[1;33m[\u001b[0m\u001b[0mindex\u001b[0m\u001b[1;33m]\u001b[0m\u001b[1;33m)\u001b[0m\u001b[1;33m\u001b[0m\u001b[1;33m\u001b[0m\u001b[0m\n\u001b[0m\u001b[0;32m      5\u001b[0m     \u001b[0mindex\u001b[0m \u001b[1;33m+=\u001b[0m \u001b[1;36m1\u001b[0m\u001b[1;33m\u001b[0m\u001b[1;33m\u001b[0m\u001b[0m\n",
      "\u001b[1;31mTypeError\u001b[0m: 'set' object is not subscriptable"
     ]
    }
   ],
   "source": [
    "index = 0\n",
    "numbers = {1, 2, 3, 4, 5} # a set, rather than a sequence\n",
    "while index < len(numbers):\n",
    "    print(numbers[index])\n",
    "    index += 1"
   ]
  },
  {
   "cell_type": "markdown",
   "metadata": {
    "hidden": true
   },
   "source": [
    "Hmmm, but how the Python’s for loop works on these iterables then? We can see that it works with sets."
   ]
  },
  {
   "cell_type": "code",
   "execution_count": 108,
   "metadata": {
    "hidden": true
   },
   "outputs": [
    {
     "name": "stdout",
     "output_type": "stream",
     "text": [
      "1\n",
      "2\n",
      "3\n",
      "4\n",
      "5\n"
     ]
    }
   ],
   "source": [
    "numbers = {1, 2, 3, 4, 5}\n",
    "for number in numbers:\n",
    "    print(number)"
   ]
  },
  {
   "cell_type": "markdown",
   "metadata": {
    "heading_collapsed": true
   },
   "source": [
    "# Iterators\n",
    "\n",
    "An iterator is an object representing a stream of data. You can create an iterator object by applying the **iter()** built-in function to an **iterable**."
   ]
  },
  {
   "cell_type": "code",
   "execution_count": 109,
   "metadata": {
    "hidden": true
   },
   "outputs": [
    {
     "name": "stdout",
     "output_type": "stream",
     "text": [
      "<list_iterator object at 0x00000234B85455C8>\n",
      "<tuple_iterator object at 0x00000234B8545108>\n",
      "<str_iterator object at 0x00000234B8545E48>\n"
     ]
    }
   ],
   "source": [
    "numbers = [10, 12, 15, 18, 20]\n",
    "fruits = (\"apple\", \"pineapple\", \"blueberry\")\n",
    "message = \"I love Python ❤️\"\n",
    "\n",
    "print(iter(numbers))\n",
    "print(iter(fruits))\n",
    "print(iter(message))"
   ]
  },
  {
   "cell_type": "markdown",
   "metadata": {
    "hidden": true
   },
   "source": [
    "### How does a Iterator work? \n",
    "\n",
    "You can use an iterator to manually loop over the iterable it came from. \n",
    "\n",
    "1. You can use the **iter()** built-in function to an **iterable** to create an iterator. \n",
    "2. A repeated passing of the iterator to the built-in function **next()** returns successive items in the stream. For example\n",
    "3. Once, when you consumed an item from the iterator, it’s gone. When no more data are available a **StopIteration** exception is raised."
   ]
  },
  {
   "cell_type": "code",
   "execution_count": 110,
   "metadata": {
    "hidden": true
   },
   "outputs": [
    {
     "name": "stdout",
     "output_type": "stream",
     "text": [
      "10\n",
      "20\n",
      "30\n"
     ]
    },
    {
     "ename": "StopIteration",
     "evalue": "",
     "output_type": "error",
     "traceback": [
      "\u001b[1;31m---------------------------------------------------------------------------\u001b[0m",
      "\u001b[1;31mStopIteration\u001b[0m                             Traceback (most recent call last)",
      "\u001b[1;32m<ipython-input-110-0b8db31460c3>\u001b[0m in \u001b[0;36m<module>\u001b[1;34m()\u001b[0m\n\u001b[0;32m      4\u001b[0m \u001b[0mprint\u001b[0m\u001b[1;33m(\u001b[0m\u001b[0mnext\u001b[0m\u001b[1;33m(\u001b[0m\u001b[0miterator\u001b[0m\u001b[1;33m)\u001b[0m\u001b[1;33m)\u001b[0m\u001b[1;33m\u001b[0m\u001b[1;33m\u001b[0m\u001b[0m\n\u001b[0;32m      5\u001b[0m \u001b[0mprint\u001b[0m\u001b[1;33m(\u001b[0m\u001b[0mnext\u001b[0m\u001b[1;33m(\u001b[0m\u001b[0miterator\u001b[0m\u001b[1;33m)\u001b[0m\u001b[1;33m)\u001b[0m\u001b[1;33m\u001b[0m\u001b[1;33m\u001b[0m\u001b[0m\n\u001b[1;32m----> 6\u001b[1;33m \u001b[0mprint\u001b[0m\u001b[1;33m(\u001b[0m\u001b[0mnext\u001b[0m\u001b[1;33m(\u001b[0m\u001b[0miterator\u001b[0m\u001b[1;33m)\u001b[0m\u001b[1;33m)\u001b[0m \u001b[1;31m# Step 3. A StopIteration is raised because of all elements have been comsumed.\u001b[0m\u001b[1;33m\u001b[0m\u001b[1;33m\u001b[0m\u001b[0m\n\u001b[0m",
      "\u001b[1;31mStopIteration\u001b[0m: "
     ]
    }
   ],
   "source": [
    "values = [10, 20, 30]\n",
    "iterator = iter(values) # Step 1, create an iterator.\n",
    "print(next(iterator)) # Step 2. Get next element from the iterator.\n",
    "print(next(iterator))\n",
    "print(next(iterator))\n",
    "print(next(iterator)) # Step 3. A StopIteration is raised because of all elements have been comsumed."
   ]
  },
  {
   "cell_type": "markdown",
   "metadata": {
    "hidden": true
   },
   "source": [
    "### Additional Notes on Iterators\n",
    "\n",
    "#### The Relationship and Deffierence between itarable and iterator\n",
    "\n",
    "1. An **iterable** is something you can loop over.\n",
    "2. An **iterator** is an object representing a stream of data. It does the iterating over an **iterable**.\n",
    "3. Additionally, in Python, the iterators are also iterables which act as their own iterators.\n",
    "4. However, the difference is that iterators don’t have some of the features that some iterables have. **They don’t have length and can’t be indexed.**\n",
    "\n",
    "\n",
    "\n"
   ]
  },
  {
   "cell_type": "code",
   "execution_count": 111,
   "metadata": {
    "hidden": true
   },
   "outputs": [
    {
     "ename": "TypeError",
     "evalue": "object of type 'list_iterator' has no len()",
     "output_type": "error",
     "traceback": [
      "\u001b[1;31m---------------------------------------------------------------------------\u001b[0m",
      "\u001b[1;31mTypeError\u001b[0m                                 Traceback (most recent call last)",
      "\u001b[1;32m<ipython-input-111-043e91f322c9>\u001b[0m in \u001b[0;36m<module>\u001b[1;34m()\u001b[0m\n\u001b[0;32m      1\u001b[0m \u001b[0mnumbers\u001b[0m \u001b[1;33m=\u001b[0m \u001b[1;33m[\u001b[0m\u001b[1;36m100\u001b[0m\u001b[1;33m,\u001b[0m \u001b[1;36m200\u001b[0m\u001b[1;33m,\u001b[0m \u001b[1;36m300\u001b[0m\u001b[1;33m]\u001b[0m\u001b[1;33m\u001b[0m\u001b[1;33m\u001b[0m\u001b[0m\n\u001b[0;32m      2\u001b[0m \u001b[0miterator\u001b[0m \u001b[1;33m=\u001b[0m \u001b[0miter\u001b[0m\u001b[1;33m(\u001b[0m\u001b[0mnumbers\u001b[0m\u001b[1;33m)\u001b[0m\u001b[1;33m\u001b[0m\u001b[1;33m\u001b[0m\u001b[0m\n\u001b[1;32m----> 3\u001b[1;33m \u001b[0mprint\u001b[0m\u001b[1;33m(\u001b[0m\u001b[0mlen\u001b[0m\u001b[1;33m(\u001b[0m\u001b[0miterator\u001b[0m\u001b[1;33m)\u001b[0m\u001b[1;33m)\u001b[0m \u001b[1;31m## There is no length of an iterator.\u001b[0m\u001b[1;33m\u001b[0m\u001b[1;33m\u001b[0m\u001b[0m\n\u001b[0m",
      "\u001b[1;31mTypeError\u001b[0m: object of type 'list_iterator' has no len()"
     ]
    }
   ],
   "source": [
    "numbers = [100, 200, 300]\n",
    "iterator = iter(numbers)\n",
    "print(len(iterator)) ## There is no length of an iterator."
   ]
  },
  {
   "cell_type": "code",
   "execution_count": 112,
   "metadata": {
    "hidden": true
   },
   "outputs": [
    {
     "ename": "TypeError",
     "evalue": "'list_iterator' object is not subscriptable",
     "output_type": "error",
     "traceback": [
      "\u001b[1;31m---------------------------------------------------------------------------\u001b[0m",
      "\u001b[1;31mTypeError\u001b[0m                                 Traceback (most recent call last)",
      "\u001b[1;32m<ipython-input-112-43b776bd635c>\u001b[0m in \u001b[0;36m<module>\u001b[1;34m()\u001b[0m\n\u001b[0;32m      1\u001b[0m \u001b[0mnumbers\u001b[0m \u001b[1;33m=\u001b[0m \u001b[1;33m[\u001b[0m\u001b[1;36m100\u001b[0m\u001b[1;33m,\u001b[0m \u001b[1;36m200\u001b[0m\u001b[1;33m,\u001b[0m \u001b[1;36m300\u001b[0m\u001b[1;33m]\u001b[0m\u001b[1;33m\u001b[0m\u001b[1;33m\u001b[0m\u001b[0m\n\u001b[0;32m      2\u001b[0m \u001b[0miterator\u001b[0m \u001b[1;33m=\u001b[0m \u001b[0miter\u001b[0m\u001b[1;33m(\u001b[0m\u001b[0mnumbers\u001b[0m\u001b[1;33m)\u001b[0m\u001b[1;33m\u001b[0m\u001b[1;33m\u001b[0m\u001b[0m\n\u001b[1;32m----> 3\u001b[1;33m \u001b[0mprint\u001b[0m\u001b[1;33m(\u001b[0m\u001b[0miterator\u001b[0m\u001b[1;33m[\u001b[0m\u001b[1;36m0\u001b[0m\u001b[1;33m]\u001b[0m\u001b[1;33m)\u001b[0m \u001b[1;31m## Iterator cannot be indexed\u001b[0m\u001b[1;33m\u001b[0m\u001b[1;33m\u001b[0m\u001b[0m\n\u001b[0m",
      "\u001b[1;31mTypeError\u001b[0m: 'list_iterator' object is not subscriptable"
     ]
    }
   ],
   "source": [
    "numbers = [100, 200, 300]\n",
    "iterator = iter(numbers)\n",
    "print(iterator[0]) ## Iterator cannot be indexed"
   ]
  },
  {
   "cell_type": "markdown",
   "metadata": {
    "hidden": true
   },
   "source": [
    "#### Iterators are lazy\n",
    "\n",
    "Iterators allow us to both work with and create **lazy iterables** that don’t do any work until we ask them for their next item.\n",
    "\n",
    "Because of their laziness, the iterators can help us to deal with following two scnerios: \n",
    "\n",
    "1. Infinitely long iterables\n",
    "2. Loading and iterating a huge size of data in a iterator manner to save us a lot of memory and CPU time. Espeically, there is no enough memory to hold entire datasets. Since we can use an iterator which can give us the next item every time we ask it. \n",
    "\n",
    "Many people use Python to solve Data Science problems. In some cases, the data you work with can be very large. In this cases, we can’t load all the data in the memory.\n",
    "The solution is to load the **data in chunks**, then perform the desired operation/s on each chunk, discard the chunk and load the next chunk of data. Said in other words we need to create an iterator. We can achieve this by using the *read_csv* function in pandas. We just need to specify the chunksize.\n",
    "\n",
    "**Example: Loading Large DataSets**"
   ]
  },
  {
   "cell_type": "code",
   "execution_count": 113,
   "metadata": {
    "hidden": true
   },
   "outputs": [
    {
     "name": "stdout",
     "output_type": "stream",
     "text": [
      "{'Iris-setosa': 50, 'Iris-versicolor': 50, 'Iris-virginica': 50}\n"
     ]
    }
   ],
   "source": [
    "import pandas as pd\n",
    "\n",
    "# Initialize an empty dictionary\n",
    "counts_dict = {}\n",
    "\n",
    "# Iterate over the file chunk by chunk\n",
    "for chunk in pd.read_csv(\"data/iris.csv\", chunksize = 10):\n",
    "    # Iterate over the \"Species\" column in DataFrame\n",
    "    for entry in chunk[\"Species\"]:\n",
    "        if entry in counts_dict.keys():\n",
    "            counts_dict[entry] += 1\n",
    "        else:\n",
    "            counts_dict[entry] = 1\n",
    "\n",
    "# Print the populated dictionary\n",
    "print(counts_dict)"
   ]
  },
  {
   "cell_type": "markdown",
   "metadata": {
    "hidden": true
   },
   "source": [
    "### Iterators are everywhere\n",
    "We have seen some examples with iterators. Moreover, Python has many built-in classes that are iterators, which includes:\n",
    "\n",
    "1. **enumerate**\n",
    "2. **reversed**\n",
    "3. **zip**\n",
    "4. **map**\n",
    "5. **filer**\n",
    "6. **open**\n",
    "\n"
   ]
  },
  {
   "cell_type": "code",
   "execution_count": 114,
   "metadata": {
    "hidden": true
   },
   "outputs": [
    {
     "name": "stdout",
     "output_type": "stream",
     "text": [
      "<class 'enumerate'>\n",
      "(0, 'apple')\n",
      "0 apple\n",
      "1 pineapple\n",
      "2 blueberry\n"
     ]
    }
   ],
   "source": [
    "## enumerate example\n",
    "fruits = (\"apple\", \"pineapple\", \"blueberry\")\n",
    "iterator = enumerate(fruits)\n",
    "print(type(iterator))\n",
    "print(next(iterator))\n",
    "\n",
    "for index, ele in enumerate(fruits):\n",
    "    print(index, ele)"
   ]
  },
  {
   "cell_type": "code",
   "execution_count": 115,
   "metadata": {
    "hidden": true
   },
   "outputs": [
    {
     "name": "stdout",
     "output_type": "stream",
     "text": [
      "<class 'reversed'>\n",
      "blueberry\n",
      "blueberry\n",
      "pineapple\n",
      "apple\n"
     ]
    }
   ],
   "source": [
    "# Reversed examples\n",
    "fruits = (\"apple\", \"pineapple\", \"blueberry\")\n",
    "iterator = reversed(fruits)\n",
    "print(type(iterator))\n",
    "print(next(iterator))\n",
    "for ele in reversed(fruits):\n",
    "    print(ele)"
   ]
  },
  {
   "cell_type": "code",
   "execution_count": 116,
   "metadata": {
    "hidden": true
   },
   "outputs": [
    {
     "name": "stdout",
     "output_type": "stream",
     "text": [
      "<class 'zip'>\n",
      "(1, 1)\n",
      "(2, 4)\n",
      "1 1\n",
      "2 4\n",
      "3 9\n"
     ]
    }
   ],
   "source": [
    "# Zip example\n",
    "numbers = [1, 2, 3]\n",
    "squares = [1, 4, 9]\n",
    "iterator = zip(numbers, squares)\n",
    "print(type(iterator))\n",
    "print(next(iterator))\n",
    "print(next(iterator))\n",
    "\n",
    "for n, s in zip(numbers, squares):\n",
    "    print(n, s)"
   ]
  },
  {
   "cell_type": "code",
   "execution_count": 117,
   "metadata": {
    "hidden": true
   },
   "outputs": [
    {
     "name": "stdout",
     "output_type": "stream",
     "text": [
      "<class 'map'>\n",
      "1\n",
      "4\n"
     ]
    }
   ],
   "source": [
    "# Map examples\n",
    "\n",
    "numbers = [1, 2, 3, 4, 5]\n",
    "squared = map(lambda x: x**2, numbers)\n",
    "print(type(squared))\n",
    "print(next(squared))\n",
    "print(next(squared))"
   ]
  },
  {
   "cell_type": "code",
   "execution_count": 118,
   "metadata": {
    "hidden": true
   },
   "outputs": [
    {
     "name": "stdout",
     "output_type": "stream",
     "text": [
      "<class 'filter'>\n",
      "3\n"
     ]
    }
   ],
   "source": [
    "# Filter Example\n",
    "\n",
    "numbers = [-1, -2, 3, -4, 5]\n",
    "positive = filter(lambda x: x > 0, numbers)\n",
    "print(type(positive))\n",
    "print(next(positive))"
   ]
  },
  {
   "cell_type": "code",
   "execution_count": 119,
   "metadata": {
    "hidden": true
   },
   "outputs": [
    {
     "name": "stdout",
     "output_type": "stream",
     "text": [
      "<class '_io.TextIOWrapper'>\n",
      "da\n",
      "\n",
      "a\n",
      "\n",
      "b\n",
      "\n"
     ]
    }
   ],
   "source": [
    "# Moreover, the file objects in Python are also iterators.\n",
    "file = open(\"data/example.txt\")\n",
    "print(type(file))\n",
    "print(next(file))\n",
    "print(next(file))\n",
    "print(next(file))\n",
    "file.close()"
   ]
  },
  {
   "cell_type": "code",
   "execution_count": 120,
   "metadata": {
    "hidden": true
   },
   "outputs": [
    {
     "name": "stdout",
     "output_type": "stream",
     "text": [
      "<class 'dict_items'>\n",
      "name Ventsislav\n",
      "age 24\n"
     ]
    }
   ],
   "source": [
    "# We can also iterate over key-value pairs of a Python dictionary using the items() method.\n",
    "my_dict = {\"name\": \"Ventsislav\", \"age\": 24}\n",
    "iterator = my_dict.items()\n",
    "print(type(iterator))\n",
    "for key, item in iterator:\n",
    "    print(key, item)"
   ]
  },
  {
   "cell_type": "markdown",
   "metadata": {
    "hidden": true
   },
   "source": []
  },
  {
   "cell_type": "code",
   "execution_count": 121,
   "metadata": {
    "hidden": true
   },
   "outputs": [],
   "source": [
    "def custom_for_loop(iterable, action_to_do):\n",
    "    iterator = iter(iterable) # Step 1\n",
    "    done_looping = False\n",
    "    while not done_looping:\n",
    "        try:\n",
    "            item = next(iterator) # Step 2\n",
    "        except StopIteration:\n",
    "            done_looping = True # Step 4\n",
    "        else:\n",
    "            action_to_do(item) # Step 3"
   ]
  },
  {
   "cell_type": "code",
   "execution_count": 122,
   "metadata": {
    "hidden": true
   },
   "outputs": [
    {
     "name": "stdout",
     "output_type": "stream",
     "text": [
      "1\n",
      "2\n",
      "3\n",
      "4\n",
      "5\n"
     ]
    }
   ],
   "source": [
    "# Let’s try to use this function with a set of numbers and the print built-in function.\n",
    "\n",
    "numbers = {1, 2, 3, 4, 5}\n",
    "custom_for_loop(numbers, print)"
   ]
  },
  {
   "cell_type": "markdown",
   "metadata": {
    "hidden": true
   },
   "source": [
    "We can see that the function we’ve defined works very well with sets, which are not sequences. This time we can pass **any iterable** and it will work. \n",
    "\n",
    "Under the hood, all forms of **looping over iterables** in Python is working this way."
   ]
  },
  {
   "cell_type": "markdown",
   "metadata": {
    "hidden": true
   },
   "source": [
    "## Creating a custom iterator with defining a Class"
   ]
  },
  {
   "cell_type": "markdown",
   "metadata": {
    "hidden": true
   },
   "source": [
    "## Defining a iterator by conventional way\n",
    "\n",
    "In some cases, we may want to create a **custom** iterator. We can do that by defining a class that has **\\__init\\__**, **\\__next\\__**, and **\\__iter\\__** methods. Let’s try to create a custom iterator class that generate numbers between min value and max value."
   ]
  },
  {
   "cell_type": "code",
   "execution_count": 123,
   "metadata": {
    "hidden": true
   },
   "outputs": [],
   "source": [
    "class generate_numbers:\n",
    "    def __init__(self, min_value, max_value):\n",
    "        self.current = min_value\n",
    "        self.high = max_value\n",
    "\n",
    "    def __iter__(self):\n",
    "        return self\n",
    "\n",
    "    def __next__(self):\n",
    "        if self.current > self.high:\n",
    "            raise StopIteration\n",
    "        else:\n",
    "            self.current += 1\n",
    "            return self.current - 1"
   ]
  },
  {
   "cell_type": "code",
   "execution_count": 124,
   "metadata": {
    "hidden": true
   },
   "outputs": [
    {
     "name": "stdout",
     "output_type": "stream",
     "text": [
      "<class '__main__.generate_numbers'>\n",
      "40\n",
      "41\n",
      "42\n"
     ]
    }
   ],
   "source": [
    "numbers = generate_numbers(40, 50)\n",
    "print(type(numbers))\n",
    "print(next(numbers))\n",
    "print(next(numbers))\n",
    "print(next(numbers))"
   ]
  },
  {
   "cell_type": "markdown",
   "metadata": {
    "hidden": true
   },
   "source": [
    "## Generator Functions and Generator Expressions\n",
    "\n",
    "Usually, we use a generator function or generator expression when we want to create a custom iterator. They are simpler to use and need less code to achieve the same result.\n",
    "\n",
    "### Generator Functions\n",
    "\n",
    "**[Definition]** A function which returns a generator iterator. It looks like a normal function except that it contains **yield** expressions for producing a series of values usable in a **for-loop** or that can be retrieved one at a time with the **next()** function.\n",
    "\n",
    "Now, we can try to re-create our custom iterator using a generator function."
   ]
  },
  {
   "cell_type": "code",
   "execution_count": 125,
   "metadata": {
    "hidden": true
   },
   "outputs": [],
   "source": [
    "def generate_numbers(min_value, max_value):\n",
    "    while min_value < max_value:\n",
    "        yield min_value\n",
    "        min_value += 1"
   ]
  },
  {
   "cell_type": "code",
   "execution_count": 126,
   "metadata": {
    "hidden": true
   },
   "outputs": [
    {
     "name": "stdout",
     "output_type": "stream",
     "text": [
      "<class 'generator'>\n",
      "10\n",
      "11\n",
      "12\n"
     ]
    }
   ],
   "source": [
    "numbers = generate_numbers(10, 20)\n",
    "print(type(numbers))\n",
    "print(next(numbers))\n",
    "print(next(numbers))\n",
    "print(next(numbers))"
   ]
  },
  {
   "cell_type": "markdown",
   "metadata": {
    "hidden": true
   },
   "source": [
    "The yield expression is the thing that separates a generation function from a normal function. This expression is helping us to use the iterator’s laziness.\n",
    "\n",
    "**[Definition]** Each *yield* temporarily suspends processing, remembering the location execution state (including local variables and pending try-statements). When the generator iterator resumes, it picks up where it left off (in contrast to functions which start fresh on every invocation)."
   ]
  },
  {
   "cell_type": "markdown",
   "metadata": {
    "hidden": true
   },
   "source": [
    "### Generator Expressions\n",
    "\n",
    "The **generator expressions** are very similar to the **list comprehensions**. Just like a list comprehension, the general expressions are concise. In most cases, they are written in one line of code.\n",
    "\n",
    "**[Definition]** An expression that returns an iterator. It looks like a normal expression followed by a *for* expression defining a loop variable, range, and an optional *if* expression.\n",
    "\n",
    "The **general formula** is:  (*output expression* **for** *iterator variable* **in** *iterable*)\n",
    "\n",
    "Let’s see how we can define a simple generator expression."
   ]
  },
  {
   "cell_type": "code",
   "execution_count": 127,
   "metadata": {
    "hidden": true
   },
   "outputs": [
    {
     "name": "stdout",
     "output_type": "stream",
     "text": [
      "<class 'generator'>\n",
      "1\n",
      "4\n",
      "9\n"
     ]
    }
   ],
   "source": [
    "numbers = [1, 2, 3, 4, 5]\n",
    "squares = (number**2 for number in numbers)\n",
    "print(type(squares))\n",
    "print(next(squares))\n",
    "print(next(squares))\n",
    "print(next(squares))"
   ]
  },
  {
   "cell_type": "markdown",
   "metadata": {
    "hidden": true
   },
   "source": [
    "We can also add a **conditional expression** on the iterable. We can do it like this:"
   ]
  },
  {
   "cell_type": "code",
   "execution_count": 128,
   "metadata": {
    "hidden": true
   },
   "outputs": [
    {
     "name": "stdout",
     "output_type": "stream",
     "text": [
      "<class 'generator'>\n",
      "[4, 16]\n"
     ]
    }
   ],
   "source": [
    "numbers = [1, 2, 3, 4, 5]\n",
    "squares = (number**2 for number in numbers if number % 2 == 0)\n",
    "print(type(squares))\n",
    "print(list(squares))"
   ]
  },
  {
   "cell_type": "markdown",
   "metadata": {
    "hidden": true
   },
   "source": [
    "They can be **multiple conditional expressions** on the **iterable** for more complex filtering."
   ]
  },
  {
   "cell_type": "code",
   "execution_count": 129,
   "metadata": {
    "hidden": true
   },
   "outputs": [
    {
     "name": "stdout",
     "output_type": "stream",
     "text": [
      "<class 'generator'>\n",
      "[16]\n"
     ]
    }
   ],
   "source": [
    "numbers = [1, 2, 3, 4, 5]\n",
    "squares = (number**2 for number in numbers if number % 2 == 0 if number % 4 == 0)\n",
    "print(type(squares))\n",
    "print(list(squares))"
   ]
  },
  {
   "cell_type": "markdown",
   "metadata": {
    "hidden": true
   },
   "source": [
    "Also, we can add an **if-else clause** on the **output expression** like this:"
   ]
  },
  {
   "cell_type": "code",
   "execution_count": 130,
   "metadata": {
    "hidden": true
   },
   "outputs": [
    {
     "name": "stdout",
     "output_type": "stream",
     "text": [
      "<class 'generator'>\n",
      "['odd', 'even', 'odd', 'even', 'odd']\n"
     ]
    }
   ],
   "source": [
    "numbers = [1, 2, 3, 4, 5]\n",
    "result = (\"even\" if number % 2 == 0 else \"odd\" for number in numbers)\n",
    "print(type(result))\n",
    "print(list(result))"
   ]
  },
  {
   "cell_type": "markdown",
   "metadata": {},
   "source": [
    "# Understanding how Python’s for loop works\n",
    "\n",
    "Under the hood, Python’s for loop is using **iterators**. Now, we know what the iterables and iterators are and how to use them. We can try to define a function that loops through an iterable **without using a for loop**. We can achieve it using following procedure:\n",
    "1. Create an iterator from the given iterable\n",
    "2. Repedeatly get the next item from the iterator\n",
    "3. Execute the wanted action\n",
    "4. Stop the looping, if we got a StopIteration exception when we’re trying to get the next item"
   ]
  },
  {
   "cell_type": "markdown",
   "metadata": {
    "heading_collapsed": true
   },
   "source": [
    "# Comprehension\n",
    "\n",
    "Comprehensions in Python provide us with a short and concise way to construct new sequences (such as lists, set, dictionary etc.) using sequences which have been already defined. This idea is borrowed from the functional programming language Haskell. Python supports the following 4 types of comprehensions:\n",
    "\n",
    "1. List comprehension\n",
    "2. Set comprehension\n",
    "3. Dictionary Comprehensions\n",
    "4. Generator comprehension\n",
    "\n",
    "\n",
    "Usually, the formal definition is \n",
    "\n",
    "```\n",
    "[( | { | [ ] expression for expr in sequence1\n",
    "             if condition1\n",
    "             for expr2 in sequence2\n",
    "             if condition2\n",
    "             for expr3 in sequence3 ...\n",
    "             if condition3\n",
    "             for exprN in sequenceN\n",
    "             if conditionN [] | } | )]\n",
    "```\n",
    "To put it another way, comprehensions are equivalent to the following Python code:\n",
    "```\n",
    "for expr1 in sequence1:\n",
    "    if not (condition1):\n",
    "        continue   # Skip this element\n",
    "    for expr2 in sequence2:\n",
    "        if not (condition2):\n",
    "            continue   # Skip this element\n",
    "        ...\n",
    "        for exprN in sequenceN:\n",
    "            if not (conditionN):\n",
    "                continue   # Skip this element\n",
    "\n",
    "            # Output the value of\n",
    "            # the expression.\n",
    "```\n",
    "\n"
   ]
  },
  {
   "cell_type": "markdown",
   "metadata": {
    "hidden": true
   },
   "source": [
    "## List comprehension\n",
    "\n",
    "List Comprehensions provide an elegant way to create new lists. The following is the basic structure of a list comprehension:\n",
    "\n",
    "output_list = **[output_exp for var in input_list if (var satisfies this condition)]**\n",
    "\n",
    "Note that list comprehension may or may not contain an if condition. List comprehensions can contain multiple for (nested list comprehensions)."
   ]
  },
  {
   "cell_type": "code",
   "execution_count": 131,
   "metadata": {
    "hidden": true
   },
   "outputs": [
    {
     "name": "stdout",
     "output_type": "stream",
     "text": [
      "new_list: <class 'list'> -> [2, 3, 4, 5, 6]\n"
     ]
    }
   ],
   "source": [
    "set_list = {1, 2, 3, 4, 5}\n",
    "new_list = [i + 1 for i in set_list]\n",
    "print(f\"new_list: {type(new_list)} -> {new_list}\")"
   ]
  },
  {
   "cell_type": "markdown",
   "metadata": {
    "hidden": true
   },
   "source": [
    "## Dictionary Comprehensions\n",
    "\n",
    "Extending the idea of list comprehensions, we can also create a dictionary using dictionary comprehensions. The basic structure of a dictionary comprehension looks like below.\n",
    "\n",
    "output_dict = **{key:value for (key, value) in iterable if (key, value satisfy this condition)}**"
   ]
  },
  {
   "cell_type": "code",
   "execution_count": 132,
   "metadata": {
    "hidden": true
   },
   "outputs": [
    {
     "name": "stdout",
     "output_type": "stream",
     "text": [
      "[1] dict_using_comp: <class 'dict'> -> {1: 1, 3: 27, 5: 125}\n",
      "[2] dict_using_comp: <class 'dict'> -> {'Gujarat': 'Gandhinagar', 'Maharashtra': 'Mumbai', 'Rajasthan': 'Jaipur'}\n"
     ]
    }
   ],
   "source": [
    "set_list = {1, 2, 3, 4, 5}\n",
    "dict_using_comp = {var:var ** 3 for var in set_list if var % 2 != 0}\n",
    "print(f\"[1] dict_using_comp: {type(dict_using_comp)} -> {dict_using_comp}\")\n",
    "\n",
    "\n",
    "state = ['Gujarat', 'Maharashtra', 'Rajasthan']\n",
    "capital = ['Gandhinagar', 'Mumbai', 'Jaipur']\n",
    "dict_using_comp = {key:value for (key, value) in zip(state, capital)} \n",
    "print(f\"[2] dict_using_comp: {type(dict_using_comp)} -> {dict_using_comp}\")"
   ]
  },
  {
   "cell_type": "markdown",
   "metadata": {
    "hidden": true
   },
   "source": [
    "## Set Comprehensions\n",
    "Set comprehensions are pretty similar to list comprehensions. The only difference between them is that set comprehensions use curly brackets { }.\n",
    "\n",
    "output_set = **{output_exp for var in input_list if (var satisfies this condition)}**"
   ]
  },
  {
   "cell_type": "code",
   "execution_count": 133,
   "metadata": {
    "hidden": true
   },
   "outputs": [
    {
     "name": "stdout",
     "output_type": "stream",
     "text": [
      "new_set_list: <class 'set'> -> {2, 3, 4, 5, 6}\n"
     ]
    }
   ],
   "source": [
    "set_list = {1, 2, 3, 4, 5}\n",
    "new_set_list = {i + 1 for i in set_list}\n",
    "print(f\"new_set_list: {type(new_set_list)} -> {new_set_list}\")"
   ]
  },
  {
   "cell_type": "markdown",
   "metadata": {
    "hidden": true
   },
   "source": [
    "## Generator Comprehensions\n",
    "\n",
    "Generator Comprehensions are very similar to list comprehensions. One difference between them is that generator comprehensions use circular brackets whereas list comprehensions use square brackets. The major difference between them is that generators don’t allocate memory for the whole list. Instead, they generate each value one by one which is why they are memory efficient. \n",
    "\n",
    "output_generator = \n",
    "\n",
    "Let’s look at the following example to understand generator comprehension:"
   ]
  },
  {
   "cell_type": "code",
   "execution_count": 134,
   "metadata": {
    "hidden": true
   },
   "outputs": [
    {
     "name": "stdout",
     "output_type": "stream",
     "text": [
      "new_list_generator: <class 'generator'> -> 2\n"
     ]
    }
   ],
   "source": [
    "set_list = {1, 2, 3, 4, 5}\n",
    "new_list_generator = (i + 1 for i in set_list)\n",
    "print(f\"new_list_generator: {type(new_list_generator)} -> {next(new_list_generator)}\")"
   ]
  },
  {
   "cell_type": "markdown",
   "metadata": {
    "heading_collapsed": true
   },
   "source": [
    "# Summary\n",
    "1. List comprehensions provide us with a simple way to create a list based on some iterable.\n",
    "2. The comprehensions are more efficient than using a for a loop.\n",
    "3. We can use conditional statements in the comprehensions.\n",
    "4. Comprehensions are a good alternative to the built-in map and filter functions.\n",
    "5. We can have nested comprehensions.\n",
    "6. In Python, we have also dictionary comprehensions and set comprehensions.\n",
    "7. Generator expressions are preferable when we work with an infinite stream of a very large amount of data.\n",
    "8. An iterable is something you can loop over.\n",
    "9. Sequences are a very common type of iterable\n",
    "10. Many things in Python are iterables, but not all of them are sequences.\n",
    "11. An iterator is an object representing a stream of data. It does the iterating over an iterable. You can use an iterator to get the next value or to loop over it. Once, you loop over an iterator, there are no more stream values.\n",
    "12. Iterators use the lazy evaluation approach.\n",
    "13. Many built-in classes in Python are iterators.\n",
    "14. A generator function is a function which returns an iterator.\n",
    "15. A generator expression is an expression that returns an iterator."
   ]
  },
  {
   "cell_type": "code",
   "execution_count": null,
   "metadata": {
    "hidden": true
   },
   "outputs": [],
   "source": []
  }
 ],
 "metadata": {
  "kernelspec": {
   "display_name": "Python 3",
   "language": "python",
   "name": "python3"
  },
  "language_info": {
   "codemirror_mode": {
    "name": "ipython",
    "version": 3
   },
   "file_extension": ".py",
   "mimetype": "text/x-python",
   "name": "python",
   "nbconvert_exporter": "python",
   "pygments_lexer": "ipython3",
   "version": "3.7.8"
  },
  "latex_envs": {
   "LaTeX_envs_menu_present": true,
   "autoclose": true,
   "autocomplete": true,
   "bibliofile": "biblio.bib",
   "cite_by": "apalike",
   "current_citInitial": 1,
   "eqLabelWithNumbers": true,
   "eqNumInitial": 1,
   "hotkeys": {
    "equation": "Ctrl-E",
    "itemize": "Ctrl-I"
   },
   "labels_anchors": false,
   "latex_user_defs": false,
   "report_style_numbering": false,
   "user_envs_cfg": false
  },
  "toc": {
   "base_numbering": 1,
   "nav_menu": {},
   "number_sections": true,
   "sideBar": true,
   "skip_h1_title": false,
   "title_cell": "Table of Contents",
   "title_sidebar": "Contents",
   "toc_cell": false,
   "toc_position": {},
   "toc_section_display": true,
   "toc_window_display": false
  }
 },
 "nbformat": 4,
 "nbformat_minor": 4
}
