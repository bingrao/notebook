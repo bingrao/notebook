{
 "cells": [
  {
   "cell_type": "markdown",
   "id": "b6d37260",
   "metadata": {
    "heading_collapsed": true
   },
   "source": [
    "# Introduction and Background\n",
    "\n",
    "By definition, a **decorator** is a function that takes another function and extends the behavior of the latter function without explicitly modifying it. Decorators provide a simple syntax for calling [higher-order functions](https://en.wikipedia.org/wiki/Higher-order_function)."
   ]
  },
  {
   "cell_type": "markdown",
   "id": "a31d460f",
   "metadata": {
    "heading_collapsed": true,
    "hidden": true
   },
   "source": [
    "## Functions\n",
    "\n",
    "There are two kinds of functions:\n",
    "1. **First-order function**:\n",
    "     - Takes one or more non-function objects, like string, int, float, list, and so on, as arguments and return non-function objects\n",
    "\n",
    "2. **Higher-order function**: \n",
    "    - takes one or more functions as arguments (i.e. a procedural parameter, which is a parameter of a procedure that is itself a procedure); \n",
    "    - returns a function as its result.\n",
    "    - In mathematics higher-order functions are also termed operators or functionals\n",
    "    \n",
    "3. **Inner Functions**:\n",
    "    - Defined inside other functions\n",
    "    - they are locally scoped to their parents, and only exist inside the parent() function as local variables\n",
    "    - the inner functions are not defined until the parent function is called\n",
    "\n",
    "\n",
    "**First-Class Objects**:\n",
    "In Python, functions are first-class objects. This means that functions can be passed around and used as arguments, just like any other object (string, int, float, list, and so on). Consider the following three functions:"
   ]
  },
  {
   "cell_type": "code",
   "execution_count": 2,
   "id": "43e03b88",
   "metadata": {
    "hidden": true
   },
   "outputs": [],
   "source": [
    "## first and higher function Examples###\n",
    "\n",
    "# first-order function\n",
    "def say_hello(name):\n",
    "    return f\"Hello {name}\"\n",
    "\n",
    "# first-order function\n",
    "def be_awesome(name):\n",
    "    return f\"Yo {name}, together we are the awesomest!\"\n",
    "\n",
    "# higher-order function taking a function as parameter\n",
    "def greet_bob(greeter_func):\n",
    "    return greeter_func(\"Bob\")"
   ]
  },
  {
   "cell_type": "code",
   "execution_count": 5,
   "id": "93afe9c7",
   "metadata": {
    "hidden": true
   },
   "outputs": [
    {
     "data": {
      "text/plain": [
       "'Hello Bob'"
      ]
     },
     "execution_count": 5,
     "metadata": {},
     "output_type": "execute_result"
    }
   ],
   "source": [
    "# Note that greet_bob(say_hello) refers to two functions, but in different ways: greet_bob() and say_hello. \n",
    "# The say_hello function is named without parentheses. This means that only a reference to the function is passed. \n",
    "# The function is not executed. The greet_bob() function, on the other hand, is written with parentheses, \n",
    "# so it will be called as usual.\n",
    "greet_bob(say_hello)"
   ]
  },
  {
   "cell_type": "code",
   "execution_count": 6,
   "id": "afa3c538",
   "metadata": {
    "hidden": true
   },
   "outputs": [
    {
     "data": {
      "text/plain": [
       "'Yo Bob, together we are the awesomest!'"
      ]
     },
     "execution_count": 6,
     "metadata": {},
     "output_type": "execute_result"
    }
   ],
   "source": [
    "greet_bob(be_awesome)"
   ]
  },
  {
   "cell_type": "code",
   "execution_count": 7,
   "id": "0af1d334",
   "metadata": {
    "hidden": true
   },
   "outputs": [],
   "source": [
    "## inner function Examples###\n",
    "\n",
    "def parent():\n",
    "    print(\"Printing from the parent() function\")\n",
    "    \n",
    "    # inner function\n",
    "    def first_child():\n",
    "        print(\"Printing from the first_child() function\")\n",
    "    \n",
    "    # inner function\n",
    "    def second_child():\n",
    "        print(\"Printing from the second_child() function\")\n",
    "\n",
    "    second_child()\n",
    "    first_child()"
   ]
  },
  {
   "cell_type": "code",
   "execution_count": 8,
   "id": "1f6437e7",
   "metadata": {
    "hidden": true
   },
   "outputs": [
    {
     "name": "stdout",
     "output_type": "stream",
     "text": [
      "Printing from the parent() function\n",
      "Printing from the second_child() function\n",
      "Printing from the first_child() function\n"
     ]
    }
   ],
   "source": [
    "# Note that the order in which the inner functions are defined does not matter. \n",
    "# Like with any other functions, the printing only happens when the inner functions are executed.\n",
    "parent()"
   ]
  },
  {
   "cell_type": "code",
   "execution_count": 10,
   "id": "bb593471",
   "metadata": {
    "hidden": true
   },
   "outputs": [],
   "source": [
    "## Returning Functions From Functions\n",
    "\n",
    "def parent(num):\n",
    "    def first_child():\n",
    "        return \"Hi, I am Emma\"\n",
    "\n",
    "    def second_child():\n",
    "        return \"Call me Liam\"\n",
    "\n",
    "    if num == 1:\n",
    "        return first_child\n",
    "    else:\n",
    "        return second_child"
   ]
  },
  {
   "cell_type": "markdown",
   "id": "d877993c",
   "metadata": {
    "hidden": true
   },
   "source": [
    "Note that you are returning first_child without the parentheses. Recall that this means that you are **returning a reference to the function** first_child. In contrast first_child() with parentheses refers to the result of evaluating the function. This can be seen in the following example"
   ]
  },
  {
   "cell_type": "code",
   "execution_count": 13,
   "id": "17d49eab",
   "metadata": {
    "hidden": true
   },
   "outputs": [
    {
     "name": "stdout",
     "output_type": "stream",
     "text": [
      "first: <function parent.<locals>.first_child at 0x7fb9a8b5d320>\n",
      "second: <function parent.<locals>.second_child at 0x7fb9a8b5d170>\n",
      "Hi, I am Emma\n",
      "Call me Liam\n"
     ]
    }
   ],
   "source": [
    "first = parent(1)\n",
    "second = parent(2)\n",
    "print(f\"first: {first}\")\n",
    "print(f\"second: {second}\")\n",
    "print(first())\n",
    "print(second())"
   ]
  },
  {
   "cell_type": "markdown",
   "id": "cba2cf46",
   "metadata": {
    "heading_collapsed": true,
    "hidden": true
   },
   "source": [
    "## My First Decorators\n",
    "\n",
    "Now that you’ve seen that functions are just like any other object in Python, you’re ready to move on and see the magical beast that is the Python decorator. Let’s start with an example:"
   ]
  },
  {
   "cell_type": "code",
   "execution_count": 23,
   "id": "65937af0",
   "metadata": {
    "hidden": true
   },
   "outputs": [
    {
     "data": {
      "text/plain": [
       "<function __main__.my_first_decorator.<locals>.wrapper()>"
      ]
     },
     "execution_count": 23,
     "metadata": {},
     "output_type": "execute_result"
    }
   ],
   "source": [
    "def my_first_decorator(func):\n",
    "    def wrapper():\n",
    "        \"\"\"\n",
    "        Define a inner wrapper function wraping an argument functor \n",
    "        with pre-defined behaviors. In this example, we use two print statement \n",
    "        to wrap \"func()\"\n",
    "        \"\"\"\n",
    "        print(\"Something is happening before the function is called.\")\n",
    "        func()\n",
    "        print(\"Something is happening after the function is called.\")\n",
    "    return wrapper\n",
    "\n",
    "def say_whee():\n",
    "    print(\"Whee!\")\n",
    "# Call [my_first_decorator] function taking [say_whee] as a argument.\n",
    "say_whee = my_first_decorator(say_whee)\n",
    "\n",
    "# In effect, the name say_whee now points to the wrapper() inner function. \n",
    "# Remember that you return wrapper as a function when you call my_decorator(say_whee)\n",
    "say_whee"
   ]
  },
  {
   "cell_type": "code",
   "execution_count": 19,
   "id": "3883f6b9",
   "metadata": {
    "hidden": true
   },
   "outputs": [
    {
     "name": "stdout",
     "output_type": "stream",
     "text": [
      "Something is happening before the function is called.\n",
      "Whee!\n",
      "Something is happening after the function is called.\n"
     ]
    }
   ],
   "source": [
    "say_whee()"
   ]
  },
  {
   "cell_type": "markdown",
   "id": "16092cf1",
   "metadata": {
    "hidden": true
   },
   "source": [
    "Put simply: **decorators wrap a function, modifying its behavior.**\n",
    "\n",
    "Because wrapper() is a regular Python function, **the way a decorator modifies a function can change dynamically.** So as not to disturb your neighbors, the following example will only run the decorated code during the day:"
   ]
  },
  {
   "cell_type": "code",
   "execution_count": 21,
   "id": "d98d78bf",
   "metadata": {
    "hidden": true
   },
   "outputs": [
    {
     "name": "stdout",
     "output_type": "stream",
     "text": [
      "<function not_during_the_night.<locals>.wrapper at 0x7fb9a8b5d7a0>\n"
     ]
    }
   ],
   "source": [
    "from datetime import datetime\n",
    "\n",
    "def not_during_the_night(func):\n",
    "    def wrapper():\n",
    "        if 7 <= datetime.now().hour < 22:\n",
    "            func()\n",
    "        else:\n",
    "            pass  # Hush, the neighbors are asleep\n",
    "    return wrapper\n",
    "\n",
    "def say_whee():\n",
    "    print(\"Whee!\")\n",
    "\n",
    "say_whee = not_during_the_night(say_whee)\n",
    "print(say_whee)"
   ]
  },
  {
   "cell_type": "code",
   "execution_count": 22,
   "id": "99862a32",
   "metadata": {
    "hidden": true
   },
   "outputs": [
    {
     "name": "stdout",
     "output_type": "stream",
     "text": [
      "Whee!\n"
     ]
    }
   ],
   "source": [
    "say_whee()"
   ]
  },
  {
   "cell_type": "markdown",
   "id": "1d003645",
   "metadata": {
    "heading_collapsed": true,
    "hidden": true
   },
   "source": [
    "## Revisting code using decorator syntactic sugar"
   ]
  },
  {
   "cell_type": "code",
   "execution_count": 28,
   "id": "d8b1b297",
   "metadata": {
    "hidden": true
   },
   "outputs": [
    {
     "name": "stdout",
     "output_type": "stream",
     "text": [
      "<function my_first_decorator.<locals>.wrapper at 0x7fb9a8b69830>\n",
      "<function say_whee at 0x7fb9a8b69290>\n"
     ]
    }
   ],
   "source": [
    "def my_first_decorator(func):\n",
    "    def wrapper():\n",
    "        \"\"\"\n",
    "        Define a inner wrapper function wraping an argument functor \n",
    "        with pre-defined behaviors. In this example, we use two print statement \n",
    "        to wrap \"func()\"\n",
    "        \"\"\"\n",
    "        print(\"Something is happening before the function is called.\")\n",
    "        func()\n",
    "        print(\"Something is happening after the function is called.\")\n",
    "    return wrapper\n",
    "\n",
    "\"\"\"\n",
    "So, @my_first_decorator is just an easier way of saying: \n",
    "  say_whee_decor = my_first_decorator(say_whee_decor)\n",
    "\n",
    "It’s how you apply a decorator to a function.\n",
    "\"\"\"\n",
    "@my_first_decorator\n",
    "def say_whee_decor():\n",
    "    print(\"Whee!\")\n",
    "\n",
    "def say_whee():\n",
    "    print(\"Whee!\")\n",
    "    \n",
    "print(say_whee_decor)\n",
    "print(say_whee)"
   ]
  },
  {
   "cell_type": "markdown",
   "id": "badc5af8",
   "metadata": {
    "heading_collapsed": true
   },
   "source": [
    "# Decorator Syntax Alternatives"
   ]
  },
  {
   "cell_type": "markdown",
   "id": "5886533a",
   "metadata": {
    "heading_collapsed": true,
    "hidden": true
   },
   "source": [
    "## Reusing Decorators defined in an own module\n",
    "Defining decorators in a module file and import them for easy reusability are available."
   ]
  },
  {
   "cell_type": "markdown",
   "id": "1417ae58",
   "metadata": {
    "hidden": true
   },
   "source": [
    "Let’s move the decorator to its own module that can be used in many other functions.\n",
    "\n",
    "Create a file called decorators.py with the following content:"
   ]
  },
  {
   "cell_type": "code",
   "execution_count": 32,
   "id": "8a821f69",
   "metadata": {
    "hidden": true
   },
   "outputs": [],
   "source": [
    "def do_twice(func):\n",
    "    \"\"\"\n",
    "    You can name your inner function whatever you want, and a generic name like wrapper() \n",
    "    is usually okay.\n",
    "    \"\"\"\n",
    "    def wrapper_do_twice():\n",
    "        func()\n",
    "        func()\n",
    "    return wrapper_do_twice"
   ]
  },
  {
   "cell_type": "code",
   "execution_count": 41,
   "id": "968a5b1b",
   "metadata": {
    "hidden": true
   },
   "outputs": [
    {
     "ename": "ModuleNotFoundError",
     "evalue": "No module named 'decorators'",
     "output_type": "error",
     "traceback": [
      "\u001b[0;31m---------------------------------------------------------------------------\u001b[0m",
      "\u001b[0;31mModuleNotFoundError\u001b[0m                       Traceback (most recent call last)",
      "\u001b[0;32m<ipython-input-41-24a215e1f88a>\u001b[0m in \u001b[0;36m<module>\u001b[0;34m\u001b[0m\n\u001b[0;32m----> 1\u001b[0;31m \u001b[0;32mfrom\u001b[0m \u001b[0mdecorators\u001b[0m \u001b[0;32mimport\u001b[0m \u001b[0mdo_twice\u001b[0m\u001b[0;34m\u001b[0m\u001b[0;34m\u001b[0m\u001b[0m\n\u001b[0m\u001b[1;32m      2\u001b[0m \u001b[0;34m\u001b[0m\u001b[0m\n\u001b[1;32m      3\u001b[0m \u001b[0;34m@\u001b[0m\u001b[0mdo_twice\u001b[0m\u001b[0;34m\u001b[0m\u001b[0;34m\u001b[0m\u001b[0m\n\u001b[1;32m      4\u001b[0m \u001b[0;32mdef\u001b[0m \u001b[0msay_whee\u001b[0m\u001b[0;34m(\u001b[0m\u001b[0;34m)\u001b[0m\u001b[0;34m:\u001b[0m\u001b[0;34m\u001b[0m\u001b[0;34m\u001b[0m\u001b[0m\n\u001b[1;32m      5\u001b[0m     \u001b[0mprint\u001b[0m\u001b[0;34m(\u001b[0m\u001b[0;34m\"Whee!\"\u001b[0m\u001b[0;34m)\u001b[0m\u001b[0;34m\u001b[0m\u001b[0;34m\u001b[0m\u001b[0m\n",
      "\u001b[0;31mModuleNotFoundError\u001b[0m: No module named 'decorators'"
     ]
    }
   ],
   "source": [
    "from decorators import do_twice\n",
    "\n",
    "@do_twice\n",
    "def say_whee():\n",
    "    print(\"Whee!\")"
   ]
  },
  {
   "cell_type": "markdown",
   "id": "41ce085e",
   "metadata": {
    "heading_collapsed": true,
    "hidden": true
   },
   "source": [
    "## Decorating Functions With Arguments\n",
    "\n",
    "Say that you have a function that accepts some arguments. Can you still decorate it?"
   ]
  },
  {
   "cell_type": "code",
   "execution_count": 36,
   "id": "81123cf3",
   "metadata": {
    "hidden": true
   },
   "outputs": [],
   "source": [
    "def do_twice(func):\n",
    "    \"\"\"\n",
    "    Taking [func] without any arguments\n",
    "    \"\"\"\n",
    "    def wrapper():\n",
    "        func()\n",
    "        func()\n",
    "    return wrapper\n",
    "\n",
    "@do_twice\n",
    "def greet(name):\n",
    "    \"\"\"\n",
    "    Define a function decorated by [do_twice]\n",
    "    \"\"\"\n",
    "    print(f\"Hello {name}\")"
   ]
  },
  {
   "cell_type": "code",
   "execution_count": 38,
   "id": "827e7891",
   "metadata": {
    "hidden": true
   },
   "outputs": [
    {
     "ename": "TypeError",
     "evalue": "wrapper() takes 0 positional arguments but 1 was given",
     "output_type": "error",
     "traceback": [
      "\u001b[0;31m---------------------------------------------------------------------------\u001b[0m",
      "\u001b[0;31mTypeError\u001b[0m                                 Traceback (most recent call last)",
      "\u001b[0;32m<ipython-input-38-dea54048cf02>\u001b[0m in \u001b[0;36m<module>\u001b[0;34m\u001b[0m\n\u001b[1;32m      5\u001b[0m \u001b[0mcreated\u001b[0m \u001b[0mearlier\u001b[0m\u001b[0;34m.\u001b[0m\u001b[0;34m\u001b[0m\u001b[0;34m\u001b[0m\u001b[0m\n\u001b[1;32m      6\u001b[0m \"\"\"\n\u001b[0;32m----> 7\u001b[0;31m \u001b[0mgreet\u001b[0m\u001b[0;34m(\u001b[0m\u001b[0;34m\"World\"\u001b[0m\u001b[0;34m)\u001b[0m\u001b[0;34m\u001b[0m\u001b[0;34m\u001b[0m\u001b[0m\n\u001b[0m",
      "\u001b[0;31mTypeError\u001b[0m: wrapper() takes 0 positional arguments but 1 was given"
     ]
    }
   ],
   "source": [
    "\"\"\"\n",
    "The problem is that the inner function wrapper() does not take any arguments, \n",
    "but name=\"World\" was passed to it. You could fix this by letting wrapper_do_twice() \n",
    "accept one argument, but then it would not work for the say_whee() function you \n",
    "created earlier.\n",
    "\"\"\"\n",
    "greet(\"World\")"
   ]
  },
  {
   "cell_type": "markdown",
   "id": "7a58d70f",
   "metadata": {
    "hidden": true
   },
   "source": [
    "The solution is to use **\\*args** and **\\*\\*kwargs** in the inner wrapper function. Then it will accept an arbitrary number of positional and keyword arguments. \n",
    "- **\\*args**: \n",
    "- **\\*\\*kwargs**: "
   ]
  },
  {
   "cell_type": "code",
   "execution_count": 39,
   "id": "54136c6f",
   "metadata": {
    "hidden": true
   },
   "outputs": [],
   "source": [
    "def do_twice(func):\n",
    "    def wrapper(*args, **kwargs):\n",
    "        func(*args, **kwargs)\n",
    "        func(*args, **kwargs)\n",
    "    return wrapper\n",
    "\n",
    "@do_twice\n",
    "def greet(name):\n",
    "    print(f\"Hello {name}\")"
   ]
  },
  {
   "cell_type": "code",
   "execution_count": 40,
   "id": "d2f07557",
   "metadata": {
    "hidden": true
   },
   "outputs": [
    {
     "ename": "TypeError",
     "evalue": "greet() missing 1 required positional argument: 'name'",
     "output_type": "error",
     "traceback": [
      "\u001b[0;31m---------------------------------------------------------------------------\u001b[0m",
      "\u001b[0;31mTypeError\u001b[0m                                 Traceback (most recent call last)",
      "\u001b[0;32m<ipython-input-40-d42331bafd33>\u001b[0m in \u001b[0;36m<module>\u001b[0;34m\u001b[0m\n\u001b[0;32m----> 1\u001b[0;31m \u001b[0mprint\u001b[0m\u001b[0;34m(\u001b[0m\u001b[0mgreet\u001b[0m\u001b[0;34m(\u001b[0m\u001b[0;34m)\u001b[0m\u001b[0;34m)\u001b[0m\u001b[0;34m\u001b[0m\u001b[0;34m\u001b[0m\u001b[0m\n\u001b[0m\u001b[1;32m      2\u001b[0m \u001b[0mprint\u001b[0m\u001b[0;34m(\u001b[0m\u001b[0mgreet\u001b[0m\u001b[0;34m(\u001b[0m\u001b[0;34m\"Bing\"\u001b[0m\u001b[0;34m)\u001b[0m\u001b[0;34m)\u001b[0m\u001b[0;34m\u001b[0m\u001b[0;34m\u001b[0m\u001b[0m\n",
      "\u001b[0;32m<ipython-input-39-e5a106cf2d72>\u001b[0m in \u001b[0;36mwrapper\u001b[0;34m(*args, **kwargs)\u001b[0m\n\u001b[1;32m      1\u001b[0m \u001b[0;32mdef\u001b[0m \u001b[0mdo_twice\u001b[0m\u001b[0;34m(\u001b[0m\u001b[0mfunc\u001b[0m\u001b[0;34m)\u001b[0m\u001b[0;34m:\u001b[0m\u001b[0;34m\u001b[0m\u001b[0;34m\u001b[0m\u001b[0m\n\u001b[1;32m      2\u001b[0m     \u001b[0;32mdef\u001b[0m \u001b[0mwrapper\u001b[0m\u001b[0;34m(\u001b[0m\u001b[0;34m*\u001b[0m\u001b[0margs\u001b[0m\u001b[0;34m,\u001b[0m \u001b[0;34m**\u001b[0m\u001b[0mkwargs\u001b[0m\u001b[0;34m)\u001b[0m\u001b[0;34m:\u001b[0m\u001b[0;34m\u001b[0m\u001b[0;34m\u001b[0m\u001b[0m\n\u001b[0;32m----> 3\u001b[0;31m         \u001b[0mfunc\u001b[0m\u001b[0;34m(\u001b[0m\u001b[0;34m*\u001b[0m\u001b[0margs\u001b[0m\u001b[0;34m,\u001b[0m \u001b[0;34m**\u001b[0m\u001b[0mkwargs\u001b[0m\u001b[0;34m)\u001b[0m\u001b[0;34m\u001b[0m\u001b[0;34m\u001b[0m\u001b[0m\n\u001b[0m\u001b[1;32m      4\u001b[0m         \u001b[0mfunc\u001b[0m\u001b[0;34m(\u001b[0m\u001b[0;34m*\u001b[0m\u001b[0margs\u001b[0m\u001b[0;34m,\u001b[0m \u001b[0;34m**\u001b[0m\u001b[0mkwargs\u001b[0m\u001b[0;34m)\u001b[0m\u001b[0;34m\u001b[0m\u001b[0;34m\u001b[0m\u001b[0m\n\u001b[1;32m      5\u001b[0m     \u001b[0;32mreturn\u001b[0m \u001b[0mwrapper\u001b[0m\u001b[0;34m\u001b[0m\u001b[0;34m\u001b[0m\u001b[0m\n",
      "\u001b[0;31mTypeError\u001b[0m: greet() missing 1 required positional argument: 'name'"
     ]
    }
   ],
   "source": [
    "print(greet())\n",
    "print(greet(\"Bing\"))"
   ]
  },
  {
   "cell_type": "markdown",
   "id": "26a49573",
   "metadata": {
    "hidden": true
   },
   "source": [
    "## Returning Values From Decorated Functions\n",
    "What happens to the return value of decorated functions? Well, that’s up to the decorator to decide."
   ]
  },
  {
   "cell_type": "code",
   "execution_count": 43,
   "id": "0e9ef0d6",
   "metadata": {
    "hidden": true
   },
   "outputs": [
    {
     "name": "stdout",
     "output_type": "stream",
     "text": [
      "Creating greeting\n",
      "Creating greeting\n",
      "Hi Adam\n"
     ]
    }
   ],
   "source": [
    "def do_twice(func):\n",
    "    def wrapper(*args, **kwargs):\n",
    "        \"\"\"\n",
    "        Using a return statement to return an object from the calling of \"func\"\n",
    "        We need to make sure the wrapper function returns the return value of \n",
    "        the decorated function. \n",
    "        \"\"\"\n",
    "        func(*args, **kwargs)\n",
    "        return func(*args, **kwargs)\n",
    "    return wrapper\n",
    "\n",
    "@do_twice\n",
    "def return_greeting(name):\n",
    "    print(\"Creating greeting\")\n",
    "    return f\"Hi {name}\"\n",
    "\n",
    "hi_adam = return_greeting(\"Adam\")\n",
    "print(hi_adam)"
   ]
  },
  {
   "cell_type": "markdown",
   "id": "88a19cea",
   "metadata": {
    "hidden": true
   },
   "source": [
    "## Multiple decorators\n",
    "\n",
    "```\n",
    "@dec2\n",
    "@dec1\n",
    "def func(arg1, arg2, ...):\n",
    "    pass\n",
    "```\n",
    "This is equivalent to:\n",
    "```\n",
    "def func(arg1, arg2, ...):\n",
    "    pass\n",
    "func = dec2(dec1(func))\n",
    "```\n"
   ]
  },
  {
   "cell_type": "markdown",
   "id": "97b52595",
   "metadata": {},
   "source": [
    "# A Few Real World Examples\n",
    "\n",
    "Let’s look at a few more useful examples of decorators. You’ll notice that they’ll mainly follow the same pattern that you’ve learned so far."
   ]
  },
  {
   "cell_type": "code",
   "execution_count": 69,
   "id": "f71391e5",
   "metadata": {},
   "outputs": [],
   "source": [
    "# This formula is a good boilerplate template for building more complex decorators.\n",
    "import functools\n",
    "\n",
    "def decorator(func):\n",
    "    @functools.wraps(func)\n",
    "    def wrapper_decorator(*args, **kwargs):\n",
    "        # Do something before\n",
    "        value = func(*args, **kwargs)\n",
    "        # Do something after\n",
    "        return value\n",
    "    return wrapper_decorator"
   ]
  },
  {
   "cell_type": "markdown",
   "id": "6e426bf2",
   "metadata": {},
   "source": [
    "## Define functions to be executed at entry or exist"
   ]
  },
  {
   "cell_type": "code",
   "execution_count": 70,
   "id": "efed0c48",
   "metadata": {},
   "outputs": [],
   "source": [
    "def on_exit(f):\n",
    "    import atexit\n",
    "    atexit.register(f)\n",
    "    return f\n",
    "\n",
    "@on_exit\n",
    "def func():\n",
    "    pass"
   ]
  },
  {
   "cell_type": "markdown",
   "id": "edd2f2c2",
   "metadata": {},
   "source": [
    "## Timing Functions\n",
    "\n",
    "Let’s start by creating a @timer decorator. It will [measure the time a function takes to execute](https://realpython.com/python-timer/) and print the duration to the console. Here’s the code:"
   ]
  },
  {
   "cell_type": "code",
   "execution_count": 71,
   "id": "3e397503",
   "metadata": {},
   "outputs": [
    {
     "name": "stdout",
     "output_type": "stream",
     "text": [
      "Finished 'waste_some_time' in 0.1792 secs\n"
     ]
    }
   ],
   "source": [
    "import functools\n",
    "import time\n",
    "\n",
    "def timer(func):\n",
    "    \"\"\"Print the runtime of the decorated function\"\"\"\n",
    "    @functools.wraps(func)\n",
    "    def wrapper_timer(*args, **kwargs):\n",
    "        start_time = time.perf_counter()    # 1\n",
    "        value = func(*args, **kwargs)\n",
    "        end_time = time.perf_counter()      # 2\n",
    "        run_time = end_time - start_time    # 3\n",
    "        print(f\"Finished {func.__name__!r} in {run_time:.4f} secs\")\n",
    "        return value\n",
    "    return wrapper_timer\n",
    "\n",
    "@timer\n",
    "def waste_some_time(num_times):\n",
    "    for _ in range(num_times):\n",
    "        sum([i**2 for i in range(10000)])\n",
    "\n",
    "waste_some_time(100)"
   ]
  },
  {
   "cell_type": "markdown",
   "id": "f15beac3",
   "metadata": {},
   "source": [
    "**Note:** The @timer decorator is great if you just want to get an idea about the runtime of your functions. If you want to do more precise measurements of code, you should instead consider the [timeit module](https://docs.python.org/3/library/timeit.html) in the standard library. It temporarily disables garbage collection and runs multiple trials to strip out noise from quick function calls."
   ]
  },
  {
   "cell_type": "markdown",
   "id": "835c8fc9",
   "metadata": {},
   "source": [
    "## Debugging Code\n",
    "The following @debug decorator will print the arguments a function is called with as well as its return value every time the function is called:"
   ]
  },
  {
   "cell_type": "code",
   "execution_count": 55,
   "id": "225540d3",
   "metadata": {},
   "outputs": [],
   "source": [
    "import functools\n",
    "\n",
    "def debug(func):\n",
    "    \"\"\"Print the function signature and return value\"\"\"\n",
    "    @functools.wraps(func)\n",
    "    def wrapper_debug(*args, **kwargs):\n",
    "        args_repr = [repr(a) for a in args]                      # 1\n",
    "        kwargs_repr = [f\"{k}={v!r}\" for k, v in kwargs.items()]  # 2\n",
    "        signature = \", \".join(args_repr + kwargs_repr)           # 3\n",
    "        print(f\"Calling {func.__name__}({signature})\")\n",
    "        value = func(*args, **kwargs)\n",
    "        print(f\"{func.__name__!r} returned {value!r}\")           # 4\n",
    "        return value\n",
    "    return wrapper_debug"
   ]
  },
  {
   "cell_type": "markdown",
   "id": "6d16ef16",
   "metadata": {},
   "source": [
    "The signature is created by joining the string representations of all the arguments. The numbers in the following list correspond to the numbered comments in the code:\n",
    "1. Create a list of the positional arguments. Use repr() to get a nice string representing each argument.\n",
    "2. Create a list of the keyword arguments. The f-string formats each argument as key=value where the !r specifier means that repr() is used to represent the value.\n",
    "3. The lists of positional and keyword arguments is joined together to one signature string with each argument separated by a comma.\n",
    "4. The return value is printed after the function is executed.\n",
    "\n",
    "Let’s see how the decorator works in practice by applying it to a simple function with one position and one keyword argument:"
   ]
  },
  {
   "cell_type": "code",
   "execution_count": 56,
   "id": "0d628388",
   "metadata": {},
   "outputs": [
    {
     "name": "stdout",
     "output_type": "stream",
     "text": [
      "Calling make_greeting('Benjamin')\n",
      "'make_greeting' returned 'Howdy Benjamin!'\n"
     ]
    },
    {
     "data": {
      "text/plain": [
       "'Howdy Benjamin!'"
      ]
     },
     "execution_count": 56,
     "metadata": {},
     "output_type": "execute_result"
    }
   ],
   "source": [
    "@debug\n",
    "def make_greeting(name, age=None):\n",
    "    if age is None:\n",
    "        return f\"Howdy {name}!\"\n",
    "    else:\n",
    "        return f\"Whoa {name}! {age} already, you are growing up!\"\n",
    "make_greeting(\"Benjamin\")"
   ]
  },
  {
   "cell_type": "code",
   "execution_count": 57,
   "id": "b2059444",
   "metadata": {},
   "outputs": [
    {
     "name": "stdout",
     "output_type": "stream",
     "text": [
      "Calling make_greeting('Richard', age=112)\n",
      "'make_greeting' returned 'Whoa Richard! 112 already, you are growing up!'\n"
     ]
    },
    {
     "data": {
      "text/plain": [
       "'Whoa Richard! 112 already, you are growing up!'"
      ]
     },
     "execution_count": 57,
     "metadata": {},
     "output_type": "execute_result"
    }
   ],
   "source": [
    "make_greeting(\"Richard\", age=112)"
   ]
  },
  {
   "cell_type": "code",
   "execution_count": 58,
   "id": "6d283f31",
   "metadata": {},
   "outputs": [
    {
     "name": "stdout",
     "output_type": "stream",
     "text": [
      "Calling make_greeting(name='Dorrisile', age=116)\n",
      "'make_greeting' returned 'Whoa Dorrisile! 116 already, you are growing up!'\n"
     ]
    },
    {
     "data": {
      "text/plain": [
       "'Whoa Dorrisile! 116 already, you are growing up!'"
      ]
     },
     "execution_count": 58,
     "metadata": {},
     "output_type": "execute_result"
    }
   ],
   "source": [
    "make_greeting(name=\"Dorrisile\", age=116)"
   ]
  },
  {
   "cell_type": "markdown",
   "id": "d2b195e8",
   "metadata": {},
   "source": [
    "This example also shows how you can apply a decorator to a function that has already been defined. The approximation of e is based on the following series expansion:\n",
    "\\begin{equation}\n",
    "e = \\sum_{n=0}^{}\\frac{1}{n!} = \\frac{1}{0!} + \\frac{1}{1!} + \\frac{1}{2!} + \\ldots\n",
    "\\end{equation}"
   ]
  },
  {
   "cell_type": "code",
   "execution_count": 62,
   "id": "07739e19",
   "metadata": {},
   "outputs": [],
   "source": [
    "import math\n",
    "# from decorators import debug\n",
    "\n",
    "# Apply a decorator to a standard library function\n",
    "math.factorial = debug(math.factorial)\n",
    "\n",
    "def approximate_e(terms=18):\n",
    "    return sum(1 / math.factorial(n) for n in range(terms))"
   ]
  },
  {
   "cell_type": "code",
   "execution_count": 63,
   "id": "b7b6415e",
   "metadata": {},
   "outputs": [
    {
     "name": "stdout",
     "output_type": "stream",
     "text": [
      "Calling factorial(0)\n",
      "Calling factorial(0)\n",
      "Calling factorial(0)\n",
      "'factorial' returned 1\n",
      "'factorial' returned 1\n",
      "'factorial' returned 1\n",
      "Calling factorial(1)\n",
      "Calling factorial(1)\n",
      "Calling factorial(1)\n",
      "'factorial' returned 1\n",
      "'factorial' returned 1\n",
      "'factorial' returned 1\n",
      "Calling factorial(2)\n",
      "Calling factorial(2)\n",
      "Calling factorial(2)\n",
      "'factorial' returned 2\n",
      "'factorial' returned 2\n",
      "'factorial' returned 2\n",
      "Calling factorial(3)\n",
      "Calling factorial(3)\n",
      "Calling factorial(3)\n",
      "'factorial' returned 6\n",
      "'factorial' returned 6\n",
      "'factorial' returned 6\n",
      "Calling factorial(4)\n",
      "Calling factorial(4)\n",
      "Calling factorial(4)\n",
      "'factorial' returned 24\n",
      "'factorial' returned 24\n",
      "'factorial' returned 24\n"
     ]
    },
    {
     "data": {
      "text/plain": [
       "2.708333333333333"
      ]
     },
     "execution_count": 63,
     "metadata": {},
     "output_type": "execute_result"
    }
   ],
   "source": [
    "# When calling the approximate_e() function, you can see the @debug decorator at work:\n",
    "approximate_e(5)"
   ]
  },
  {
   "cell_type": "markdown",
   "id": "ef7ba004",
   "metadata": {},
   "source": [
    "## Slowing Down Code\n",
    "This next example might not seem very useful. Why would you want to slow down your Python code? Probably the most common use case is that you want to rate-limit a function that continuously checks whether a resource—like a web page—has changed. The @slow_down decorator will sleep one second before it calls the decorated function:"
   ]
  },
  {
   "cell_type": "code",
   "execution_count": 65,
   "id": "a0d3ca24",
   "metadata": {},
   "outputs": [
    {
     "name": "stdout",
     "output_type": "stream",
     "text": [
      "3\n",
      "2\n",
      "1\n",
      "Liftoff!\n"
     ]
    }
   ],
   "source": [
    "import functools\n",
    "import time\n",
    "\n",
    "def slow_down(func):\n",
    "    \"\"\"Sleep 1 second before calling the function\"\"\"\n",
    "    @functools.wraps(func)\n",
    "    def wrapper_slow_down(*args, **kwargs):\n",
    "        time.sleep(1)\n",
    "        return func(*args, **kwargs)\n",
    "    return wrapper_slow_down\n",
    "\n",
    "@slow_down\n",
    "def countdown(from_number):\n",
    "    if from_number < 1:\n",
    "        print(\"Liftoff!\")\n",
    "    else:\n",
    "        print(from_number)\n",
    "        countdown(from_number - 1)\n",
    "countdown(3)"
   ]
  },
  {
   "cell_type": "markdown",
   "id": "d6ddc658",
   "metadata": {},
   "source": [
    "## Registering Plugins\n",
    "Decorators don’t have to wrap the function they’re decorating. They can also simply register that a function exists and return it unwrapped. This can be used, for instance, to create a light-weight plug-in architecture:"
   ]
  },
  {
   "cell_type": "code",
   "execution_count": 67,
   "id": "608771d8",
   "metadata": {},
   "outputs": [
    {
     "data": {
      "text/plain": [
       "{'say_hello': <function __main__.say_hello(name)>,\n",
       " 'be_awesome': <function __main__.be_awesome(name)>}"
      ]
     },
     "execution_count": 67,
     "metadata": {},
     "output_type": "execute_result"
    }
   ],
   "source": [
    "import random\n",
    "PLUGINS = dict()\n",
    "\n",
    "def register(func):\n",
    "    \"\"\"Register a function as a plug-in\"\"\"\n",
    "    PLUGINS[func.__name__] = func\n",
    "    return func\n",
    "\n",
    "@register\n",
    "def say_hello(name):\n",
    "    return f\"Hello {name}\"\n",
    "\n",
    "@register\n",
    "def be_awesome(name):\n",
    "    return f\"Yo {name}, together we are the awesomest!\"\n",
    "\n",
    "def randomly_greet(name):\n",
    "    greeter, greeter_func = random.choice(list(PLUGINS.items()))\n",
    "    print(f\"Using {greeter!r}\")\n",
    "    return greeter_func(name)\n",
    "PLUGINS"
   ]
  },
  {
   "cell_type": "code",
   "execution_count": 68,
   "id": "4326fd64",
   "metadata": {},
   "outputs": [
    {
     "name": "stdout",
     "output_type": "stream",
     "text": [
      "Using 'be_awesome'\n"
     ]
    },
    {
     "data": {
      "text/plain": [
       "'Yo Alice, together we are the awesomest!'"
      ]
     },
     "execution_count": 68,
     "metadata": {},
     "output_type": "execute_result"
    }
   ],
   "source": [
    "randomly_greet(\"Alice\")"
   ]
  },
  {
   "cell_type": "markdown",
   "id": "7270c2c9",
   "metadata": {},
   "source": [
    "Using the @register decorator, you can create your own curated list of interesting variables, effectively hand-picking some functions from globals()."
   ]
  },
  {
   "cell_type": "code",
   "execution_count": null,
   "id": "5881e71a",
   "metadata": {},
   "outputs": [],
   "source": []
  },
  {
   "cell_type": "code",
   "execution_count": null,
   "id": "22f8a54e",
   "metadata": {},
   "outputs": [],
   "source": []
  },
  {
   "cell_type": "code",
   "execution_count": null,
   "id": "3fe0486a",
   "metadata": {},
   "outputs": [],
   "source": []
  },
  {
   "cell_type": "code",
   "execution_count": null,
   "id": "5324c29c",
   "metadata": {},
   "outputs": [],
   "source": []
  },
  {
   "cell_type": "markdown",
   "id": "a9752bd3",
   "metadata": {
    "heading_collapsed": true
   },
   "source": [
    "## Define a class with a singleton instance.\n",
    "\n",
    "Note that once the class disappears enterprising programmers would have to be more creative to create more instances."
   ]
  },
  {
   "cell_type": "code",
   "execution_count": 46,
   "id": "bac582da",
   "metadata": {
    "hidden": true
   },
   "outputs": [],
   "source": [
    "def singleton(cls):\n",
    "    instances = {}\n",
    "    def getinstance():\n",
    "        if cls not in instances:\n",
    "            instances[cls] = cls()\n",
    "        return instances[cls]\n",
    "    return getinstance\n",
    "\n",
    "@singleton\n",
    "class MyClass:\n",
    "    ..."
   ]
  },
  {
   "cell_type": "markdown",
   "id": "bfb82095",
   "metadata": {
    "heading_collapsed": true
   },
   "source": [
    "## Add attributes to a function"
   ]
  },
  {
   "cell_type": "code",
   "execution_count": 47,
   "id": "ac8c6dd7",
   "metadata": {
    "hidden": true
   },
   "outputs": [],
   "source": [
    "def attrs(**kwds):\n",
    "    def decorate(f):\n",
    "        for k in kwds:\n",
    "            setattr(f, k, kwds[k])\n",
    "        return f\n",
    "    return decorate\n",
    "\n",
    "@attrs(versionadded=\"2.2\",\n",
    "       author=\"Guido van Rossum\")\n",
    "def mymethod(f):\n",
    "    ..."
   ]
  },
  {
   "cell_type": "markdown",
   "id": "feca2e91",
   "metadata": {
    "heading_collapsed": true
   },
   "source": [
    "## Enforce function argument and return types"
   ]
  },
  {
   "cell_type": "code",
   "execution_count": 48,
   "id": "e60bea4c",
   "metadata": {
    "hidden": true,
    "scrolled": true
   },
   "outputs": [
    {
     "ename": "AttributeError",
     "evalue": "'function' object has no attribute 'func_name'",
     "output_type": "error",
     "traceback": [
      "\u001b[0;31m---------------------------------------------------------------------------\u001b[0m",
      "\u001b[0;31mAttributeError\u001b[0m                            Traceback (most recent call last)",
      "\u001b[0;32m<ipython-input-48-b7423de887a0>\u001b[0m in \u001b[0;36m<module>\u001b[0;34m\u001b[0m\n\u001b[1;32m     23\u001b[0m \u001b[0;34m\u001b[0m\u001b[0m\n\u001b[1;32m     24\u001b[0m \u001b[0;34m@\u001b[0m\u001b[0maccepts\u001b[0m\u001b[0;34m(\u001b[0m\u001b[0mint\u001b[0m\u001b[0;34m,\u001b[0m \u001b[0;34m(\u001b[0m\u001b[0mint\u001b[0m\u001b[0;34m,\u001b[0m\u001b[0mfloat\u001b[0m\u001b[0;34m)\u001b[0m\u001b[0;34m)\u001b[0m\u001b[0;34m\u001b[0m\u001b[0;34m\u001b[0m\u001b[0m\n\u001b[0;32m---> 25\u001b[0;31m \u001b[0;34m@\u001b[0m\u001b[0mreturns\u001b[0m\u001b[0;34m(\u001b[0m\u001b[0;34m(\u001b[0m\u001b[0mint\u001b[0m\u001b[0;34m,\u001b[0m\u001b[0mfloat\u001b[0m\u001b[0;34m)\u001b[0m\u001b[0;34m)\u001b[0m\u001b[0;34m\u001b[0m\u001b[0;34m\u001b[0m\u001b[0m\n\u001b[0m\u001b[1;32m     26\u001b[0m \u001b[0;32mdef\u001b[0m \u001b[0mfunc\u001b[0m\u001b[0;34m(\u001b[0m\u001b[0marg1\u001b[0m\u001b[0;34m,\u001b[0m \u001b[0marg2\u001b[0m\u001b[0;34m)\u001b[0m\u001b[0;34m:\u001b[0m\u001b[0;34m\u001b[0m\u001b[0;34m\u001b[0m\u001b[0m\n\u001b[1;32m     27\u001b[0m     \u001b[0;32mreturn\u001b[0m \u001b[0marg1\u001b[0m \u001b[0;34m*\u001b[0m \u001b[0marg2\u001b[0m\u001b[0;34m\u001b[0m\u001b[0;34m\u001b[0m\u001b[0m\n",
      "\u001b[0;32m<ipython-input-48-b7423de887a0>\u001b[0m in \u001b[0;36mcheck_returns\u001b[0;34m(f)\u001b[0m\n\u001b[1;32m     18\u001b[0m                    \u001b[0;34m\"return value %r does not match %s\"\u001b[0m \u001b[0;34m%\u001b[0m \u001b[0;34m(\u001b[0m\u001b[0mresult\u001b[0m\u001b[0;34m,\u001b[0m\u001b[0mrtype\u001b[0m\u001b[0;34m)\u001b[0m\u001b[0;34m\u001b[0m\u001b[0;34m\u001b[0m\u001b[0m\n\u001b[1;32m     19\u001b[0m             \u001b[0;32mreturn\u001b[0m \u001b[0mresult\u001b[0m\u001b[0;34m\u001b[0m\u001b[0;34m\u001b[0m\u001b[0m\n\u001b[0;32m---> 20\u001b[0;31m         \u001b[0mnew_f\u001b[0m\u001b[0;34m.\u001b[0m\u001b[0mfunc_name\u001b[0m \u001b[0;34m=\u001b[0m \u001b[0mf\u001b[0m\u001b[0;34m.\u001b[0m\u001b[0mfunc_name\u001b[0m\u001b[0;34m\u001b[0m\u001b[0;34m\u001b[0m\u001b[0m\n\u001b[0m\u001b[1;32m     21\u001b[0m         \u001b[0;32mreturn\u001b[0m \u001b[0mnew_f\u001b[0m\u001b[0;34m\u001b[0m\u001b[0;34m\u001b[0m\u001b[0m\n\u001b[1;32m     22\u001b[0m     \u001b[0;32mreturn\u001b[0m \u001b[0mcheck_returns\u001b[0m\u001b[0;34m\u001b[0m\u001b[0;34m\u001b[0m\u001b[0m\n",
      "\u001b[0;31mAttributeError\u001b[0m: 'function' object has no attribute 'func_name'"
     ]
    }
   ],
   "source": [
    "def accepts(*types):\n",
    "    def check_accepts(f):\n",
    "        assert len(types) == f.func_code.co_argcount\n",
    "        def new_f(*args, **kwds):\n",
    "            for (a, t) in zip(args, types):\n",
    "                assert isinstance(a, t), \\\n",
    "                       \"arg %r does not match %s\" % (a,t)\n",
    "            return f(*args, **kwds)\n",
    "        new_f.func_name = f.func_name\n",
    "        return new_f\n",
    "    return check_accepts\n",
    "\n",
    "def returns(rtype):\n",
    "    def check_returns(f):\n",
    "        def new_f(*args, **kwds):\n",
    "            result = f(*args, **kwds)\n",
    "            assert isinstance(result, rtype), \\\n",
    "                   \"return value %r does not match %s\" % (result,rtype)\n",
    "            return result\n",
    "        new_f.func_name = f.func_name\n",
    "        return new_f\n",
    "    return check_returns\n",
    "\n",
    "@accepts(int, (int,float))\n",
    "@returns((int,float))\n",
    "def func(arg1, arg2):\n",
    "    return arg1 * arg2"
   ]
  },
  {
   "cell_type": "markdown",
   "id": "ba9a1543",
   "metadata": {},
   "source": [
    "## Declare that a class implements a particular (set of) interface(s). "
   ]
  },
  {
   "cell_type": "code",
   "execution_count": 51,
   "id": "fc795bc4",
   "metadata": {},
   "outputs": [
    {
     "ename": "NameError",
     "evalue": "name 'Interface' is not defined",
     "output_type": "error",
     "traceback": [
      "\u001b[0;31m---------------------------------------------------------------------------\u001b[0m",
      "\u001b[0;31mNameError\u001b[0m                                 Traceback (most recent call last)",
      "\u001b[0;32m<ipython-input-51-1b4114c7e96b>\u001b[0m in \u001b[0;36m<module>\u001b[0;34m\u001b[0m\n\u001b[1;32m     10\u001b[0m      \u001b[0;32mreturn\u001b[0m \u001b[0mprovides\u001b[0m\u001b[0;34m\u001b[0m\u001b[0;34m\u001b[0m\u001b[0m\n\u001b[1;32m     11\u001b[0m \u001b[0;34m\u001b[0m\u001b[0m\n\u001b[0;32m---> 12\u001b[0;31m \u001b[0;32mclass\u001b[0m \u001b[0mIBar\u001b[0m\u001b[0;34m(\u001b[0m\u001b[0mInterface\u001b[0m\u001b[0;34m)\u001b[0m\u001b[0;34m:\u001b[0m\u001b[0;34m\u001b[0m\u001b[0;34m\u001b[0m\u001b[0m\n\u001b[0m\u001b[1;32m     13\u001b[0m      \u001b[0;34m\"\"\"Declare something about IBar here\"\"\"\u001b[0m\u001b[0;34m\u001b[0m\u001b[0;34m\u001b[0m\u001b[0m\n\u001b[1;32m     14\u001b[0m \u001b[0;34m\u001b[0m\u001b[0m\n",
      "\u001b[0;31mNameError\u001b[0m: name 'Interface' is not defined"
     ]
    }
   ],
   "source": [
    "def provides(*interfaces):\n",
    "     \"\"\"\n",
    "     An actual, working, implementation of provides for\n",
    "     the current implementation of PyProtocols.  Not\n",
    "     particularly important for the PEP text.\n",
    "     \"\"\"\n",
    "     def provides(typ):\n",
    "         declareImplementation(typ, instancesProvide=interfaces)\n",
    "         return typ\n",
    "     return provides\n",
    "\n",
    "class IBar(Interface):\n",
    "     \"\"\"Declare something about IBar here\"\"\"\n",
    "\n",
    "@provides(IBar)\n",
    "class Foo(object):\n",
    "        \"\"\"Implement something here...\"\"\""
   ]
  },
  {
   "cell_type": "markdown",
   "id": "337f601d",
   "metadata": {},
   "source": [
    "# Fancy Decorators\n",
    "\n",
    "So far, you’ve seen how to create simple decorators. You already have a pretty good understanding of what decorators are and how they work. Feel free to take a break from this article to practice everything you’ve learned."
   ]
  },
  {
   "cell_type": "markdown",
   "id": "60c71a39",
   "metadata": {},
   "source": [
    "## Decorating Classes\n",
    "\n",
    "There are two different ways you can use decorators on classes:\n",
    "1. decorate the methods of a class using [@classmethod, @staticmethod](https://realpython.com/instance-class-and-static-methods-demystified/) and [@property](https://docs.python.org/3/library/functions.html#property)\n",
    "2. decorate the whole class"
   ]
  },
  {
   "cell_type": "markdown",
   "id": "670b56d6",
   "metadata": {},
   "source": []
  },
  {
   "cell_type": "code",
   "execution_count": null,
   "id": "69b18f99",
   "metadata": {},
   "outputs": [],
   "source": []
  },
  {
   "cell_type": "markdown",
   "id": "f0419e1f",
   "metadata": {},
   "source": [
    "## Nesting Decorators\n",
    "You can apply several decorators to a function by stacking them on top of each other"
   ]
  },
  {
   "cell_type": "code",
   "execution_count": null,
   "id": "13db4a36",
   "metadata": {},
   "outputs": [],
   "source": [
    "from decorators import debug, do_twice\n",
    "\n",
    "@debug\n",
    "@do_twice\n",
    "def greet(name):\n",
    "    print(f\"Hello {name}\")"
   ]
  },
  {
   "cell_type": "markdown",
   "id": "a0e6e2a9",
   "metadata": {},
   "source": [
    "Think about this as the decorators being executed in the order they are listed. In other words, @debug calls @do_twice, which calls greet(), or debug(do_twice(greet())):"
   ]
  },
  {
   "cell_type": "markdown",
   "id": "276c1d7a",
   "metadata": {},
   "source": [
    "## Decorators with arguments"
   ]
  },
  {
   "cell_type": "code",
   "execution_count": null,
   "id": "2caac712",
   "metadata": {},
   "outputs": [],
   "source": []
  },
  {
   "cell_type": "code",
   "execution_count": null,
   "id": "1c2739c0",
   "metadata": {},
   "outputs": [],
   "source": []
  },
  {
   "cell_type": "markdown",
   "id": "0d59a627",
   "metadata": {},
   "source": [
    "## Decorators that can optionally take arguments"
   ]
  },
  {
   "cell_type": "code",
   "execution_count": null,
   "id": "6ce64539",
   "metadata": {},
   "outputs": [],
   "source": []
  },
  {
   "cell_type": "markdown",
   "id": "df1a3c33",
   "metadata": {},
   "source": [
    "## Stateful decorators"
   ]
  },
  {
   "cell_type": "code",
   "execution_count": null,
   "id": "4f662b9e",
   "metadata": {},
   "outputs": [],
   "source": []
  },
  {
   "cell_type": "code",
   "execution_count": null,
   "id": "3525900a",
   "metadata": {},
   "outputs": [],
   "source": []
  },
  {
   "cell_type": "markdown",
   "id": "21d5d98b",
   "metadata": {},
   "source": [
    "## Classes as decorators"
   ]
  },
  {
   "cell_type": "code",
   "execution_count": null,
   "id": "6da59506",
   "metadata": {},
   "outputs": [],
   "source": []
  },
  {
   "cell_type": "markdown",
   "id": "4a54cc44",
   "metadata": {},
   "source": [
    "# Reference\n",
    "\n",
    "1. [Primer on Python Decorators](https://realpython.com/primer-on-python-decorators/)\n",
    "2. [PEP 318 – Decorators for Functions and Methods](https://peps.python.org/pep-0318/)\n",
    "3. [The Decorator Pattern in Depth](https://blogs.oracle.com/javamagazine/post/the-decorator-pattern-in-depth)\n",
    "4. [A Gentle Introduction to Decorators in Python](https://machinelearningmastery.com/a-gentle-introduction-to-decorators-in-python/)"
   ]
  },
  {
   "cell_type": "code",
   "execution_count": null,
   "id": "9f410448",
   "metadata": {},
   "outputs": [],
   "source": []
  }
 ],
 "metadata": {
  "kernelspec": {
   "display_name": "Python 3",
   "language": "python",
   "name": "python3"
  },
  "language_info": {
   "codemirror_mode": {
    "name": "ipython",
    "version": 3
   },
   "file_extension": ".py",
   "mimetype": "text/x-python",
   "name": "python",
   "nbconvert_exporter": "python",
   "pygments_lexer": "ipython3",
   "version": "3.7.11"
  },
  "latex_envs": {
   "LaTeX_envs_menu_present": true,
   "autoclose": false,
   "autocomplete": true,
   "bibliofile": "biblio.bib",
   "cite_by": "apalike",
   "current_citInitial": 1,
   "eqLabelWithNumbers": true,
   "eqNumInitial": 1,
   "hotkeys": {
    "equation": "Ctrl-E",
    "itemize": "Ctrl-I"
   },
   "labels_anchors": false,
   "latex_user_defs": false,
   "report_style_numbering": false,
   "user_envs_cfg": false
  },
  "nbTranslate": {
   "displayLangs": [
    "*"
   ],
   "hotkey": "alt-t",
   "langInMainMenu": true,
   "sourceLang": "en",
   "targetLang": "fr",
   "useGoogleTranslate": true
  }
 },
 "nbformat": 4,
 "nbformat_minor": 5
}
