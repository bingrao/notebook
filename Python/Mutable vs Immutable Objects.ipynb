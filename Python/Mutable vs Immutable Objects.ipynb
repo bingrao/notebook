{
 "cells": [
  {
   "cell_type": "markdown",
   "metadata": {
    "heading_collapsed": true
   },
   "source": [
    "# Introduction (Objects, Values, and Types)\n",
    "\n",
    "All the data in a Python code is represented by **objects** or by **relations** between objects. Every object has an *identity*, a *type*, and a *value*.\n",
    "\n",
    "1. **Identity**\n",
    "\n",
    "An object’s identity never changes once it has been created; you may think of it as the object’s address in memory.\n",
    "\n",
    "The *is* operator compares the identity of two objects; the *id()* function returns an integer representing its identity."
   ]
  },
  {
   "cell_type": "code",
   "execution_count": 4,
   "metadata": {
    "hidden": true
   },
   "outputs": [
    {
     "name": "stdout",
     "output_type": "stream",
     "text": [
      "The id of [[a]]: 1731029395400\n",
      "The id of [[b]]: 140704644413520\n"
     ]
    },
    {
     "data": {
      "text/plain": [
       "False"
      ]
     },
     "execution_count": 4,
     "metadata": {},
     "output_type": "execute_result"
    }
   ],
   "source": [
    "a = [1, 2, 3]\n",
    "b = 3\n",
    "print(f\"The id of [[a]]: {id(a)}\")\n",
    "print(f\"The id of [[b]]: {id(b)}\")\n",
    "\n",
    "a is b"
   ]
  },
  {
   "cell_type": "markdown",
   "metadata": {
    "hidden": true
   },
   "source": [
    "\n",
    "2. **Type**\n",
    "\n",
    "An object’s type defines the **possible values** and **operations** (e.g. “does it have a length?”) that type supports.\n",
    "\n",
    "The *type()* function returns the type of an object. An object type is **unchangeable** like the identity"
   ]
  },
  {
   "cell_type": "code",
   "execution_count": 5,
   "metadata": {
    "hidden": true
   },
   "outputs": [
    {
     "data": {
      "text/plain": [
       "list"
      ]
     },
     "execution_count": 5,
     "metadata": {},
     "output_type": "execute_result"
    }
   ],
   "source": [
    "type(a)"
   ]
  },
  {
   "cell_type": "markdown",
   "metadata": {
    "hidden": true
   },
   "source": [
    "3. **Value**\n",
    "\n",
    "The value of some objects can be changed or not. Objects whose value can change are said to be **mutable**; objects whose value is unchangeable once they are created are called **immutable**. The mutability of an object is determined by its type.\n",
    "\n",
    "Some objects contain references to other objects, these objects are called **containers**. Some examples of containers are a *tuple, list, and dictionary*. The value of an immutable container that contains a reference to a mutable object can be changed if that mutable object is changed. However, the container is still considered immutable because when we talk about the mutability of a container only the identities of the contained objects are implied."
   ]
  },
  {
   "cell_type": "markdown",
   "metadata": {
    "heading_collapsed": true
   },
   "source": [
    "# Mutable and Immutable Data Types in Python\n",
    "\n",
    "1. **Mutable** data types: *list, dictionary, set, bytearray and user-defined classes*.\n",
    "2. **Immutable** data types: *int, float, decimal, complex, bool, string, tuple, range, frozenset, bytes*"
   ]
  },
  {
   "cell_type": "code",
   "execution_count": 6,
   "metadata": {
    "hidden": true
   },
   "outputs": [],
   "source": [
    "# From both data types, we can access elements by index and we can iterate over them. \n",
    "# The main difference is that a tuple cannot be changed once it’s defined.\n",
    "numbers_list = [1, 2, 3] # a list\n",
    "numbers_tuple = (1, 2, 3) # a tuple"
   ]
  },
  {
   "cell_type": "code",
   "execution_count": 7,
   "metadata": {
    "hidden": true
   },
   "outputs": [
    {
     "name": "stdout",
     "output_type": "stream",
     "text": [
      "[100, 2, 3]\n"
     ]
    },
    {
     "ename": "TypeError",
     "evalue": "'tuple' object does not support item assignment",
     "output_type": "error",
     "traceback": [
      "\u001b[1;31m---------------------------------------------------------------------------\u001b[0m",
      "\u001b[1;31mTypeError\u001b[0m                                 Traceback (most recent call last)",
      "\u001b[1;32m<ipython-input-7-b368162e0301>\u001b[0m in \u001b[0;36m<module>\u001b[1;34m()\u001b[0m\n\u001b[0;32m      1\u001b[0m \u001b[0mnumbers_list\u001b[0m\u001b[1;33m[\u001b[0m\u001b[1;36m0\u001b[0m\u001b[1;33m]\u001b[0m \u001b[1;33m=\u001b[0m \u001b[1;36m100\u001b[0m\u001b[1;33m\u001b[0m\u001b[1;33m\u001b[0m\u001b[0m\n\u001b[0;32m      2\u001b[0m \u001b[0mprint\u001b[0m\u001b[1;33m(\u001b[0m\u001b[0mnumbers_list\u001b[0m\u001b[1;33m)\u001b[0m\u001b[1;33m\u001b[0m\u001b[1;33m\u001b[0m\u001b[0m\n\u001b[1;32m----> 3\u001b[1;33m \u001b[0mnumbers_tuple\u001b[0m\u001b[1;33m[\u001b[0m\u001b[1;36m0\u001b[0m\u001b[1;33m]\u001b[0m \u001b[1;33m=\u001b[0m \u001b[1;36m100\u001b[0m\u001b[1;33m\u001b[0m\u001b[1;33m\u001b[0m\u001b[0m\n\u001b[0m",
      "\u001b[1;31mTypeError\u001b[0m: 'tuple' object does not support item assignment"
     ]
    }
   ],
   "source": [
    "# We can see that when we try to change the tuple we get an error, \n",
    "# but we don’t have that problem with the list.\n",
    "numbers_list[0] = 100\n",
    "print(numbers_list)\n",
    "numbers_tuple[0] = 100"
   ]
  },
  {
   "cell_type": "code",
   "execution_count": 8,
   "metadata": {
    "hidden": true
   },
   "outputs": [
    {
     "name": "stdout",
     "output_type": "stream",
     "text": [
      "List Value: f[100, 2, 3, 4, 5, 6], its ID: f1731029270600 --> f1731029270600\n",
      "Tuple Value: f(1, 2, 3, 4, 5, 6), its ID: f1731038450056 --> f1731029067504\n"
     ]
    }
   ],
   "source": [
    "old_id_list = id(numbers_list)\n",
    "old_id_tuple = id(numbers_tuple)\n",
    "\n",
    "numbers_list += [4, 5, 6] # expand a list\n",
    "numbers_tuple += (4, 5, 6) # expand a tuple\n",
    "\n",
    "# We can see that the list identity is not changed, while the tuple identity is changed. \n",
    "# This means that we have expanded our list, but created a completely new tuple. \n",
    "# Lists are more memory efficient than tuples.\n",
    "print(f\"List Value: {numbers_list}, its ID: {old_id_list} --> {id(numbers_list)}\")\n",
    "print(f\"Tuple Value: {numbers_tuple}, its ID: {old_id_tuple} --> {id(old_id_tuple)}\")"
   ]
  },
  {
   "cell_type": "code",
   "execution_count": 18,
   "metadata": {
    "hidden": true
   },
   "outputs": [
    {
     "name": "stdout",
     "output_type": "stream",
     "text": [
      "Value: 6, its ID: 140704644413520 --> 140704644413616\n"
     ]
    }
   ],
   "source": [
    "# Second example about a int type, like other types: string, bool, ....\n",
    "a = 3 # Once it is initialized, its value cannot be changed\n",
    "old_id = id(a)\n",
    "a = a + 3 # create a new object to represent [a + 3]\n",
    "print(f\"Value: {a}, its ID: {old_id} --> {id(a)}\")"
   ]
  },
  {
   "cell_type": "markdown",
   "metadata": {
    "heading_collapsed": true,
    "hidden": true
   },
   "source": [
    "## Copying Mutable Objects by Reference\n",
    "\n",
    "We can see that the variable names have the same identity meaning that they are referencing to the same object in computer memory. "
   ]
  },
  {
   "cell_type": "code",
   "execution_count": 22,
   "metadata": {
    "hidden": true
   },
   "outputs": [
    {
     "name": "stdout",
     "output_type": "stream",
     "text": [
      "[1] The value: [[4, 5, 6] -> [4, 5, 6]], their corresponding IDs: 1731038586120 -> 1731038586120\n",
      "[2] The value: [[4, 5, 6, 7] -> [4, 5, 6, 7]], their corresponding IDs: 1731038586120 -> 1731038586120\n"
     ]
    }
   ],
   "source": [
    "values = [4, 5, 6]\n",
    "values2 = values\n",
    "\n",
    "print(f\"[1] The value: [{values} -> {values2}], their corresponding IDs: {id(values)} -> {id(values2)}\")\n",
    "\n",
    "values2.append(7)\n",
    "\n",
    "print(f\"[2] The value: [{values} -> {values2}], their corresponding IDs: {id(values)} -> {id(values2)}\")"
   ]
  },
  {
   "cell_type": "markdown",
   "metadata": {
    "hidden": true
   },
   "source": [
    "So, when we have changed the values of the second variable, the values of the first one are also changed. This happens only with the mutable objects"
   ]
  },
  {
   "cell_type": "markdown",
   "metadata": {
    "heading_collapsed": true,
    "hidden": true
   },
   "source": [
    "## Copying Immutable Objects\n",
    "\n",
    "Every time when we try to update the value of an immutable object, a new object is created instead. That’s when we have updated the first string it doesn’t change the value of the second."
   ]
  },
  {
   "cell_type": "code",
   "execution_count": 16,
   "metadata": {
    "hidden": true
   },
   "outputs": [
    {
     "name": "stdout",
     "output_type": "stream",
     "text": [
      "[1] The value: [Data Science -> Data Science], their corresponding IDs: 1731029037296 -> 1731029037296\n",
      "[2] The value: [Data Science -> Data Science], their corresponding IDs: 1731029037296 -> 1731029037296\n",
      "[3] The value: [Data Science with Python -> Data Science --> Data Science],\n",
      "\t\ttheir corresponding IDs: 1731038459264 -> 1731029037296 -->1731029037296\n"
     ]
    }
   ],
   "source": [
    "import copy\n",
    "text = \"Data Science\"\n",
    "_text = text # both of them refer to same memoby block, their IDs are identical\n",
    "\n",
    "print(f\"[1] The value: [{text} -> {_text}], their corresponding IDs: {id(text)} -> {id(_text)}\")\n",
    "\n",
    "_text_copy = copy.copy(text) # both of them refer to same memoby block, their IDs are identical\n",
    "\n",
    "print(f\"[2] The value: [{text} -> {_text_copy}], their corresponding IDs: {id(text)} -> {id(_text_copy)}\")\n",
    "\n",
    "# Create a new memory block so its id would be changed, \n",
    "# The original memory block does not change, the [_text] and [_text_copy] still points to this block\n",
    "text += \" with Python\"\n",
    "\n",
    "print(f\"[3] The value: [{text} -> {_text_copy} --> {_text}],\\n\"\n",
    "      f\"\\t\\ttheir corresponding IDs: {id(text)} -> {id(_text_copy)} -->{id(_text)}\")"
   ]
  },
  {
   "cell_type": "markdown",
   "metadata": {
    "heading_collapsed": true,
    "hidden": true
   },
   "source": [
    "## Immutable Object Changing Its Value\n",
    "\n",
    "As we said before the value of an immutable container (Tuple: *person*) that contains a reference to a mutable object  (List: *skills*) can be changed if that mutable object is changed. Let’s see an example of this."
   ]
  },
  {
   "cell_type": "code",
   "execution_count": 29,
   "metadata": {
    "hidden": true
   },
   "outputs": [
    {
     "name": "stdout",
     "output_type": "stream",
     "text": [
      "[1] The person: (129392130, ['Programming', 'Machine Learning', 'Statistics']), \n",
      " its type is: <class 'tuple'>, its ID: 1731029475592\n",
      "[2] The person: (129392130, ['Programming', 'Machine Learning', 'Maths']), \n",
      " its type is: <class 'tuple'>, its ID: 1731029475592\n",
      "[3] The person: (129392130, ['Programming', 'Machine Learning', 'Maths', 'Maths']), \n",
      " its type is: <class 'tuple'>, its ID: 1731029475592\n"
     ]
    },
    {
     "ename": "TypeError",
     "evalue": "'tuple' object does not support item assignment",
     "output_type": "error",
     "traceback": [
      "\u001b[1;31m---------------------------------------------------------------------------\u001b[0m",
      "\u001b[1;31mTypeError\u001b[0m                                 Traceback (most recent call last)",
      "\u001b[1;32m<ipython-input-29-6fd266a87bc7>\u001b[0m in \u001b[0;36m<module>\u001b[1;34m()\u001b[0m\n\u001b[0;32m     11\u001b[0m \u001b[0mprint\u001b[0m\u001b[1;33m(\u001b[0m\u001b[1;34mf\"[3] The person: {person}, \\n its type is: {type(person)}, its ID: {id(person)}\"\u001b[0m\u001b[1;33m)\u001b[0m\u001b[1;33m\u001b[0m\u001b[1;33m\u001b[0m\u001b[0m\n\u001b[0;32m     12\u001b[0m \u001b[1;33m\u001b[0m\u001b[0m\n\u001b[1;32m---> 13\u001b[1;33m \u001b[0mperson\u001b[0m\u001b[1;33m[\u001b[0m\u001b[1;36m1\u001b[0m\u001b[1;33m]\u001b[0m \u001b[1;33m+=\u001b[0m \u001b[1;33m[\u001b[0m\u001b[1;34m\"Maths\"\u001b[0m\u001b[1;33m]\u001b[0m  \u001b[1;31m# Cannot compile because 'tuple' object does not support item assignment.\u001b[0m\u001b[1;33m\u001b[0m\u001b[1;33m\u001b[0m\u001b[0m\n\u001b[0m",
      "\u001b[1;31mTypeError\u001b[0m: 'tuple' object does not support item assignment"
     ]
    }
   ],
   "source": [
    "skills = [\"Programming\", \"Machine Learning\", \"Statistics\"]\n",
    "person = (129392130, skills) # a immutable object containing a mutable object skills\n",
    "\n",
    "print(f\"[1] The person: {person}, \\n its type is: {type(person)}, its ID: {id(person)}\")\n",
    "\n",
    "skills[2] = \"Maths\"\n",
    "print(f\"[2] The person: {person}, \\n its type is: {type(person)}, its ID: {id(person)}\")\n",
    "\n",
    "\n",
    "skills += [\"Maths\"]\n",
    "print(f\"[3] The person: {person}, \\n its type is: {type(person)}, its ID: {id(person)}\")\n",
    "\n",
    "person[1] += [\"Maths\"]  # Cannot compile because 'tuple' object does not support item assignment."
   ]
  },
  {
   "cell_type": "markdown",
   "metadata": {
    "hidden": true
   },
   "source": [
    "The object *person* is still considered immutable because when we talk about the mutability of a container only the identities of the contained objects are implied. However, if your immutable object contains only immutable objects, we cannot change their value. Instead a new object is created instead when you try to update the value of an immutable object. Let’s see an example."
   ]
  },
  {
   "cell_type": "code",
   "execution_count": 33,
   "metadata": {
    "hidden": true
   },
   "outputs": [
    {
     "name": "stdout",
     "output_type": "stream",
     "text": [
      "140704644414768\n",
      "140704644414192\n",
      "(42, 24, ('Python', 'pandas', 'scikit-learn'))\n",
      "140704644415024\n",
      "140704644414224\n",
      "(42, 24, ('Python', 'pandas', 'scikit-learn'))\n"
     ]
    }
   ],
   "source": [
    "unique_identifier = 42\n",
    "age = 24\n",
    "skills = (\"Python\", \"pandas\", \"scikit-learn\")\n",
    "info = (unique_identifier, age, skills)\n",
    "print(id(unique_identifier))\n",
    "print(id(age))\n",
    "print(info)\n",
    "\n",
    "unique_identifier = 50 # create a new object\n",
    "age += 1 # create a new object\n",
    "skills += (\"machine learning\", \"deep learning\") # create a new object\n",
    "print(id(unique_identifier))\n",
    "print(id(age))\n",
    "print(info) # info will not be changed even their old elements have been changed"
   ]
  },
  {
   "cell_type": "markdown",
   "metadata": {
    "heading_collapsed": true,
    "hidden": true
   },
   "source": [
    "## Mutable objects and agruments to functions or class\n",
    "When we pass a mutable object to a function or initialize a class declaraton, if its value would be updated in the objects, its value will be updated accordningly. In order to aviod this situation, we can call *copy()* function on mutable objects to create a new object with identical values. Then passing this copying object to functions or class."
   ]
  },
  {
   "cell_type": "code",
   "execution_count": 37,
   "metadata": {
    "hidden": true
   },
   "outputs": [
    {
     "name": "stdout",
     "output_type": "stream",
     "text": [
      "1.0\n",
      "[0.5, 1.0, 1.5]\n"
     ]
    }
   ],
   "source": [
    "from typing import List\n",
    "def divide_and_average(var: List):\n",
    "    for i in range(len(var)):\n",
    "        var[i] /= 2\n",
    "    avg = sum(var)/len(var)\n",
    "    return avg\n",
    "\n",
    "my_list = [1, 2, 3]\n",
    "print(divide_and_average(my_list))\n",
    "print(my_list) # We can see that the value of [my_list] has been updated"
   ]
  },
  {
   "cell_type": "code",
   "execution_count": 44,
   "metadata": {
    "hidden": true
   },
   "outputs": [],
   "source": [
    "from typing import List\n",
    "class myObject:\n",
    "    def __init__(self, var: List):\n",
    "        self.data = var\n",
    "    def divide_and_average(self):\n",
    "        for i in range(len(self.data)):\n",
    "            self.data[i] /= 2\n",
    "        avg = sum(self.data)/len(self.data)\n",
    "        return avg"
   ]
  },
  {
   "cell_type": "code",
   "execution_count": 45,
   "metadata": {
    "hidden": true
   },
   "outputs": [
    {
     "name": "stdout",
     "output_type": "stream",
     "text": [
      "1.0\n",
      "[0.5, 1.0, 1.5]\n"
     ]
    }
   ],
   "source": []
  },
  {
   "cell_type": "code",
   "execution_count": 47,
   "metadata": {
    "hidden": true
   },
   "outputs": [
    {
     "name": "stdout",
     "output_type": "stream",
     "text": [
      "Their ids: 1731029383624 --> 1731038610568\n",
      "1.0\n",
      "[1, 2, 3]\n"
     ]
    }
   ],
   "source": [
    "my_list = [1, 2, 3]\n",
    "_my_list = my_list.copy()\n",
    "data = myObject(_my_list) # pass a copy of my_list, they are different objects\n",
    "print(f\"Their ids: {id(my_list)} --> {id(_my_list)}\")\n",
    "print(data.divide_and_average())\n",
    "print(my_list) # We can see that the value of [my_list] has been updated"
   ]
  },
  {
   "cell_type": "markdown",
   "metadata": {
    "heading_collapsed": true,
    "hidden": true
   },
   "source": [
    "## Default Arguments in Functions/Class\n",
    "A common practice when we are defining a function is to assign default values to its arguments. On the one hand, this allows us to include new parameters without changing the downstream code. Still, it also allows us to call the function with fewer arguments, making it easier to use. Let's see, for example, a function that increases the value of the elements of a list. The code would look like:"
   ]
  },
  {
   "cell_type": "code",
   "execution_count": 50,
   "metadata": {
    "hidden": true
   },
   "outputs": [],
   "source": [
    "def increase_values(var1=[1, 1], value=0):\n",
    "    value += 1\n",
    "    var1[0] += value\n",
    "    var1[1] += value\n",
    "    return var1, value"
   ]
  },
  {
   "cell_type": "code",
   "execution_count": 51,
   "metadata": {
    "hidden": true
   },
   "outputs": [
    {
     "name": "stdout",
     "output_type": "stream",
     "text": [
      "([2, 2], 1)\n",
      "([3, 3], 1)\n"
     ]
    }
   ],
   "source": [
    "print(increase_values())\n",
    "print(increase_values())"
   ]
  },
  {
   "cell_type": "markdown",
   "metadata": {
    "hidden": true
   },
   "source": [
    "The first time, it prints ([2, 2], 1) as expected, but the second time it prints ([3, 3], 1). It means that the default argument of the function is changing every time we run it. \n",
    "\n",
    "When we run the script, Python evaluates the function **definition only once** and then creates **the default list and the default value**. Because lists are mutable, every time we call the function, we change its default argument. However, value is immutable, and it remains the same for all subsequent function calls. \n",
    "\n",
    "The next logical question is, how can we prevent this from happening. And the short answer is to use **immutable types** as default arguments for functions. We could have used *None*, for instance:"
   ]
  },
  {
   "cell_type": "code",
   "execution_count": 53,
   "metadata": {
    "hidden": true
   },
   "outputs": [],
   "source": [
    "def increase_values(var1=None, value=0):\n",
    "    if var1 is None:\n",
    "        var1 = [1, 1]\n",
    "    value += 1\n",
    "    var1[0] += value\n",
    "    var1[1] += value\n",
    "    return var1, value"
   ]
  },
  {
   "cell_type": "code",
   "execution_count": 54,
   "metadata": {
    "hidden": true
   },
   "outputs": [
    {
     "name": "stdout",
     "output_type": "stream",
     "text": [
      "([2, 2], 1)\n",
      "([2, 2], 1)\n"
     ]
    }
   ],
   "source": [
    "print(increase_values())\n",
    "print(increase_values())"
   ]
  },
  {
   "cell_type": "markdown",
   "metadata": {
    "hidden": true
   },
   "source": [
    "**Important Usage: Cahce**, Of course, the decision always depends on the use case. We may want to update the default value from one call to another. Imagine the case where we would like to perform a computationally expensive calculation. Still, we don't want to run twice the function with the same input and use a cache of values instead. We could do the following:"
   ]
  },
  {
   "cell_type": "code",
   "execution_count": 64,
   "metadata": {
    "hidden": true
   },
   "outputs": [],
   "source": [
    "def calculate(var1, var2, cache={}):\n",
    "    try:\n",
    "        value = cache[var1, var2]\n",
    "    except KeyError:\n",
    "        value = expensive_computation(var1, var2)\n",
    "        cache[var1, var2] = value\n",
    "    return value"
   ]
  },
  {
   "cell_type": "markdown",
   "metadata": {
    "hidden": true
   },
   "source": [
    "When we run calculate for the first time, there will be nothing stored in the **cache** dictionary. When we execute the function more than once, **cache** will start changing, appending the new values. If we **repeat the arguments** at some point, they will be part of the **cache** dictionary, and the stored value will be returned. Notice that we are leveraging the handling of exceptions to avoid checking explicitly whether the combination of values already exists in memory."
   ]
  },
  {
   "cell_type": "markdown",
   "metadata": {
    "heading_collapsed": true,
    "hidden": true
   },
   "source": [
    "## Our immutable objects\n",
    "\n",
    "we can achieve by reimplementing the \"\\__setattr\\__\" method to define a immutable objects. As soon as we try to instantiate this class, the TypeError will be raised. Even within the class itself, assigning values to attributes is achieved through the \"\\__setattr\\__ \"method. To bypass it, we need to use the super() object:"
   ]
  },
  {
   "cell_type": "code",
   "execution_count": 63,
   "metadata": {
    "hidden": true
   },
   "outputs": [],
   "source": [
    "class MyImmutable:\n",
    "    def __init__(self, var1, var2):\n",
    "        super().__setattr__('var1', var1)\n",
    "        super().__setattr__('var2', var2)\n",
    "\n",
    "    def __setattr__(self, key, value):\n",
    "        raise TypeError('MyImmutable cannot be modified after instantiation')\n",
    "\n",
    "    def __str__(self):\n",
    "        return 'MyImmutable var1: {}, var2: {}'.format(self.var1, self.var2)"
   ]
  },
  {
   "cell_type": "code",
   "execution_count": 61,
   "metadata": {
    "hidden": true
   },
   "outputs": [
    {
     "name": "stdout",
     "output_type": "stream",
     "text": [
      "MyImmutable var1: 1, var2: 2\n"
     ]
    }
   ],
   "source": [
    "my_immutable = MyImmutable(1, 2)\n",
    "print(my_immutable)"
   ]
  },
  {
   "cell_type": "code",
   "execution_count": 62,
   "metadata": {
    "hidden": true
   },
   "outputs": [
    {
     "ename": "TypeError",
     "evalue": "MyImmutable cannot be modified after instantiation",
     "output_type": "error",
     "traceback": [
      "\u001b[1;31m---------------------------------------------------------------------------\u001b[0m",
      "\u001b[1;31mTypeError\u001b[0m                                 Traceback (most recent call last)",
      "\u001b[1;32m<ipython-input-62-cc8f0391189b>\u001b[0m in \u001b[0;36m<module>\u001b[1;34m()\u001b[0m\n\u001b[1;32m----> 1\u001b[1;33m \u001b[0mmy_immutable\u001b[0m\u001b[1;33m.\u001b[0m\u001b[0mvar1\u001b[0m \u001b[1;33m=\u001b[0m \u001b[1;36m2\u001b[0m\u001b[1;33m\u001b[0m\u001b[1;33m\u001b[0m\u001b[0m\n\u001b[0m",
      "\u001b[1;32m<ipython-input-59-265cb7c2929d>\u001b[0m in \u001b[0;36m__setattr__\u001b[1;34m(self, key, value)\u001b[0m\n\u001b[0;32m      5\u001b[0m \u001b[1;33m\u001b[0m\u001b[0m\n\u001b[0;32m      6\u001b[0m     \u001b[1;32mdef\u001b[0m \u001b[0m__setattr__\u001b[0m\u001b[1;33m(\u001b[0m\u001b[0mself\u001b[0m\u001b[1;33m,\u001b[0m \u001b[0mkey\u001b[0m\u001b[1;33m,\u001b[0m \u001b[0mvalue\u001b[0m\u001b[1;33m)\u001b[0m\u001b[1;33m:\u001b[0m\u001b[1;33m\u001b[0m\u001b[1;33m\u001b[0m\u001b[0m\n\u001b[1;32m----> 7\u001b[1;33m         \u001b[1;32mraise\u001b[0m \u001b[0mTypeError\u001b[0m\u001b[1;33m(\u001b[0m\u001b[1;34m'MyImmutable cannot be modified after instantiation'\u001b[0m\u001b[1;33m)\u001b[0m\u001b[1;33m\u001b[0m\u001b[1;33m\u001b[0m\u001b[0m\n\u001b[0m\u001b[0;32m      8\u001b[0m \u001b[1;33m\u001b[0m\u001b[0m\n\u001b[0;32m      9\u001b[0m     \u001b[1;32mdef\u001b[0m \u001b[0m__str__\u001b[0m\u001b[1;33m(\u001b[0m\u001b[0mself\u001b[0m\u001b[1;33m)\u001b[0m\u001b[1;33m:\u001b[0m\u001b[1;33m\u001b[0m\u001b[1;33m\u001b[0m\u001b[0m\n",
      "\u001b[1;31mTypeError\u001b[0m: MyImmutable cannot be modified after instantiation"
     ]
    }
   ],
   "source": [
    "# If we instantiate the class and try to assign a value to an attribute of it, an error will appear:\n",
    "my_immutable.var1 = 2"
   ]
  },
  {
   "cell_type": "code",
   "execution_count": null,
   "metadata": {
    "hidden": true
   },
   "outputs": [],
   "source": []
  }
 ],
 "metadata": {
  "kernelspec": {
   "display_name": "Python 3",
   "language": "python",
   "name": "python3"
  },
  "language_info": {
   "codemirror_mode": {
    "name": "ipython",
    "version": 3
   },
   "file_extension": ".py",
   "mimetype": "text/x-python",
   "name": "python",
   "nbconvert_exporter": "python",
   "pygments_lexer": "ipython3",
   "version": "3.7.8"
  },
  "latex_envs": {
   "LaTeX_envs_menu_present": true,
   "autoclose": true,
   "autocomplete": true,
   "bibliofile": "biblio.bib",
   "cite_by": "apalike",
   "current_citInitial": 1,
   "eqLabelWithNumbers": true,
   "eqNumInitial": 1,
   "hotkeys": {
    "equation": "Ctrl-E",
    "itemize": "Ctrl-I"
   },
   "labels_anchors": false,
   "latex_user_defs": false,
   "report_style_numbering": false,
   "user_envs_cfg": false
  },
  "toc": {
   "base_numbering": 1,
   "nav_menu": {},
   "number_sections": true,
   "sideBar": true,
   "skip_h1_title": false,
   "title_cell": "Table of Contents",
   "title_sidebar": "Contents",
   "toc_cell": false,
   "toc_position": {},
   "toc_section_display": true,
   "toc_window_display": false
  }
 },
 "nbformat": 4,
 "nbformat_minor": 4
}
