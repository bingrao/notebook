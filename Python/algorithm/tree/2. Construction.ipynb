{
 "cells": [
  {
   "cell_type": "markdown",
   "metadata": {
    "code_folding": []
   },
   "source": [
    "# Build a Tree"
   ]
  },
  {
   "cell_type": "code",
   "execution_count": 2,
   "metadata": {},
   "outputs": [],
   "source": [
    "from typing import List\n",
    "# Definition for a binary tree node.\n",
    "class TreeNode:\n",
    "    def __init__(self, val=0, left=None, right=None):\n",
    "        self.val = val\n",
    "        self.left = left\n",
    "        self.right = right\n",
    "def pre_order(root: TreeNode):\n",
    "    if root is None: return []\n",
    "    return [root.val] + pre_order(root.left) + pre_order(root.right)\n",
    "def in_order(node: TreeNode):\n",
    "    if node is None: return []\n",
    "    return  in_order(node.left) + [node.val] + in_order(node.right)\n",
    "def post_order(node: TreeNode):\n",
    "    if node is None: return []\n",
    "    return  post_order(node.left) + post_order(node.right) + [node.val]\n",
    "\n",
    "def print_tree(root: TreeNode):\n",
    "    print(f\"Pre Order: {pre_order(root)}\")\n",
    "    print(f\"In Order: {in_order(root)}\")\n",
    "    print(f\"Post Order: {post_order(root)}\")"
   ]
  },
  {
   "cell_type": "markdown",
   "metadata": {},
   "source": [
    "## PreOrder List with None indicator (-1)"
   ]
  },
  {
   "cell_type": "code",
   "execution_count": 12,
   "metadata": {},
   "outputs": [
    {
     "name": "stdout",
     "output_type": "stream",
     "text": [
      "Pre Order: [1, 2, 3, 4, 5]\n",
      "In Order: [2, 1, 4, 3, 5]\n",
      "Post Order: [2, 4, 5, 3, 1]\n"
     ]
    }
   ],
   "source": [
    "# Build a tree using preorder data list\n",
    "# -1: represent a None\n",
    "def build_tree_preorder(data: List[int]) -> TreeNode:\n",
    "    if len(data) == 0:\n",
    "        return None\n",
    "    nodeVal = data.pop(0)\n",
    "    \n",
    "    if nodeVal == -1:\n",
    "        return None\n",
    "    \n",
    "    root = TreeNode(nodeVal)\n",
    "    \n",
    "    root.left = build_tree_preorder(data)\n",
    "    root.right = build_tree_preorder(data)\n",
    "    \n",
    "    return root\n",
    "preOrder = [1, 2, -1, -1, 3, 4, -1, -1, 5, -1, -1]\n",
    "root = build_tree_preorder(preOrder)\n",
    "print_tree(root)"
   ]
  },
  {
   "cell_type": "code",
   "execution_count": 13,
   "metadata": {},
   "outputs": [
    {
     "name": "stdout",
     "output_type": "stream",
     "text": [
      "Pre Order: [1, 2, 3, 4, 5]\n",
      "In Order: [2, 1, 4, 3, 5]\n",
      "Post Order: [2, 4, 5, 3, 1]\n"
     ]
    }
   ],
   "source": [
    "# Build a tree using preorder data list\n",
    "# -1: represent a None\n",
    "def build_tree_postorder(data: List[int]) -> TreeNode:\n",
    "    if len(data) == 0:\n",
    "        return None\n",
    "    \n",
    "    nodeVal = data.pop(-1)\n",
    "    \n",
    "    if nodeVal == -1:\n",
    "        return None\n",
    "    \n",
    "    root = TreeNode(nodeVal)\n",
    "    \n",
    "    root.right = build_tree_postorder(data)\n",
    "    root.left = build_tree_postorder(data)\n",
    "    \n",
    "    return root\n",
    "\n",
    "postOrder = [-1, -1, 2, -1, -1, 4, -1, -1, 5, 3, 1]\n",
    "root = build_tree_postorder(postOrder)\n",
    "print_tree(root)"
   ]
  },
  {
   "cell_type": "markdown",
   "metadata": {},
   "source": [
    "## PreOrder and InOrder List"
   ]
  },
  {
   "cell_type": "code",
   "execution_count": 3,
   "metadata": {},
   "outputs": [
    {
     "name": "stdout",
     "output_type": "stream",
     "text": [
      "Pre Order: [1, 2, 4, 7, 5, 3, 6, 8]\n",
      "In Order: [7, 4, 5, 2, 1, 3, 6, 8]\n",
      "Post Order: [7, 5, 4, 2, 8, 6, 3, 1]\n"
     ]
    }
   ],
   "source": [
    "preOrder = [1, 2, 4, 7, 5, 3, 6, 8]\n",
    "inOrder = [7,4, 5, 2, 1, 3, 6, 8]\n",
    "def build_tree_pre_in(preOrder: List[int], inOrder: List[int]) -> TreeNode:\n",
    "    if len(preOrder) == 0 or len(inOrder) == 0:\n",
    "        return None\n",
    "    \n",
    "    root = TreeNode(preOrder[0])\n",
    "    root_index = inOrder.index(preOrder[0])\n",
    "    \n",
    "    root.left = build_tree_pre_in(preOrder[1:root_index + 1], inOrder[:root_index])\n",
    "    root.right = build_tree_pre_in(preOrder[root_index + 1:], inOrder[root_index + 1:])\n",
    "    return root\n",
    "\n",
    "root1 = build_tree_pre_in(preOrder, inOrder)\n",
    "print_tree(root1)"
   ]
  },
  {
   "cell_type": "markdown",
   "metadata": {
    "code_folding": [
     4,
     36
    ]
   },
   "source": [
    "## InOrder and PostOrder Data List\n"
   ]
  },
  {
   "cell_type": "code",
   "execution_count": 42,
   "metadata": {
    "code_folding": [
     4
    ]
   },
   "outputs": [
    {
     "name": "stdout",
     "output_type": "stream",
     "text": [
      "Pre Order: [1, 2, 3, 4, 5]\n",
      "In Order: [2, 1, 4, 3, 5]\n",
      "Post Order: [2, 4, 5, 3, 1]\n"
     ]
    }
   ],
   "source": [
    "inOrder = [2, 1, 4, 3, 5]\n",
    "PostOrder = [2, 4, 5, 3, 1]\n",
    "def build_tree_pre_post(inOrder: List[int], PostOrder: List[int]) -> TreeNode:\n",
    "    if len(preOrder) == 0 or len(PostOrder) == 0:\n",
    "        return None\n",
    "    \n",
    "    rootVal = PostOrder.pop(-1)\n",
    "    rootIndex = inOrder.index(rootVal)\n",
    "    \n",
    "    root = TreeNode(rootVal)\n",
    "    root.left = build_tree_pre_post(inOrder[:rootIndex], PostOrder[:rootIndex])\n",
    "    root.right = build_tree_pre_post(inOrder[rootIndex + 1: ], PostOrder[rootIndex:])\n",
    "    return root\n",
    "root2 = build_tree_pre_post(inOrder, PostOrder)\n",
    "print_tree(root2)"
   ]
  },
  {
   "cell_type": "markdown",
   "metadata": {
    "code_folding": [
     4,
     9
    ]
   },
   "source": [
    "# Build a Special tree (Binary Search Tree)"
   ]
  },
  {
   "cell_type": "markdown",
   "metadata": {},
   "source": [
    "## Build from postOrder"
   ]
  },
  {
   "cell_type": "code",
   "execution_count": 62,
   "metadata": {},
   "outputs": [
    {
     "name": "stdout",
     "output_type": "stream",
     "text": [
      "Pre Order: [15, 10, 8, 12, 20, 16, 25]\n",
      "In Order: [8, 10, 12, 15, 16, 20, 25]\n",
      "Post Order: [8, 12, 10, 16, 25, 20, 15]\n"
     ]
    }
   ],
   "source": [
    "postOrder = [8, 12, 10, 16, 25, 20, 15]\n",
    "def build_bst_postOrder(postOrder: List[int]):\n",
    "    if len(postOrder) == 0:\n",
    "        return None\n",
    "    \n",
    "    rootVal = postOrder.pop()\n",
    "    root = TreeNode(rootVal)\n",
    "    root.right = build_bst_postOrder([ i for i in postOrder if i > rootVal])\n",
    "    root.left = build_bst_postOrder([ i for i in postOrder if i < rootVal])\n",
    "    return root\n",
    "root = build_bst_postOrder(postOrder)\n",
    "print_tree(root)"
   ]
  },
  {
   "cell_type": "markdown",
   "metadata": {},
   "source": [
    "## Build from PreOrder"
   ]
  },
  {
   "cell_type": "code",
   "execution_count": 65,
   "metadata": {},
   "outputs": [
    {
     "name": "stdout",
     "output_type": "stream",
     "text": [
      "Pre Order: [15, 10, 8, 12, 20, 16, 25]\n",
      "In Order: [8, 10, 12, 15, 16, 20, 25]\n",
      "Post Order: [8, 12, 10, 16, 25, 20, 15]\n"
     ]
    }
   ],
   "source": [
    "preOrder = [15, 10, 8, 12, 20, 16, 25]\n",
    "def build_bst_preOrder(preOrder: List[int]):\n",
    "    if len(preOrder) == 0:\n",
    "        return None\n",
    "    \n",
    "    rootVal = preOrder.pop(0)\n",
    "    root = TreeNode(rootVal)\n",
    "    root.left = build_bst_preOrder([ i for i in preOrder if i < rootVal])\n",
    "    root.right = build_bst_preOrder([ i for i in preOrder if i > rootVal])\n",
    "    return root\n",
    "root = build_bst_preOrder(preOrder)\n",
    "print_tree(root)"
   ]
  },
  {
   "cell_type": "markdown",
   "metadata": {},
   "source": [
    "## Build from inOrder"
   ]
  },
  {
   "cell_type": "code",
   "execution_count": 64,
   "metadata": {},
   "outputs": [],
   "source": [
    "# inOrder = [8, 10, 12, 15, 16, 20, 25]\n",
    "\n",
    "# def get_root_val(data: List[int]):\n",
    "    \n",
    "#     mid = len(data) // 2\n",
    "    \n",
    "#     while True:\n",
    "#         left = data[:mid]\n",
    "#         right = data[mid + 1:]\n",
    "        \n",
    "    \n",
    "    \n",
    "    \n",
    "    \n",
    "    \n",
    "# def build_bst_inOrder(inOrder: List[int]):\n",
    "#     if len(inOrder) == 0:\n",
    "#         return None"
   ]
  },
  {
   "cell_type": "code",
   "execution_count": 15,
   "metadata": {},
   "outputs": [
    {
     "name": "stdout",
     "output_type": "stream",
     "text": [
      "Pre Order: [1, 2, 3, 4, 5]\n",
      "In Order: [2, 1, 4, 3, 5]\n",
      "Post Order: [2, 4, 5, 3, 1]\n"
     ]
    }
   ],
   "source": [
    "preOrder = [1, 2, -1, -1, 3, 4, -1, -1, 5, -1, -1]\n",
    "root = build_tree_preorder(preOrder)\n",
    "print_tree(root)"
   ]
  }
 ],
 "metadata": {
  "kernelspec": {
   "display_name": "Python 3",
   "language": "python",
   "name": "python3"
  },
  "language_info": {
   "codemirror_mode": {
    "name": "ipython",
    "version": 3
   },
   "file_extension": ".py",
   "mimetype": "text/x-python",
   "name": "python",
   "nbconvert_exporter": "python",
   "pygments_lexer": "ipython3",
   "version": "3.7.8"
  },
  "latex_envs": {
   "LaTeX_envs_menu_present": true,
   "autoclose": true,
   "autocomplete": true,
   "bibliofile": "biblio.bib",
   "cite_by": "apalike",
   "current_citInitial": 1,
   "eqLabelWithNumbers": true,
   "eqNumInitial": 1,
   "hotkeys": {
    "equation": "Ctrl-E",
    "itemize": "Ctrl-I"
   },
   "labels_anchors": false,
   "latex_user_defs": false,
   "report_style_numbering": false,
   "user_envs_cfg": false
  },
  "toc": {
   "base_numbering": 1,
   "nav_menu": {},
   "number_sections": true,
   "sideBar": true,
   "skip_h1_title": false,
   "title_cell": "Table of Contents",
   "title_sidebar": "Contents",
   "toc_cell": false,
   "toc_position": {},
   "toc_section_display": true,
   "toc_window_display": false
  }
 },
 "nbformat": 4,
 "nbformat_minor": 4
}
