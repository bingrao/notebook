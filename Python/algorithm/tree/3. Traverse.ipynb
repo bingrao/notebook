{
 "cells": [
  {
   "cell_type": "markdown",
   "metadata": {
    "code_folding": []
   },
   "source": [
    "# Preliminary"
   ]
  },
  {
   "cell_type": "code",
   "execution_count": 2,
   "metadata": {},
   "outputs": [
    {
     "name": "stdout",
     "output_type": "stream",
     "text": [
      "Pre Order: [1, 2, 4, 7, 5, 3, 6, 8]\n",
      "In Order: [7, 4, 2, 5, 1, 3, 6, 8]\n",
      "Post Order: [7, 4, 5, 2, 8, 6, 3, 1]\n"
     ]
    }
   ],
   "source": [
    "from typing import List\n",
    "# Definition for a binary tree node.\n",
    "class TreeNode:\n",
    "    def __init__(self, val=0, left=None, right=None):\n",
    "        self.val = val\n",
    "        self.left = left\n",
    "        self.right = right\n",
    "def pre_order(root: TreeNode):\n",
    "    if root is None: return []\n",
    "    return [root.val] + pre_order(root.left) + pre_order(root.right)\n",
    "def in_order(node: TreeNode):\n",
    "    if node is None: return []\n",
    "    return  in_order(node.left) + [node.val] + in_order(node.right)\n",
    "def post_order(node: TreeNode):\n",
    "    if node is None: return []\n",
    "    return  post_order(node.left) + post_order(node.right) + [node.val]\n",
    "\n",
    "def print_tree(root: TreeNode):\n",
    "    print(f\"Pre Order: {pre_order(root)}\")\n",
    "    print(f\"In Order: {in_order(root)}\")\n",
    "    print(f\"Post Order: {post_order(root)}\")\n",
    "\n",
    "preOrder = [1, 2, 4, 7, 5, 3, 6, 8]\n",
    "inOrder =  [7, 4, 2, 5, 1, 3, 6, 8]\n",
    "def build_tree_pre_in(preOrder: List[int], inOrder: List[int]) -> TreeNode:\n",
    "    if len(preOrder) == 0 or len(inOrder) == 0:\n",
    "        return None\n",
    "    \n",
    "    root = TreeNode(preOrder[0])\n",
    "    root_index = inOrder.index(preOrder[0])\n",
    "    \n",
    "    root.left = build_tree_pre_in(preOrder[1:root_index + 1], inOrder[:root_index])\n",
    "    root.right = build_tree_pre_in(preOrder[root_index + 1:], inOrder[root_index + 1:])\n",
    "    return root\n",
    "\n",
    "root = build_tree_pre_in(preOrder, inOrder)\n",
    "print_tree(root)"
   ]
  },
  {
   "cell_type": "markdown",
   "metadata": {},
   "source": [
    "# Traverse a tree\n",
    "\n",
    "1. Depth First Traversal (DFS)\n",
    "    1. PreOrder\n",
    "        1. Iterative with stack\n",
    "        2. Recusive\n",
    "        3. Morris\n",
    "    2. PostOrder\n",
    "        1. Iterative with stack\n",
    "        2. Recusive\n",
    "        3. Morris\n",
    "    3. InOrder\n",
    "        1. Iterative with stack\n",
    "        2. Recusive\n",
    "        3. Morris\n",
    "2. Breadth First Traversal (BFS)\n",
    "    1. Iterative with queue\n",
    "\n",
    "![](image/dfs_bfs2.png)"
   ]
  },
  {
   "cell_type": "markdown",
   "metadata": {},
   "source": [
    "# Depth First Traversal (DFS)\n",
    "\n",
    "DFS (Depth-first search) is technique used for traversing tree or graph. Here backtracking is used for traversal. In this traversal first the deepest node is visited and then backtracks to it’s parent node if no sibling of that node exist."
   ]
  },
  {
   "cell_type": "markdown",
   "metadata": {
    "heading_collapsed": true
   },
   "source": [
    "## PreOrder"
   ]
  },
  {
   "cell_type": "markdown",
   "metadata": {
    "hidden": true
   },
   "source": [
    "### Iterative with stack"
   ]
  },
  {
   "cell_type": "code",
   "execution_count": 13,
   "metadata": {
    "hidden": true
   },
   "outputs": [
    {
     "data": {
      "text/plain": [
       "[1, 2, 4, 7, 5, 3, 6, 8]"
      ]
     },
     "execution_count": 13,
     "metadata": {},
     "output_type": "execute_result"
    }
   ],
   "source": [
    "def traverse_preorder_iterative(root: TreeNode):\n",
    "    results = []\n",
    "    # Base case\n",
    "    if root is None:\n",
    "        return results\n",
    "    \n",
    "    # create an empty stack and push root to it\n",
    "    nodeStack = [root]\n",
    "\n",
    "    # Pop all items one by one. Do following for every popped item\n",
    "    # a) print it\n",
    "    # b) push its right child\n",
    "    # c) push its left child\n",
    "    # Note that right child is pushed first so that left is processed first\n",
    "    while nodeStack:\n",
    "         \n",
    "        # Pop the top item from stack and print it \n",
    "        node = nodeStack.pop()\n",
    "        \n",
    "        results += [node.val]\n",
    "         \n",
    "        # Push right and left children of the popped node to stack\n",
    "        if node.right is not None:\n",
    "            nodeStack.append(node.right)\n",
    "        \n",
    "        if node.left is not None:\n",
    "            nodeStack.append(node.left)\n",
    "    \n",
    "    return results\n",
    "\n",
    "traverse_preorder_iterative(root)"
   ]
  },
  {
   "cell_type": "markdown",
   "metadata": {
    "hidden": true
   },
   "source": [
    "### Recursive"
   ]
  },
  {
   "cell_type": "code",
   "execution_count": 14,
   "metadata": {
    "hidden": true
   },
   "outputs": [
    {
     "data": {
      "text/plain": [
       "[1, 2, 4, 7, 5, 3, 6, 8]"
      ]
     },
     "execution_count": 14,
     "metadata": {},
     "output_type": "execute_result"
    }
   ],
   "source": [
    "def traverse_preorder_recursive(root: TreeNode):\n",
    "    results = []\n",
    "    if root is not None:\n",
    "        results.append(root.val)\n",
    "\n",
    "        results += traverse_preorder_recursive(root.left)\n",
    "        results += traverse_preorder_recursive(root.right)\n",
    "    \n",
    "    return results\n",
    "\n",
    "traverse_preorder_recursive(root)"
   ]
  },
  {
   "cell_type": "markdown",
   "metadata": {
    "heading_collapsed": true,
    "hidden": true
   },
   "source": [
    "### Morris"
   ]
  },
  {
   "cell_type": "markdown",
   "metadata": {},
   "source": [
    "## InOrder"
   ]
  },
  {
   "cell_type": "markdown",
   "metadata": {},
   "source": [
    "### Iterative with stack"
   ]
  },
  {
   "cell_type": "code",
   "execution_count": 3,
   "metadata": {},
   "outputs": [
    {
     "data": {
      "text/plain": [
       "[7, 4, 2, 5, 1, 3, 6, 8]"
      ]
     },
     "execution_count": 3,
     "metadata": {},
     "output_type": "execute_result"
    }
   ],
   "source": [
    "# https://www.geeksforgeeks.org/inorder-tree-traversal-without-recursion/\n",
    "def traverse_inorder_iterative(root: TreeNode):\n",
    "    results = []\n",
    "    # Base case\n",
    "    if root is None:\n",
    "        return results\n",
    "    \n",
    "    # create an empty stack and push root to it\n",
    "    nodeStack = []\n",
    "    # Set current to root of binary tree\n",
    "    current = root\n",
    "    \n",
    "    while True:\n",
    "        if current is not None:\n",
    "            # Place pointer to a tree node on the stack \n",
    "            # before traversing the node's left subtree\n",
    "            nodeStack.append(current)\n",
    "            current = current.left\n",
    "        elif nodeStack:\n",
    "            current = nodeStack.pop()\n",
    "            results.append(current.val)\n",
    "            \n",
    "            # We have visited the node and its left \n",
    "            # subtree. Now, it's right subtree's turn\n",
    "            current = current.right\n",
    "        else:\n",
    "            break\n",
    "    return results\n",
    "\n",
    "traverse_inorder_iterative(root)"
   ]
  },
  {
   "cell_type": "code",
   "execution_count": 4,
   "metadata": {},
   "outputs": [],
   "source": [
    "def traverse_inorder_iterative_generator(root: TreeNode):\n",
    "    # create an empty stack and push root to it\n",
    "    nodeStack = []\n",
    "    # Set current to root of binary tree\n",
    "    current = root\n",
    "    \n",
    "    while True:\n",
    "        if current is not None:\n",
    "            # Place pointer to a tree node on the stack \n",
    "            # before traversing the node's left subtree\n",
    "            nodeStack.append(current)\n",
    "            current = current.left\n",
    "        elif nodeStack:\n",
    "            current = nodeStack.pop()\n",
    "            yield current.val\n",
    "            \n",
    "            # We have visited the node and its left \n",
    "            # subtree. Now, it's right subtree's turn\n",
    "            current = current.right\n",
    "        else:\n",
    "            break"
   ]
  },
  {
   "cell_type": "code",
   "execution_count": 5,
   "metadata": {},
   "outputs": [
    {
     "data": {
      "text/plain": [
       "7"
      ]
     },
     "execution_count": 5,
     "metadata": {},
     "output_type": "execute_result"
    }
   ],
   "source": [
    "b = traverse_inorder_iterative_generator(root)\n",
    "next(b)"
   ]
  },
  {
   "cell_type": "code",
   "execution_count": 11,
   "metadata": {},
   "outputs": [
    {
     "ename": "AttributeError",
     "evalue": "'generator' object has no attribute 'hasNext'",
     "output_type": "error",
     "traceback": [
      "\u001b[1;31m---------------------------------------------------------------------------\u001b[0m",
      "\u001b[1;31mAttributeError\u001b[0m                            Traceback (most recent call last)",
      "\u001b[1;32m<ipython-input-11-09f3e4a7a983>\u001b[0m in \u001b[0;36m<module>\u001b[1;34m()\u001b[0m\n\u001b[1;32m----> 1\u001b[1;33m \u001b[0mb\u001b[0m\u001b[1;33m.\u001b[0m\u001b[0mhasNext\u001b[0m\u001b[1;33m(\u001b[0m\u001b[1;33m)\u001b[0m\u001b[1;33m\u001b[0m\u001b[1;33m\u001b[0m\u001b[0m\n\u001b[0m",
      "\u001b[1;31mAttributeError\u001b[0m: 'generator' object has no attribute 'hasNext'"
     ]
    }
   ],
   "source": [
    "b.hasNext()"
   ]
  },
  {
   "cell_type": "markdown",
   "metadata": {},
   "source": [
    "### Recursive"
   ]
  },
  {
   "cell_type": "code",
   "execution_count": 16,
   "metadata": {},
   "outputs": [
    {
     "data": {
      "text/plain": [
       "[7, 4, 2, 5, 1, 3, 6, 8]"
      ]
     },
     "execution_count": 16,
     "metadata": {},
     "output_type": "execute_result"
    }
   ],
   "source": [
    "def traverse_inorder_recursive(node: TreeNode):\n",
    "    results = []\n",
    "    if node is not None:\n",
    "        results += traverse_inorder_recursive(node.left)\n",
    "        \n",
    "        results += [node.val]\n",
    "        \n",
    "        results += traverse_inorder_recursive(node.right)\n",
    "    return  results\n",
    "traverse_inorder_recursive(root)"
   ]
  },
  {
   "cell_type": "markdown",
   "metadata": {},
   "source": [
    "### Morris"
   ]
  },
  {
   "cell_type": "code",
   "execution_count": 37,
   "metadata": {},
   "outputs": [
    {
     "data": {
      "text/plain": [
       "[7, 4, 2, 5, 1, 3, 6, 8]"
      ]
     },
     "execution_count": 37,
     "metadata": {},
     "output_type": "execute_result"
    }
   ],
   "source": [
    "# https://www.geeksforgeeks.org/inorder-tree-traversal-without-recursion-and-without-stack/\n",
    "def traverse_inorder_morris(node: TreeNode):\n",
    "    \"\"\"Generator function for iterative inorder tree traversal\"\"\"\n",
    "    current = node\n",
    "    \n",
    "    while current is not None:\n",
    "        if current.left is None:\n",
    "            yield current.val\n",
    "            current = current.right\n",
    "        else:\n",
    "            # Find the inorder predecessor of current\n",
    "            pre = current.left\n",
    "            while pre.right is not None and pre.right is not current:\n",
    "                pre = pre.right\n",
    "            \n",
    "            if pre.right is None:\n",
    "                # Make current as right child of its inorder predecessor\n",
    "                pre.right = current\n",
    "                current = current.left\n",
    "            else:\n",
    "                # Revert the changes made \n",
    "                # in the 'if' part to restore the\n",
    "                # original tree. i.e., fix\n",
    "                # the right child of predecessor\n",
    "                pre.right = None\n",
    "                yield current.val\n",
    "                current = current.right\n",
    "                \n",
    "list(traverse_inorder_morris(root))"
   ]
  },
  {
   "cell_type": "markdown",
   "metadata": {},
   "source": [
    "## PostOrder"
   ]
  },
  {
   "cell_type": "markdown",
   "metadata": {},
   "source": [
    "### Iterative with stack"
   ]
  },
  {
   "cell_type": "code",
   "execution_count": 38,
   "metadata": {},
   "outputs": [
    {
     "data": {
      "text/plain": [
       "[7, 4, 5, 2, 8, 6, 3, 1]"
      ]
     },
     "execution_count": 38,
     "metadata": {},
     "output_type": "execute_result"
    }
   ],
   "source": [
    "def peek(stack): \n",
    "    if len(stack) > 0: \n",
    "        return stack[-1] \n",
    "    return None\n",
    "\n",
    "def traverse_postorder_iterative(root: TreeNode):\n",
    "    results = []\n",
    "    \n",
    "    # Check for empty tree \n",
    "    if root is None: \n",
    "        return\n",
    " \n",
    "    nodeStack = [] \n",
    "    current = root\n",
    "    \n",
    "    \n",
    "    while(True):\n",
    "        while current:\n",
    "            # Push current's right child and then current to stack \n",
    "            if current.right is not None: \n",
    "                nodeStack.append(current.right) \n",
    "            nodeStack.append(current)\n",
    " \n",
    "            # Set current as current's left child \n",
    "            current = current.left\n",
    "         \n",
    "        # Pop an item from stack and set it as current \n",
    "        current = nodeStack.pop()\n",
    " \n",
    "        # If the popped item has a right child and the \n",
    "        # right child is not processed yet, then make sure \n",
    "        # right child is processed before root \n",
    "        if (current.right is not None and peek(nodeStack) == current.right): \n",
    "            nodeStack.pop() # Remove right child from stack \n",
    "            nodeStack.append(current) # Push current back to stack \n",
    "            current = current.right # change current so that the right childis processed next \n",
    "        else: \n",
    "            # Else print current's data and set current as None \n",
    "            results.append(current.val) \n",
    "            current = None\n",
    " \n",
    "        if not nodeStack: \n",
    "                break\n",
    "    return results\n",
    "traverse_postorder_iterative(root)"
   ]
  },
  {
   "cell_type": "markdown",
   "metadata": {},
   "source": [
    "### Recursive"
   ]
  },
  {
   "cell_type": "code",
   "execution_count": 39,
   "metadata": {},
   "outputs": [
    {
     "data": {
      "text/plain": [
       "[7, 4, 5, 2, 8, 6, 3, 1]"
      ]
     },
     "execution_count": 39,
     "metadata": {},
     "output_type": "execute_result"
    }
   ],
   "source": [
    "def traverse_postorder_recursive(node: TreeNode):\n",
    "    results = []\n",
    "    if node is not None:\n",
    "        results += traverse_postorder_recursive(node.left)\n",
    "        results += traverse_postorder_recursive(node.right)\n",
    "        results += [node.val]\n",
    "    return results\n",
    "traverse_postorder_recursive(root)"
   ]
  },
  {
   "cell_type": "markdown",
   "metadata": {},
   "source": [
    "### Morris"
   ]
  },
  {
   "cell_type": "code",
   "execution_count": 40,
   "metadata": {},
   "outputs": [
    {
     "data": {
      "text/plain": [
       "[7, 4, 5, 2, 8, 6, 3, 1]"
      ]
     },
     "execution_count": 40,
     "metadata": {},
     "output_type": "execute_result"
    }
   ],
   "source": [
    "# https://www.geeksforgeeks.org/post-order-traversal-of-binary-tree-in-on-using-o1-space/\n",
    "def traverse_postorder_morris(node: TreeNode):\n",
    "    results = []\n",
    "    if node is None:\n",
    "        return results\n",
    "    \n",
    "    \n",
    "    current = TreeNode(-1)\n",
    "    pre = None\n",
    "    prev = None\n",
    "    succ = None\n",
    "    temp = None\n",
    "     \n",
    "    current.left = node\n",
    "    \n",
    "    while current is not None:\n",
    "        # If left child is None. \n",
    "        # Move to right child. \n",
    "        if current.left is None:\n",
    "            current = current.right\n",
    "        else:\n",
    "            pre = current.left\n",
    "             \n",
    "            # Inorder predecessor \n",
    "            while (pre.right and pre.right != current):\n",
    "                pre = pre.right\n",
    "             \n",
    "            # The connection between current\n",
    "            # and predecessor is made \n",
    "            if pre.right is None: \n",
    "                 \n",
    "                # Make current as the right \n",
    "                # child of the right most node \n",
    "                pre.right = current \n",
    "                 \n",
    "                # Traverse the left child \n",
    "                current = current.left\n",
    "            else:\n",
    "             \n",
    "                pre.right = None\n",
    "                succ = current\n",
    "                current = current.left \n",
    "                prev = None\n",
    "                 \n",
    "                # Traverse along the right \n",
    "                # subtree to the \n",
    "                # right-most child \n",
    "                while (current != None): \n",
    "                    temp = current.right\n",
    "                    current.right = prev \n",
    "                    prev = current\n",
    "                    current = temp \n",
    "             \n",
    "                # Traverse back \n",
    "                # to current's left child \n",
    "                # node \n",
    "                while prev is not None: \n",
    "                    results.append(prev.val)\n",
    "                    temp = prev.right\n",
    "                    prev.right = current\n",
    "                    current = prev\n",
    "                    prev = temp\n",
    " \n",
    "                current = succ\n",
    "                current = current.right\n",
    "    return results\n",
    "\n",
    "traverse_postorder_morris(root)"
   ]
  },
  {
   "cell_type": "markdown",
   "metadata": {},
   "source": [
    "# Breadth First Traversal (BFS)\n",
    "\n",
    "Breadth-first search (BFS) is an algorithm for traversing or searching tree or graph data structures. It starts at the tree root (or some arbitrary node of a graph, sometimes referred to as a 'search key'), and explores all of the neighbor nodes at the present depth prior to moving on to the nodes at the next depth level."
   ]
  },
  {
   "cell_type": "markdown",
   "metadata": {
    "heading_collapsed": true
   },
   "source": [
    "## Traversal with height"
   ]
  },
  {
   "cell_type": "code",
   "execution_count": 41,
   "metadata": {
    "hidden": true
   },
   "outputs": [
    {
     "data": {
      "text/plain": [
       "4"
      ]
     },
     "execution_count": 41,
     "metadata": {},
     "output_type": "execute_result"
    }
   ],
   "source": [
    "def getHeight(node: TreeNode):\n",
    "    if node is None:\n",
    "        return 0\n",
    "    else:\n",
    "        lheight = getHeight(node.left)\n",
    "        rheight = getHeight(node.right)\n",
    "        return max(rheight, lheight) + 1\n",
    "getHeight(root)"
   ]
  },
  {
   "cell_type": "code",
   "execution_count": 42,
   "metadata": {
    "hidden": true
   },
   "outputs": [
    {
     "data": {
      "text/plain": [
       "[4, 5, 6]"
      ]
     },
     "execution_count": 42,
     "metadata": {},
     "output_type": "execute_result"
    }
   ],
   "source": [
    "def traverse_given_level(node: TreeNode, level = 0):\n",
    "    results = []\n",
    "    if node is None:\n",
    "        return results\n",
    "    if level == 1:\n",
    "        results += [node.val]\n",
    "    else:\n",
    "        results += traverse_given_level(node.left, level - 1)\n",
    "        results += traverse_given_level(node.right, level - 1)\n",
    "    return results\n",
    "traverse_given_level(root, 3)"
   ]
  },
  {
   "cell_type": "code",
   "execution_count": 43,
   "metadata": {
    "hidden": true
   },
   "outputs": [
    {
     "data": {
      "text/plain": [
       "[[1], [2, 3], [4, 5, 6], [7, 8]]"
      ]
     },
     "execution_count": 43,
     "metadata": {},
     "output_type": "execute_result"
    }
   ],
   "source": [
    "def traverse_all_level(node: TreeNode):\n",
    "    return [traverse_given_level(root, level) for level in range(1, getHeight(node) + 1)]\n",
    "traverse_all_level(root)"
   ]
  },
  {
   "cell_type": "markdown",
   "metadata": {},
   "source": [
    "## Traversal with Queue"
   ]
  },
  {
   "cell_type": "code",
   "execution_count": 44,
   "metadata": {},
   "outputs": [
    {
     "data": {
      "text/plain": [
       "[1, 2, 3, 4, 5, 6, 7, 8]"
      ]
     },
     "execution_count": 44,
     "metadata": {},
     "output_type": "execute_result"
    }
   ],
   "source": [
    "def traverse_level_quque(root: TreeNode):\n",
    "    results = []\n",
    "    # Base Case\n",
    "    if root is None:\n",
    "        return results\n",
    "    \n",
    "    # Create an empty queue \n",
    "    # for level order traversal\n",
    "    nodeQueue = [root]\n",
    "    current = root\n",
    "    \n",
    "    while nodeQueue:\n",
    "        node = nodeQueue.pop(0)\n",
    "        results.append(node.val)\n",
    "        \n",
    "        #Enqueue left child\n",
    "        if node.left:\n",
    "            nodeQueue.append(node.left)\n",
    "        \n",
    "        # Enqueue right child\n",
    "        if node.right:\n",
    "            nodeQueue.append(node.right)\n",
    "    \n",
    "    return results\n",
    "traverse_level_quque(root)"
   ]
  },
  {
   "cell_type": "markdown",
   "metadata": {
    "heading_collapsed": true
   },
   "source": [
    "## Traversal with Morris"
   ]
  },
  {
   "cell_type": "code",
   "execution_count": 45,
   "metadata": {
    "hidden": true
   },
   "outputs": [
    {
     "data": {
      "text/plain": [
       "[[1], [2, 3], [4, 5, 6], [7, 8]]"
      ]
     },
     "execution_count": 45,
     "metadata": {},
     "output_type": "execute_result"
    }
   ],
   "source": [
    "# https://www.geeksforgeeks.org/level-order-traversal-of-binary-tree-using-morris-traversal/\n",
    "# Function to traverse the Binary \n",
    "# tree in the Level Order Fashion \n",
    "def traverse_level_morris(root: TreeNode): \n",
    "      \n",
    "    # Current Node is marked as \n",
    "    # the Root Node \n",
    "    curr = root \n",
    "    level = 0\n",
    "  \n",
    "    # Loop to traverse the Binary \n",
    "    # Tree until the current node  \n",
    "    # is not Null \n",
    "    while curr: \n",
    "  \n",
    "        # If left child is null, print the  \n",
    "        # current node data. And, update   \n",
    "        # the current pointer to right child.  \n",
    "        if curr.left is None: \n",
    "  \n",
    "            # Return the current node with \n",
    "            # its level \n",
    "            yield [curr, level]  \n",
    "            curr = curr.right \n",
    "            if curr: \n",
    "                level += 1\n",
    "            else: \n",
    "                level -= 1\n",
    "        else: \n",
    "  \n",
    "            # Find the inorder predecessor  \n",
    "            prev = curr.left  \n",
    "            to_up = 0\n",
    "  \n",
    "            # Loop to find the right most  \n",
    "            # node of the left child of the \n",
    "            # current node \n",
    "            while prev.right is not None and prev.right is not curr:  \n",
    "                prev = prev.right \n",
    "                to_up += 1\n",
    "  \n",
    "            # If the right child of inorder  \n",
    "            # predecessor already points to  \n",
    "            # the current node, update the   \n",
    "            # current with it's right child  \n",
    "            if prev.right is curr: \n",
    "                prev.right = None\n",
    "                curr = curr.right  \n",
    "                level -= to_up + 1\n",
    "              \n",
    "            # else If right child doesn't \n",
    "            # point to the current node,  \n",
    "            # then print this node's data  \n",
    "            # and update the right child \n",
    "            # pointer with the current node   \n",
    "            # and update the current with \n",
    "            # it's left child  \n",
    "            else: \n",
    "                yield [curr, level] \n",
    "                prev.right = curr   \n",
    "                curr = curr.left \n",
    "                level += 1\n",
    "\n",
    "\n",
    "outputData = [[] for i in range(4)]\n",
    "for node, level in traverse_level_morris(root): \n",
    "    outputData[level].append(node.val) \n",
    "outputData"
   ]
  },
  {
   "cell_type": "markdown",
   "metadata": {},
   "source": [
    "# Examples"
   ]
  },
  {
   "cell_type": "markdown",
   "metadata": {},
   "source": [
    "## Build a path between root and target node"
   ]
  },
  {
   "cell_type": "code",
   "execution_count": 47,
   "metadata": {},
   "outputs": [
    {
     "data": {
      "text/plain": [
       "[1, 2, 4, 7]"
      ]
     },
     "execution_count": 47,
     "metadata": {},
     "output_type": "execute_result"
    }
   ],
   "source": [
    "def hasPath(root: TreeNode, tgt: TreeNode, path=None):\n",
    "    if root is None:\n",
    "        return False\n",
    "    \n",
    "    if path is None:\n",
    "        path = []\n",
    "    \n",
    "    \n",
    "    path.append(root.val)\n",
    "    \n",
    "    if root.val == tgt.val:\n",
    "        return True\n",
    "    \n",
    "    if hasPath(root.left, tgt, path) or hasPath(root.right, tgt, path):\n",
    "        return True\n",
    "    \n",
    "    path.pop()\n",
    "    \n",
    "    return False\n",
    "\n",
    "path = []\n",
    "tgt = TreeNode(7)\n",
    "hasPath(root, tgt, path)\n",
    "path "
   ]
  },
  {
   "cell_type": "markdown",
   "metadata": {},
   "source": [
    "## Build a path between given two nodes"
   ]
  },
  {
   "cell_type": "code",
   "execution_count": null,
   "metadata": {},
   "outputs": [],
   "source": []
  }
 ],
 "metadata": {
  "kernelspec": {
   "display_name": "Python 3",
   "language": "python",
   "name": "python3"
  },
  "language_info": {
   "codemirror_mode": {
    "name": "ipython",
    "version": 3
   },
   "file_extension": ".py",
   "mimetype": "text/x-python",
   "name": "python",
   "nbconvert_exporter": "python",
   "pygments_lexer": "ipython3",
   "version": "3.7.8"
  },
  "latex_envs": {
   "LaTeX_envs_menu_present": true,
   "autoclose": true,
   "autocomplete": true,
   "bibliofile": "biblio.bib",
   "cite_by": "apalike",
   "current_citInitial": 1,
   "eqLabelWithNumbers": true,
   "eqNumInitial": 1,
   "hotkeys": {
    "equation": "Ctrl-E",
    "itemize": "Ctrl-I"
   },
   "labels_anchors": false,
   "latex_user_defs": false,
   "report_style_numbering": false,
   "user_envs_cfg": false
  },
  "toc": {
   "base_numbering": 1,
   "nav_menu": {},
   "number_sections": true,
   "sideBar": true,
   "skip_h1_title": false,
   "title_cell": "Table of Contents",
   "title_sidebar": "Contents",
   "toc_cell": false,
   "toc_position": {},
   "toc_section_display": true,
   "toc_window_display": false
  }
 },
 "nbformat": 4,
 "nbformat_minor": 4
}
