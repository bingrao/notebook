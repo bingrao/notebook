{
 "cells": [
  {
   "cell_type": "markdown",
   "metadata": {},
   "source": [
    "# Introduction\n",
    "\n",
    "那么我们应该如何去衡量不同算法之间的优劣呢？主要还是从算法所占用的「时间」和「空间」两个维度去考量。\n",
    "1. 时间维度：是指执行当前算法所消耗的时间，我们通常用「时间复杂度 (Time Complexisity))」来描述。\n",
    "2. 空间维度：是指执行当前算法需要占用多少内存空间，我们通常用「空间复杂度 (Space Comlexisity)」来描述。"
   ]
  },
  {
   "cell_type": "markdown",
   "metadata": {},
   "source": [
    "# Time Complexisity\n",
    "因此，另一种更为通用的方法就出来了：「 大O符号表示法 」，即 T(n) = O(f(n))\n",
    "```\n",
    "n = len(nums)      # --> executing once\n",
    "for i in nums:\n",
    "    j = i          # --> executing n times\n",
    "    j += 1         # --> executing n times\n",
    "```\n",
    "通过「 大O符号表示法 」，这段代码的时间复杂度为：O(n) ，为什么呢?\n",
    "\n",
    "**算法的渐进时间复杂度** 在大O符号表示法中，时间复杂度的公式是： T(n) = O( f(n) )，其中f(n) 表示每行代码执行次数之和，而 O 表示正比例关系。\n",
    "\n",
    "我们继续看上面的例子，假设每行代码的执行时间都是一样的，我们用1颗粒时间来表示，那么这个例子的第一行耗时是1个颗粒时间，第三行的执行时间是n个颗粒时间，第四行的执行时间也是n个颗粒时间，那么总时间就是1颗粒时间 + n颗粒时间 + n颗粒时间 ，即 (1+2n)个颗粒时间，即： T(n) = (1+2n)*颗粒时间，从这个结果可以看出，这个算法的耗时是随着n的变化而变化，因此，我们可以简化的将这个算法的时间复杂度表示为：T(n) = O(n)\n",
    "\n",
    "\n",
    "为什么可以这么去简化呢，因为大O符号表示法并不是用于来真实代表算法的执行时间的，它是用来表示代码执行时间的增长变化趋势的。\n",
    "\n",
    "所以上面的例子中，如果n无限大的时候，T(n) = time(1+2n)中的常量1就没有意义了，倍数2也意义不大。因此直接简化为T(n) = O(n) 就可以了。\n",
    "\n",
    "常见的时间复杂度量级有：\n",
    "\n",
    "1. 常数阶O(1)\n",
    "2. 对数阶O(logN)\n",
    "3. 线性阶O(n)\n",
    "4. 线性对数阶O(nlogN)\n",
    "5. 平方阶O(n²)\n",
    "6. 立方阶O(n³)\n",
    "7. K次方阶O(n^k)\n",
    "8. 指数阶(2^n)\n",
    "\n",
    "上面从上至下依次的时间复杂度越来越大，执行的效率越来越低。"
   ]
  },
  {
   "cell_type": "markdown",
   "metadata": {},
   "source": [
    "## 常数阶O(1)\n",
    "\n",
    "无论代码执行了多少行，只要是没有循环等复杂结构，那这个代码的时间复杂度就都是O(1)，如："
   ]
  },
  {
   "cell_type": "code",
   "execution_count": 1,
   "metadata": {},
   "outputs": [],
   "source": [
    "j = 1  # once\n",
    "i = 1  # once\n",
    "i += 1 # once \n",
    "j += 1 # once"
   ]
  },
  {
   "cell_type": "markdown",
   "metadata": {},
   "source": [
    "上述代码在执行的时候，它消耗的时候并不随着某个变量的增长而增长，那么无论这类代码有多长，即使有几万几十万行，都可以用O(1)来表示它的时间复杂度。"
   ]
  },
  {
   "cell_type": "markdown",
   "metadata": {},
   "source": [
    "## 线性阶O(n)"
   ]
  },
  {
   "cell_type": "code",
   "execution_count": 3,
   "metadata": {},
   "outputs": [],
   "source": [
    "nums = [1, 2, 3, 4, 6]\n",
    "n = len(nums)      # --> executing once\n",
    "for i in nums:\n",
    "    j = i          # --> executing n times\n",
    "    j += 1         # --> executing n times"
   ]
  },
  {
   "cell_type": "markdown",
   "metadata": {},
   "source": [
    "这段代码，for循环里面的代码会执行n遍，因此它消耗的时间是随着n的变化而变化的，因此这类代码都可以用O(n)来表示它的时间复杂度。"
   ]
  },
  {
   "cell_type": "markdown",
   "metadata": {},
   "source": [
    "## 对数阶O(logN)"
   ]
  },
  {
   "cell_type": "code",
   "execution_count": null,
   "metadata": {},
   "outputs": [],
   "source": [
    "n = 100\n",
    "a = 1\n",
    "i = a\n",
    "k = 2\n",
    "while i < n:\n",
    "    i = i * k   # How many steps to be executed to skip out while loop"
   ]
  },
  {
   "cell_type": "markdown",
   "metadata": {},
   "source": [
    "从上面代码可以看到，在while循环里面，每次都将 i 乘以 2，乘完之后，i 距离 n 就越来越近了。我们试着求解一下，假设循环x次之后，i 就大于 2 了，此时这个循环就退出了，也就是说 2 的 x 次方等于 n: a * k^x = n, 那么 x = $log_k {n}$ - log_k {a}. \n",
    "\n",
    "也就是说当循环 $log_k {n}$ - log_k {a} 次以后，这个代码就结束了。因此这个代码的时间复杂度为：O(logn). 在这里，我们可以看到， a 和 k 的值，并不重要。"
   ]
  },
  {
   "cell_type": "markdown",
   "metadata": {
    "heading_collapsed": true
   },
   "source": [
    "## 线性对数阶O(nlogN)\n",
    "\n",
    "线性对数阶O(nlogN) 其实非常容易理解，将时间复杂度为O(logn)的代码循环N遍的话，那么它的时间复杂度就是 n * O(logN)，也就是了O(nlogN)"
   ]
  },
  {
   "cell_type": "code",
   "execution_count": null,
   "metadata": {
    "hidden": true
   },
   "outputs": [],
   "source": [
    "nums = [1, 2, 3, 4, 6]\n",
    "n = len(nums)      # --> executing once\n",
    "\n",
    "def while_loop(n):\n",
    "    a = 1          # --> executing 1 times\n",
    "    i = a          # --> executing 1 times\n",
    "    k = 2          # --> executing 1 times\n",
    "    while i < n:\n",
    "        i = i * k   # --> executing logn times\n",
    "\n",
    "for i in nums:\n",
    "    j = i          # --> executing n times\n",
    "    j += 1         # --> executing n times\n",
    "    f(n)           # --> executing n * log n times"
   ]
  },
  {
   "cell_type": "markdown",
   "metadata": {
    "heading_collapsed": true
   },
   "source": [
    "## 平方阶O(m*n)\n",
    "\n",
    "平方阶O(m*n) 就更容易理解了，如果把 O(m) 的代码再嵌一套循环 m，它的时间复杂度就是 O(m*n) 了。"
   ]
  },
  {
   "cell_type": "code",
   "execution_count": null,
   "metadata": {
    "hidden": true
   },
   "outputs": [],
   "source": [
    "m = 100\n",
    "n = 50\n",
    "\n",
    "for i in range(m):\n",
    "    for j in range(n):\n",
    "        a = i + j        # executing m*n times"
   ]
  },
  {
   "cell_type": "markdown",
   "metadata": {
    "hidden": true
   },
   "source": [
    "如果 m = n 那么 这段代码其实就是嵌套了2层n循环，它的时间复杂度就是 O(n*n)，即 O(n²)"
   ]
  },
  {
   "cell_type": "markdown",
   "metadata": {},
   "source": [
    "## 立方阶O(n³)、K次方阶O(n^k)\n",
    "\n",
    "\n",
    "参考上面的O(n²) 去理解就好了，O(n³)相当于三层n循环，其它的类似。"
   ]
  },
  {
   "cell_type": "code",
   "execution_count": null,
   "metadata": {},
   "outputs": [],
   "source": [
    "n = 100\n",
    "for i in range(n):\n",
    "    for j in range(n):\n",
    "        for k in range(n):\n",
    "            a = i + j + k           # executing n*n*n times"
   ]
  },
  {
   "cell_type": "markdown",
   "metadata": {},
   "source": [
    "# Space Complexisity\n",
    "\n",
    "空间复杂度是对一个算法在运行过程中临时占用存储空间大小的一个量度，同样反映的是一个趋势，我们用 S(n) 来定义。\n",
    "\n",
    "空间复杂度比较常用的有：O(1)、O(n)、O(n²)，我们下面来看看："
   ]
  },
  {
   "cell_type": "markdown",
   "metadata": {},
   "source": [
    "## 空间复杂度 O(1)\n",
    "\n",
    "如果算法执行所需要的临时空间不随着某个变量n的大小而变化，即此算法空间复杂度为一个常量，可表示为 O(1)"
   ]
  },
  {
   "cell_type": "code",
   "execution_count": null,
   "metadata": {},
   "outputs": [],
   "source": [
    "i = 1\n",
    "j = 2\n",
    "i += 1\n",
    "j += 1\n",
    "m = i + j"
   ]
  },
  {
   "cell_type": "markdown",
   "metadata": {},
   "source": [
    "代码中的 i、j、m 所分配的空间都不随着处理数据量变化，因此它的空间复杂度 S(n) = O(1)"
   ]
  },
  {
   "cell_type": "markdown",
   "metadata": {},
   "source": [
    "## 空间复杂度 O(n)\n"
   ]
  },
  {
   "cell_type": "code",
   "execution_count": null,
   "metadata": {},
   "outputs": [],
   "source": [
    "n = 100\n",
    "m = [0 for _ in range(n)]  # n space of memory storage\n",
    "for i in m:\n",
    "    j = i"
   ]
  },
  {
   "cell_type": "markdown",
   "metadata": {},
   "source": [
    "这段代码中，第一行new了一个数组出来，这个数据占用的大小为n，这段代码的2-6行，虽然有循环，但没有再分配新的空间，因此，这段代码的空间复杂度主要看第一行即可，即 S(n) = O(n)"
   ]
  },
  {
   "cell_type": "code",
   "execution_count": null,
   "metadata": {},
   "outputs": [],
   "source": []
  }
 ],
 "metadata": {
  "kernelspec": {
   "display_name": "Python 3",
   "language": "python",
   "name": "python3"
  },
  "language_info": {
   "codemirror_mode": {
    "name": "ipython",
    "version": 3
   },
   "file_extension": ".py",
   "mimetype": "text/x-python",
   "name": "python",
   "nbconvert_exporter": "python",
   "pygments_lexer": "ipython3",
   "version": "3.7.8"
  },
  "latex_envs": {
   "LaTeX_envs_menu_present": true,
   "autoclose": true,
   "autocomplete": true,
   "bibliofile": "biblio.bib",
   "cite_by": "apalike",
   "current_citInitial": 1,
   "eqLabelWithNumbers": true,
   "eqNumInitial": 1,
   "hotkeys": {
    "equation": "Ctrl-E",
    "itemize": "Ctrl-I"
   },
   "labels_anchors": false,
   "latex_user_defs": false,
   "report_style_numbering": false,
   "user_envs_cfg": false
  },
  "toc": {
   "base_numbering": 1,
   "nav_menu": {},
   "number_sections": true,
   "sideBar": true,
   "skip_h1_title": false,
   "title_cell": "Table of Contents",
   "title_sidebar": "Contents",
   "toc_cell": false,
   "toc_position": {},
   "toc_section_display": true,
   "toc_window_display": false
  }
 },
 "nbformat": 4,
 "nbformat_minor": 4
}
