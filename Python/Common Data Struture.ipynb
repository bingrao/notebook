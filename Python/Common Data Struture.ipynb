{
 "cells": [
  {
   "cell_type": "markdown",
   "metadata": {},
   "source": [
    "# Array\n",
    "\n",
    "Array is a container which can hold a fix number of items and these items should be of the same type. \n",
    "\n",
    "``` \n",
    "arrayName = array(typecode, [Initializers])\n",
    "``` \n",
    " Typecode are the codes that are used to define the type of value the array will hold. Some common typecodes used are as follows\n",
    " \n",
    " | Typecode | Value |\n",
    " |---|---|\n",
    " | b\t| Represents signed integer of size 1 byte |\n",
    " | B\t| Represents unsigned integer of size 1 byte |\n",
    " | c\t| Represents character of size 1 byte |\n",
    " | i\t| Represents signed integer of size 2 bytes |\n",
    " | I\t| Represents unsigned integer of size 2 bytes |\n",
    " | f\t| Represents floating point of size 4 bytes |\n",
    " | d\t| Represents floating point of size 8 bytes |"
   ]
  },
  {
   "cell_type": "code",
   "execution_count": 13,
   "metadata": {},
   "outputs": [
    {
     "name": "stdout",
     "output_type": "stream",
     "text": [
      "10\n",
      "20\n",
      "30\n",
      "40\n",
      "50\n"
     ]
    }
   ],
   "source": [
    "# creates an array named array1\n",
    "from array import *\n",
    "array1 = array('i', [10,20,30,40,50])\n",
    "for x in array1:\n",
    "    print(x)"
   ]
  },
  {
   "cell_type": "code",
   "execution_count": 14,
   "metadata": {},
   "outputs": [
    {
     "name": "stdout",
     "output_type": "stream",
     "text": [
      "The first element: 10\n",
      "The first two element: array('i', [10, 20])\n",
      "The middle two element: array('i', [20, 30, 40])\n",
      "The last element: 50\n",
      "The last three element: array('i', [20, 30, 40, 50])\n"
     ]
    }
   ],
   "source": [
    "## Accessing Array Element\n",
    "print(f\"The first element: {array1[0]}\")\n",
    "print(f\"The first two element: {array1[:2]}\")\n",
    "print(f\"The middle two element: {array1[1:4]}\")\n",
    "print(f\"The last element: {array1[-1]}\")\n",
    "print(f\"The last three element: {array1[-4:]}\")"
   ]
  },
  {
   "cell_type": "code",
   "execution_count": 15,
   "metadata": {},
   "outputs": [
    {
     "name": "stdout",
     "output_type": "stream",
     "text": [
      "Original array: array('i', [10, 20, 30, 40, 50])\n",
      "revised array: array('i', [10, 60, 20, 30, 40, 50])\n"
     ]
    }
   ],
   "source": [
    "# Insertion Operation\n",
    "# Insert operation is to insert one or more data elements into an array. Based on the requirement, \n",
    "# a new element can be added at the beginning, end, or any given index of array.\n",
    "\n",
    "print(f\"Original array: {array1}\")\n",
    "array1.insert(1,60)\n",
    "print(f\"revised array: {array1}\")"
   ]
  },
  {
   "cell_type": "markdown",
   "metadata": {},
   "source": [
    "## Deletion Operation\n",
    "\n",
    "Deletion refers to removing first one existing element from the array and re-organizing all elements of an array.\n",
    "\n",
    "print(f\"Original array: {array1}\")\n",
    "array1.remove(60)\n",
    "print(f\"revised array: {array1}\")\n"
   ]
  },
  {
   "cell_type": "code",
   "execution_count": 17,
   "metadata": {},
   "outputs": [
    {
     "name": "stdout",
     "output_type": "stream",
     "text": [
      "4\n"
     ]
    }
   ],
   "source": [
    "# Search Operation\n",
    "# You can perform a search for an array element based on its value or its index.\n",
    "print (array1.index(50))"
   ]
  },
  {
   "cell_type": "code",
   "execution_count": 18,
   "metadata": {},
   "outputs": [
    {
     "name": "stdout",
     "output_type": "stream",
     "text": [
      "Original array: array('i', [10, 20, 30, 40, 50])\n",
      "revised array: array('i', [10, 20, 80, 40, 50])\n"
     ]
    }
   ],
   "source": [
    "# Update Operation\n",
    "# Update operation refers to updating an existing element from the array at a given index.\n",
    "\n",
    "print(f\"Original array: {array1}\")\n",
    "array1[2] = 80\n",
    "print(f\"revised array: {array1}\")"
   ]
  },
  {
   "cell_type": "markdown",
   "metadata": {},
   "source": [
    "# List\n",
    "\n",
    "The list is a most versatile datatype available in Python which can be written as a list of comma-separated values (items) between square brackets. \n",
    "\n",
    "**Important thing about a list is that items in a list need not be of the same type, while for a array they should be same type**\n"
   ]
  },
  {
   "cell_type": "code",
   "execution_count": 20,
   "metadata": {},
   "outputs": [
    {
     "name": "stdout",
     "output_type": "stream",
     "text": [
      "list1: ['physics', 'chemistry', 1997, 2000]\n",
      "list2: [1, 2, 3, 4, 5]\n",
      "list3: ['a', 'b', 'c', 'd']\n"
     ]
    }
   ],
   "source": [
    "# create lists\n",
    "\n",
    "list1 = ['physics', 'chemistry', 1997, 2000]\n",
    "list2 = [1, 2, 3, 4, 5 ]\n",
    "list3 = [\"a\", \"b\", \"c\", \"d\"]\n",
    "\n",
    "print(f\"list1: {list1}\")\n",
    "print(f\"list2: {list2}\")\n",
    "print(f\"list3: {list3}\")"
   ]
  },
  {
   "cell_type": "code",
   "execution_count": 22,
   "metadata": {},
   "outputs": [
    {
     "name": "stdout",
     "output_type": "stream",
     "text": [
      "list1[0]:  physics\n",
      "list2[1:5]:  [2, 3, 4, 5]\n"
     ]
    }
   ],
   "source": [
    "# Accessing Values\n",
    "# To access values in lists, use the square brackets for slicing along with the index \n",
    "# or indices to obtain value available at that index.\n",
    "print(\"list1[0]: \", list1[0])\n",
    "print(\"list2[1:5]: \", list2[1:5])"
   ]
  },
  {
   "cell_type": "code",
   "execution_count": 23,
   "metadata": {},
   "outputs": [
    {
     "name": "stdout",
     "output_type": "stream",
     "text": [
      "Value available at index 2 :  1997\n",
      "New value available at index 2 :  2001\n"
     ]
    }
   ],
   "source": [
    "# Updating Lists\n",
    "# You can update single or multiple elements of lists by giving the slice on the left-hand side of the assignment operator\n",
    "print(\"Value available at index 2 : \", list1[2])\n",
    "list1[2] = 2001\n",
    "print(\"New value available at index 2 : \", list1[2])"
   ]
  },
  {
   "cell_type": "markdown",
   "metadata": {},
   "source": [
    "# Tuple\n",
    "\n",
    "A tuple is a sequence of immutable Python objects. Tuples are sequences, just like lists. The differences between tuples and lists: \n",
    "- the tuples cannot be changed unlike lists \n",
    "- tuples use parentheses, (a, b, c), whereas lists use square brackets, [a, b, c]."
   ]
  },
  {
   "cell_type": "code",
   "execution_count": 26,
   "metadata": {},
   "outputs": [
    {
     "name": "stdout",
     "output_type": "stream",
     "text": [
      "New tuple: (12, 34.56, 'abc', 'xyz')\n"
     ]
    },
    {
     "ename": "TypeError",
     "evalue": "'tuple' object does not support item assignment",
     "output_type": "error",
     "traceback": [
      "\u001b[0;31m---------------------------------------------------------------------------\u001b[0m",
      "\u001b[0;31mTypeError\u001b[0m                                 Traceback (most recent call last)",
      "\u001b[0;32m<ipython-input-26-2d7aa0f0460b>\u001b[0m in \u001b[0;36m<module>\u001b[0;34m\u001b[0m\n\u001b[1;32m     12\u001b[0m \u001b[0;34m\u001b[0m\u001b[0m\n\u001b[1;32m     13\u001b[0m \u001b[0;31m# Following action is not valid for tuples\u001b[0m\u001b[0;34m\u001b[0m\u001b[0;34m\u001b[0m\u001b[0;34m\u001b[0m\u001b[0m\n\u001b[0;32m---> 14\u001b[0;31m \u001b[0mtup1\u001b[0m\u001b[0;34m[\u001b[0m\u001b[0;36m0\u001b[0m\u001b[0;34m]\u001b[0m \u001b[0;34m=\u001b[0m \u001b[0;36m100\u001b[0m\u001b[0;34m\u001b[0m\u001b[0;34m\u001b[0m\u001b[0m\n\u001b[0m",
      "\u001b[0;31mTypeError\u001b[0m: 'tuple' object does not support item assignment"
     ]
    }
   ],
   "source": [
    "# Updating Tuples\n",
    "\n",
    "# Tuples are immutable which means you cannot update or change the values of tuple elements. \n",
    "# You are able to take portions of existing tuples to create new tuples as the following example demonstrates\n",
    "\n",
    "tup1 = (12, 34.56)\n",
    "tup2 = ('abc', 'xyz')\n",
    "\n",
    "# So let's create a new tuple as follows\n",
    "tup3 = tup1 + tup2\n",
    "print(f\"New tuple: {tup3}\")\n",
    "\n",
    "# Following action is not valid for tuples\n",
    "tup1[0] = 100"
   ]
  },
  {
   "cell_type": "code",
   "execution_count": null,
   "metadata": {},
   "outputs": [],
   "source": [
    "# Delete Tuple Elements\n",
    "\n",
    "# Removing individual tuple elements is not possible. \n",
    "# There is, of course, nothing wrong with putting together \n",
    "# another tuple with the undesired elements discarded.\n",
    "\n",
    "# To explicitly remove an entire tuple, just use the del statement."
   ]
  },
  {
   "cell_type": "markdown",
   "metadata": {},
   "source": [
    "# Dictionary\n",
    "\n",
    "- In Dictionary each key is separated from its value by a colon (:)\n",
    "- the items are separated by commas \n",
    "- the whole thing is enclosed in curly braces. \n",
    "- An empty dictionary without any items is written with just two curly braces, like this {}."
   ]
  },
  {
   "cell_type": "code",
   "execution_count": 28,
   "metadata": {},
   "outputs": [
    {
     "name": "stdout",
     "output_type": "stream",
     "text": [
      "dict['Name']:  Zara\n",
      "dict['Age']:  7\n"
     ]
    }
   ],
   "source": [
    "dict = {'Name': 'Zara', 'Age': 7, 'Class': 'First'}\n",
    "print(\"dict['Name']: \", dict['Name'])\n",
    "print(\"dict['Age']: \", dict['Age'])"
   ]
  },
  {
   "cell_type": "markdown",
   "metadata": {},
   "source": [
    "# ChainMap\n",
    "\n",
    "It is a type of data structure to manage multiple dictionaries together as one unit.\n",
    "- Removing duplicate keys. If there are duplicate keys, then only the value from the first key is preserved.\n",
    "- The best use of ChainMap is to search through multiple dictionaries at a time and get the proper key-value pair mapping\n",
    "- We also see that these ChainMaps behave as stack data structure."
   ]
  },
  {
   "cell_type": "code",
   "execution_count": 29,
   "metadata": {},
   "outputs": [
    {
     "name": "stdout",
     "output_type": "stream",
     "text": [
      "ChainMap({'day1': 'Mon', 'day2': 'Tue'}, {'day3': 'Wed', 'day1': 'Thu'})\n"
     ]
    }
   ],
   "source": [
    "# Examples\n",
    "\n",
    "import collections\n",
    "\n",
    "dict1 = {'day1': 'Mon', 'day2': 'Tue'}\n",
    "dict2 = {'day3': 'Wed', 'day1': 'Thu'}\n",
    "\n",
    "res = collections.ChainMap(dict1, dict2)\n",
    "print(res)"
   ]
  },
  {
   "cell_type": "code",
   "execution_count": 30,
   "metadata": {},
   "outputs": [
    {
     "name": "stdout",
     "output_type": "stream",
     "text": [
      "[{'day1': 'Mon', 'day2': 'Tue'}, {'day3': 'Wed', 'day1': 'Thu'}] \n",
      "\n",
      "Keys = ['day3', 'day1', 'day2']\n",
      "Values = ['Wed', 'Mon', 'Tue']\n",
      "\n"
     ]
    }
   ],
   "source": [
    "# Creating a single dictionary\n",
    "print(res.maps,'\\n')\n",
    "\n",
    "print('Keys = {}'.format(list(res.keys())))\n",
    "print('Values = {}'.format(list(res.values())))\n",
    "print()"
   ]
  },
  {
   "cell_type": "code",
   "execution_count": 31,
   "metadata": {},
   "outputs": [
    {
     "name": "stdout",
     "output_type": "stream",
     "text": [
      "elements:\n",
      "day3 = Wed\n",
      "day1 = Mon\n",
      "day2 = Tue\n",
      "\n"
     ]
    }
   ],
   "source": [
    "# Print all the elements from the result\n",
    "print('elements:')\n",
    "for key, val in res.items():\n",
    "   print('{} = {}'.format(key, val))\n",
    "print()"
   ]
  },
  {
   "cell_type": "code",
   "execution_count": 32,
   "metadata": {},
   "outputs": [
    {
     "name": "stdout",
     "output_type": "stream",
     "text": [
      "day3 in res: True\n",
      "day4 in res: False\n"
     ]
    }
   ],
   "source": [
    "# Find a specific value in the result\n",
    "print('day3 in res: {}'.format(('day1' in res)))\n",
    "print('day4 in res: {}'.format(('day4' in res)))"
   ]
  },
  {
   "cell_type": "code",
   "execution_count": 34,
   "metadata": {},
   "outputs": [
    {
     "name": "stdout",
     "output_type": "stream",
     "text": [
      "[{'day1': 'Mon', 'day2': 'Tue'}, {'day3': 'Wed', 'day1': 'Thu'}] \n",
      "\n",
      "[{'day1': 'Mon', 'day2': 'Tue'}, {'day3': 'Wed', 'day1': 'Thu', 'day4': 'Fri'}] \n",
      "\n"
     ]
    }
   ],
   "source": [
    "# Updating Map\n",
    "# When the element of the dictionary is updated, the result is instantly updated in \n",
    "# the result of the ChainMap. In the below example we see that the new updated value \n",
    "# reflects in the result without explicitly applying the ChainMap method again.\n",
    "\n",
    "print(res.maps,'\\n')\n",
    "\n",
    "dict2['day4'] = 'Fri'\n",
    "\n",
    "print(res.maps,'\\n')"
   ]
  },
  {
   "cell_type": "markdown",
   "metadata": {},
   "source": [
    "# 链表\n",
    "\n",
    "1) 含义：链表（Linked list）是一种常见的基础数据结构，是一种线性表，但是并不会按线性的顺序存储数据，而是在每一个节点里存到下一个节点的指针(Pointer)。由于不必须按顺序存储，链表在插入的时候可以达到O(1)的复杂度，比另一种线性表顺序表快得多，但是查找一个节点或者访问特定编号的节点则需要O(n)的时间，而顺序表相应的时间复杂度分别是O(logn)和O(1)\n",
    "\n",
    "2) 特点：使用链表结构可以克服数组链表需要预先知道数据大小的缺点，链表结构可以充分利用计算机内存空间，实现灵活的内存动态管理。但是链表失去了数组随机读取的优点，同时链表由于增加了结点的指针域，空间开销比较大\n",
    "\n",
    "3) 操作：\n",
    "1. is_empty() 链表是否为空\n",
    "3. length() 链表长度\n",
    "3. travel() 遍历链表\n",
    "4. add(item) 链表头部添加\n",
    "5. append(item) 链表尾部添加\n",
    "6. insert(pos, item) 指定位置添加\n",
    "7. remove(item) 删除节点\n",
    "8. search(item) 查找节点是否存在"
   ]
  },
  {
   "cell_type": "code",
   "execution_count": 2,
   "metadata": {},
   "outputs": [],
   "source": [
    "class LinkNode(object):\n",
    "    def __init(self, item, prev=None, next=None):\n",
    "        self.item = item\n",
    "        self.prev = prev\n",
    "        self.next = next"
   ]
  },
  {
   "cell_type": "code",
   "execution_count": null,
   "metadata": {},
   "outputs": [],
   "source": [
    "class DLinkList(object):\n",
    "    def __init__(self):\n",
    "        self.head = None\n",
    "        \n",
    "        self.count = 0\n",
    "        \n",
    "    def add(self, item):\n",
    "        node = LinkNode(item)\n",
    "        \n",
    "        if self.head == None:\n",
    "            self.head = node\n",
    "            node.prev = node\n",
    "            node.next = node\n",
    "        else:\n",
    "            node.next = self.head\n",
    "            self.head.prev = node\n",
    "            self.head = node\n",
    "        self.count += 1\n",
    "    \n",
    "    def append(self, item):\n",
    "        pass\n",
    "        \n",
    "    def is_empty(self):\n",
    "        return self._head == None\n",
    "    \n",
    "    def length(self):\n",
    "        return self.count\n",
    "    "
   ]
  },
  {
   "cell_type": "markdown",
   "metadata": {},
   "source": [
    "# 堆栈\n",
    "\n",
    "1. 含义：堆栈（英语：stack），也可直接称栈，在计算机科学中，是一种特殊的串列形式的数据结构，它的特殊之处在于只能允许在链接串列或阵列的一端（称为堆叠顶端指标，英语：top）进行加入资料（英语：push）和输出资料（英语：pop）的运算。另外堆叠也可以用一维阵列或连结串列的形式来完成。堆叠的另外一个相对的操作方式称为伫列；由于堆叠数据结构只允许在一端进行操作，因而按照后进先出（LIFO, Last In First Out）的原理运作\n",
    "\n",
    "2. 特点：先入后出，后入先出；除头尾节点之外，每个元素有一个前驱，一个后继"
   ]
  },
  {
   "cell_type": "code",
   "execution_count": 4,
   "metadata": {},
   "outputs": [],
   "source": [
    "class Stack(object):\n",
    "    def __init__(self):\n",
    "        self.data = []\n",
    "    \n",
    "    def length(self):\n",
    "        return len(self.data)\n",
    "    \n",
    "    def is_empty(self):\n",
    "        return self.length == 0\n",
    "    \n",
    "    def push(self, item):\n",
    "        self.data.append(item)\n",
    "    \n",
    "    def pop(self, item):\n",
    "        return self.data.pop()"
   ]
  },
  {
   "cell_type": "markdown",
   "metadata": {},
   "source": [
    "# 队列\n",
    "\n",
    "1) 含义：和堆栈类似，唯一的区别是队列只能在队头进行出队操作，所以队列是是先进先出（FIFO, First-In-First-Out）的线性表\n",
    "\n",
    "2) 特点：先入先出,后入后出；除尾节点外,每个节点有一个后继；（可选）除头节点外,每个节点有一个前驱"
   ]
  },
  {
   "cell_type": "code",
   "execution_count": 35,
   "metadata": {},
   "outputs": [],
   "source": [
    "class Queue(object):\n",
    "    def __init__(self):\n",
    "        self.data = []\n",
    "        \n",
    "    def dequeue(self):\n",
    "        return self.data.pop(0) if self.data != [] else None\n",
    "    def inqueue(self, item):\n",
    "        self.data.append(item)"
   ]
  },
  {
   "cell_type": "markdown",
   "metadata": {},
   "source": [
    "# Dequeue\n",
    "\n",
    "A double-ended queue, or deque, supports adding and removing elements from either end. he more commonly used stacks and queues are degenerate forms of deques, where the inputs and outputs are restricted to a single end."
   ]
  },
  {
   "cell_type": "code",
   "execution_count": 47,
   "metadata": {},
   "outputs": [
    {
     "name": "stdout",
     "output_type": "stream",
     "text": [
      "Double ended queue: deque(['Monday', 'Tuesday', 'Wesday', 'Thursday'])\n",
      "Appended at right: deque(['Monday', 'Tuesday', 'Wesday', 'Thursday', 'Friday'])\n",
      "Appended at left: deque(['Sunday', 'Monday', 'Tuesday', 'Wesday', 'Thursday', 'Friday'])\n",
      "Deleting from right: deque(['Sunday', 'Monday', 'Tuesday', 'Wesday', 'Thursday'])\n",
      "Deleting from left: deque(['Monday', 'Tuesday', 'Wesday', 'Thursday'])\n"
     ]
    }
   ],
   "source": [
    "import collections\n",
    "\n",
    "dq = collections.deque([\"Monday\",\"Tuesday\", \"Wesday\", \"Thursday\"])\n",
    "\n",
    "print(f\"Double ended queue: {dq}\")\n",
    "\n",
    "dq.append('Friday'); print(f\"Appended at right: {dq}\")\n",
    "dq.appendleft(\"Sunday\"); print(f\"Appended at left: {dq}\")\n",
    "dq.pop(); print(f\"Deleting from right: {dq}\")\n",
    "dq.popleft(); print(f\"Deleting from left: {dq}\")"
   ]
  },
  {
   "cell_type": "markdown",
   "metadata": {},
   "source": [
    "# 二叉树\n",
    "\n",
    "1）定义：二叉树是每个结点最多有两个子树的树结构。它有五种基本形态：二叉树可以是空集；根可以有空的左子树或右子树；或者左、右子树皆为空\n",
    "2）特点：\n",
    "   1. 性质1：二叉树第i层上的结点数目最多为$2^{i-1}$(i>=1)；\n",
    "   2. 性质2：深度为k的二叉树至多有$2^{k-1}$个结点（k>=1）；\n",
    "   3. 性质3：包含n个结点的二叉树的高度至少为$log_{2} n+1$；\n",
    "   4. 性质4：在任意一棵二叉树中，若终端结点的个数为$n_0$，度为2的结点数为$n_2$，则$n_0=n_2+1$"
   ]
  },
  {
   "cell_type": "code",
   "execution_count": 6,
   "metadata": {},
   "outputs": [],
   "source": [
    "class TreeNode(object):\n",
    "    def __init__(self, item):\n",
    "        self.item = item\n",
    "        self.left_child = None\n",
    "        self.right_child = None"
   ]
  },
  {
   "cell_type": "code",
   "execution_count": 27,
   "metadata": {},
   "outputs": [],
   "source": [
    "class Tree(object):\n",
    "    def __init__(self):\n",
    "        self.root = None\n",
    "\n",
    "    def add(self, item):\n",
    "        node = TreeNode(item)\n",
    "        if self.root is None:\n",
    "            self.root = node\n",
    "        else:\n",
    "            q = [self.root]\n",
    "            while True:\n",
    "                pop_node = q.pop(0)\n",
    "                if pop_node.left_child is None:\n",
    "                    pop_node.left_child = node\n",
    "                    break\n",
    "                elif pop_node.right_child is None:\n",
    "                    pop_node.right_child = node\n",
    "                    break\n",
    "                else:\n",
    "                    q.append(pop_node.left_child)\n",
    "                    q.append(pop_node.right_child)\n",
    "\n",
    "    def traverse(self):\n",
    "        if self.root is None:\n",
    "            return None\n",
    "\n",
    "        q = [self.root]\n",
    "\n",
    "        res = [self.root.item]\n",
    "\n",
    "        while q != []:\n",
    "            pop_node = q.pop(0)\n",
    "\n",
    "            if pop_node.left_child is not None:\n",
    "                q.append(pop_node.left_child)\n",
    "                res.append(pop_node.left_child.item)\n",
    "\n",
    "            if pop_node.right_child is not None:\n",
    "                q.append(pop_node.right_child)\n",
    "                res.append(pop_node.right_child.item)\n",
    "\n",
    "        return res\n",
    "\n",
    "    def traverse_preorder(self, root, res=None):  # 先序遍历\n",
    "        if res is None: res = []\n",
    "\n",
    "        def preorder(root, res):\n",
    "            if root is None: return None\n",
    "            res.append(root.item)\n",
    "            preorder(root.left_child, res)\n",
    "            preorder(root.right_child, res)\n",
    "\n",
    "        preorder(root, res)\n",
    "        return res\n",
    "\n",
    "    def traverse_inorder(self, root, res=None):  # 中序序遍历\n",
    "        if res is None: res = []\n",
    "\n",
    "        def inorder(root, res):\n",
    "            if root is None: return None\n",
    "            inorder(root.left_child, res)\n",
    "            res.append(root.item)\n",
    "            inorder(root.right_child, res)\n",
    "\n",
    "        inorder(root, res)\n",
    "        return res\n",
    "\n",
    "    def traverse_postorder(self, root, res=None):  # 中序序遍历\n",
    "        if res is None: res = []\n",
    "\n",
    "        def postorder(root, res):\n",
    "            if root is None: return None\n",
    "            postorder(root.left_child, res)\n",
    "            postorder(root.right_child, res)\n",
    "            res.append(root.item)\n",
    "\n",
    "        postorder(root, res)\n",
    "        return res"
   ]
  },
  {
   "cell_type": "code",
   "execution_count": 28,
   "metadata": {},
   "outputs": [],
   "source": [
    "t = Tree()\n",
    "for i in range(10):\n",
    "    t.add(i)"
   ]
  },
  {
   "cell_type": "code",
   "execution_count": 31,
   "metadata": {},
   "outputs": [
    {
     "name": "stdout",
     "output_type": "stream",
     "text": [
      "[0, 1, 2, 3, 4, 5, 6, 7, 8, 9]\n",
      "[0, 1, 3, 7, 8, 4, 9, 2, 5, 6]\n",
      "[7, 3, 8, 1, 9, 4, 0, 5, 2, 6]\n",
      "[7, 8, 3, 9, 4, 1, 5, 6, 2, 0]\n"
     ]
    }
   ],
   "source": [
    "# 层序遍历\n",
    "print(t.traverse())\n",
    "print(t.traverse_preorder(t.root))\n",
    "print(t.traverse_inorder(t.root))\n",
    "print(t.traverse_postorder(t.root))"
   ]
  },
  {
   "cell_type": "markdown",
   "metadata": {},
   "source": [
    "# Container datatypes --- collections"
   ]
  },
  {
   "cell_type": "markdown",
   "metadata": {},
   "source": [
    "## Counter\n",
    "\n",
    "A Counter is a dict subclass for counting hashable objects. It is a collection where elements are stored as dictionary keys and their counts are stored as dictionary values. Counts are allowed to be any integer value including zero or negative counts. The Counter class is similar to bags or multisets in other languages."
   ]
  },
  {
   "cell_type": "code",
   "execution_count": 49,
   "metadata": {},
   "outputs": [
    {
     "name": "stdout",
     "output_type": "stream",
     "text": [
      "after count: Counter({'blue': 3, 'red': 2, 'green': 1})\n",
      "Counting directly from array: Counter({'blue': 3, 'red': 2, 'green': 1})\n"
     ]
    }
   ],
   "source": [
    "from collections import Counter\n",
    "\n",
    "# 1. initial to take a count in two ways:\n",
    "cnt = Counter()\n",
    "for word in ['red', 'blue', 'red', 'green', 'blue', 'blue']:\n",
    "    cnt[word] += 1\n",
    "print(f\"after count: {cnt}\")\n",
    "print(f\"Counting directly from array: {Counter(['red', 'blue', 'red', 'green', 'blue', 'blue'])}\")"
   ]
  },
  {
   "cell_type": "code",
   "execution_count": 50,
   "metadata": {},
   "outputs": [
    {
     "name": "stdout",
     "output_type": "stream",
     "text": [
      "a new, empty counter Counter()\n",
      "a new counter from an iterable Counter({'a': 3, 'l': 2, 'g': 1, 'h': 1, 'd': 1})\n",
      "a new counter from a mapping Counter({'red': 4, 'blue': 2})\n",
      "a new counter from keyword args Counter({'dogs': 8, 'cats': 4})\n"
     ]
    }
   ],
   "source": [
    "# More examples from \n",
    "print(f\"a new, empty counter {Counter()}\")\n",
    "print(f\"a new counter from an iterable {Counter('gallahad') }\")\n",
    "print(f\"a new counter from a mapping {Counter({'red': 4, 'blue': 2})}\")\n",
    "print(f\"a new counter from keyword args {Counter(cats=4, dogs=8) }\")"
   ]
  },
  {
   "cell_type": "code",
   "execution_count": 52,
   "metadata": {},
   "outputs": [
    {
     "name": "stdout",
     "output_type": "stream",
     "text": [
      "Counter({'a': 4, 'b': 2, 'c': 0, 'd': -2})\n",
      "elements: ['a', 'a', 'a', 'a', 'b', 'b']\n"
     ]
    }
   ],
   "source": [
    "# Useful APIs\n",
    "c = Counter(a=4, b=2, c=0, d=-2)\n",
    "print(c)\n",
    "print(f\"elements: {list(c.elements())}\")\n"
   ]
  },
  {
   "cell_type": "code",
   "execution_count": 55,
   "metadata": {},
   "outputs": [
    {
     "name": "stdout",
     "output_type": "stream",
     "text": [
      "Original Count: Counter({'a': 5, 'b': 2, 'r': 2, 'c': 1, 'd': 1})\n",
      "Top 3 most common: [('a', 5), ('b', 2), ('r', 2)]\n",
      "N least common elements: [('d', 1), ('c', 1)]\n"
     ]
    }
   ],
   "source": [
    "# \n",
    "c = Counter('abracadabra')\n",
    "\n",
    "top3 = c.most_common(3)\n",
    "n = 2\n",
    "least_n = c.most_common()[:-n-1:-1] # n least common elements\n",
    "print(f\"Original Count: {c}\")\n",
    "print(f\"Top 3 most common: {top3}\")\n",
    "print(f\"N least common elements: {least_n}\")"
   ]
  },
  {
   "cell_type": "markdown",
   "metadata": {},
   "source": [
    "# Heap\n",
    "\n",
    "A heap is a binary tree inside an array. A heap is sorted based on the \"heap property\" that determines the order of the nodes in the tree.\n",
    "\n",
    "\\begin{definition}[Heap]\n",
    "Suppose that $arr = [k_0, k_1, k_2, \\ldots, k_{n-1}]$, $\\forall i \\in [0, \\frac{n - 2}{2}]$\n",
    "\\begin{itemize}\n",
    "\\item \\textbf{Max-Heap}\n",
    " \\begin{equation}\n",
    "    \\begin{cases}\n",
    "      k_i \\geq k_{2i + 1} \\\\\n",
    "      k_i \\geq k_{2i + 2}\n",
    "    \\end{cases}\n",
    "  \\end{equation}\n",
    "\\item \\textbf{Min-Heap}\n",
    "\\begin{equation}\n",
    "    \\begin{cases}\n",
    "      k_i \\leq k_{2i + 1} \\\\\n",
    "      k_i \\leq k_{2i + 2}\n",
    "    \\end{cases}\n",
    "  \\end{equation}\n",
    "\\end{itemize}\n",
    "\\end{definition}\n",
    "\n",
    "If $i$ is the index of a node, then the following formulas give the array indices of its parent and child nodes:\n",
    "\\begin{aligned}\n",
    "parent(i) &= floor(\\frac{i - 1}{2}) \\\\\n",
    "left(i)   &= 2i + 1 \\\\\n",
    "right(i)  &= left(i) + 1 = 2i + 2 \\\\\n",
    "\\end{aligned}\n",
    "The left and right nodes are always stored right next to each other."
   ]
  },
  {
   "cell_type": "markdown",
   "metadata": {},
   "source": [
    "## Heap Property"
   ]
  },
  {
   "cell_type": "code",
   "execution_count": 66,
   "metadata": {},
   "outputs": [
    {
     "name": "stdout",
     "output_type": "stream",
     "text": [
      "[True, True, True, True]\n"
     ]
    }
   ],
   "source": [
    "# 1. Using Max- or Min-heap property to verify that if an array is a heap.\n",
    "arr = [ 10, 7, 2, 5, 1 ]\n",
    "import math\n",
    "\n",
    "def parent(index):\n",
    "    return math.floor((index - 1) / 2)\n",
    "\n",
    "def left(index):\n",
    "    return 2*index + 1\n",
    "\n",
    "def right(index):\n",
    "    return 2*index + 2\n",
    "\n",
    "hold_props = [arr[parent(i)] >= arr[i] for i in range(1, len(arr))]\n",
    "print(hold_props)"
   ]
  },
  {
   "cell_type": "markdown",
   "metadata": {},
   "source": [
    "- In Max-heap, all parent nodes is bigger or equal than their children nodes, so the largest item at the root of the tree. \n",
    "- In Min-heap, all parent nodes is smaller or equal than their children nodes, so the smallest item at the root of the tree. \n",
    "- The root of the heap has the maximum or minimum element, but the sort order of other elements are not predictable. "
   ]
  },
  {
   "cell_type": "markdown",
   "metadata": {},
   "source": [
    "## Heap vs Regular Tree (Binary search tree)\n",
    "\n",
    "- **Order of the nodes.** In a Binary search tree (BST), the left child must be smaller than its parent, and the right child must be greater. This is not true for a heap. In a max-heap both children must be smaller than the parent, while in a min-heap they both must be greater.\n",
    "- **Memory.** Traditional trees take up more memory than just the data they store. You need to allocate additional storage for the node objects and pointers to the left/right child nodes. A heap only uses a plain array for storage and uses no pointers.\n",
    "- **Balancing.** A binary search tree must be \"balanced\" so that most operations have O(log n) performance. You can either insert and delete your data in a random order or use something like an AVL tree or red-black tree, but with heaps we don't actually need the entire tree to be sorted. We just want the heap property to be fulfilled, so balancing isn't an issue. Because of the way the heap is structured, heaps can guarantee O(log n) performance.\n",
    "- **Searching.** Whereas searching is fast in a binary tree, it is slow in a heap. Searching isn't a top priority in a heap since the purpose of a heap is to put the largest (or smallest) node at the front and to allow relatively fast inserts and deletes."
   ]
  },
  {
   "cell_type": "code",
   "execution_count": 70,
   "metadata": {},
   "outputs": [],
   "source": [
    "import math\n",
    "\n",
    "class Heap:\n",
    "    def __init__(self):\n",
    "\n",
    "        self.data = []\n",
    "\n",
    "    @property\n",
    "    def size(self):\n",
    "        return len(self.data)\n",
    "\n",
    "    def insert(self, value):\n",
    "        \"\"\"\n",
    "        Adds the new element to the end of the heap\n",
    "        and then uses shiftUp() to fix the heap.\n",
    "        \"\"\"\n",
    "        self.data.append(value)\n",
    "        self.shiftUp(self.size - 1)\n",
    "\n",
    "    def remove(self):\n",
    "        \"\"\"\n",
    "        Removes and returns the maximum value (max-heap) or\n",
    "        the minimum value (min-heap). To fill up the hole left\n",
    "        by removing the element, the very last element is moved\n",
    "        to the root position and then shiftDown() fixes up the heap.\n",
    "        (This is sometimes called \"extract min\" or \"extract max\".)\n",
    "        \"\"\"\n",
    "        pass\n",
    "\n",
    "    def removeAtIndex(self, index):\n",
    "        \"\"\"\n",
    "        Just like remove() with the exception that it allows you to\n",
    "        remove any item from the heap, not just the root. This calls\n",
    "        both shiftDown(), in case the new element is out-of-order with\n",
    "        its children, and shiftUp(), in case the element is out-of-order\n",
    "        with its parents.\n",
    "        \"\"\"\n",
    "        pass\n",
    "\n",
    "    def replace(self, index, value):\n",
    "        \"\"\"\n",
    "        Assigns a smaller (min-heap) or larger (max-heap) value to a node.\n",
    "        Because this invalidates the heap property, it uses shiftUp() to\n",
    "        patch things up. (Also called \"decrease key\" and \"increase key\".)\n",
    "        \"\"\"\n",
    "        pass\n",
    "\n",
    "    def search(self, value):\n",
    "        \"\"\"\n",
    "        Heaps are not built for efficient searches, but the replace() and\n",
    "        removeAtIndex() operations require the array index of the node,\n",
    "        so you need to find that index. Time: O(n).\n",
    "        \"\"\"\n",
    "        pass\n",
    "\n",
    "    def buildHeap(self, array):\n",
    "        \"\"\"\n",
    "        Converts an (unsorted) array into a heap by repeatedly calling insert().\n",
    "        If you are smart about this, it can be done in O(n) time.\n",
    "        \"\"\"\n",
    "        pass\n",
    "\n",
    "    def peek(self):\n",
    "        \"\"\"\n",
    "        The heap also has a peek() function that returns the maximum (max-heap)\n",
    "        or minimum (min-heap) element, without removing it from the heap.\n",
    "        Time: O(1).\n",
    "        \"\"\"\n",
    "        return self.data[0] if self.size() > 0 else None\n",
    "\n",
    "    def shiftUp(self, index):\n",
    "        \"\"\"\n",
    "        If the element is greater (max-heap) or smaller (min-heap)\n",
    "        than its parent, it needs to be swapped with the parent.\n",
    "        This makes it move up the tree.\n",
    "\n",
    "        Shifting up or down is a recursive procedure that takes O(log n) time.\n",
    "        \"\"\"\n",
    "        parent_index = self.parent(index)\n",
    "        while index > 1 and self.data[parent_index] > self.data[index]:\n",
    "            self.data[parent_index], self.data[index] = self.data[index], self.data[parent_index]\n",
    "            index = parent_index\n",
    "            parent_index = self.parent(index)\n",
    "\n",
    "\n",
    "    def shiftDown(self, index):\n",
    "        \"\"\"\n",
    "        If the element is smaller (max-heap) or greater (min-heap)\n",
    "        than its children, it needs to move down the tree.\n",
    "        This operation is also called \"heapify\".\n",
    "\n",
    "        Shifting up or down is a recursive procedure that takes O(log n) time.\n",
    "        \"\"\"\n",
    "        pass\n",
    "\n",
    "    def heapify(self):\n",
    "        pass\n",
    "\n",
    "    @staticmethod\n",
    "    def parent(index):\n",
    "        return math.floor((index - 1) / 2)\n",
    "\n",
    "    @staticmethod\n",
    "    def left(index):\n",
    "        return 2 * index + 1\n",
    "\n",
    "    @staticmethod\n",
    "    def right(index):\n",
    "        return 2 * index + 2\n",
    "\n",
    "\n",
    "\n",
    "if __name__ == \"__main__\":\n",
    "    pass"
   ]
  },
  {
   "cell_type": "markdown",
   "metadata": {},
   "source": [
    "## Heap queue algorithm in Python\n",
    "\n",
    "This module provides an implementation of the heap queue algorithm, also known as the priority queue algorithm."
   ]
  },
  {
   "cell_type": "code",
   "execution_count": 83,
   "metadata": {},
   "outputs": [
    {
     "name": "stdout",
     "output_type": "stream",
     "text": [
      "[0, 1, 2, 6, 3, 5, 4, 7, 8, 9]\n"
     ]
    }
   ],
   "source": [
    "import heapq\n",
    "# 1. Creat a heap \n",
    "\n",
    "h1 = []\n",
    "data = [1, 3, 5, 7, 9, 2, 4, 6, 8, 0]\n",
    "\n",
    "heapq.heapify(data) # Transform list x into a heap, in-place, in linear time.\n",
    "print(data)"
   ]
  },
  {
   "cell_type": "code",
   "execution_count": 84,
   "metadata": {},
   "outputs": [
    {
     "name": "stdout",
     "output_type": "stream",
     "text": [
      "[0, 1, 2, 6, 3, 5, 4, 7, 8, 9, 3]\n"
     ]
    }
   ],
   "source": [
    "# Push the value item onto the heap, maintaining the heap invariant.\n",
    "heapq.heappush(data, 3)\n",
    "print(data)"
   ]
  },
  {
   "cell_type": "code",
   "execution_count": 85,
   "metadata": {},
   "outputs": [
    {
     "name": "stdout",
     "output_type": "stream",
     "text": [
      "[1, 3, 2, 6, 3, 5, 4, 7, 8, 9]\n",
      "0\n"
     ]
    }
   ],
   "source": [
    "# Pop and return the smallest item from the heap, maintaining the heap \n",
    "# invariant. If the heap is empty, IndexError is raised. To access the \n",
    "# smallest item without popping it, use heap[0].\n",
    "\n",
    "result = heapq.heappop(data)\n",
    "print(data)\n",
    "print(result)"
   ]
  },
  {
   "cell_type": "code",
   "execution_count": 89,
   "metadata": {},
   "outputs": [],
   "source": [
    "def heapsort(iterable):\n",
    "    h = []\n",
    "    \n",
    "    # build a min-heap\n",
    "    for value in iterable:\n",
    "        heapq.heappush(h, value)\n",
    "    \n",
    "    return [heapq.heappop(h) for _ in range(len(iterable))]"
   ]
  },
  {
   "cell_type": "code",
   "execution_count": 90,
   "metadata": {},
   "outputs": [
    {
     "data": {
      "text/plain": [
       "[1, 2, 3, 3, 4, 5, 6, 7, 8, 9]"
      ]
     },
     "execution_count": 90,
     "metadata": {},
     "output_type": "execute_result"
    }
   ],
   "source": [
    "heapsort([1, 3, 2, 6, 3, 5, 4, 7, 8, 9])"
   ]
  },
  {
   "cell_type": "markdown",
   "metadata": {},
   "source": [
    "# Reference \n",
    "\n",
    "1. [Python 中常见的数据结构](https://zhuanlan.zhihu.com/p/69487899)\n",
    "2. [Python对数据结构的实现](https://blog.csdn.net/mxz19901102/article/details/80071864?utm_medium=distribute.pc_relevant.none-task-blog-BlogCommendFromMachineLearnPai2-2.control&depth_1-utm_source=distribute.pc_relevant.none-task-blog-BlogCommendFromMachineLearnPai2-2.control)\n",
    "3. [常见的数据结构](https://zhuanlan.zhihu.com/p/93928546)\n",
    "4. [Heap](https://github.com/raywenderlich/swift-algorithm-club/tree/master/Heap)"
   ]
  },
  {
   "cell_type": "code",
   "execution_count": null,
   "metadata": {},
   "outputs": [],
   "source": []
  }
 ],
 "metadata": {
  "kernelspec": {
   "display_name": "Python 3",
   "language": "python",
   "name": "python3"
  },
  "language_info": {
   "codemirror_mode": {
    "name": "ipython",
    "version": 3
   },
   "file_extension": ".py",
   "mimetype": "text/x-python",
   "name": "python",
   "nbconvert_exporter": "python",
   "pygments_lexer": "ipython3",
   "version": "3.7.11"
  },
  "latex_envs": {
   "LaTeX_envs_menu_present": true,
   "autoclose": true,
   "autocomplete": true,
   "bibliofile": "biblio.bib",
   "cite_by": "apalike",
   "current_citInitial": 1,
   "eqLabelWithNumbers": true,
   "eqNumInitial": 1,
   "hotkeys": {
    "equation": "Ctrl-E",
    "itemize": "Ctrl-I"
   },
   "labels_anchors": false,
   "latex_user_defs": false,
   "report_style_numbering": false,
   "user_envs_cfg": false
  },
  "nbTranslate": {
   "displayLangs": [
    "*"
   ],
   "hotkey": "alt-t",
   "langInMainMenu": true,
   "sourceLang": "en",
   "targetLang": "fr",
   "useGoogleTranslate": true
  },
  "toc": {
   "base_numbering": 1,
   "nav_menu": {},
   "number_sections": true,
   "sideBar": true,
   "skip_h1_title": false,
   "title_cell": "Table of Contents",
   "title_sidebar": "Contents",
   "toc_cell": false,
   "toc_position": {},
   "toc_section_display": true,
   "toc_window_display": false
  }
 },
 "nbformat": 4,
 "nbformat_minor": 4
}
