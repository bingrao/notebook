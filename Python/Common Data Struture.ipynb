{
 "cells": [
  {
   "cell_type": "markdown",
   "metadata": {},
   "source": [
    "# 链表\n",
    "\n",
    "1) 含义：链表（Linked list）是一种常见的基础数据结构，是一种线性表，但是并不会按线性的顺序存储数据，而是在每一个节点里存到下一个节点的指针(Pointer)。由于不必须按顺序存储，链表在插入的时候可以达到O(1)的复杂度，比另一种线性表顺序表快得多，但是查找一个节点或者访问特定编号的节点则需要O(n)的时间，而顺序表相应的时间复杂度分别是O(logn)和O(1)\n",
    "\n",
    "2) 特点：使用链表结构可以克服数组链表需要预先知道数据大小的缺点，链表结构可以充分利用计算机内存空间，实现灵活的内存动态管理。但是链表失去了数组随机读取的优点，同时链表由于增加了结点的指针域，空间开销比较大\n",
    "\n",
    "3) 操作：\n",
    "1. is_empty() 链表是否为空\n",
    "3. length() 链表长度\n",
    "3. travel() 遍历链表\n",
    "4. add(item) 链表头部添加\n",
    "5. append(item) 链表尾部添加\n",
    "6. insert(pos, item) 指定位置添加\n",
    "7. remove(item) 删除节点\n",
    "8. search(item) 查找节点是否存在"
   ]
  },
  {
   "cell_type": "code",
   "execution_count": 2,
   "metadata": {},
   "outputs": [],
   "source": [
    "class LinkNode(object):\n",
    "    def __init(self, item, prev=None, next=None):\n",
    "        self.item = item\n",
    "        self.prev = prev\n",
    "        self.next = next"
   ]
  },
  {
   "cell_type": "code",
   "execution_count": null,
   "metadata": {},
   "outputs": [],
   "source": [
    "class DLinkList(object):\n",
    "    def __init__(self):\n",
    "        self.head = None\n",
    "        \n",
    "        self.count = 0\n",
    "        \n",
    "    def add(self, item):\n",
    "        node = LinkNode(item)\n",
    "        \n",
    "        if self.head == None:\n",
    "            self.head = node\n",
    "            node.prev = node\n",
    "            node.next = node\n",
    "        else:\n",
    "            node.next = self.head\n",
    "            self.head.prev = node\n",
    "            self.head = node\n",
    "        self.count += 1\n",
    "    \n",
    "    def append(self, item):\n",
    "        pass\n",
    "        \n",
    "    def is_empty(self):\n",
    "        return self._head == None\n",
    "    \n",
    "    def length(self):\n",
    "        return self.count\n",
    "    "
   ]
  },
  {
   "cell_type": "markdown",
   "metadata": {},
   "source": [
    "# 堆栈\n",
    "\n",
    "1. 含义：堆栈（英语：stack），也可直接称栈，在计算机科学中，是一种特殊的串列形式的数据结构，它的特殊之处在于只能允许在链接串列或阵列的一端（称为堆叠顶端指标，英语：top）进行加入资料（英语：push）和输出资料（英语：pop）的运算。另外堆叠也可以用一维阵列或连结串列的形式来完成。堆叠的另外一个相对的操作方式称为伫列；由于堆叠数据结构只允许在一端进行操作，因而按照后进先出（LIFO, Last In First Out）的原理运作\n",
    "\n",
    "2. 特点：先入后出，后入先出；除头尾节点之外，每个元素有一个前驱，一个后继"
   ]
  },
  {
   "cell_type": "code",
   "execution_count": 4,
   "metadata": {},
   "outputs": [],
   "source": [
    "class Stack(object):\n",
    "    def __init__(self):\n",
    "        self.data = []\n",
    "    \n",
    "    def length(self):\n",
    "        return len(self.data)\n",
    "    \n",
    "    def is_empty(self):\n",
    "        return self.length == 0\n",
    "    \n",
    "    def push(self, item):\n",
    "        self.data.append(item)\n",
    "    \n",
    "    def pop(self, item):\n",
    "        return self.data.pop()"
   ]
  },
  {
   "cell_type": "markdown",
   "metadata": {},
   "source": [
    "# 队列\n",
    "\n",
    "1) 含义：和堆栈类似，唯一的区别是队列只能在队头进行出队操作，所以队列是是先进先出（FIFO, First-In-First-Out）的线性表\n",
    "\n",
    "2) 特点：先入先出,后入后出；除尾节点外,每个节点有一个后继；（可选）除头节点外,每个节点有一个前驱"
   ]
  },
  {
   "cell_type": "code",
   "execution_count": 5,
   "metadata": {},
   "outputs": [],
   "source": [
    "class Queue(object):\n",
    "    def __init__(self):\n",
    "        self.data = []\n",
    "        \n",
    "    def dequeue(self):\n",
    "        return self.data.pop(0) if self.data != [] else None\n",
    "    def inqueue(self, item):\n",
    "        self.data.append(item)"
   ]
  },
  {
   "cell_type": "markdown",
   "metadata": {},
   "source": [
    "# 二叉树\n",
    "\n",
    "1）定义：二叉树是每个结点最多有两个子树的树结构。它有五种基本形态：二叉树可以是空集；根可以有空的左子树或右子树；或者左、右子树皆为空\n",
    "2）特点：\n",
    "   1. 性质1：二叉树第i层上的结点数目最多为$2^{i-1}$(i>=1)；\n",
    "   2. 性质2：深度为k的二叉树至多有$2^{k-1}$个结点（k>=1）；\n",
    "   3. 性质3：包含n个结点的二叉树的高度至少为$log_{2} n+1$；\n",
    "   4. 性质4：在任意一棵二叉树中，若终端结点的个数为$n_0$，度为2的结点数为$n_2$，则$n_0=n_2+1$"
   ]
  },
  {
   "cell_type": "code",
   "execution_count": 6,
   "metadata": {},
   "outputs": [],
   "source": [
    "class TreeNode(object):\n",
    "    def __init__(self, item):\n",
    "        self.item = item\n",
    "        self.left_child = None\n",
    "        self.right_child = None"
   ]
  },
  {
   "cell_type": "code",
   "execution_count": 27,
   "metadata": {},
   "outputs": [],
   "source": [
    "class Tree(object):\n",
    "    def __init__(self):\n",
    "        self.root = None\n",
    "\n",
    "    def add(self, item):\n",
    "        node = TreeNode(item)\n",
    "        if self.root is None:\n",
    "            self.root = node\n",
    "        else:\n",
    "            q = [self.root]\n",
    "            while True:\n",
    "                pop_node = q.pop(0)\n",
    "                if pop_node.left_child is None:\n",
    "                    pop_node.left_child = node\n",
    "                    break\n",
    "                elif pop_node.right_child is None:\n",
    "                    pop_node.right_child = node\n",
    "                    break\n",
    "                else:\n",
    "                    q.append(pop_node.left_child)\n",
    "                    q.append(pop_node.right_child)\n",
    "\n",
    "    def traverse(self):\n",
    "        if self.root is None:\n",
    "            return None\n",
    "\n",
    "        q = [self.root]\n",
    "\n",
    "        res = [self.root.item]\n",
    "\n",
    "        while q != []:\n",
    "            pop_node = q.pop(0)\n",
    "\n",
    "            if pop_node.left_child is not None:\n",
    "                q.append(pop_node.left_child)\n",
    "                res.append(pop_node.left_child.item)\n",
    "\n",
    "            if pop_node.right_child is not None:\n",
    "                q.append(pop_node.right_child)\n",
    "                res.append(pop_node.right_child.item)\n",
    "\n",
    "        return res\n",
    "\n",
    "    def traverse_preorder(self, root, res=None):  # 先序遍历\n",
    "        if res is None: res = []\n",
    "\n",
    "        def preorder(root, res):\n",
    "            if root is None: return None\n",
    "            res.append(root.item)\n",
    "            preorder(root.left_child, res)\n",
    "            preorder(root.right_child, res)\n",
    "\n",
    "        preorder(root, res)\n",
    "        return res\n",
    "\n",
    "    def traverse_inorder(self, root, res=None):  # 中序序遍历\n",
    "        if res is None: res = []\n",
    "\n",
    "        def inorder(root, res):\n",
    "            if root is None: return None\n",
    "            inorder(root.left_child, res)\n",
    "            res.append(root.item)\n",
    "            inorder(root.right_child, res)\n",
    "\n",
    "        inorder(root, res)\n",
    "        return res\n",
    "\n",
    "    def traverse_postorder(self, root, res=None):  # 中序序遍历\n",
    "        if res is None: res = []\n",
    "\n",
    "        def postorder(root, res):\n",
    "            if root is None: return None\n",
    "            postorder(root.left_child, res)\n",
    "            postorder(root.right_child, res)\n",
    "            res.append(root.item)\n",
    "\n",
    "        postorder(root, res)\n",
    "        return res"
   ]
  },
  {
   "cell_type": "code",
   "execution_count": 28,
   "metadata": {},
   "outputs": [],
   "source": [
    "t = Tree()\n",
    "for i in range(10):\n",
    "    t.add(i)"
   ]
  },
  {
   "cell_type": "code",
   "execution_count": 31,
   "metadata": {},
   "outputs": [
    {
     "name": "stdout",
     "output_type": "stream",
     "text": [
      "[0, 1, 2, 3, 4, 5, 6, 7, 8, 9]\n",
      "[0, 1, 3, 7, 8, 4, 9, 2, 5, 6]\n",
      "[7, 3, 8, 1, 9, 4, 0, 5, 2, 6]\n",
      "[7, 8, 3, 9, 4, 1, 5, 6, 2, 0]\n"
     ]
    }
   ],
   "source": [
    "# 层序遍历\n",
    "print(t.traverse())\n",
    "print(t.traverse_preorder(t.root))\n",
    "print(t.traverse_inorder(t.root))\n",
    "print(t.traverse_postorder(t.root))"
   ]
  },
  {
   "cell_type": "code",
   "execution_count": null,
   "metadata": {},
   "outputs": [],
   "source": []
  },
  {
   "cell_type": "markdown",
   "metadata": {},
   "source": [
    "# Reference \n",
    "\n",
    "1. [Python 中常见的数据结构](https://zhuanlan.zhihu.com/p/69487899)\n",
    "2. [Python对数据结构的实现](https://blog.csdn.net/mxz19901102/article/details/80071864?utm_medium=distribute.pc_relevant.none-task-blog-BlogCommendFromMachineLearnPai2-2.control&depth_1-utm_source=distribute.pc_relevant.none-task-blog-BlogCommendFromMachineLearnPai2-2.control)\n",
    "3. [常见的数据结构](https://zhuanlan.zhihu.com/p/93928546)"
   ]
  },
  {
   "cell_type": "code",
   "execution_count": null,
   "metadata": {},
   "outputs": [],
   "source": []
  }
 ],
 "metadata": {
  "kernelspec": {
   "display_name": "Python 3 (ipykernel)",
   "language": "python",
   "name": "python3"
  },
  "language_info": {
   "codemirror_mode": {
    "name": "ipython",
    "version": 3
   },
   "file_extension": ".py",
   "mimetype": "text/x-python",
   "name": "python",
   "nbconvert_exporter": "python",
   "pygments_lexer": "ipython3",
   "version": "3.7.10"
  },
  "latex_envs": {
   "LaTeX_envs_menu_present": true,
   "autoclose": true,
   "autocomplete": true,
   "bibliofile": "biblio.bib",
   "cite_by": "apalike",
   "current_citInitial": 1,
   "eqLabelWithNumbers": true,
   "eqNumInitial": 1,
   "hotkeys": {
    "equation": "Ctrl-E",
    "itemize": "Ctrl-I"
   },
   "labels_anchors": false,
   "latex_user_defs": false,
   "report_style_numbering": false,
   "user_envs_cfg": false
  },
  "toc": {
   "base_numbering": 1,
   "nav_menu": {},
   "number_sections": true,
   "sideBar": true,
   "skip_h1_title": false,
   "title_cell": "Table of Contents",
   "title_sidebar": "Contents",
   "toc_cell": false,
   "toc_position": {},
   "toc_section_display": true,
   "toc_window_display": false
  }
 },
 "nbformat": 4,
 "nbformat_minor": 4
}
