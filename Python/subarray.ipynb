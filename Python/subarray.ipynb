{
 "cells": [
  {
   "cell_type": "markdown",
   "id": "01981e8d",
   "metadata": {},
   "source": [
    "# Difference between Subarray, Subsequence, and Subset\n",
    "\n",
    "\n",
    "    1. A subarray is a slice from a contiguous array (i.e., occupy consecutive positions) and inherently maintains the order of elements.\n",
    "    2. A substring of a string s is a string s' that occurs in s. A substring is almost similar to a subarray, but it is in the context of strings.\n",
    "    3. A subsequence is a sequence that can be derived from another sequence by deleting some elements without changing the order of the remaining elements.\n",
    "    4. A subset is any possible combination of the original set."
   ]
  },
  {
   "cell_type": "markdown",
   "id": "c339b531",
   "metadata": {},
   "source": [
    "## Subarray\n",
    "\n",
    "For example, the subarrays of array {1, 2, 3} are {1}, {1, 2}, {1, 2, 3}, {2}, {2, 3}, and {3}.\n",
    "\n",
    "Please note that there are precisely n×(n+1)/2 subarrays in an array of size n. Also, there is no such thing as a contiguous subarray. The prefix contiguous is sometimes applied to make the context more clear. So, a contiguous subarray is just another name for a subarray."
   ]
  },
  {
   "cell_type": "code",
   "execution_count": 1,
   "id": "e59e1cbe",
   "metadata": {},
   "outputs": [
    {
     "name": "stdout",
     "output_type": "stream",
     "text": [
      "[1]\n",
      "[1, 2]\n",
      "[1, 2, 3]\n",
      "[1, 2, 3, 4]\n",
      "[1, 2, 3, 4, 5]\n",
      "[2]\n",
      "[2, 3]\n",
      "[2, 3, 4]\n",
      "[2, 3, 4, 5]\n",
      "[3]\n",
      "[3, 4]\n",
      "[3, 4, 5]\n",
      "[4]\n",
      "[4, 5]\n",
      "[5]\n"
     ]
    }
   ],
   "source": [
    "arr = [1, 2, 3, 4, 5]\n",
    "\n",
    "# Function to print all sublists of the specified list\n",
    "def printallSublists(nums):\n",
    "    # consider all sublists starting from i\n",
    "    for i in range(len(nums)):\n",
    "        # consider all sublists ending at `j`\n",
    "        for j in range(i, len(nums)):\n",
    "            # Function to print a sublist formed by [i, j]\n",
    "            print(nums[i: j + 1])\n",
    "\n",
    "if __name__ == '__main__':\n",
    "    nums = [1, 2, 3, 4, 5]\n",
    "    printallSublists(nums)"
   ]
  },
  {
   "cell_type": "markdown",
   "id": "12ea7015",
   "metadata": {},
   "source": [
    "## Substring\n",
    "\n",
    "For example, the substrings of string 'apple' are 'apple', 'appl', 'pple', 'app', 'ppl', 'ple', 'ap', 'pp', 'pl', 'le', 'a', 'p', 'l', 'e', ''"
   ]
  },
  {
   "cell_type": "code",
   "execution_count": 3,
   "id": "f1152f12",
   "metadata": {},
   "outputs": [
    {
     "name": "stdout",
     "output_type": "stream",
     "text": [
      "t \n",
      "te \n",
      "tec \n",
      "tech \n",
      "techi \n",
      "techie \n",
      "e \n",
      "ec \n",
      "ech \n",
      "echi \n",
      "echie \n",
      "c \n",
      "ch \n",
      "chi \n",
      "chie \n",
      "h \n",
      "hi \n",
      "hie \n",
      "i \n",
      "ie \n",
      "e \n"
     ]
    }
   ],
   "source": [
    "# Function to print all non-empty substrings of the specified string\n",
    "def printAllSubstrings(s):\n",
    "    # consider all substrings starting from i\n",
    "    for i in range(len(s)):\n",
    "        # consider all substrings ending at j\n",
    "        for j in range(i, len(s)):\n",
    "            print(s[i: j + 1], end=' \\n')\n",
    " \n",
    "if __name__ == '__main__':\n",
    "    s = 'techie'\n",
    "    printAllSubstrings(s)"
   ]
  },
  {
   "cell_type": "markdown",
   "id": "8f0ddafe",
   "metadata": {},
   "source": [
    "## Subsequence\n",
    "\n",
    " For example, {nums, B, D} is a subsequence of sequence {nums, B, C, D, E} obtained after removing {C} and {E}.\n",
    " \n",
    " People are often confused between a subarray/substring and a subsequence. A subarray or substring will always be contiguous, but a subsequence need not be contiguous. That is, subsequences are not required to occupy consecutive positions within the original sequences. But we can say that both contiguous subsequence and subarray are the same.\n",
    "\n",
    "In other words, the subsequence is a generalization of a substring, or substring is a refinement of the subsequence. For example, {nums, C, E} is a subsequence of {nums, B, C, D, E}, but not a substring, and {nums, B, C} is both a subarray and a subsequence.\n",
    "\n",
    "Please note that a subsequence can be in the context of both arrays and strings. Generating all subsequences of an array/string is equivalent to generating a power set of an array/string. For a given set, S, we can find the power set by generating all binary numbers between 0 and $2^n-1$, where n is the size of the given set. "
   ]
  },
  {
   "cell_type": "code",
   "execution_count": 4,
   "id": "d65ec20a",
   "metadata": {},
   "outputs": [
    {
     "name": "stdout",
     "output_type": "stream",
     "text": [
      "['', 'a', 'p', 'ap', 'p', 'ap', 'pp', 'app', 'l', 'al', 'pl', 'apl', 'pl', 'apl', 'ppl', 'appl', 'e', 'ae', 'pe', 'ape', 'pe', 'ape', 'ppe', 'appe', 'le', 'ale', 'ple', 'aple', 'ple', 'aple', 'pple', 'apple']\n"
     ]
    }
   ],
   "source": [
    "# Function to print all subsequences of the specified string\n",
    "def findPowerSet(seq):\n",
    "    # N stores the total number of subsets\n",
    "    N = int(pow(2, len(seq)))\n",
    " \n",
    "    # generate each subset one by one\n",
    "    result = []\n",
    "    for i in range(N):\n",
    "        s = ''\n",
    "        # check every bit of `i`\n",
    "        for j in range(len(seq)):\n",
    "            # if j'th bit of `i` is set, print S[j]\n",
    "            if (i & (1 << j)) != 0:\n",
    "                s += seq[j]\n",
    "        result.append(s)\n",
    "    print(result)\n",
    " \n",
    "if __name__ == '__main__':\n",
    "    seq = 'apple'\n",
    "    findPowerSet(seq)"
   ]
  },
  {
   "cell_type": "code",
   "execution_count": null,
   "id": "6ebadbf7",
   "metadata": {},
   "outputs": [],
   "source": []
  }
 ],
 "metadata": {
  "kernelspec": {
   "display_name": "Python 3",
   "language": "python",
   "name": "python3"
  },
  "language_info": {
   "codemirror_mode": {
    "name": "ipython",
    "version": 3
   },
   "file_extension": ".py",
   "mimetype": "text/x-python",
   "name": "python",
   "nbconvert_exporter": "python",
   "pygments_lexer": "ipython3",
   "version": "3.7.11"
  },
  "latex_envs": {
   "LaTeX_envs_menu_present": true,
   "autoclose": false,
   "autocomplete": true,
   "bibliofile": "biblio.bib",
   "cite_by": "apalike",
   "current_citInitial": 1,
   "eqLabelWithNumbers": true,
   "eqNumInitial": 1,
   "hotkeys": {
    "equation": "Ctrl-E",
    "itemize": "Ctrl-I"
   },
   "labels_anchors": false,
   "latex_user_defs": false,
   "report_style_numbering": false,
   "user_envs_cfg": false
  },
  "nbTranslate": {
   "displayLangs": [
    "*"
   ],
   "hotkey": "alt-t",
   "langInMainMenu": true,
   "sourceLang": "en",
   "targetLang": "fr",
   "useGoogleTranslate": true
  }
 },
 "nbformat": 4,
 "nbformat_minor": 5
}
