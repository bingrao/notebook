{
 "cells": [
  {
   "cell_type": "markdown",
   "id": "8c8869ce",
   "metadata": {},
   "source": [
    "# 拉普拉斯算子\n",
    "\n",
    "理解图的拉普拉斯矩阵，要从微积分中的拉普拉斯算子说起。多元函数 $f(x_1, \\ldots, x_n)$的拉普拉斯算子是所有自变量的非混合二阶偏导数之和\n",
    "\\begin{equation}\n",
    "\\Delta {f} = \\sum_{i = 1}^{n} \\frac{\\partial^2 f}{\\partial x^2_i}\n",
    "\\end{equation}\n",
    "\n",
    "例如对于三元函数 $f(x, y, z)$, 其拉普拉斯算子为:\n",
    "\\begin{equation}\n",
    "\\Delta f = \\frac{\\partial^2 f}{\\partial x^2} + \\frac{\\partial^2 f}{\\partial y^2}  + \\frac{\\partial^2 f}{\\partial z^2} \n",
    "\\end{equation}"
   ]
  },
  {
   "cell_type": "markdown",
   "id": "f2195bba",
   "metadata": {},
   "source": [
    "很多时候我们之只能近似计算导数值，称为数值微分。如果$\\Delta_x$的值接近于0，则在$x$点处的导数可以用下面的公式近似计算:\n",
    "\\begin{equation}\n",
    "f^{'}(x) \\approx \\frac{f(x + \\Delta_x) - f(x)}{\\Delta_x}\n",
    "\\end{equation}\n",
    "对于二阶导数，有\n",
    "\\begin{equation}\n",
    "\\begin{aligned}\n",
    "f^{''}(x) &\\approx \\frac{f'(x) - f'(x - \\Delta_x)}{\\Delta_x} \\\\\n",
    "& = \\frac{\\frac{f(x+\\Delta_x) - f(x)}{\\Delta_x} - \\frac{f(x) - f(x - \\Delta_x)}{\\Delta_x}}{\\Delta_x} \\\\\n",
    "&= \\frac{f(x+\\Delta_x) - 2f(x) + f(x-\\Delta_x)}{(\\Delta_x)^2}\n",
    "\\end{aligned}\n",
    "\\end{equation}"
   ]
  },
  {
   "cell_type": "markdown",
   "id": "44f72fa4",
   "metadata": {},
   "source": [
    "下面考虑多元函数的偏导数。对于二元函数$f(x, y)$ ，其拉普拉斯算子可以用下面的公式近似计算:\n",
    "\\begin{equation}\n",
    "\\begin{aligned}\n",
    "\\Delta f &= \\frac{\\partial^2 f}{\\partial x^2} + \\frac{\\partial^2 f}{\\partial y^2} \\\\\n",
    "&= \\frac{f(x+\\Delta_x, y) - 2f(x, y) + f(x-\\Delta_x, y)}{(\\Delta_x)^2} + \\frac{f(x, y+\\Delta_y) - 2f(x, y) + f(x, y-\\Delta_y)}{(\\Delta_y)^2}\n",
    "\\end{aligned}\n",
    "\\end{equation}\n",
    "\n",
    "如果上面的二元函数$f(x, y)$进行离散化，对自变量$x, y$的一系列点处的函数值进行采样，得到下面一系列点处的函数值，构成一个矩阵\n",
    "\\begin{equation}\n",
    "\\begin{bmatrix}\n",
    "f(x_1, y_1) & f(x_2, y_1) & \\cdots & f(x_n, y_1) \\\\\n",
    "f(x_1, y_2) & f(x_2, y_2) & \\cdots & f(x_n, y_2) \\\\\n",
    "\\vdots  & \\vdots  & \\ddots & \\vdots  \\\\\n",
    "f(x_1, y_n) & f(x_2, y_n) & \\cdots & f(x_n, y_n) \\\\\n",
    "\\end{bmatrix}\n",
    "\\end{equation}\n",
    "在这里$x$为水平方向, $y$为垂直方向。为了简化，假设 $x$ 和 $y$ 的增量即步长全为1，即\n",
    "\\begin{equation}\n",
    "\\Delta_x = x_{i+1} - x_i = 1, \\;\\; \\Delta_y = y_{i+1} - y_i = 1\n",
    "\\end{equation}\n",
    "则点$(x_i, y_i)$处的拉普拉斯算子可以用下面的公式近似计算:\n",
    "\\begin{equation}\n",
    "\\begin{aligned}\n",
    "\\Delta f (x_i, y_i) &\\approx \\frac{f(x_i+\\Delta_x, y_i) - 2f(x_i, y_i) + f(x_i-\\Delta_x, y_i)}{(\\Delta_x)^2} + \\frac{f(x_i, y_i+\\Delta_y) - 2f(x_i, y_i) + f(x_i, y_i-\\Delta_y)}{(\\Delta_y)^2} \\\\\n",
    "&=\\frac{f(x_{i+1}, y_i) - 2f(x_i, y_i) + f(x_{i-1}, y_i)}{(1)^2} + \\frac{f(x_i, y_{i+1}) - 2f(x_i, y_i) + f(x_i, y_{i-1})}{(1)^2} \\\\\n",
    "&= f(x_{i+1}, y_i) - 2f(x_i, y_i) + f(x_{i-1}, y_i) + f(x_i, y_{i+1}) - 2f(x_i, y_i) + f(x_i, y_{i-1}) \\\\\n",
    "&= f(x_{i+1}, y_i) + f(x_{i-1}, y_i) + f(x_i, y_{i+1}) + f(x_i, y_{i-1}) - 4f(x_i, y_i) \\\\\n",
    "&= (f(x_{i+1}, y_i) - f(x_i, y_i)) + (f(x_{i-1}, y_i) - f(x_i, y_i)) + (f(x_i, y_{i+1}) - f(x_i, y_i)) + (f(x_i, y_{i-1}) - f(x_i, y_i)) \\\\\n",
    "&= \\sum_{(k,l) \\in N(i, j)}(f(x_k, y_l) - f(x_i, y_i))\n",
    "\\end{aligned}\n",
    "\\end{equation}\n",
    "其中 N(i, j) 是(x_i, y_i)邻居节点的集合. 这是一个非常优美的结果，它就是$(x_i, y_i)$的4个相邻点处的函数值之和与$(x_i, y_i)$点处的函数值乘以4后的差值。如下图所示:\n",
    "\n",
    "![laplace four points](images/laplace/four_points.png)"
   ]
  },
  {
   "cell_type": "markdown",
   "id": "e036fd46",
   "metadata": {},
   "source": [
    "# 图的邻接矩阵与加权度矩阵\n",
    "\n",
    "图是一种几何结构，对它的研究起源于古老的哥尼斯堡七桥问题。一个图 $G$ 由顶点和边构成，通常将顶点的集合记为 $V$，边的集合记为 $E$ 。边由其连接的起点和终点表示。下面是一个典型的图\n",
    "![Graph](images/laplace/graph.jpg)\n",
    "图的边可以是有方向的，也可以是没有方向的，前者称为有向图，后者称为无向图。"
   ]
  },
  {
   "cell_type": "markdown",
   "id": "56500ae9",
   "metadata": {},
   "source": [
    "## 邻接矩阵\n",
    "邻接矩阵是图的矩阵表示，借助它可以方便地存储图的结构，用线性代数的方法研究图的问题。如果一个图有 $n$ 个顶点，其邻接矩阵 $W$为 $n \\times n$的矩阵，矩阵元素 $w_{ij}$ 表示边 $e_{ij}$ 的权重。如果两个顶点之间没有边连接，则在邻接矩阵中对应的元素为0。对与上面的无向图，它的邻接矩阵为\n",
    "![](images/laplace/graph_matrix.png)\n",
    "\n",
    "- 无向图的邻接矩阵为对称矩阵。\n",
    "- 对于无向图，顶点的加权度是与该顶点相关的所有边的权重之和。如果无向图的邻接矩阵为 $W$ ，则顶点 $i$ 的加权度为邻接矩阵第 $i$ 行元素之和: \\begin{equation}\n",
    "d_i = \\sum^n_{j = 1} w_{ij}\n",
    "\\end{equation}\n",
    "\n",
    "加权度矩阵 $D$ 是一个对角矩阵，其主对角线元素为每个顶点的加权度，其他位置的元素为0\n",
    "\n",
    "\\begin{equation}\n",
    "d_{ii} = d_i = \\sum^n_{j = 1} w_{ij}\n",
    "\\end{equation}\n",
    "对于上面的无向图，它的加权度矩阵为\n",
    "![](images/laplace/graph_matrix_2.png)"
   ]
  },
  {
   "cell_type": "markdown",
   "id": "ea87eed0",
   "metadata": {},
   "source": [
    "# 拉普拉斯矩阵\n",
    "\n",
    "\n",
    "在前面二元函数的例子种，一个点只与上下左右4个采样点相邻。图的顶点的连接关系可以是任意的，下面将拉普拉斯算子推广到图。如果将图的顶点处的值看作是函数值，则在顶点 $i$ 处的拉普拉斯算子为\n",
    "\n",
    "\\begin{equation}\n",
    "\\Delta{f_{i}} = -\\sum_{j \\in N_i}(f_i - f_j)\n",
    "\\end{equation}\n",
    "\n",
    "其中 $N_i$ 是顶点 $i$ 的所有邻居顶点的集合。这里我们调换了 $f_i$ 和 $f_j$ 的位置，和之前的拉普拉斯算子相比，相当于多了一个负号。\n",
    "\n",
    "由于图的边可以带有权重，我们可以在上面的计算公式中加上权重:\n",
    "\\begin{equation}\n",
    "\\Delta{f_{i}} = -\\sum_{j \\in N_i}w_{ij}*(f_i - f_j)\n",
    "\\end{equation}\n",
    "\n",
    "这以推广如下图所示，图中红色的顶点是 $i$ ，蓝色的顶点是它的邻居顶点，灰色的顶点是其他顶点。\n",
    "![](images/laplace/graph_2.png)\n",
    "\n",
    "如果 $j$ 不是 $i$ 的邻居，则 $w_{ij} = 0$ 。因此上面的式子也可以写成:\n",
    "\\begin{equation}\n",
    "\\begin{aligned}\n",
    "\\Delta{f_{i}} &= -\\sum_{j \\in V}w_{ij}*(f_i - f_j) \\\\\n",
    "&= -(\\sum_{j \\in V}w_{ij}*f_i - \\sum_{j \\in V}w_{ij}* f_j) \\\\\n",
    "&= -(d_if_i -w_if)\n",
    "\\end{aligned}\n",
    "\\end{equation}\n",
    "这里的 $d_i$ 就是顶点 $i$ 的加权度， $w_i$ 邻接矩阵的第 $i$ 行， $f$ 是所有顶点的值构成的里列向量， $w_if$ 是二者的内积。\n",
    "\n",
    "对于图的所有顶点，有:\n",
    "\\begin{equation}\n",
    "\\Delta f = \\begin{bmatrix}\n",
    "\\Delta f_1\\\\\n",
    "\\ldots \\\\\n",
    "\\Delta f_n\n",
    "\\end{bmatrix} = \\begin{bmatrix}\n",
    "d_1f_1 - w_1f\\\\\n",
    "\\ldots \\\\\n",
    "d_nf_n - w_nf\n",
    "\\end{bmatrix} = \\begin{bmatrix}\n",
    "d_1 & \\ldots & \\ldots \\\\\n",
    "\\ldots & \\ldots & \\ldots \\\\\n",
    "\\ldots & \\ldots & d_n\n",
    "\\end{bmatrix} \\begin{bmatrix}\n",
    "f_1 \\\\\n",
    "\\ldots \\\\\n",
    "f_n\n",
    "\\end{bmatrix} - \\begin{bmatrix}\n",
    "w_1 \\\\\n",
    "\\ldots \\\\\n",
    "w_n\n",
    "\\end{bmatrix} \\begin{bmatrix}\n",
    "f_1 \\\\\n",
    "\\ldots \\\\\n",
    "f_n\n",
    "\\end{bmatrix} = (D-W)f\n",
    "\\end{equation}\n",
    "\n",
    "上面的结论启发我们，可以在邻接矩阵($W$)和加权度矩阵($D$)的基础上定义拉普拉斯矩阵。\n",
    "\n",
    "假设无向图 $G$ 有 $n$ 个顶点，邻接矩阵为 $W$ ，加权度矩阵为 $D$ 。拉普拉斯矩阵定义为加权度矩阵与邻接矩阵之差: \n",
    "\\begin{equation}\n",
    "L = D - w\n",
    "\\end{equation}\n",
    "\n",
    "- 由于 $w$ 和 $D$ 都是对称矩阵，因此拉普拉斯矩阵也是对称矩阵。\n",
    "- 显然拉普拉斯矩阵每一行元素之和都为0\n",
    "- 根据前面的介绍，拉普拉斯矩阵实际代表了图的二阶导数。\n",
    "\n",
    "以上面的图为例，它的拉普拉斯矩阵为:\n",
    "![](images/laplace/laplace_1.jpg)"
   ]
  },
  {
   "cell_type": "markdown",
   "id": "8bf566fd",
   "metadata": {},
   "source": [
    "下面介绍拉普拉斯矩阵的若干重要性质。\n",
    "\n",
    "1. 对任意向量 $f \\in \\mathbb{R}^n$, 有: $f^T L f = \\frac{1}{2} \\sum^n_{i=1} \\sum^n_{j=1} w_{ij} (f_i - f_j)^2$\n",
    "2. 拉普拉斯矩阵是对称半正定矩阵\n",
    "3. 拉普拉斯矩阵的最小特征值为0，其对应的特征向量为常向量 1 ，即所有分量为 1\n",
    "4. 拉普拉斯矩阵有 $n$ 个非负实数特征值，并且满足: $0 = \\lambda_1 \\leq \\lambda_2 \\leq \\ldots \\leq \\lambda_n$\n",
    "下面进行证明。根据加权度 $d_i$ 的定义，有:\n",
    "![](images/laplace/proof_1.png)\n",
    "因此结论（1）成立。根据结论（1），对任意非0向量 $f$ ，有 $f^T L f = \\frac{1}{2} \\sum^n_{i=1} \\sum^n_{j=1} w_{ij} (f_i - f_j)^2 \\geq 0$"
   ]
  },
  {
   "cell_type": "markdown",
   "id": "219cdc80",
   "metadata": {},
   "source": [
    "## 归一化拉普拉斯矩阵\n",
    "\n",
    "对前面定义的拉普拉斯矩阵进行归一化从而得到归一化的拉普拉斯矩阵。\n",
    "\n",
    "1. 第一种称为对称归一化，定义为\n",
    "\n",
    "\\begin{equation}\n",
    "L_{sym} = D^{-1/2} L D^{-1/2} = I - D^{-1/2} W  D^{-1/2}\n",
    "\\end{equation}\n",
    "\n",
    "2. 第二种称为随机漫步归一化，定义为"
   ]
  },
  {
   "cell_type": "markdown",
   "id": "98e0712a",
   "metadata": {},
   "source": [
    "# Reference\n",
    "\n",
    "1. [理解图的拉普拉斯矩阵](https://zhuanlan.zhihu.com/p/362416124)"
   ]
  },
  {
   "cell_type": "code",
   "execution_count": null,
   "id": "928d077a",
   "metadata": {},
   "outputs": [],
   "source": []
  }
 ],
 "metadata": {
  "kernelspec": {
   "display_name": "Python 3",
   "language": "python",
   "name": "python3"
  },
  "language_info": {
   "codemirror_mode": {
    "name": "ipython",
    "version": 3
   },
   "file_extension": ".py",
   "mimetype": "text/x-python",
   "name": "python",
   "nbconvert_exporter": "python",
   "pygments_lexer": "ipython3",
   "version": "3.7.11"
  },
  "latex_envs": {
   "LaTeX_envs_menu_present": true,
   "autoclose": false,
   "autocomplete": true,
   "bibliofile": "biblio.bib",
   "cite_by": "apalike",
   "current_citInitial": 1,
   "eqLabelWithNumbers": true,
   "eqNumInitial": 1,
   "hotkeys": {
    "equation": "Ctrl-E",
    "itemize": "Ctrl-I"
   },
   "labels_anchors": false,
   "latex_user_defs": false,
   "report_style_numbering": false,
   "user_envs_cfg": false
  },
  "nbTranslate": {
   "displayLangs": [
    "*"
   ],
   "hotkey": "alt-t",
   "langInMainMenu": true,
   "sourceLang": "en",
   "targetLang": "fr",
   "useGoogleTranslate": true
  }
 },
 "nbformat": 4,
 "nbformat_minor": 5
}
