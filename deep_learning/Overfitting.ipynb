{
 "cells": [
  {
   "attachments": {},
   "cell_type": "markdown",
   "id": "30855788",
   "metadata": {},
   "source": [
    "Perf good on training dataset, but not for validate dataset --> Gerliazation \n",
    "Two reasons:\n",
    "\n",
    "\t1. Not enough data \n",
    "\t2. Model is very complicated\n",
    "\n",
    "\n",
    "\t1. 方法一: 增加数据量\n",
    "\t\ta. Data argument  --> Data Mutation\n",
    "\t2. 方法二: 运用正规化.\n",
    "\t\ta. L1, l2 regularization --> l2 /Dropout\n",
    "\t\t\ti. Dropout 会随机删除一些神经元，以在不同批量上训练不同的神经网络架构。\n",
    "\t3. 方法三：简化模型 (对于神经网络而言，我们可以从以下四个方面来限制网络能力：)\n",
    "\t\t1. 网络结构（Architecture）：减少隐藏层，神经元个数。\n",
    "\t\t\n",
    "\t\t2. 训练时间（Early stopping）：因为我们在初始化网络的时候一般都是初始为较小的权值。训练时间越长，部分网络权值可能越大。如果我们在合适时间停止训练，就可以将网络的能力限制在一定范围内。\n",
    "\t\t\n",
    "\t\t3 限制权值（weight-decay）= 正规化（regularization）：原理与训练时间一样，但是这类方法直接将权值的大小加入到 Cost 里，在训练的时候限制权值变大。以 L2 regularization为例：\n",
    "\t\t\n",
    "\t\t4 增加噪声（noise）：在输入中加噪声（噪声会随着网络传播，按照权值的平方放大，并传播到输出层，对误差 Cost 产生影响。）; 在权值上加噪声。\n",
    "\t\t\n",
    "\t4. 方法四：多种模型组合\n",
    "\t\ta. 训练多个模型，以每个模型的平均输出作为结果。\n",
    "\t5. 方法五：贝叶斯方法\n",
    "\n",
    "1. [过拟合(overfitting)与解决办法](https://zhuanlan.zhihu.com/p/266658432)"
   ]
  },
  {
   "cell_type": "code",
   "execution_count": null,
   "id": "9af3f656",
   "metadata": {},
   "outputs": [],
   "source": []
  }
 ],
 "metadata": {
  "kernelspec": {
   "display_name": "Python 3",
   "language": "python",
   "name": "python3"
  },
  "language_info": {
   "codemirror_mode": {
    "name": "ipython",
    "version": 3
   },
   "file_extension": ".py",
   "mimetype": "text/x-python",
   "name": "python",
   "nbconvert_exporter": "python",
   "pygments_lexer": "ipython3",
   "version": "3.7.11"
  },
  "latex_envs": {
   "LaTeX_envs_menu_present": true,
   "autoclose": false,
   "autocomplete": true,
   "bibliofile": "biblio.bib",
   "cite_by": "apalike",
   "current_citInitial": 1,
   "eqLabelWithNumbers": true,
   "eqNumInitial": 1,
   "hotkeys": {
    "equation": "Ctrl-E",
    "itemize": "Ctrl-I"
   },
   "labels_anchors": false,
   "latex_user_defs": false,
   "report_style_numbering": false,
   "user_envs_cfg": false
  },
  "nbTranslate": {
   "displayLangs": [
    "*"
   ],
   "hotkey": "alt-t",
   "langInMainMenu": true,
   "sourceLang": "en",
   "targetLang": "fr",
   "useGoogleTranslate": true
  }
 },
 "nbformat": 4,
 "nbformat_minor": 5
}
