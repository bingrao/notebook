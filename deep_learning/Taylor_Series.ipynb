{
 "cells": [
  {
   "cell_type": "markdown",
   "id": "32d0844f",
   "metadata": {},
   "source": [
    "# Usage of Taylor Series\n",
    "\n",
    "1. **Theoretical applications:** Often when we try to understand a too complex function, using Taylor series enables us to turn it into a polynomial that we can work with directly.\n",
    "2. **Numerical applications:** Some functions like $e^x$ or $\\cos(x)$ are difficult for machines to compute. They can store tables of values at a fixed precision (and this is often done), but it still leaves open questions like “What is the 1000-th digit of cos(1)?” Taylor series are often helpful to answer such questions."
   ]
  },
  {
   "cell_type": "markdown",
   "id": "e24d2b03",
   "metadata": {},
   "source": [
    "# 泰勒（Taylor)中值定理  1 (佩亚诺(Peano)余项)"
   ]
  },
  {
   "cell_type": "markdown",
   "id": "a4c2cd4a",
   "metadata": {},
   "source": [
    "**[定理]** 如果函数$f(x)$在$x_0$处具有$n$阶导数， 那么存在$x_0$的一个领域，对于该领域内的任一$x$, 有：\n",
    "\\begin{equation}\n",
    "    f(x) = p_n(x) + R_n(x)\n",
    "    \\label{eq:taylor_1}\n",
    "\\end{equation}\n",
    "其中:\n",
    "\\begin{equation}    \\begin{aligned}\n",
    "n次泰勒多项式: p_n(x) &= f(x_0) + f^{'}(x_0)(x-x_0) + \\frac{f^{``}(x_0)}{2!}(x-x_0)^2 + \\ldots + \\frac{f^{(n)}(x_0)}{n!}(x-x_0)^n\\\\\n",
    "佩亚诺(Peano)余项: R_n(x) &= O((x-x_0)^n)\n",
    "\\end{aligned}\\end{equation}\n",
    "\n",
    "\\begin{proof} Assume R_n(x) = f(x) - p_n(x), then\n",
    "\\begin{align}\n",
    "R_n(x_0) = R^{'}_n(x_0) = R^{''}_n(x_0) = \\ldots = R^{(n)}_n(x_0) = 0\n",
    "\\end{align}\n",
    "\n",
    "\\end{proof}\n"
   ]
  },
  {
   "cell_type": "markdown",
   "id": "819eb22d-9b69-4500-b69b-b2722f2e1e45",
   "metadata": {},
   "source": [
    "# 泰勒（Taylor)中值定理  2 (拉格朗日(Lagrange)余项)"
   ]
  },
  {
   "cell_type": "markdown",
   "id": "ecff80b8",
   "metadata": {},
   "source": [
    "**[定理]** 如果函数$f(x)$在$x_0$的某个邻域$U(x_0)$具有$n+1$阶导数，对于任一$x \\in U(x_0)$, 有：\n",
    "\\begin{equation}\n",
    "    f(x) = p_n(x) + R_n(x)\n",
    "    \\label{eq:taylor_2}\n",
    "\\end{equation}\n",
    "其中:\n",
    "\\begin{equation}    \\begin{aligned}\n",
    "多项式: p_n(x) &= f(x_0) + f^{'}(x_0)(x-x_0) + \\frac{f^{``}(x_0)}{2!}(x-x_0)^2 + \\ldots + \\frac{f^{(n)}(x_0)}{n!}(x-x_0)^n\\\\\n",
    "拉格朗日余项: R_n(x) &= \\frac{f^{n+1}(\\xi)}{(n+1)!}(x-x_0)^{n + 1}\n",
    "    \\end{aligned}\\end{equation}\n",
    "这里$\\xi$是$x_0$与$x$之间的某一个值。\n",
    "\n",
    "当$n=0$时， 泰勒公式变成拉格朗日中值公式：\n",
    "\\begin{equation}\n",
    "f(x) = f(x_0) + f^{'}(x_0)(x-x_0) \\; (\\xi在x_0与x之间)\n",
    "\\end{equation}\n",
    "\n",
    "在Taylor公式(\\ref{eq:taylor_2})中, 是以多项式$p_n(x)$近似表达函数$f(x)$, 其误差为$|R_n(x)|$. 如果对于某一个固定的n, 当$x\\in U(x_0)$时， $f^{(n+1)}(x) \\leq M$, 那么有估计式：\n",
    "\\begin{equation}\n",
    "|R_n(x)| = |\\frac{f^{(n+1)}(\\xi)}{(n+1)!}(x-x_0)^{n+1}| \\leq |\\frac{M}{(n+1)!}(x-x_0)^{n+1}|\n",
    "\\label{eq:taylor_diff}\n",
    "\\end{equation}"
   ]
  },
  {
   "cell_type": "markdown",
   "id": "b6c4b8b5",
   "metadata": {},
   "source": [
    "# 麦克劳林(Maclaurin)公式"
   ]
  },
  {
   "cell_type": "markdown",
   "id": "cc78d54b",
   "metadata": {},
   "source": [
    "在Taylor公式(\\ref{eq:taylor_1})中, 如果取$x_0=0$， 那么带有**佩亚诺余项**的麦克劳林(Maclaurin)公式：\n",
    "\\begin{equation}\n",
    "    f(x) = f(0) + f^{'}(0)(x) + \\frac{f^{``}(0)}{2!}(x)^2 + \\ldots + \\frac{f^{(n)}(0)}{n!}(x)^n  + O(x^n)\n",
    "    \\label{eq:mac_taylor_0}\n",
    "\\end{equation}\n",
    "\n",
    "在Taylor公式(\\ref{eq:taylor_2})中, 如果取$x_0=0$， 那么$\\xi \\in (0, x)$, 因此$\\xi=\\theta x$ where $0<\\theta<1$, 从而Taylor公式(\\ref{eq:taylor_2})变成较简单的形式，即所谓带有**拉格朗日余项**的麦克劳林(Maclaurin)公式：\n",
    "\\begin{equation}\n",
    "    f(x) = f(0) + f^{'}(0)(x) + \\frac{f^{``}(0)}{2!}(x)^2 + \\ldots + \\frac{f^{(n)}(0)}{n!}(x)^n  + \\frac{f^{(n+1)}(\\theta x)}{(n+1)!}x^{n+1} \\; where \\; 0<\\theta<1\n",
    "    \\label{eq:lag_taylor_0}\n",
    "\\end{equation}\n",
    "\n",
    "由公式\\ref{eq:mac_taylor_0}或是\\ref{eq:lag_taylor_0}, 可得近似公式：\n",
    "\\begin{equation}\n",
    "    f(x) = f(0) + f^{'}(0)(x) + \\frac{f^{``}(0)}{2!}(x)^2 + \\ldots + \\frac{f^{(n)}(0)}{n!}(x)^n\n",
    "\\end{equation}\n",
    "误差估计公式\\ref{eq:taylor_diff}相应地变成\n",
    "\\begin{equation}\n",
    "|R_n(x)| = \\leq |\\frac{M}{(n+1)!}(x)^{n+1}|\n",
    "\\label{eq:taylor_diff_updated}\n",
    "\\end{equation}"
   ]
  },
  {
   "cell_type": "markdown",
   "id": "c21b79c3",
   "metadata": {},
   "source": [
    "# Example"
   ]
  },
  {
   "cell_type": "markdown",
   "id": "c45b710e",
   "metadata": {},
   "source": [
    "## 写出函数$f(x) = e^x$的带有拉格朗日余项的n阶麦克劳林公式\n",
    "\\begin{equation}\\begin{aligned}\n",
    "f^{'}(x) = f^{''}(x) = \\ldots = f^{n}(x) = e^x \\\\\n",
    "f^{'}(0) = f^{''}(0) = \\ldots = f^{n}(0) = 1 \\\\\n",
    "e^x = 1 + x + \\frac{x^2}{2!} + \\ldots + \\frac{x^n}{n!} + \\frac{e^{\\theta x}}{(n+1)!} x^{n+1}\n",
    "\\end{aligned}\\end{equation}\n",
    "\n"
   ]
  },
  {
   "cell_type": "markdown",
   "id": "ee2459da",
   "metadata": {},
   "source": [
    "# 多元函数的泰勒(Taylor)展开式"
   ]
  },
  {
   "cell_type": "markdown",
   "id": "756d2435",
   "metadata": {},
   "source": [
    "## 一元函数在点$x_0$处的泰勒展开式为："
   ]
  },
  {
   "cell_type": "markdown",
   "id": "142a7a5a",
   "metadata": {},
   "source": [
    "\\begin{align}\n",
    "\\begin{split}\n",
    "    f(x) = {}& f(x_0) \\;+ \\frac{f^{'}(x_0)}{1!}(x-x_0) \\;+ \\frac{f^{''}(x_0)}{2!}(x-x_0)^2 \\;+ & o^n\n",
    "\\end{split}\\\\\n",
    "\\end{align}"
   ]
  },
  {
   "cell_type": "markdown",
   "id": "8f24a9f5",
   "metadata": {
    "heading_collapsed": true
   },
   "source": [
    "## 二元函数在点$x_0 = (x^1_0,x^2_0)$处的泰勒展开式为："
   ]
  },
  {
   "cell_type": "markdown",
   "id": "2ec3c66b",
   "metadata": {
    "hidden": true
   },
   "source": [
    "\\begin{align}\n",
    "\\begin{split}\n",
    "    f(x^1, x^2) ={}& f(x^1_0, x^2_0) \\;+ \\\\\n",
    "         & \\frac{f^{'}_{x^1}(x^1_0, x^2_0)}{1!}(x^1-x^1_0) + \\frac{f^{'}_{x^2}(x^1_0, x^2_0)}{1!}(x^2-x^2_0)\\;+\\\\\n",
    "         & \\frac{f^{''}_{x^1x^1}(x^1_0, x^2_0)}{2!}(x^1-x^1_0)^2 + \\frac{f^{''}_{x^1x^2}(x^1_0, x^2_0)}{2!}(x^1-x^1_0)(x^2-x^2_0)\\;+ \\frac{f^{''}_{x^2x^1}(x^1_0, x^2_0)}{2!}(x^1-x^1_0)(x^2-x^2_0) + \\frac{f^{''}_{x^2x^2}(x^1_0, x^2_0)}{2!}(x^2-x^2_0)^2\\;+\\\\\n",
    "         & o^n\n",
    "\\end{split}\\\\\n",
    "\\end{align}\n",
    "\n",
    "上面可能还有些抽象，下面给出二元函数泰勒展开的具体推导帮助理，用偏导函数表达：\n",
    "\\begin{align}\n",
    "\\begin{split}\n",
    "    f(x^1, x^2) = {}& f(x^1_0, x^2_0) \\;+ \\\\\n",
    "         & \\frac{\\frac{\\partial f}{\\partial x^1}|_{x_0}}{1!}(x^1-x^1_0) + \\frac{\\frac{\\partial f}{\\partial x^2}|_{x_0}}{1!}(x^2-x^2_0)\\;+\\\\\n",
    "         & \\frac{\\frac{\\partial^2 f}{\\partial x^1 \\partial x^1}|_{x_0}}{2!}(x^1-x^1_0)^2 + \\frac{\\frac{\\partial^2 f}{\\partial x^1 \\partial x^2}|_{x_0}}{2!}(x^1-x^1_0)(x^2-x^2_0)\\;+ \\frac{\\frac{\\partial^2 f}{\\partial x^1 \\partial x^1}|_{x_0}}{2!}(x^1-x^1_0)(x^2-x^2_0) + \\frac{\\frac{\\partial^2 f}{\\partial x^2 \\partial x^2}|_{x_0}}{2!}(x^2-x^2_0)^2\\;+ o^n \\\\\n",
    "         = {}& f(x^1_0, x^2_0) \\;+ \\\\\n",
    "         & \\frac{1}{1!}[\\frac{\\partial f}{\\partial x^1}|_{x_0}(x^1-x^1_0) + \\frac{\\partial f}{\\partial x^2}|_{x_0}(x^2-x^2_0)]\\;+\\\\\n",
    "         & \\frac{1}{2!}[ \\frac{\\partial^2 f}{\\partial x^1 \\partial x^1}|_{x_0}(x^1-x^1_0)^2 + 2\\frac{\\partial^2 f}{\\partial x^1 \\partial x^2}|_{x_0}(x^1-x^1_0)(x^2-x^2_0) + \\frac{\\partial^2 f}{\\partial x^2 \\partial x^2}|_{x_0}(x^2-x^2_0)^2\\ ]\\;+ o^n \\\\\n",
    "                  = {}& f(x^1_0, x^2_0) \\;+ \\frac{1}{1!}\\begin{pmatrix} \\frac{\\partial f}{\\partial x^1} &  \\frac{\\partial f}{\\partial x^2} \\end{pmatrix}_{x_0} \\times \\begin{pmatrix} x-x^1_0 \\\\ x-x^2_0 \\end{pmatrix} + \\frac{1}{2!} \\times \\begin{pmatrix} x-x^1_0 & x-x^2_0 \\end{pmatrix} \\times \\begin{pmatrix} \\frac{\\partial^2 f}{\\partial x^1 \\partial x^1} & \\frac{\\partial^2 f}{\\partial x^1 \\partial x^2} \\\\ \\frac{\\partial^2 f}{\\partial x^1 \\partial x^2}  & \\frac{\\partial^2 f}{\\partial x^2 \\partial x^2} \\end{pmatrix}_{x_0} \\times \\begin{pmatrix} x-x^1_0 \\\\ x-x^2_0 \\end{pmatrix} \\;+ o^n\n",
    "\\end{split}\n",
    "\\end{align}\n",
    "\n",
    "**把多变量情形下($x_0 = (x^1_0, x^2_0, \\ldots, x^n_0)$)的aylor二阶的形式**\n",
    "\n",
    "\\begin{align}\n",
    "f(x) = f(x_0) + [\\nabla f(x_0)]^T(x-x_0) + \\frac{1}{2!}[x-x_0]^T H^2(x_0) [x-x_0] + o^n\n",
    "\\end{align}\n",
    "\n",
    "其中：\n",
    "\n",
    "\\begin{align}\n",
    "H(x_0) = \\begin{bmatrix}\n",
    "\\frac{\\partial^2f(x_0)}{\\partial_{x_1}\\partial_{x_1}} & \\frac{\\partial^2f(x_0)}{\\partial_{x_1}\\partial_{x_2}} & \\ldots &\\frac{\\partial^2f(x_0)}{\\partial_{x_1}\\partial_{x_n}}\\\\\n",
    "\\frac{\\partial^2f(x_0)}{\\partial_{x_2}\\partial_{x_1}} & \\frac{\\partial^2f(x_0)}{\\partial_{x_2}\\partial_{x_2}} & \\ldots &\\frac{\\partial^2f(x_0)}{\\partial_{x_2}\\partial_{x_n}}\\\\\n",
    "\\vdots & \\vdots & \\ddots &\\vdots\\\\\n",
    "\\frac{\\partial^2f(x_0)}{\\partial_{x_n}\\partial_{x_1}} & \\frac{\\partial^2f(x_0)}{\\partial_{x_n}\\partial_{x_2}} & \\ldots &\\frac{\\partial^2f(x_0)}{\\partial_{x_n}\\partial_{x_n}}\\\\\n",
    "\\end{bmatrix}\n",
    "\\end{align}"
   ]
  },
  {
   "cell_type": "markdown",
   "id": "78cfcce1",
   "metadata": {},
   "source": [
    "## 多元函数(n)在点$x_0 = (x^1_0, x^2_0, \\ldots, x^n_0)$处的二阶泰勒展开式为："
   ]
  },
  {
   "cell_type": "markdown",
   "id": "5e5fdbce",
   "metadata": {},
   "source": [
    "\\begin{align}\n",
    "\\begin{split}\n",
    "    f(x^1, x^2, \\ldots, x^n) = {}& f(x^1_0, x^2_0, \\ldots, x^n_0) \\;+ \\\\\n",
    "         & \\sum_{i=1}^{n}\\frac{f^{'}_{x^i}(x^1_0, x^2_0, \\ldots, x^n_0)}{1!}(x^i - x^i_0)\\;+\\\\\n",
    "         & \\sum_{i=1}^{n}\\sum_{j=1}^{n}\\frac{f^{''}_{x^ix^j}(x^1_0, x^2_0, \\ldots, x^n_0)}{2!}(x^i - x^i_0)(x^j - x^j_0)\\;+\\\\\n",
    "         & o^n\n",
    "\\end{split}\\\\\n",
    "\\end{align}"
   ]
  },
  {
   "cell_type": "markdown",
   "id": "373ab2b7",
   "metadata": {},
   "source": [
    "\\begin{align}\n",
    "\\end{align}"
   ]
  },
  {
   "cell_type": "markdown",
   "id": "a6641d9e",
   "metadata": {},
   "source": [
    "## 多元函数(n)在点$x_0 = (x^1_0, x^2_0, \\ldots, x^n_0)$处的二阶泰勒展开式为（矩阵的形式）"
   ]
  },
  {
   "cell_type": "markdown",
   "id": "2272f48c",
   "metadata": {},
   "source": [
    "\\begin{align}\n",
    "f(x) = f(x_0) + [\\nabla f(x_0)]^T(x-x_0) + \\frac{1}{2!}[x-x_0]^T H(x_0) [x-x_0] + o^n\n",
    "\\end{align}\n",
    "\n",
    "其中黑塞矩阵（Hessian Matrix， $H(x_0)$）为\n",
    "\\begin{align}\n",
    "H(x_0) = \\begin{bmatrix}\n",
    "\\frac{\\partial^2f(x_0)}{\\partial_{x_1}\\partial_{x_1}} & \\frac{\\partial^2f(x_0)}{\\partial_{x_1}\\partial_{x_2}} & \\ldots &\\frac{\\partial^2f(x_0)}{\\partial_{x_1}\\partial_{x_n}}\\\\\n",
    "\\frac{\\partial^2f(x_0)}{\\partial_{x_2}\\partial_{x_1}} & \\frac{\\partial^2f(x_0)}{\\partial_{x_2}\\partial_{x_2}} & \\ldots &\\frac{\\partial^2f(x_0)}{\\partial_{x_2}\\partial_{x_n}}\\\\\n",
    "\\vdots & \\vdots & \\ddots &\\vdots\\\\\n",
    "\\frac{\\partial^2f(x_0)}{\\partial_{x_n}\\partial_{x_1}} & \\frac{\\partial^2f(x_0)}{\\partial_{x_n}\\partial_{x_2}} & \\ldots &\\frac{\\partial^2f(x_0)}{\\partial_{x_n}\\partial_{x_n}}\\\\\n",
    "\\end{bmatrix}\n",
    "\\end{align}"
   ]
  },
  {
   "cell_type": "markdown",
   "id": "c450ee74",
   "metadata": {},
   "source": [
    "# 黑塞矩阵（Hessian Matrix）"
   ]
  },
  {
   "cell_type": "markdown",
   "id": "722bf7bb",
   "metadata": {},
   "source": [
    "其中黑塞矩阵（Hessian Matrix， $H(x_0)$）是一个多元函数的二阶偏导数构成的方阵，描述了函数的局部曲率。黑塞矩阵常用于牛顿法解决优化问题，利用黑塞矩阵可判定多元函数的极值问题。在工程实际问题的优化设计中，所列的目标函数往往很复杂，为了使问题简化，常常将目标函数在某点邻域展开成泰勒多项式来逼近原函数，此时函数在某点泰勒展开式的矩阵形式中会涉及到黑塞矩阵. 对于一个多元函数$f(x^1, x^2, \\ldots, x^n)$, 如果函数$f$的二阶偏导数，由定义$f$的黑塞矩阵为：\n",
    "\\begin{align}\n",
    "H_{i,j}(x) = D_iD_jf(x)\n",
    "\\end{align}\n",
    "其中$D_i$表示对第$i$个变量微分算子， $x=(x^1, x^2, \\ldots, x^n)$. 那么， $f$的黑塞矩阵为\n",
    "\\begin{align}\n",
    "H(x_0) = \\begin{bmatrix}\n",
    "\\frac{\\partial^2f(x_0)}{\\partial_{x_1}\\partial_{x_1}} & \\frac{\\partial^2f(x_0)}{\\partial_{x_1}\\partial_{x_2}} & \\ldots &\\frac{\\partial^2f(x_0)}{\\partial_{x_1}\\partial_{x_n}}\\\\\n",
    "\\frac{\\partial^2f(x_0)}{\\partial_{x_2}\\partial_{x_1}} & \\frac{\\partial^2f(x_0)}{\\partial_{x_2}\\partial_{x_2}} & \\ldots &\\frac{\\partial^2f(x_0)}{\\partial_{x_2}\\partial_{x_n}}\\\\\n",
    "\\vdots & \\vdots & \\ddots &\\vdots\\\\\n",
    "\\frac{\\partial^2f(x_0)}{\\partial_{x_n}\\partial_{x_1}} & \\frac{\\partial^2f(x_0)}{\\partial_{x_n}\\partial_{x_2}} & \\ldots &\\frac{\\partial^2f(x_0)}{\\partial_{x_n}\\partial_{x_n}}\\\\\n",
    "\\end{bmatrix}\n",
    "\\end{align}\n",
    "\n",
    "\n",
    "\\begin{align}\n",
    "f(x) = f(x_0) + [\\nabla f(x_0)]^T(x-x_0) + \\frac{1}{2!}[x-x_0]^T H(x_0) [x-x_0] + o^n\n",
    "\\end{align}\n",
    "\n",
    "**对称性**\n",
    "\n",
    "如果函数$f$在$D$区域内二阶连续可导， 那么$f$黑塞矩阵$H(f)$在D内对称矩阵。 原因是：如果函数$f$的二阶偏导连续，则二阶偏导数的求导顺序没有区别， 即：\n",
    "\\begin{equation}\n",
    "\\frac{\\partial}{\\partial x}(\\frac{\\partial f}{\\partial y}) = \\frac{\\partial}{\\partial y}(\\frac{\\partial f}{\\partial x})\n",
    "\\end{equation}\n",
    "则对于矩阵$H(f)$， 则$H_{i,j}(f) = H_{j,i}(f)$, 所以$H(f)$为对称矩阵。\n",
    "\n",
    "\\begin{equation}\n",
    "\\frac{d^2 f}{dx_i dx_j} = \\frac{d^2 f}{dx_j dx_i}\n",
    "\\end{equation}\n",
    "\n",
    "\n",
    "This follows by considering first perturbing a function in the direction of $x_i$, and then perturbing it in $x_j$ and then comparing the result of that with what happens if we perturb first $x_j$ and then $x_i$, with the knowledge that both of these orders lead to the same final change in the output of f.\n",
    "\n",
    "\n",
    "\n",
    "**多元函数极值的判定**\n",
    "\n",
    "如果实值多元函数$f(x^1, x^2, \\ldots, x^n)$二阶连续可导，并且在临界点$M(x_i)$(其中$i=1,2,\\ldots,n$, 并且$x_i$已知)处梯度（一阶导数）等于0， 即$\\nabla f(M) = 0$, $M$为驻点。 仅通过一阶导数无法判断临界点$M$处是极大值或是极小值。\n",
    "\n",
    "记$f$在$M$点处的黑塞矩阵$H(M)$, 由于$f$在$M$点连续，所以$H(M)$是一个$n \\times n$的对称矩阵。对于$M(M)$，有如下结论：\n",
    "\n",
    "1. 如果$H(M)$是正定矩阵， 则临界点$M$处是一个局部的极小值\n",
    "2. 如果$H(M)$是负定矩阵， 则临界点$M$处是一个局部的极大值\n",
    "3. 如果$H(M)$是不定矩阵， 则临界点$M$处不是极值\n",
    "\n",
    "\n",
    "Hessian Matrix，它有着广泛的应用，如在牛顿方法、求极值以及边缘检测、消除边缘响应等方面的应用，图像处理里，可以抽取图像特征，在金融里可以用来作量化分析。\n",
    "1. [用Hessian矩阵提出图片的关键特征](https://blog.csdn.net/jia20003/article/details/16874237)\n",
    "2. [用Hessian矩阵进行量化分析](http://ookiddy.iteye.com/blog/2204127)\n",
    "3. [边缘检测以及边缘响应消除](https://blog.csdn.net/lwzkiller/article/details/55050275)\n",
    "\n",
    "既然检测到的对应点确认为边缘点，那么我们就有理由消除这个边缘点，所以边缘检测与边缘响应消除的应用是一回事。边缘到底有什么特征呢？如下图所示，一个二维平面上的一条直线，图像的特征具体可以描述为：沿着直线方向，亮度变化极小，垂直于直线方向，亮度由暗变亮，再由亮变暗，沿着这个方向，亮度变化很大。我们可以将边缘图像分布特征与二次型函数图形进行类比，是不是发现很相似，我们可以找到两个方向，一个方向图像梯度变化最慢，另一个方向图像梯度变化最快。那么图像中的边缘特征就与二次型函数的图像对应起来了，其实二次型函数中的hessian矩阵，也是通过对二次型函数进行二阶偏导得到的(可以自己求偏导测试下)，这就是我们为什么可以使用hessian矩阵来对边缘进行检测以及进行边缘响应消除，我想大家应该明白其中的缘由了。还是那句话，数学模型其实就是一种反映图像特征的模型。\n",
    "\n",
    "所以Hessian matrix实际上就是多变量情形下的二阶导数，他描述了各方向上灰度梯度变化，这句话应该很好理解了吧。我们在使用对应点的hessian矩阵求取的特征向量以及对应的特征值，较大特征值所对应的特征向量是垂直于直线的，较小特征值对应的特征向量是沿着直线方向的。对于SIFT算法中的边缘响应的消除可以根据hessian矩阵进行判定。"
   ]
  },
  {
   "cell_type": "markdown",
   "id": "6aeb29d0",
   "metadata": {},
   "source": [
    "## Example of f(x_1, x_2)\n",
    "\n",
    "Suppose that $y = f(x_1, x_2) = a + b_1x_1 + b_2x_2 + c_{11}x^2_1 + c_{12}x_1x_2 + c_{22}x^2_2$\n",
    "\n",
    "\\begin{equation}\n",
    "f(0, 0) = 0 \\\\\n",
    "\\nabla f(0, 0) = \\begin{bmatrix} b_1 \\\\ b_2 \\end{bmatrix} \\\\\n",
    "Hf(0, 0) = \\begin{bmatrix} 2c_{11} & c_{12} \\\\ c_{12} & 2c_{22} \\end{bmatrix}\n",
    "\\end{equation}\n",
    "\n",
    "we can get our original polynomial back by saying\n",
    "\\begin{align}\n",
    "f(x) = f(x_0) + [\\nabla f(x_0)]^T(x-x_0) + \\frac{1}{2!}[x-x_0]^T H(x_0) [x-x_0] + o^n\n",
    "\\end{align}"
   ]
  },
  {
   "cell_type": "code",
   "execution_count": null,
   "id": "744bd03e",
   "metadata": {},
   "outputs": [],
   "source": []
  }
 ],
 "metadata": {
  "kernelspec": {
   "display_name": "Python 3 (ipykernel)",
   "language": "python",
   "name": "python3"
  },
  "language_info": {
   "codemirror_mode": {
    "name": "ipython",
    "version": 3
   },
   "file_extension": ".py",
   "mimetype": "text/x-python",
   "name": "python",
   "nbconvert_exporter": "python",
   "pygments_lexer": "ipython3",
   "version": "3.7.10"
  },
  "latex_envs": {
   "LaTeX_envs_menu_present": true,
   "autoclose": true,
   "autocomplete": true,
   "bibliofile": "biblio.bib",
   "cite_by": "apalike",
   "current_citInitial": 1,
   "eqLabelWithNumbers": true,
   "eqNumInitial": 1,
   "hotkeys": {
    "equation": "Ctrl-E",
    "itemize": "Ctrl-I"
   },
   "labels_anchors": false,
   "latex_user_defs": false,
   "report_style_numbering": false,
   "user_envs_cfg": false
  },
  "toc": {
   "base_numbering": 1,
   "nav_menu": {},
   "number_sections": true,
   "sideBar": true,
   "skip_h1_title": false,
   "title_cell": "Table of Contents",
   "title_sidebar": "Contents",
   "toc_cell": false,
   "toc_position": {},
   "toc_section_display": true,
   "toc_window_display": false
  }
 },
 "nbformat": 4,
 "nbformat_minor": 5
}
