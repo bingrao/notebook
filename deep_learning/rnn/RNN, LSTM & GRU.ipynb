{
 "cells": [
  {
   "cell_type": "markdown",
   "metadata": {},
   "source": [
    "# Introduction"
   ]
  },
  {
   "cell_type": "markdown",
   "metadata": {},
   "source": [
    "![](images/rnn_all.png)\n",
    "\n",
    "1. Recurrent Neural Network (RNN):\n",
    "2. Long-Short Term Memory (LSTM):\n",
    "3. Gated Recurrent Unit (GRU):"
   ]
  },
  {
   "cell_type": "markdown",
   "metadata": {},
   "source": [
    "# Recurrent Neural Network (RNN)\n",
    "![](images/rnn.png)"
   ]
  },
  {
   "cell_type": "markdown",
   "metadata": {},
   "source": [
    "**Notation**\n",
    "\n",
    "* $x_t$: input vector (m \\times 1).\n",
    "* $h_t$: hidden layer vector (n\\times 1).\n",
    "* $o_t$: output vector (n\\times1).\n",
    "* $b_h$: bias vector (n\\times1).\n",
    "* $U, W$: parameter matrices (n\\times m).\n",
    "* $V$: parameter matrix (n\\times n).\n",
    "* $\\sigma_h, \\sigma_g$: activation functions.\n",
    "\n",
    "**Feed-Forward**\n",
    "\n",
    "\\[ h_t=\\sigma_h(i_t)=\\sigma_h(U_hx_t+V_hh_{t-1}+b_h) \\]\n",
    "\n",
    "\\[ y_t=\\sigma_y(a_t)=\\sigma_y(W_yh_t+b_h) \\]\n",
    "\n",
    "**Backpropagation**\n",
    "\n",
    "\\[ \\Pi_t= \\frac{\\partial E_t}{\\partial o_t} \\frac{\\partial o_t}{\\partial h_t}+ \\frac{\\partial h_{t+1}}{\\partial h_t} \\Pi_{t+1} \\]\n",
    "\n",
    "\n",
    "\\[ \\beta_t^U=\\beta_{t+1}^U+\\Pi_t \\frac{\\partial h_t}{\\partial U_t} \\]\n",
    "\n",
    "\n",
    "\\[ \\beta_t^V=\\beta_{t+1}^V+\\Pi_t \\frac{\\partial h_t}{\\partial V_t} \\]\n",
    "\n",
    "\\[ \\beta_t^W=\\beta_{t+1}^W+ \\frac{\\partial E_t}{\\partial o_t} \\frac{\\partial o_t}{\\partial W_t} \\]\n",
    "\n",
    "\\[ \\frac{\\partial E}{\\partial X} \\equiv \\beta_0^x \\]\n",
    "\n",
    "**Example**\n",
    "![Example Of RNN](images/examples_rnn.png)\n",
    "1. Vanilla mode of processing without RNN, from fixed-sized input to fixed-sized output (e.g. image classification).\n",
    "2. Sequence output (e.g. image captioning takes an image and outputs a sentence of words).\n",
    "3. Sequence input (e.g. sentiment analysis where a given sentence is classified as expressing positive or negative sentiment)\n",
    "4. Sequence input and sequence output (e.g. Machine Translation: an RNN reads a sentence in English and then outputs a sentence in French).\n",
    "5. Synced sequence input and output (e.g. video classification where we wish to label each frame of the video)."
   ]
  },
  {
   "cell_type": "markdown",
   "metadata": {},
   "source": [
    "# LSTM – LONG-SHORT TERM MEMORY\n",
    "![](images/lstm.png)"
   ]
  },
  {
   "cell_type": "markdown",
   "metadata": {},
   "source": [
    "**Notation**\n",
    "\n",
    "* $h_t , C_t$: hidden layer vectors.\n",
    "* $x_t$: input vector.\n",
    "* $b_f , b_i , b_c , b_o$: bias vector.\n",
    "* $W_f , W_i , W_c , W_o$: parameter matrices.\n",
    "* $\\sigma , \\tanh$: activation functions.\n",
    "\n",
    "**Feed-Forward**\n",
    "  \\[ f_t=\\sigma(W_f\\cdot[h_{t-1},x_t]+b_f) \\]\n",
    "  \n",
    "  \\[ i_t=\\sigma(W_i\\cdot[h_{t-1},x_t]+b_i) \\]\n",
    "  \n",
    "  \\[ o_t=\\sigma(W_o\\cdot[h_{t-1},x_t]+b_o) \\]\n",
    "  \n",
    "  \\[ \\tilde{C}_t=\\tanh(W_c\\cdot[h_{t-1},x_t]+b_c) \\]\n",
    "  \n",
    "  \\[ C_t=f_t\\odot C_{t-1}+i_t\\odot\\tilde{C}_t \\]\n",
    "  \n",
    "  \\[ h_t=o_t\\odot\\tanh(C_t) \\]\n",
    "  \n",
    "**Backpropagation**\n",
    "\n",
    " \\begin{align*} \n",
    "      &\\frac{\\partial C_{t+1}}{\\partial h_t}= \\frac{\\partial C_{t+1}}{\\partial \\tilde{C}_{t+1}} \\frac{\\partial \\tilde{C}_{t+1}}{\\partial h_t}+ \\frac{\\partial C_{t+1}}{\\partial f_{t+1}} \\frac{\\partial f_{t+1}}{\\partial h_t}+ \\frac{\\partial C_{t+1}}{\\partial t_{t+1}} \\frac{\\partial i_{t+1}}{\\partial h_t}\\\\ \n",
    "      &\\frac{\\partial C_{t+1}}{\\partial C_t}\\\\ \n",
    "      &\\frac{\\partial h_{t+1}}{\\partial C_t}= \\frac{\\partial h_{t+1}}{\\partial C_{t+1}} \\frac{\\partial C_{t+1}}{\\partial C_t}\\\\ \n",
    "      &\\frac{\\partial h_{t+1}}{\\partial h_t}= \\frac{\\partial h_{t+1}}{\\partial C_{t+1}} \\frac{\\partial C_{t+1}}{\\partial h_t}+ \\frac{\\partial h_{t+1}}{\\partial o_{t+1}} \\frac{\\partial o_{t+1}}{\\partial h_t} \n",
    "\\end{align*}\n",
    "  \n",
    "  \\[ \\Pi_t= \\frac{\\partial E_t}{\\partial h_t}+ \\frac{\\partial h_{t+1}}{\\partial h_t} \\Pi_{t+1}+ \\frac{\\partial C_{t+1}}{\\partial h_t} \\mathcal{T}_{t+1} \\]\n",
    "  \n",
    "  \\[ \\mathcal{T}_t= \\frac{\\partial E_t}{\\partial h_t} \\frac{\\partial E_t}{\\partial C_t}+ \\frac{\\partial h_{t+1}}{\\partial C_t} \\Pi_{t+1}+ \\frac{\\partial C_{t+1}}{\\partial C_t} \\mathcal{T}_{t+1} \\]\n",
    "  \n",
    "  \\[ \\beta_t^f=\\beta_{t+1}^f+ \\frac{\\partial C_t}{\\partial f_t} \\frac{\\partial f_t}{\\partial W_t^f} ( \\frac{\\partial h_t}{\\partial C_t} \\Pi_t + \\mathcal{T}_t ) \\]\n",
    "  \n",
    "  \\[ \\beta_t^i=\\beta_{t+1}^i+ \\frac{\\partial C_t}{\\partial i_t} \\frac{\\partial i_t}{\\partial W_t^i} ( \\frac{\\partial h_t}{\\partial C_t} \\Pi_t + \\mathcal{T}_t ) \\]\n",
    "  \n",
    "  \\[ \\beta_t^c=\\beta_{t+1}^c+ \\frac{\\partial C_t}{\\partial \\tilde{C}_{t}} \\frac{\\partial \\tilde{C}_{t}}{\\partial W_t^c} ( \\frac{\\partial h_t}{\\partial C_t} \\Pi_t + \\mathcal{T}_t ) \\]\n",
    "  \n",
    "  \\[ \\beta_t^o=\\beta_{t+1}^o+ \\frac{\\partial h_t}{\\partial o_t} \\frac{\\partial o_t}{\\partial W_t^o} ( \\Pi_t ) \\]\n"
   ]
  },
  {
   "cell_type": "markdown",
   "metadata": {},
   "source": [
    "# GRU – GATED RECURRENT UNIT\n",
    "![](images/gru.png)"
   ]
  },
  {
   "cell_type": "markdown",
   "metadata": {},
   "source": [
    "**Notation**\n",
    "\n",
    "* $h_t$ : hidden layer vectors.\n",
    "* $x_t$ : input vector.\n",
    "* $b_z$ , b_r , b_h : bias vector.\n",
    "* $W_z , W_r , W_h$ : parameter matrices.\n",
    "* $\\sigma , \\tanh$ : activation functions.\n",
    "\n",
    "**Feed-Forward**\n",
    "  \n",
    "  \\[ z_t=\\sigma(W_z \\cdot[h_{t-1},x_t]+b_z) \\]\n",
    "  \n",
    "  \\[ r_t=\\sigma(W_r \\cdot [h_{t-1},x_t]+b_r) \\]\n",
    "  \n",
    "  \\[ \\tilde{h}_t=\\tanh(W_h\\cdot[r_t \\odot h_{t-1},x_t]+b_h) \\]\n",
    "  \n",
    "  \\[ h_t=(1-z_t)\\odot h_{t-1}+z_t\\odot \\tilde{h}_t \\]\n",
    "\n",
    "**Backpropagation**\n",
    "\n",
    "  \\[ \\frac{\\partial h_{t+1}}{\\partial h_t}= \\frac{\\partial h_{t+1}}{\\partial h_t}+ \\frac{\\partial h_{t+1}}{\\partial z_{t+1}} \\frac{\\partial z_{t+1}}{\\partial h_t}+ \\frac{\\partial h_{t+1}}{\\partial \\tilde{h}_{t+1}} ( \\frac{\\partial \\tilde{h}_{t+1}}{\\partial h_t}+ \\frac{\\partial \\tilde{h}_{t+1}}{\\partial r_{t+1}} \\frac{\\partial r_{t+1}}{\\partial h_t} ) \\]\n",
    "  \n",
    "  \\[ \\Pi_t= \\frac{\\partial E_t}{\\partial h_t}+ \\frac{\\partial h_{t+1}}{\\partial h_t} \\Pi_{t+1} \\]\n",
    "  \n",
    "  \\[ \\beta_t^z=\\beta_{t+1}^z+ \\frac{\\partial h_t}{\\partial z_t} \\frac{\\partial z_t}{\\partial W_t^z} \\Pi_t \\]\n",
    "  \n",
    "  \\[ \\beta_t^r=\\beta_{t+1}^r+ \\frac{\\partial h_t}{\\partial \\tilde{h}_t} \\frac{\\partial \\tilde{h}_t}{\\partial r_t} \\frac{\\partial r_t}{\\partial W_t^r} \\Pi_t \\]\n",
    "  \n",
    "  \\[ \\beta_t^h=\\beta_{t+1}^h+ \\frac{\\partial h_t}{\\partial \\tilde{h}_t} \\frac{\\partial \\tilde{h}_t}{\\partial W_t^h} \\Pi_t \\]\n",
    "  "
   ]
  },
  {
   "cell_type": "markdown",
   "metadata": {},
   "source": [
    "# Reference\n",
    "\n",
    "1. [Understanding LSTM Networks](https://colah.github.io/posts/2015-08-Understanding-LSTMs/)"
   ]
  },
  {
   "cell_type": "code",
   "execution_count": null,
   "metadata": {},
   "outputs": [],
   "source": []
  }
 ],
 "metadata": {
  "kernelspec": {
   "display_name": "Python 3 (ipykernel)",
   "language": "python",
   "name": "python3"
  },
  "language_info": {
   "codemirror_mode": {
    "name": "ipython",
    "version": 3
   },
   "file_extension": ".py",
   "mimetype": "text/x-python",
   "name": "python",
   "nbconvert_exporter": "python",
   "pygments_lexer": "ipython3",
   "version": "3.7.10"
  },
  "latex_envs": {
   "LaTeX_envs_menu_present": true,
   "autoclose": true,
   "autocomplete": true,
   "bibliofile": "biblio.bib",
   "cite_by": "apalike",
   "current_citInitial": 1,
   "eqLabelWithNumbers": true,
   "eqNumInitial": 1,
   "hotkeys": {
    "equation": "Ctrl-E",
    "itemize": "Ctrl-I"
   },
   "labels_anchors": false,
   "latex_user_defs": false,
   "report_style_numbering": false,
   "user_envs_cfg": false
  },
  "toc": {
   "base_numbering": 1,
   "nav_menu": {},
   "number_sections": true,
   "sideBar": true,
   "skip_h1_title": false,
   "title_cell": "Table of Contents",
   "title_sidebar": "Contents",
   "toc_cell": false,
   "toc_position": {},
   "toc_section_display": true,
   "toc_window_display": false
  }
 },
 "nbformat": 4,
 "nbformat_minor": 4
}
