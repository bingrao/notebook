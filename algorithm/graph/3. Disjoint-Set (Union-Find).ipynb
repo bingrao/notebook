{
 "cells": [
  {
   "cell_type": "markdown",
   "id": "bcbc1945",
   "metadata": {},
   "source": [
    "今天讲讲 Union-Find 算法，也就是常说的并查集算法，主要是解决图论中「动态连通性」问题的。\n",
    "\n",
    "Given the vertices and edges between them, how could we quickly check whether two vertices are connected? For example, Figure 5 shows the edges between vertices, so how can we efficiently check if 0 is connected to 3, 1 is connected to 5, or 7 is connected to 8? We can do so by using the “disjoint set” data structure, also known as the “union-find” data structure. Note that others might refer to it as an algorithm. In this Explore Card, the term “disjoint set” refers to a data structure.\n",
    "\n",
    "The primary use of disjoint sets is to address the connectivity between the components of a network. The “network“ here can be a computer network or a social network. For instance, we can use a disjoint set to determine if two people share a common ancestor.\n",
    "\n",
    "# 问题介绍\n",
    "简单说，动态连通性其实可以抽象成给一幅图连线。比如下面这幅图，总共有 10 个节点，他们互不相连，分别用 0~9 标记：\n",
    "![](images/uf_1.jfif)\n",
    "\n",
    "现在我们的 Union-Find 算法主要需要实现这两个 API"
   ]
  },
  {
   "cell_type": "code",
   "execution_count": null,
   "id": "6f07d0c1",
   "metadata": {},
   "outputs": [],
   "source": [
    "class UF:\n",
    "    def __init__(self, n):\n",
    "        pass\n",
    "    \n",
    "    # 将 p 和 q 连接\n",
    "    def union(self, p, q):\n",
    "        pass\n",
    "    \n",
    "    # 判断 p 和 q 是否连通\n",
    "    def connected(self, p, q):\n",
    "        pass\n",
    "    \n",
    "    # 返回图中有多少个连通分量\n",
    "    def count(self):\n",
    "        pass"
   ]
  },
  {
   "cell_type": "markdown",
   "id": "def82116",
   "metadata": {},
   "source": [
    "这里所说的「连通」是一种等价关系，也就是说具有如下三个性质：\n",
    "\n",
    "1. 自反性：节点p和p是连通的。\n",
    "2. 对称性：如果节点p和q连通，那么q和p也连通。\n",
    "3. 传递性：如果节点p和q连通，q和r连通，那么p和r也连通。\n",
    "\n",
    "比如说之前那幅图，0～9 任意两个不同的点都不连通，调用connected都会返回 false，连通分量为 10 个。\n",
    "\n",
    "如果现在调用union(0, 1)，那么 0 和 1 被连通，连通分量降为 9 个。\n",
    "\n",
    "再调用union(1, 2)，这时 0,1,2 都被连通，调用connected(0, 2)也会返回 true，连通分量变为 8 个。\n",
    "![](images/uf_2.jfif)\n",
    "判断这种「等价关系」非常实用，比如说编译器判断同一个变量的不同引用，比如社交网络中的朋友圈计算等等。\n",
    "\n",
    "这样，你应该大概明白什么是动态连通性了，Union-Find 算法的关键就在于union和connected函数的效率。那么用什么模型来表示这幅图的连通状态呢？用什么数据结构来实现代码呢？\n",
    "\n",
    "注意我刚才把「模型」和具体的「数据结构」分开说，这么做是有原因的。\n",
    "1. 因为我们使用森林（若干棵树）来表示图的动态连通性，用数组来具体实现这个森林。\n",
    "2. 我们设定树的每个节点有一个指针指向其父节点，如果是根节点的话，这个指针指向自己。\n",
    "\n",
    "比如说刚才那幅 10 个节点的图，一开始的时候没有相互连通，就是这样：\n",
    "![](images/uf_3.jfif)"
   ]
  },
  {
   "cell_type": "code",
   "execution_count": 2,
   "id": "4e3ff5c7",
   "metadata": {
    "code_folding": []
   },
   "outputs": [],
   "source": [
    "class UF():\n",
    "    def __init__(self, n):\n",
    "        self.count = n\n",
    "        # 父节点指针初始指向自己\n",
    "        self.parent = [i for i in range(n)]\n",
    "    \n",
    "    # 返回图中有多少个连通分量\n",
    "    def count(self):\n",
    "        return self.count\n",
    "    \n",
    "    # 将 p 和 q 连接\n",
    "    def union(self, p, q):\n",
    "        \"\"\"\n",
    "        如果某两个节点被连通，则让其中的（任意）\n",
    "        一个节点的根节点接到另一个节点的根节点上\n",
    "        \"\"\"\n",
    "        rootP = self.find(p)\n",
    "        rootQ = self.find(q)\n",
    "        \n",
    "        if rootP == rootQ:\n",
    "            return\n",
    "        # 将两棵树合并为一棵\n",
    "        self.parent[rootP] = rootQ\n",
    "        \n",
    "        # parent[rootQ] = rootP 也一样\n",
    "        self.count -= 1\n",
    "        \n",
    "    \n",
    "    # 返回某个节点 x 的根节点\n",
    "    def find(self, x):\n",
    "        # 根节点的 parent[x] == x\n",
    "        while self.parent[x] != x:\n",
    "            x = self.parent[x]\n",
    "        return x\n",
    "    \n",
    "    # 判断 p 和 q 是否连通\n",
    "    def connected(self, p, q):\n",
    "        \"\"\"\n",
    "        这样，如果节点p和q连通的话，它们一定拥有相同的根节点\n",
    "        \"\"\"\n",
    "        rootP = self.find(p)\n",
    "        rootQ = self.find(q)\n",
    "        \n",
    "        return rootP == rootQ"
   ]
  },
  {
   "cell_type": "markdown",
   "id": "12f6fcd4",
   "metadata": {},
   "source": [
    "例如我们把q和q链接在一起， 如下图所示\n",
    "![](images/uf_4.jfif)\n",
    "\n",
    "判断p和q是否连通：\n",
    "![](images/uf_5.jfif)\n",
    "\n",
    "至此，Union-Find 算法就基本完成了。那么这个算法的复杂度是多少呢？\n",
    "1. 我们发现，主要 APIconnected和union中的复杂度都是find函数造成的，所以说它们的复杂度和find一样。\n",
    "2. find主要功能就是从某个节点向上遍历到树根，其时间复杂度就是树的高度。\n",
    "3. 我们可能习惯性地认为树的高度就是logN，但这并不一定。logN的高度只存在于平衡二叉树，对于一般的树可能出现极端不平衡的情况，使得「树」几乎退化成「链表」，树的高度最坏情况下可能变成N。\n",
    "\n",
    "![](images/uf_6.jfif)\n",
    "\n",
    "所以说上面这种解法，find,union,connected的时间复杂度都是 **O(N)**。这个复杂度很不理想的，你想图论解决的都是诸如社交网络这样数据规模巨大的问题，对于union和connected的调用非常频繁，每次调用需要线性时间完全不可忍受。\n",
    "\n",
    "问题的关键在于，如何想办法避免树的不平衡呢？\n",
    "1. 我们要知道哪种情况下可能出现不平衡现象，关键在于union过程\n",
    "2. 我们一开始就是简单粗暴的把p所在的树接到q所在的树的根节点下面，那么这里就可能出现「头重脚轻」的不平衡状况，比如下面这种局面：\n",
    "\n",
    "![](images/uf_7.jfif)\n",
    "\n",
    "长此以往，树可能生长得很不平衡。我们其实是希望，小一些的树接到大一些的树下面，这样就能避免头重脚轻，更平衡一些。解决方法是额外使用一个size数组，记录每棵树包含的节点数，我们不妨称为「重量」："
   ]
  },
  {
   "cell_type": "markdown",
   "id": "f9b76bff",
   "metadata": {},
   "source": [
    "# 平衡性优化\n",
    "\n",
    "我们一开始就是简单粗暴的把p所在的树接到q所在的树的根节点下面，那么这里就可能出现「头重脚轻」的不平衡状况，比如下面这种局面：\n",
    "\n",
    "\n",
    "长此以往，树可能生长得很不平衡。我们其实是希望，小一些的树接到大一些的树下面，这样就能避免头重脚轻，更平衡一些。解决方法是额外使用一个size数组，记录每棵树包含的节点数，我们不妨称为「重量」：\n",
    "\n",
    "这样，通过比较树的重量，就可以保证树的生长相对平衡，树的高度大致在logN这个数量级，极大提升执行效率。\n",
    "\n",
    "此时，find,union,connected的时间复杂度都下降为 **O(logN)**，即便数据规模上亿，所需时间也非常少。\n"
   ]
  },
  {
   "cell_type": "code",
   "execution_count": 3,
   "id": "ccee70a9",
   "metadata": {},
   "outputs": [],
   "source": [
    "class UFWithWeight():\n",
    "    def __init__(self, n):\n",
    "        self.count = n\n",
    "        # 父节点指针初始指向自己\n",
    "        self.parent = [i for i in range(n)]\n",
    "        # 新增一个数组记录树的“重量”\n",
    "        self.size = [1] * n\n",
    "    \n",
    "    def count(self):\n",
    "        return self.count\n",
    "    \n",
    "    def union(self, p, q):\n",
    "        rootP = self.find(p)\n",
    "        rootQ = self.find(q)\n",
    "        \n",
    "        if rootP == rootQ:\n",
    "            return\n",
    "        \n",
    "        # 小树接到大树下面，较平衡\n",
    "        if self.size[rootP] > self.size(rootQ):\n",
    "            self.parent[rootQ] = rootP\n",
    "            self.size[rootP] += self.size[rootQ]\n",
    "        else:\n",
    "            self.parent[rootP] = rootQ\n",
    "            self.size[rootQ] += self.size[rootP]\n",
    "        \n",
    "        self.count -= 1\n",
    "        \n",
    "    \n",
    "    # 返回某个节点 x 的根节点\n",
    "    def find(self, x):\n",
    "        while self.parent[x] != x:\n",
    "            x = self.parent[x]\n",
    "        return x\n",
    "        \n",
    "    def connected(self, p, q):\n",
    "        rootP = self.find(p)\n",
    "        rootQ = self.find(q)\n",
    "        \n",
    "        return rootP == rootQ"
   ]
  },
  {
   "cell_type": "markdown",
   "id": "10a620d8",
   "metadata": {},
   "source": [
    "# 路径压缩\n",
    "\n",
    "这步优化特别简单，所以非常巧妙。我们能不能进一步压缩每棵树的高度，使树高始终保持为常数？ 这样find就能以 O(1) 的时间找到某一节点的根节点，相应的，connected和union复杂度都下降为 O(1)。\n",
    "\n",
    "要做到这一点，非常简单，只需要在find中加一行代码：\n",
    "```\n",
    "parent[x] = parent[parent[x]]\n",
    "```\n",
    "\n",
    "![](images/UF_10.gif)\n",
    "\n",
    "这个操作有点匪夷所思，看个 GIF 就明白它的作用了（为清晰起见，这棵树比较极端). 可见，调用find函数每次向树根遍历的同时，顺手将树高缩短了，最终所有树高都不会超过 3（union的时候树高可能达到 3）。\n"
   ]
  },
  {
   "cell_type": "code",
   "execution_count": 4,
   "id": "02510dc9",
   "metadata": {},
   "outputs": [],
   "source": [
    "class UFWithWeight_Compressed():\n",
    "    def __init__(self, n):\n",
    "        self.count = n\n",
    "        # 父节点指针初始指向自己\n",
    "        self.parent = [i for i in range(n)]\n",
    "        # 新增一个数组记录树的“重量”\n",
    "        self.size = [1] * n\n",
    "    \n",
    "    def count(self):\n",
    "        return self.count\n",
    "    \n",
    "    def union(self, p, q):\n",
    "        rootP = self.find(p)\n",
    "        rootQ = self.find(q)\n",
    "        \n",
    "        if rootP == rootQ:\n",
    "            return\n",
    "        \n",
    "        # 小树接到大树下面，较平衡\n",
    "        if self.size[rootP] >= self.size(rootQ):\n",
    "            self.parent[rootQ] = rootP\n",
    "            self.size[rootP] += self.size[rootQ]\n",
    "        else:\n",
    "            self.parent[rootP] = rootQ\n",
    "            self.size[rootQ] += self.size[rootP]\n",
    "        \n",
    "        self.count -= 1\n",
    "        \n",
    "    \n",
    "    # 返回某个节点 x 的根节点\n",
    "    def find(self, x):\n",
    "        while self.parent[x] != x:\n",
    "            # 进行路径压缩\n",
    "            self.parent[x] = self.parent[self.parent[x]]\n",
    "            x = self.parent[x]\n",
    "        return x\n",
    "        \n",
    "    def connected(self, p, q):\n",
    "        rootP = self.find(p)\n",
    "        rootQ = self.find(q)\n",
    "        \n",
    "        return rootP == rootQ"
   ]
  },
  {
   "cell_type": "markdown",
   "id": "b89b7d21",
   "metadata": {},
   "source": [
    "可见，调用find函数每次向树根遍历的同时，顺手将树高缩短了，最终所有树高都不会超过 3（union的时候树高可能达到 3）。\n",
    "\n",
    "PS：读者可能会问，这个 GIF 图的find过程完成之后，树高恰好等于 3 了，但是如果更高的树，压缩后高度依然会大于 3 呀？不能这么想。这个 GIF 的情景是我编出来方便大家理解路径压缩的，但是实际中，每次find都会进行路径压缩，所以树本来就不可能增长到这么高，你的这种担心应该是多余的。"
   ]
  },
  {
   "cell_type": "markdown",
   "id": "d97f9b88",
   "metadata": {},
   "source": [
    "# Union-Find 算法应用\n"
   ]
  },
  {
   "cell_type": "markdown",
   "id": "a70188c3",
   "metadata": {
    "heading_collapsed": true
   },
   "source": [
    "## DFS 的替代方案\n",
    "\n",
    "很多使用 DFS 深度优先算法解决的问题，也可以用 Union-Find 算法解决。"
   ]
  },
  {
   "cell_type": "markdown",
   "id": "6ef4af73",
   "metadata": {},
   "source": [
    "# 判定合法算式\n"
   ]
  },
  {
   "cell_type": "markdown",
   "id": "293a68fc",
   "metadata": {},
   "source": [
    "# Reference \n",
    "1. [Union-Find 并查集算法详解](https://mp.weixin.qq.com/s/Czqc1zjfVQg6Pbtfnp_1Bg)\n",
    "2. [Union-Find 算法怎么应用？](https://mp.weixin.qq.com/s/sPqFpQvHNbDe5NO2DYVIKQ)"
   ]
  },
  {
   "cell_type": "code",
   "execution_count": null,
   "id": "9f67af9a",
   "metadata": {},
   "outputs": [],
   "source": []
  }
 ],
 "metadata": {
  "kernelspec": {
   "display_name": "Python 3",
   "language": "python",
   "name": "python3"
  },
  "language_info": {
   "codemirror_mode": {
    "name": "ipython",
    "version": 3
   },
   "file_extension": ".py",
   "mimetype": "text/x-python",
   "name": "python",
   "nbconvert_exporter": "python",
   "pygments_lexer": "ipython3",
   "version": "3.7.11"
  },
  "latex_envs": {
   "LaTeX_envs_menu_present": true,
   "autoclose": false,
   "autocomplete": true,
   "bibliofile": "biblio.bib",
   "cite_by": "apalike",
   "current_citInitial": 1,
   "eqLabelWithNumbers": true,
   "eqNumInitial": 1,
   "hotkeys": {
    "equation": "Ctrl-E",
    "itemize": "Ctrl-I"
   },
   "labels_anchors": false,
   "latex_user_defs": false,
   "report_style_numbering": false,
   "user_envs_cfg": false
  },
  "nbTranslate": {
   "displayLangs": [
    "*"
   ],
   "hotkey": "alt-t",
   "langInMainMenu": true,
   "sourceLang": "en",
   "targetLang": "fr",
   "useGoogleTranslate": true
  }
 },
 "nbformat": 4,
 "nbformat_minor": 5
}
