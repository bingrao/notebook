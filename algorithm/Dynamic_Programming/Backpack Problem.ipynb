{
 "cells": [
  {
   "cell_type": "markdown",
   "id": "1eef9256",
   "metadata": {},
   "source": [
    "# 01 背包\n",
    "\n",
    "有N件物品和一个最多能背重量为W的背包。第i件物品的重量是 weight[i]，得到的价值是 value[i] 。每件物品只能用一次，求解将哪些物品装入背包里物品价值总和最大。\n",
    "![](image/backpack/backpack.jfif)"
   ]
  },
  {
   "cell_type": "code",
   "execution_count": 19,
   "id": "78123498",
   "metadata": {},
   "outputs": [],
   "source": [
    "# example of 01 backpack problem\n",
    "capacity = 4\n",
    "weight = [1, 3, 4]\n",
    "value = [15, 20, 30]\n",
    "## 问背包能背的物品最大价值是多少？\n",
    "## 2D array\n",
    "nums_item = len(weight)"
   ]
  },
  {
   "cell_type": "code",
   "execution_count": 20,
   "id": "2c3c975c",
   "metadata": {},
   "outputs": [
    {
     "name": "stdout",
     "output_type": "stream",
     "text": [
      "[[0, 0, 0, 0, 0], [0, 0, 0, 0, 0], [0, 0, 0, 0, 0]]\n",
      "[[0, 15, 15, 15, 15], [0, 0, 0, 0, 0], [0, 0, 0, 0, 0]]\n",
      "Item Index: 0, DP Array: [[0, 15, 15, 15, 15], [0, 0, 0, 0, 0], [0, 0, 0, 0, 0]]\n",
      "Item Index: 1, DP Array: [[0, 15, 15, 15, 15], [0, 15, 15, 20, 35], [0, 0, 0, 0, 0]]\n",
      "Item Index: 2, DP Array: [[0, 15, 15, 15, 15], [0, 15, 15, 20, 35], [0, 15, 15, 20, 35]]\n"
     ]
    }
   ],
   "source": [
    "# declare a dp array\n",
    "dp = [[0 for _ in range(capacity + 1)] for _ in range(nums_item)]\n",
    "\n",
    "print(dp)\n",
    "\n",
    "# Init the dp array\n",
    "for j in range(capacity + 1):\n",
    "    dp[0][j] = value[0] if j >= weight[0] else 0\n",
    "\n",
    "for i in range(nums_item):\n",
    "    dp[i][0] = 0\n",
    "\n",
    "print(dp)\n",
    "\n",
    "for i in range(nums_item):\n",
    "    \n",
    "    for j in range(capacity + 1):\n",
    "        if j < weight[i]:\n",
    "            dp[i][j] = dp[i-1][j]\n",
    "        else:\n",
    "            dp[i][j] = max(dp[i-1][j], dp[i-1][j - weight[i]] + value[i])\n",
    "    print(f\"Item Index: {i}, DP Array: {dp}\")"
   ]
  },
  {
   "cell_type": "code",
   "execution_count": 23,
   "id": "7b21e118",
   "metadata": {},
   "outputs": [
    {
     "name": "stdout",
     "output_type": "stream",
     "text": [
      "Item Index: 0, DP Array: [0, 15, 15, 15, 15]\n",
      "Item Index: 1, DP Array: [0, 15, 15, 20, 35]\n",
      "Item Index: 2, DP Array: [0, 15, 15, 20, 35]\n"
     ]
    }
   ],
   "source": [
    "# 1D Array\n",
    "\n",
    "dp = [0 for _ in range(capacity + 1)]\n",
    "\n",
    "for i in range(nums_item):\n",
    "    for j in range(capacity, weight[i] - 1, -1):\n",
    "        dp[j] = max(dp[j], dp[j - weight[i]] + value[i])\n",
    "    print(f\"Item Index: {i}, DP Array: {dp}\")"
   ]
  },
  {
   "cell_type": "code",
   "execution_count": null,
   "id": "5c71cf59",
   "metadata": {},
   "outputs": [],
   "source": []
  }
 ],
 "metadata": {
  "kernelspec": {
   "display_name": "Python 3",
   "language": "python",
   "name": "python3"
  },
  "language_info": {
   "codemirror_mode": {
    "name": "ipython",
    "version": 3
   },
   "file_extension": ".py",
   "mimetype": "text/x-python",
   "name": "python",
   "nbconvert_exporter": "python",
   "pygments_lexer": "ipython3",
   "version": "3.7.11"
  },
  "latex_envs": {
   "LaTeX_envs_menu_present": true,
   "autoclose": false,
   "autocomplete": true,
   "bibliofile": "biblio.bib",
   "cite_by": "apalike",
   "current_citInitial": 1,
   "eqLabelWithNumbers": true,
   "eqNumInitial": 1,
   "hotkeys": {
    "equation": "Ctrl-E",
    "itemize": "Ctrl-I"
   },
   "labels_anchors": false,
   "latex_user_defs": false,
   "report_style_numbering": false,
   "user_envs_cfg": false
  },
  "nbTranslate": {
   "displayLangs": [
    "*"
   ],
   "hotkey": "alt-t",
   "langInMainMenu": true,
   "sourceLang": "en",
   "targetLang": "fr",
   "useGoogleTranslate": true
  }
 },
 "nbformat": 4,
 "nbformat_minor": 5
}
