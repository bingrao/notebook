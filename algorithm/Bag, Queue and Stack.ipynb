{
 "cells": [
  {
   "cell_type": "markdown",
   "metadata": {},
   "source": [
    "# Bag\n",
    "A bag is a collection where removing items is not supported—its purpose is to\n",
    "provide clients with the ability to collect items and then to iterate through the collected\n",
    "items (the client can also test if a bag is empty and find its number of items)\n",
    "\n",
    "1. Add one or more items to a bag one time. \n",
    "2. Select a group of condidates with random selections and iterating them with a loop (Using Generator)\n",
    "3. Check if this bag is empty\n",
    "4. Get the number of items in this bag\n",
    "5. The order in this bag does not matter"
   ]
  },
  {
   "cell_type": "markdown",
   "metadata": {},
   "source": [
    "# FIFO Queue\n",
    "\n",
    "A FIFO queue (or just a queue) is a collection that is based on the firstin-first-out (FIFO) policy. The policy of doing tasks in the same order that they arrive is one that we encounter frequently in everyday life. "
   ]
  },
  {
   "cell_type": "code",
   "execution_count": 1,
   "metadata": {},
   "outputs": [
    {
     "ename": "SyntaxError",
     "evalue": "invalid syntax (<ipython-input-1-dacb6b6f29df>, line 2)",
     "output_type": "error",
     "traceback": [
      "\u001b[1;36m  File \u001b[1;32m\"<ipython-input-1-dacb6b6f29df>\"\u001b[1;36m, line \u001b[1;32m2\u001b[0m\n\u001b[1;33m    def __init__()\u001b[0m\n\u001b[1;37m                  ^\u001b[0m\n\u001b[1;31mSyntaxError\u001b[0m\u001b[1;31m:\u001b[0m invalid syntax\n"
     ]
    }
   ],
   "source": [
    "class MyQueue(Object):\n",
    "    def __init__()\n",
    "        self._data = []\n",
    "        \n",
    "    def data(self)\n",
    "        return self._data\n",
    "    \n",
    "    def enqueue(self, item)\n",
    "        self._data.insert(0, item)\n",
    "    \n",
    "    def dequeue(self)\n",
    "        if len(self._data) > 0:\n",
    "            return self._data.pop()\n",
    "        else:\n",
    "            raise ValueError, \"Empty Queue\"\n",
    "        "
   ]
  },
  {
   "cell_type": "markdown",
   "metadata": {},
   "source": [
    "# Pushdown Stack\n",
    "A pushdown stack (or just a stack) is a collection that is based on the last-in-first-out (LIFO) policy."
   ]
  },
  {
   "cell_type": "code",
   "execution_count": null,
   "metadata": {},
   "outputs": [],
   "source": []
  }
 ],
 "metadata": {
  "kernelspec": {
   "display_name": "Python 3",
   "language": "python",
   "name": "python3"
  },
  "language_info": {
   "codemirror_mode": {
    "name": "ipython",
    "version": 3
   },
   "file_extension": ".py",
   "mimetype": "text/x-python",
   "name": "python",
   "nbconvert_exporter": "python",
   "pygments_lexer": "ipython3",
   "version": "3.7.8"
  },
  "latex_envs": {
   "LaTeX_envs_menu_present": true,
   "autoclose": true,
   "autocomplete": true,
   "bibliofile": "biblio.bib",
   "cite_by": "apalike",
   "current_citInitial": 1,
   "eqLabelWithNumbers": true,
   "eqNumInitial": 1,
   "hotkeys": {
    "equation": "Ctrl-E",
    "itemize": "Ctrl-I"
   },
   "labels_anchors": false,
   "latex_user_defs": false,
   "report_style_numbering": false,
   "user_envs_cfg": false
  },
  "toc": {
   "base_numbering": 1,
   "nav_menu": {},
   "number_sections": true,
   "sideBar": true,
   "skip_h1_title": false,
   "title_cell": "Table of Contents",
   "title_sidebar": "Contents",
   "toc_cell": false,
   "toc_position": {},
   "toc_section_display": true,
   "toc_window_display": false
  }
 },
 "nbformat": 4,
 "nbformat_minor": 4
}
