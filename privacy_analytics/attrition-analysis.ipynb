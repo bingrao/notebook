{
 "cells": [
  {
   "cell_type": "code",
   "execution_count": 1,
   "metadata": {},
   "outputs": [
    {
     "ename": "ModuleNotFoundError",
     "evalue": "No module named 'tensorflow'",
     "output_type": "error",
     "traceback": [
      "\u001b[1;31m---------------------------------------------------------------------------\u001b[0m",
      "\u001b[1;31mModuleNotFoundError\u001b[0m                       Traceback (most recent call last)",
      "\u001b[1;32m<ipython-input-1-7b18da635666>\u001b[0m in \u001b[0;36m<module>\u001b[1;34m\u001b[0m\n\u001b[0;32m      2\u001b[0m \u001b[1;32mimport\u001b[0m \u001b[0mnumpy\u001b[0m \u001b[1;32mas\u001b[0m \u001b[0mnp\u001b[0m\u001b[1;33m\u001b[0m\u001b[1;33m\u001b[0m\u001b[0m\n\u001b[0;32m      3\u001b[0m \u001b[1;32mimport\u001b[0m \u001b[0mpandas\u001b[0m \u001b[1;32mas\u001b[0m \u001b[0mpd\u001b[0m\u001b[1;33m\u001b[0m\u001b[1;33m\u001b[0m\u001b[0m\n\u001b[1;32m----> 4\u001b[1;33m \u001b[1;32mimport\u001b[0m \u001b[0mtensorflow\u001b[0m \u001b[1;32mas\u001b[0m \u001b[0mtf\u001b[0m\u001b[1;33m\u001b[0m\u001b[1;33m\u001b[0m\u001b[0m\n\u001b[0m\u001b[0;32m      5\u001b[0m \u001b[1;32mimport\u001b[0m \u001b[0mkeras\u001b[0m\u001b[1;33m\u001b[0m\u001b[1;33m\u001b[0m\u001b[0m\n\u001b[0;32m      6\u001b[0m \u001b[1;32mimport\u001b[0m \u001b[0mkeras\u001b[0m\u001b[1;33m.\u001b[0m\u001b[0mbackend\u001b[0m \u001b[1;32mas\u001b[0m \u001b[0mK\u001b[0m\u001b[1;33m\u001b[0m\u001b[1;33m\u001b[0m\u001b[0m\n",
      "\u001b[1;31mModuleNotFoundError\u001b[0m: No module named 'tensorflow'"
     ]
    }
   ],
   "source": [
    "import warnings; warnings.simplefilter('ignore')\n",
    "import numpy as np\n",
    "import pandas as pd\n",
    "import tensorflow as tf \n",
    "import keras \n",
    "import keras.backend as K\n",
    "from scipy.spatial.distance import pdist \n",
    "import matplotlib.pyplot as plt \n",
    "from sklearn.preprocessing import LabelEncoder"
   ]
  },
  {
   "cell_type": "code",
   "execution_count": 2,
   "metadata": {},
   "outputs": [],
   "source": [
    "def load_attrition_data():\n",
    "    dataset = pd.read_csv(\"employee-attrition.csv\")\n",
    "    return(dataset)\n",
    "\n",
    "def pdistcompute(attrition,cols):\n",
    "    #attrition is the dataframe\n",
    "    #cols is the subset of columns\n",
    "    attrition = attrition[cols]\n",
    "    pair_wise = pd.Series(pdist(attrition, 'cosine')) #finding pairwise distance between data\n",
    "    count = pair_wise.groupby(pd.cut(pair_wise, [0, 0.1, 0.2, 0.3, 0.4,0.5,0.6,0.7,0.8,0.9,1])).count() #grouping based on values\n",
    "    #plotting \n",
    "    plt.plot(np.arange(len(count)),count) #general plot for all users.\n",
    "    return(count)"
   ]
  },
  {
   "cell_type": "code",
   "execution_count": 42,
   "metadata": {},
   "outputs": [
    {
     "name": "stdout",
     "output_type": "stream",
     "text": [
      "['Age' 'Attrition' 'BusinessTravel' 'DailyRate' 'Department'\n",
      " 'DistanceFromHome' 'Education' 'EducationField' 'EmployeeCount'\n",
      " 'EmployeeNumber' 'EnvironmentSatisfaction' 'Gender' 'HourlyRate'\n",
      " 'JobInvolvement' 'JobLevel' 'JobRole' 'JobSatisfaction' 'MaritalStatus'\n",
      " 'MonthlyIncome' 'MonthlyRate' 'NumCompaniesWorked' 'Over18' 'OverTime'\n",
      " 'PercentSalaryHike' 'PerformanceRating' 'RelationshipSatisfaction'\n",
      " 'StandardHours' 'StockOptionLevel' 'TotalWorkingYears'\n",
      " 'TrainingTimesLastYear' 'WorkLifeBalance' 'YearsAtCompany'\n",
      " 'YearsInCurrentRole' 'YearsSinceLastPromotion' 'YearsWithCurrManager']\n",
      "(1470, 35)\n"
     ]
    },
    {
     "data": {
      "text/html": [
       "<div>\n",
       "<style scoped>\n",
       "    .dataframe tbody tr th:only-of-type {\n",
       "        vertical-align: middle;\n",
       "    }\n",
       "\n",
       "    .dataframe tbody tr th {\n",
       "        vertical-align: top;\n",
       "    }\n",
       "\n",
       "    .dataframe thead th {\n",
       "        text-align: right;\n",
       "    }\n",
       "</style>\n",
       "<table border=\"1\" class=\"dataframe\">\n",
       "  <thead>\n",
       "    <tr style=\"text-align: right;\">\n",
       "      <th></th>\n",
       "      <th>Age</th>\n",
       "      <th>Attrition</th>\n",
       "      <th>BusinessTravel</th>\n",
       "      <th>DailyRate</th>\n",
       "      <th>Department</th>\n",
       "      <th>DistanceFromHome</th>\n",
       "      <th>Education</th>\n",
       "      <th>EducationField</th>\n",
       "      <th>EmployeeCount</th>\n",
       "      <th>EmployeeNumber</th>\n",
       "      <th>...</th>\n",
       "      <th>RelationshipSatisfaction</th>\n",
       "      <th>StandardHours</th>\n",
       "      <th>StockOptionLevel</th>\n",
       "      <th>TotalWorkingYears</th>\n",
       "      <th>TrainingTimesLastYear</th>\n",
       "      <th>WorkLifeBalance</th>\n",
       "      <th>YearsAtCompany</th>\n",
       "      <th>YearsInCurrentRole</th>\n",
       "      <th>YearsSinceLastPromotion</th>\n",
       "      <th>YearsWithCurrManager</th>\n",
       "    </tr>\n",
       "  </thead>\n",
       "  <tbody>\n",
       "    <tr>\n",
       "      <th>0</th>\n",
       "      <td>41</td>\n",
       "      <td>Yes</td>\n",
       "      <td>Travel_Rarely</td>\n",
       "      <td>1102</td>\n",
       "      <td>Sales</td>\n",
       "      <td>1</td>\n",
       "      <td>2</td>\n",
       "      <td>Life Sciences</td>\n",
       "      <td>1</td>\n",
       "      <td>1</td>\n",
       "      <td>...</td>\n",
       "      <td>1</td>\n",
       "      <td>80</td>\n",
       "      <td>0</td>\n",
       "      <td>8</td>\n",
       "      <td>0</td>\n",
       "      <td>1</td>\n",
       "      <td>6</td>\n",
       "      <td>4</td>\n",
       "      <td>0</td>\n",
       "      <td>5</td>\n",
       "    </tr>\n",
       "    <tr>\n",
       "      <th>1</th>\n",
       "      <td>49</td>\n",
       "      <td>No</td>\n",
       "      <td>Travel_Frequently</td>\n",
       "      <td>279</td>\n",
       "      <td>Research &amp; Development</td>\n",
       "      <td>8</td>\n",
       "      <td>1</td>\n",
       "      <td>Life Sciences</td>\n",
       "      <td>1</td>\n",
       "      <td>2</td>\n",
       "      <td>...</td>\n",
       "      <td>4</td>\n",
       "      <td>80</td>\n",
       "      <td>1</td>\n",
       "      <td>10</td>\n",
       "      <td>3</td>\n",
       "      <td>3</td>\n",
       "      <td>10</td>\n",
       "      <td>7</td>\n",
       "      <td>1</td>\n",
       "      <td>7</td>\n",
       "    </tr>\n",
       "    <tr>\n",
       "      <th>2</th>\n",
       "      <td>37</td>\n",
       "      <td>Yes</td>\n",
       "      <td>Travel_Rarely</td>\n",
       "      <td>1373</td>\n",
       "      <td>Research &amp; Development</td>\n",
       "      <td>2</td>\n",
       "      <td>2</td>\n",
       "      <td>Other</td>\n",
       "      <td>1</td>\n",
       "      <td>4</td>\n",
       "      <td>...</td>\n",
       "      <td>2</td>\n",
       "      <td>80</td>\n",
       "      <td>0</td>\n",
       "      <td>7</td>\n",
       "      <td>3</td>\n",
       "      <td>3</td>\n",
       "      <td>0</td>\n",
       "      <td>0</td>\n",
       "      <td>0</td>\n",
       "      <td>0</td>\n",
       "    </tr>\n",
       "    <tr>\n",
       "      <th>3</th>\n",
       "      <td>33</td>\n",
       "      <td>No</td>\n",
       "      <td>Travel_Frequently</td>\n",
       "      <td>1392</td>\n",
       "      <td>Research &amp; Development</td>\n",
       "      <td>3</td>\n",
       "      <td>4</td>\n",
       "      <td>Life Sciences</td>\n",
       "      <td>1</td>\n",
       "      <td>5</td>\n",
       "      <td>...</td>\n",
       "      <td>3</td>\n",
       "      <td>80</td>\n",
       "      <td>0</td>\n",
       "      <td>8</td>\n",
       "      <td>3</td>\n",
       "      <td>3</td>\n",
       "      <td>8</td>\n",
       "      <td>7</td>\n",
       "      <td>3</td>\n",
       "      <td>0</td>\n",
       "    </tr>\n",
       "    <tr>\n",
       "      <th>4</th>\n",
       "      <td>27</td>\n",
       "      <td>No</td>\n",
       "      <td>Travel_Rarely</td>\n",
       "      <td>591</td>\n",
       "      <td>Research &amp; Development</td>\n",
       "      <td>2</td>\n",
       "      <td>1</td>\n",
       "      <td>Medical</td>\n",
       "      <td>1</td>\n",
       "      <td>7</td>\n",
       "      <td>...</td>\n",
       "      <td>4</td>\n",
       "      <td>80</td>\n",
       "      <td>1</td>\n",
       "      <td>6</td>\n",
       "      <td>3</td>\n",
       "      <td>3</td>\n",
       "      <td>2</td>\n",
       "      <td>2</td>\n",
       "      <td>2</td>\n",
       "      <td>2</td>\n",
       "    </tr>\n",
       "  </tbody>\n",
       "</table>\n",
       "<p>5 rows × 35 columns</p>\n",
       "</div>"
      ],
      "text/plain": [
       "   Age Attrition     BusinessTravel  DailyRate              Department  \\\n",
       "0   41       Yes      Travel_Rarely       1102                   Sales   \n",
       "1   49        No  Travel_Frequently        279  Research & Development   \n",
       "2   37       Yes      Travel_Rarely       1373  Research & Development   \n",
       "3   33        No  Travel_Frequently       1392  Research & Development   \n",
       "4   27        No      Travel_Rarely        591  Research & Development   \n",
       "\n",
       "   DistanceFromHome  Education EducationField  EmployeeCount  EmployeeNumber  \\\n",
       "0                 1          2  Life Sciences              1               1   \n",
       "1                 8          1  Life Sciences              1               2   \n",
       "2                 2          2          Other              1               4   \n",
       "3                 3          4  Life Sciences              1               5   \n",
       "4                 2          1        Medical              1               7   \n",
       "\n",
       "           ...           RelationshipSatisfaction StandardHours  \\\n",
       "0          ...                                  1            80   \n",
       "1          ...                                  4            80   \n",
       "2          ...                                  2            80   \n",
       "3          ...                                  3            80   \n",
       "4          ...                                  4            80   \n",
       "\n",
       "   StockOptionLevel  TotalWorkingYears  TrainingTimesLastYear WorkLifeBalance  \\\n",
       "0                 0                  8                      0               1   \n",
       "1                 1                 10                      3               3   \n",
       "2                 0                  7                      3               3   \n",
       "3                 0                  8                      3               3   \n",
       "4                 1                  6                      3               3   \n",
       "\n",
       "   YearsAtCompany YearsInCurrentRole  YearsSinceLastPromotion  \\\n",
       "0               6                  4                        0   \n",
       "1              10                  7                        1   \n",
       "2               0                  0                        0   \n",
       "3               8                  7                        3   \n",
       "4               2                  2                        2   \n",
       "\n",
       "   YearsWithCurrManager  \n",
       "0                     5  \n",
       "1                     7  \n",
       "2                     0  \n",
       "3                     0  \n",
       "4                     2  \n",
       "\n",
       "[5 rows x 35 columns]"
      ]
     },
     "execution_count": 42,
     "metadata": {},
     "output_type": "execute_result"
    }
   ],
   "source": [
    "attrition = load_attrition_data()\n",
    "print(attrition.columns.values)\n",
    "print(attrition.shape)\n",
    "attrition.head()"
   ]
  },
  {
   "cell_type": "code",
   "execution_count": 4,
   "metadata": {
    "scrolled": true
   },
   "outputs": [
    {
     "data": {
      "text/html": [
       "<div>\n",
       "<style scoped>\n",
       "    .dataframe tbody tr th:only-of-type {\n",
       "        vertical-align: middle;\n",
       "    }\n",
       "\n",
       "    .dataframe tbody tr th {\n",
       "        vertical-align: top;\n",
       "    }\n",
       "\n",
       "    .dataframe thead th {\n",
       "        text-align: right;\n",
       "    }\n",
       "</style>\n",
       "<table border=\"1\" class=\"dataframe\">\n",
       "  <thead>\n",
       "    <tr style=\"text-align: right;\">\n",
       "      <th></th>\n",
       "      <th>Age</th>\n",
       "      <th>Attrition</th>\n",
       "      <th>BusinessTravel</th>\n",
       "      <th>DailyRate</th>\n",
       "      <th>Department</th>\n",
       "      <th>DistanceFromHome</th>\n",
       "      <th>Education</th>\n",
       "      <th>EducationField</th>\n",
       "      <th>EmployeeCount</th>\n",
       "      <th>EmployeeNumber</th>\n",
       "      <th>...</th>\n",
       "      <th>RelationshipSatisfaction</th>\n",
       "      <th>StandardHours</th>\n",
       "      <th>StockOptionLevel</th>\n",
       "      <th>TotalWorkingYears</th>\n",
       "      <th>TrainingTimesLastYear</th>\n",
       "      <th>WorkLifeBalance</th>\n",
       "      <th>YearsAtCompany</th>\n",
       "      <th>YearsInCurrentRole</th>\n",
       "      <th>YearsSinceLastPromotion</th>\n",
       "      <th>YearsWithCurrManager</th>\n",
       "    </tr>\n",
       "  </thead>\n",
       "  <tbody>\n",
       "    <tr>\n",
       "      <th>0</th>\n",
       "      <td>41</td>\n",
       "      <td>1</td>\n",
       "      <td>2</td>\n",
       "      <td>624</td>\n",
       "      <td>2</td>\n",
       "      <td>0</td>\n",
       "      <td>1</td>\n",
       "      <td>1</td>\n",
       "      <td>0</td>\n",
       "      <td>0</td>\n",
       "      <td>...</td>\n",
       "      <td>0</td>\n",
       "      <td>0</td>\n",
       "      <td>0</td>\n",
       "      <td>8</td>\n",
       "      <td>0</td>\n",
       "      <td>0</td>\n",
       "      <td>6</td>\n",
       "      <td>4</td>\n",
       "      <td>0</td>\n",
       "      <td>5</td>\n",
       "    </tr>\n",
       "    <tr>\n",
       "      <th>1</th>\n",
       "      <td>49</td>\n",
       "      <td>0</td>\n",
       "      <td>1</td>\n",
       "      <td>113</td>\n",
       "      <td>1</td>\n",
       "      <td>7</td>\n",
       "      <td>0</td>\n",
       "      <td>1</td>\n",
       "      <td>0</td>\n",
       "      <td>1</td>\n",
       "      <td>...</td>\n",
       "      <td>3</td>\n",
       "      <td>0</td>\n",
       "      <td>1</td>\n",
       "      <td>10</td>\n",
       "      <td>3</td>\n",
       "      <td>2</td>\n",
       "      <td>10</td>\n",
       "      <td>7</td>\n",
       "      <td>1</td>\n",
       "      <td>7</td>\n",
       "    </tr>\n",
       "    <tr>\n",
       "      <th>2</th>\n",
       "      <td>37</td>\n",
       "      <td>1</td>\n",
       "      <td>2</td>\n",
       "      <td>805</td>\n",
       "      <td>1</td>\n",
       "      <td>1</td>\n",
       "      <td>1</td>\n",
       "      <td>4</td>\n",
       "      <td>0</td>\n",
       "      <td>2</td>\n",
       "      <td>...</td>\n",
       "      <td>1</td>\n",
       "      <td>0</td>\n",
       "      <td>0</td>\n",
       "      <td>7</td>\n",
       "      <td>3</td>\n",
       "      <td>2</td>\n",
       "      <td>0</td>\n",
       "      <td>0</td>\n",
       "      <td>0</td>\n",
       "      <td>0</td>\n",
       "    </tr>\n",
       "    <tr>\n",
       "      <th>3</th>\n",
       "      <td>33</td>\n",
       "      <td>0</td>\n",
       "      <td>1</td>\n",
       "      <td>820</td>\n",
       "      <td>1</td>\n",
       "      <td>2</td>\n",
       "      <td>3</td>\n",
       "      <td>1</td>\n",
       "      <td>0</td>\n",
       "      <td>3</td>\n",
       "      <td>...</td>\n",
       "      <td>2</td>\n",
       "      <td>0</td>\n",
       "      <td>0</td>\n",
       "      <td>8</td>\n",
       "      <td>3</td>\n",
       "      <td>2</td>\n",
       "      <td>8</td>\n",
       "      <td>7</td>\n",
       "      <td>3</td>\n",
       "      <td>0</td>\n",
       "    </tr>\n",
       "    <tr>\n",
       "      <th>4</th>\n",
       "      <td>27</td>\n",
       "      <td>0</td>\n",
       "      <td>2</td>\n",
       "      <td>312</td>\n",
       "      <td>1</td>\n",
       "      <td>1</td>\n",
       "      <td>0</td>\n",
       "      <td>3</td>\n",
       "      <td>0</td>\n",
       "      <td>4</td>\n",
       "      <td>...</td>\n",
       "      <td>3</td>\n",
       "      <td>0</td>\n",
       "      <td>1</td>\n",
       "      <td>6</td>\n",
       "      <td>3</td>\n",
       "      <td>2</td>\n",
       "      <td>2</td>\n",
       "      <td>2</td>\n",
       "      <td>2</td>\n",
       "      <td>2</td>\n",
       "    </tr>\n",
       "  </tbody>\n",
       "</table>\n",
       "<p>5 rows × 35 columns</p>\n",
       "</div>"
      ],
      "text/plain": [
       "   Age  Attrition  BusinessTravel  DailyRate  Department  DistanceFromHome  \\\n",
       "0   41          1               2        624           2                 0   \n",
       "1   49          0               1        113           1                 7   \n",
       "2   37          1               2        805           1                 1   \n",
       "3   33          0               1        820           1                 2   \n",
       "4   27          0               2        312           1                 1   \n",
       "\n",
       "   Education  EducationField  EmployeeCount  EmployeeNumber  \\\n",
       "0          1               1              0               0   \n",
       "1          0               1              0               1   \n",
       "2          1               4              0               2   \n",
       "3          3               1              0               3   \n",
       "4          0               3              0               4   \n",
       "\n",
       "           ...           RelationshipSatisfaction  StandardHours  \\\n",
       "0          ...                                  0              0   \n",
       "1          ...                                  3              0   \n",
       "2          ...                                  1              0   \n",
       "3          ...                                  2              0   \n",
       "4          ...                                  3              0   \n",
       "\n",
       "   StockOptionLevel  TotalWorkingYears  TrainingTimesLastYear  \\\n",
       "0                 0                  8                      0   \n",
       "1                 1                 10                      3   \n",
       "2                 0                  7                      3   \n",
       "3                 0                  8                      3   \n",
       "4                 1                  6                      3   \n",
       "\n",
       "   WorkLifeBalance  YearsAtCompany  YearsInCurrentRole  \\\n",
       "0                0               6                   4   \n",
       "1                2              10                   7   \n",
       "2                2               0                   0   \n",
       "3                2               8                   7   \n",
       "4                2               2                   2   \n",
       "\n",
       "   YearsSinceLastPromotion  YearsWithCurrManager  \n",
       "0                        0                     5  \n",
       "1                        1                     7  \n",
       "2                        0                     0  \n",
       "3                        3                     0  \n",
       "4                        2                     2  \n",
       "\n",
       "[5 rows x 35 columns]"
      ]
     },
     "execution_count": 4,
     "metadata": {},
     "output_type": "execute_result"
    }
   ],
   "source": [
    "attrition_encoded = attrition.iloc[:,1:].apply(LabelEncoder().fit_transform) #encoding on all except Age\n",
    "attrition =  pd.concat([attrition.iloc[:,0], attrition_encoded], axis=1, sort=False)\n",
    "attrition.head()"
   ]
  },
  {
   "cell_type": "code",
   "execution_count": null,
   "metadata": {},
   "outputs": [],
   "source": []
  },
  {
   "cell_type": "code",
   "execution_count": 5,
   "metadata": {},
   "outputs": [],
   "source": [
    "full_cols = ['Age', 'Attrition', 'BusinessTravel', 'DailyRate', 'Department',\n",
    "       'DistanceFromHome', 'Education', 'EducationField', 'EmployeeCount',\n",
    "       'EmployeeNumber', 'EnvironmentSatisfaction', 'Gender', 'HourlyRate',\n",
    "       'JobInvolvement', 'JobLevel', 'JobRole', 'JobSatisfaction',\n",
    "       'MaritalStatus', 'MonthlyIncome', 'MonthlyRate', 'NumCompaniesWorked',\n",
    "       'Over18', 'OverTime', 'PercentSalaryHike', 'PerformanceRating',\n",
    "       'RelationshipSatisfaction', 'StandardHours', 'StockOptionLevel',\n",
    "       'TotalWorkingYears', 'TrainingTimesLastYear', 'WorkLifeBalance',\n",
    "       'YearsAtCompany', 'YearsInCurrentRole', 'YearsSinceLastPromotion',\n",
    "       'YearsWithCurrManager']"
   ]
  },
  {
   "cell_type": "code",
   "execution_count": 6,
   "metadata": {},
   "outputs": [],
   "source": [
    "def privacy_apriori_analysis(full_cols):\n",
    "    print(\"<=0.5 implies COMPLETE PRIVACY\\n>0.5 implies PRIVACY VIOLATING ATTRIBUTE\")\n",
    "    fset_80 = [] #With value greater than 0.80\n",
    "    fset_50 = [] #with value greater than 0.5 but less than 80\n",
    "    fset_low = [] \n",
    "    for i in range(len(full_cols)):\n",
    "        cols = full_cols[i]\n",
    "        cols = [cols] + ['YearsWithCurrManager']\n",
    "        count = pdistcompute(attrition,cols)\n",
    "        if ((full_cols[i] != 'YearsWithCurrManager') & (np.sum(count) != 0)):\n",
    "            #YearsWithCurrManager is used as reference and ignored for analysis \n",
    "            #count = 0 implies all same values for col \n",
    "            #print(full_cols[i] + str(\":\\t\") + str(count[0]/sum(count)))\n",
    "            if (count[0]/sum(count) >= 0.8):\n",
    "                fset_80.append(full_cols[i])\n",
    "            if ((count[0]/sum(count) < 0.8) & (count[0]/sum(count) >=0.5)):\n",
    "                fset_50.append(full_cols[i])\n",
    "            if ((count[0]/sum(count) < 0.5)):\n",
    "                fset_low.append(full_cols[i])\n",
    "    return(fset_80,fset_50,fset_low)"
   ]
  },
  {
   "cell_type": "code",
   "execution_count": 7,
   "metadata": {},
   "outputs": [
    {
     "name": "stdout",
     "output_type": "stream",
     "text": [
      "<=0.5 implies COMPLETE PRIVACY\n",
      ">0.5 implies PRIVACY VIOLATING ATTRIBUTE\n"
     ]
    },
    {
     "data": {
      "image/png": "[encoded data removed]",
      "text/plain": [
       "<Figure size 432x288 with 1 Axes>"
      ]
     },
     "metadata": {
      "needs_background": "light"
     },
     "output_type": "display_data"
    }
   ],
   "source": [
    "private_attr = [] #Contains all list of private attributes \n",
    "fset_80, fset_50,fset_low = privacy_apriori_analysis(full_cols)\n",
    "fset_80 #first set of privacy violating attributes\n",
    "private_attr = fset_80"
   ]
  },
  {
   "cell_type": "code",
   "execution_count": 15,
   "metadata": {},
   "outputs": [
    {
     "data": {
      "text/plain": [
       "['Age',\n",
       " 'DailyRate',\n",
       " 'EmployeeNumber',\n",
       " 'HourlyRate',\n",
       " 'MonthlyIncome',\n",
       " 'MonthlyRate',\n",
       " 'TotalWorkingYears',\n",
       " 'YearsAtCompany',\n",
       " 'TrainingTimesLastYear']"
      ]
     },
     "execution_count": 15,
     "metadata": {},
     "output_type": "execute_result"
    }
   ],
   "source": [
    "fset_80"
   ]
  },
  {
   "cell_type": "code",
   "execution_count": 8,
   "metadata": {},
   "outputs": [
    {
     "data": {
      "text/plain": [
       "['Department',\n",
       " 'Gender',\n",
       " 'JobLevel',\n",
       " 'MaritalStatus',\n",
       " 'OverTime',\n",
       " 'PerformanceRating',\n",
       " 'StockOptionLevel',\n",
       " 'TotalWorkingYears',\n",
       " 'YearsAtCompany',\n",
       " 'YearsInCurrentRole']"
      ]
     },
     "execution_count": 8,
     "metadata": {},
     "output_type": "execute_result"
    }
   ],
   "source": [
    "fset_50 #second set of quasi identifiers "
   ]
  },
  {
   "cell_type": "code",
   "execution_count": 11,
   "metadata": {},
   "outputs": [
    {
     "data": {
      "text/plain": [
       "['Attrition',\n",
       " 'BusinessTravel',\n",
       " 'DistanceFromHome',\n",
       " 'Education',\n",
       " 'EducationField',\n",
       " 'EnvironmentSatisfaction',\n",
       " 'JobInvolvement',\n",
       " 'JobRole',\n",
       " 'JobSatisfaction',\n",
       " 'NumCompaniesWorked',\n",
       " 'PercentSalaryHike',\n",
       " 'RelationshipSatisfaction',\n",
       " 'TrainingTimesLastYear',\n",
       " 'WorkLifeBalance',\n",
       " 'YearsSinceLastPromotion']"
      ]
     },
     "execution_count": 11,
     "metadata": {},
     "output_type": "execute_result"
    }
   ],
   "source": [
    "fset_low #Lower risk variables "
   ]
  },
  {
   "cell_type": "code",
   "execution_count": 12,
   "metadata": {},
   "outputs": [
    {
     "name": "stdout",
     "output_type": "stream",
     "text": [
      "TotalWorkingYears\n",
      "YearsAtCompany\n"
     ]
    },
    {
     "data": {
      "image/png": "[encoded data removed]",
      "text/plain": [
       "<Figure size 432x288 with 1 Axes>"
      ]
     },
     "metadata": {
      "needs_background": "light"
     },
     "output_type": "display_data"
    }
   ],
   "source": [
    "def privacy_attr_apriori_2(attrition, fset_50,fset):\n",
    "    #fset -> fset_50 or fset_low\n",
    "    second_list = [];\n",
    "    for i in range(len(fset_50)): \n",
    "        for j in range(len(fset)):\n",
    "            if (fset_50[i] != fset[j]):\n",
    "                cols = [fset_50[i]] + [fset[j]]\n",
    "                count = pdistcompute(attrition,cols)\n",
    "                #print(set(cols)) \n",
    "                if (count[0]/sum(count) > 0.75):\n",
    "                    #print(cols, str(count[0]/sum(count)))\n",
    "                    second_list.append(cols[1])\n",
    "    return(second_list)\n",
    "\n",
    "#CHANGE THIS FUNCTION TO PRINT TOP FIVE\n",
    "def most_common(lst):\n",
    "    return max(set(lst), key=lst.count)\n",
    "\n",
    "#Removing Quasi identifiers \n",
    "second_list = privacy_attr_apriori_2(attrition, fset_50,fset_50)\n",
    "print(most_common(second_list)) \n",
    "private_attr.append(most_common(second_list)) #Contains all list of private attributes\n",
    "fset_50.remove(most_common(second_list))\n",
    "\n",
    "second_list = privacy_attr_apriori_2(attrition, fset_50,fset_50)\n",
    "print(most_common(second_list)) \n",
    "private_attr.append(most_common(second_list)) #Contains all list of private attributes\n",
    "fset_50.remove(most_common(second_list))"
   ]
  },
  {
   "cell_type": "code",
   "execution_count": 13,
   "metadata": {},
   "outputs": [
    {
     "name": "stdout",
     "output_type": "stream",
     "text": [
      "TrainingTimesLastYear\n"
     ]
    },
    {
     "data": {
      "image/png": "[encoded data removed]",
      "text/plain": [
       "<Figure size 432x288 with 1 Axes>"
      ]
     },
     "metadata": {
      "needs_background": "light"
     },
     "output_type": "display_data"
    }
   ],
   "source": [
    "third_list = privacy_attr_apriori_2(attrition, fset_50,fset_low)\n",
    "print(most_common(third_list))\n",
    "private_attr.append(most_common(third_list)) "
   ]
  },
  {
   "cell_type": "code",
   "execution_count": 14,
   "metadata": {},
   "outputs": [
    {
     "data": {
      "text/plain": [
       "['Age',\n",
       " 'DailyRate',\n",
       " 'EmployeeNumber',\n",
       " 'HourlyRate',\n",
       " 'MonthlyIncome',\n",
       " 'MonthlyRate',\n",
       " 'TotalWorkingYears',\n",
       " 'YearsAtCompany',\n",
       " 'TrainingTimesLastYear']"
      ]
     },
     "execution_count": 14,
     "metadata": {},
     "output_type": "execute_result"
    }
   ],
   "source": [
    "private_attr #First metric Using frequent mining "
   ]
  },
  {
   "cell_type": "code",
   "execution_count": 98,
   "metadata": {},
   "outputs": [
    {
     "data": {
      "text/plain": [
       "['EmployeeNumber',\n",
       " 'MonthlyRate',\n",
       " 'MonthlyIncome',\n",
       " 'DailyRate',\n",
       " 'HourlyRate',\n",
       " 'Age',\n",
       " 'TotalWorkingYears',\n",
       " 'YearsAtCompany',\n",
       " 'DistanceFromHome']"
      ]
     },
     "execution_count": 98,
     "metadata": {},
     "output_type": "execute_result"
    }
   ],
   "source": [
    "#Second Metric - unique_attr \n",
    "def unique_feat(attrition,cols):\n",
    "    attrition = attrition[cols]\n",
    "    return(len(np.unique(attrition)))\n",
    "\n",
    "ulst = {} #dictionary containing col name and values\n",
    "for i in range(len(full_cols)):\n",
    "    cols = full_cols[i]\n",
    "    ulst[cols] =  len(attrition)/unique_feat(attrition,cols)\n",
    "\n",
    "import operator\n",
    "sorted_ulst = sorted(ulst.items(), key=operator.itemgetter(1))\n",
    "#print(\"Attributes, Average Group Size\")\n",
    "unique_attr = []\n",
    "for k,v in sorted_ulst:\n",
    "    if v < 55: \n",
    "        #print(k,v) \n",
    "        unique_attr.append(k)\n",
    "\n",
    "unique_attr"
   ]
  },
  {
   "cell_type": "code",
   "execution_count": 31,
   "metadata": {},
   "outputs": [
    {
     "name": "stdout",
     "output_type": "stream",
     "text": [
      "4\n"
     ]
    }
   ],
   "source": [
    "#Uniqueness fails to look for uniqueness within an attribute \n",
    "#Third Metric - Finding uniqueness within an attribute - in imbalanced dataset \n",
    "df = attrition.groupby('Age')['Age'].count()\n",
    "print (df.min())"
   ]
  },
  {
   "cell_type": "code",
   "execution_count": 117,
   "metadata": {},
   "outputs": [
    {
     "name": "stdout",
     "output_type": "stream",
     "text": [
      "Age:4\n",
      "Attrition:237\n",
      "BusinessTravel:150\n",
      "DailyRate:1\n",
      "Department:63\n",
      "DistanceFromHome:12\n",
      "Education:48\n",
      "EducationField:27\n",
      "EmployeeCount:1470\n",
      "EmployeeNumber:1\n",
      "EnvironmentSatisfaction:284\n",
      "Gender:588\n",
      "HourlyRate:12\n",
      "JobInvolvement:83\n",
      "JobLevel:69\n",
      "JobRole:52\n",
      "JobSatisfaction:280\n",
      "MaritalStatus:327\n",
      "MonthlyIncome:1\n",
      "MonthlyRate:1\n",
      "NumCompaniesWorked:49\n",
      "Over18:1470\n",
      "OverTime:416\n",
      "PercentSalaryHike:18\n",
      "PerformanceRating:226\n",
      "RelationshipSatisfaction:276\n",
      "StandardHours:1470\n",
      "StockOptionLevel:85\n",
      "TotalWorkingYears:1\n",
      "TrainingTimesLastYear:54\n",
      "WorkLifeBalance:80\n",
      "YearsAtCompany:1\n",
      "YearsInCurrentRole:2\n",
      "YearsSinceLastPromotion:6\n",
      "YearsWithCurrManager:2\n"
     ]
    },
    {
     "data": {
      "text/plain": [
       "['Age',\n",
       " 'YearsInCurrentRole',\n",
       " 'YearsWithCurrManager',\n",
       " 'DailyRate',\n",
       " 'EmployeeNumber',\n",
       " 'MonthlyIncome',\n",
       " 'MonthlyRate',\n",
       " 'TotalWorkingYears',\n",
       " 'YearsAtCompany']"
      ]
     },
     "execution_count": 117,
     "metadata": {},
     "output_type": "execute_result"
    }
   ],
   "source": [
    "alst = {}\n",
    "for i in range(len(full_cols)):\n",
    "    cols = full_cols[i]\n",
    "    mval = (attrition.groupby(cols)[cols].count()).min()\n",
    "    print(cols + str(':') + str(mval))\n",
    "    alst[cols] =  1/mval\n",
    "\n",
    "sorted_alst = sorted(alst.items(), key=operator.itemgetter(1))\n",
    "#print(\"Attributes, Average Group Size\")\n",
    "imbalance_attr = []\n",
    "threshold = 0.2 #(1 in 20 records)\n",
    "for k,v in sorted_alst:\n",
    "    if v > threshold: \n",
    "        #print(k,v) \n",
    "        imbalance_attr.append(k)\n",
    "imbalance_attr"
   ]
  },
  {
   "cell_type": "code",
   "execution_count": 115,
   "metadata": {},
   "outputs": [
    {
     "name": "stdout",
     "output_type": "stream",
     "text": [
      "[('HourlyRate', 21), ('YearsSinceLastPromotion', 21), ('DistanceFromHome', 17), ('PercentSalaryHike', 14), ('NumCompaniesWorked', 10), ('TrainingTimesLastYear', 10), ('EducationField', 8), ('JobLevel', 8), ('JobRole', 8), ('Education', 7), ('WorkLifeBalance', 7), ('Department', 6), ('JobInvolvement', 4), ('StockOptionLevel', 4), ('Attrition', 3), ('BusinessTravel', 3), ('JobSatisfaction', 3), ('PerformanceRating', 3), ('RelationshipSatisfaction', 3), ('EnvironmentSatisfaction', 2), ('MaritalStatus', 2), ('OverTime', 2)]\n"
     ]
    },
    {
     "data": {
      "text/plain": [
       "['HourlyRate',\n",
       " 'YearsSinceLastPromotion',\n",
       " 'DistanceFromHome',\n",
       " 'PercentSalaryHike',\n",
       " 'NumCompaniesWorked']"
      ]
     },
     "execution_count": 115,
     "metadata": {},
     "output_type": "execute_result"
    }
   ],
   "source": [
    "clst = {}\n",
    "threshold = 0.95 #(1 in 10 records)\n",
    "for i in range(len(full_cols)):\n",
    "    for j in range(len(full_cols)):\n",
    "        if full_cols[i] not in imbalance_attr:\n",
    "            if full_cols[j] not in imbalance_attr:\n",
    "                if full_cols[i] != full_cols[j]:\n",
    "                    cols = [full_cols[i]] + [full_cols[j]]\n",
    "                    mval = (attrition.groupby(cols)[cols].count()).min()\n",
    "                    value = 1/mval[0]\n",
    "                    if value > threshold:\n",
    "                        #print(str(cols) + str(value))\n",
    "                        if cols[0] not in clst.keys():\n",
    "                            clst[cols[0]] = 1\n",
    "                        else: \n",
    "                            clst[cols[0]] = clst[cols[0]] + 1\n",
    "sorted_clst = sorted(clst.items(), key=operator.itemgetter(1), reverse=True)\n",
    "print(sorted_clst)\n",
    "second_attr = []\n",
    "count = 0\n",
    "for k, v in sorted_clst:\n",
    "    if count < 5:\n",
    "        second_attr.append(k)\n",
    "        count = count + 1; \n",
    "\n",
    "    else: \n",
    "        break;\n",
    "second_attr"
   ]
  },
  {
   "cell_type": "markdown",
   "metadata": {},
   "source": [
    "# Transformation Logic\n",
    "#Step1: Find features that can lead to better prediction - f_subset: subset of features used for task prediction \n",
    "#Step2: pdistcompute on dataframe(f_subset) to find unique ones that can be used to distinguish users \n",
    "#@ADVERSARY: semi-honest adversary who uses all insider knowledge to learn aout user private information; \n",
    "#@ADVERSARY: One who is knowledgable about data preparation  \n",
    "\n",
    "#Objective 1: Protect identified sensitive attributes (Age,Distance) so @ADVERSARY cannot de-identify individual \n",
    "#These attributes are ones that can be used by adversary to identify individuals using age, gender, location (PUBLIC). \n",
    "#Using DE-IDENTIFICATION, PRIVATE information such as monthly income, monthly rate, daily rate, percent salary hike, performance rating etc...\n",
    "#Protect deidentification using PUBLIC attributes which will protect PRIVATE attributes \n",
    "\n",
    "#Objective 2: Protect sensitive hidden inferences from published data - a case where same data can be used \n",
    "#to make multiple classes - using attrition data to predict suicide \n"
   ]
  },
  {
   "cell_type": "code",
   "execution_count": 183,
   "metadata": {},
   "outputs": [],
   "source": [
    "from sklearn.model_selection import train_test_split\n",
    "#Step 1 using a classifier to predict attrition from input data \n",
    "feat = ['Age', 'BusinessTravel', 'DailyRate', 'Department',\n",
    "       'DistanceFromHome', 'Education', 'EducationField', 'EmployeeCount',\n",
    "       'EmployeeNumber', 'EnvironmentSatisfaction', 'Gender', 'HourlyRate',\n",
    "       'JobInvolvement', 'JobLevel', 'JobRole', 'JobSatisfaction',\n",
    "       'MaritalStatus', 'MonthlyIncome', 'MonthlyRate', 'NumCompaniesWorked',\n",
    "       'Over18', 'OverTime', 'PercentSalaryHike', 'PerformanceRating',\n",
    "       'RelationshipSatisfaction', 'StandardHours', 'StockOptionLevel',\n",
    "       'TotalWorkingYears', 'TrainingTimesLastYear', 'WorkLifeBalance',\n",
    "       'YearsAtCompany', 'YearsInCurrentRole', 'YearsSinceLastPromotion',\n",
    "       'YearsWithCurrManager']\n",
    "\n",
    "label = ['Attrition']\n",
    "X = attrition[feat]\n",
    "y = attrition[label]\n",
    "\n",
    "# Split dataset into training set and test set\n",
    "X_train, X_test, y_train, y_test = train_test_split(X, y, test_size=0.2) # 80% training and 30% test"
   ]
  },
  {
   "cell_type": "code",
   "execution_count": 186,
   "metadata": {},
   "outputs": [
    {
     "name": "stdout",
     "output_type": "stream",
     "text": [
      "(1176, 25) (1176, 1)\n",
      "(294, 25) (294, 1)\n"
     ]
    }
   ],
   "source": [
    "PRIVACY_FLAG = 1\n",
    "if PRIVACY_FLAG == 1:\n",
    "    for ele in private_attr: \n",
    "        feat.remove(ele)\n",
    "        X_train = X_train[feat]\n",
    "        X_test = X_test[feat]\n",
    "print(X_train.shape, y_train.shape)\n",
    "print(X_test.shape, y_test.shape)"
   ]
  },
  {
   "cell_type": "code",
   "execution_count": 187,
   "metadata": {},
   "outputs": [
    {
     "name": "stdout",
     "output_type": "stream",
     "text": [
      "Accuracy: 0.9013605442176871\n"
     ]
    },
    {
     "data": {
      "image/png": "[encoded data removed]",
      "text/plain": [
       "<Figure size 432x288 with 1 Axes>"
      ]
     },
     "metadata": {
      "needs_background": "light"
     },
     "output_type": "display_data"
    }
   ],
   "source": [
    "#Import Random Forest Model\n",
    "from sklearn.ensemble import RandomForestClassifier\n",
    "#Create a Gaussian Classifier\n",
    "clf=RandomForestClassifier(n_estimators=100)\n",
    "#Train the model using the training sets y_pred=clf.predict(X_test)\n",
    "clf.fit(X_train,y_train)\n",
    "y_pred=clf.predict(X_test)\n",
    "#Import scikit-learn metrics module for accuracy calculation\n",
    "from sklearn import metrics\n",
    "# Model Accuracy, how often is the classifier correct?\n",
    "print(\"Accuracy:\",metrics.accuracy_score(y_test, y_pred))\n",
    "plt.barh(feat,clf.feature_importances_)\n",
    "plt.yticks(fontsize=7)\n",
    "plt.tight_layout()"
   ]
  },
  {
   "cell_type": "code",
   "execution_count": null,
   "metadata": {},
   "outputs": [],
   "source": []
  }
 ],
 "metadata": {
  "kernelspec": {
   "display_name": "Python 3",
   "language": "python",
   "name": "python3"
  },
  "language_info": {
   "codemirror_mode": {
    "name": "ipython",
    "version": 3
   },
   "file_extension": ".py",
   "mimetype": "text/x-python",
   "name": "python",
   "nbconvert_exporter": "python",
   "pygments_lexer": "ipython3",
   "version": "3.7.4"
  }
 },
 "nbformat": 4,
 "nbformat_minor": 2
}
