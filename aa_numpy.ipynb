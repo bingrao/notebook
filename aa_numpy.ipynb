{
 "cells": [
  {
   "cell_type": "markdown",
   "metadata": {},
   "source": [
    "This version is implemented based on Sage Math software"
   ]
  },
  {
   "cell_type": "code",
   "execution_count": 4,
   "metadata": {},
   "outputs": [],
   "source": [
    "import logging\n",
    "import numpy as np\n",
    "from functools import reduce\n",
    "import numpy as np\n",
    "logging.basicConfig(level=logging.DEBUG)\n",
    "\n",
    "p=random_prime(2^12)\n",
    "Zp = GF(p)  # Finite Field of size 67"
   ]
  },
  {
   "cell_type": "code",
   "execution_count": null,
   "metadata": {},
   "outputs": [],
   "source": []
  },
  {
   "cell_type": "code",
   "execution_count": 5,
   "metadata": {},
   "outputs": [],
   "source": [
    "def get_random_prime_integer(bounds):\n",
    "    for i in range(bounds.__len__() - 1):\n",
    "        if bounds[i + 1] > bounds[i]:\n",
    "            x = bounds[i] + np.random.randint(bounds[i + 1] - bounds[i])\n",
    "            if is_prime(x):\n",
    "                return x\n",
    "        else:\n",
    "            if is_prime(bounds[i]):\n",
    "                return bounds[i]\n",
    "\n",
    "        if is_prime(bounds[i + 1]):\n",
    "            return bounds[i + 1]\n",
    "\n",
    "    newBounds = [0 for i in range(2 * bounds.__len__() - 1)]\n",
    "    newBounds[0] = bounds[0]\n",
    "    for i in range(1, bounds.__len__()):\n",
    "        newBounds[2 * i - 1] = int((bounds[i - 1] + bounds[i]) / 2)\n",
    "        newBounds[2 * i] = bounds[i]\n",
    "\n",
    "    return get_random_prime_integer(newBounds)\n",
    "\n",
    "\n",
    "def is_prime(x):\n",
    "    count = 0\n",
    "    for i in range(int(x / 2)):\n",
    "        if x % (i + 1) == 0:\n",
    "            count = count + 1\n",
    "    return count == 1\n",
    "\n",
    "def generate_random_prime(min=1, max=100, nums=10):\n",
    "    numbers = []\n",
    "    for i in range(nums):\n",
    "        numbers.append(get_random_prime_integer([min, max]))\n",
    "    return np.array(numbers)"
   ]
  },
  {
   "cell_type": "code",
   "execution_count": 6,
   "metadata": {},
   "outputs": [
    {
     "data": {
      "text/plain": [
       "array([41, 37,  7, 43, 59, 13, 43, 19, 29, 41])"
      ]
     },
     "execution_count": 6,
     "metadata": {},
     "output_type": "execute_result"
    }
   ],
   "source": [
    "generate_random_prime(nums=10)"
   ]
  },
  {
   "cell_type": "code",
   "execution_count": null,
   "metadata": {},
   "outputs": [],
   "source": []
  },
  {
   "cell_type": "code",
   "execution_count": 7,
   "metadata": {},
   "outputs": [],
   "source": [
    "# to store vectorlist for mapping from alphabet to vectors\n",
    "vectorlist = matrix(53)\n",
    "alphabetlist='ABCDEFGHIJKLMNOPQRSTUVWXYZabcdefghijklmnopqrstuvwxyz '\n",
    "for i in range(53):\n",
    "   vectorlist[i,i] = 1\n",
    "\n",
    "#input: alphabet\n",
    "#ouput: vector\n",
    "#53 symbols to vectors. a-z,A-Z,and blank.\n",
    "def MapAlphabetToVector(x):\n",
    "    i=alphabetlist.index(x)\n",
    "    return vectorlist[i]"
   ]
  },
  {
   "cell_type": "code",
   "execution_count": 8,
   "metadata": {},
   "outputs": [],
   "source": [
    "#find a number in a list\n",
    "#not find, return -1\n",
    "def FindinList(tem, lxs):\n",
    "    lenlist=len(lxs)\n",
    "    ret=-1\n",
    "    for x in range(lenlist):\n",
    "        if lxs[x]==tem:\n",
    "            ret=x\n",
    "            break\n",
    "    return ret"
   ]
  },
  {
   "cell_type": "code",
   "execution_count": 9,
   "metadata": {},
   "outputs": [],
   "source": [
    "#generate n randome numbers, not repeated\n",
    "def GenR(n, Zp):\n",
    "    l_xs=[]\n",
    "    tem = Zp.random_element() # Get next primary number in FP\n",
    "    while tem == 0:\n",
    "        tem = Zp.random_element()\n",
    "    l_xs.append(tem)\n",
    "    while len(l_xs) < n:\n",
    "        tem = Zp.random_element()\n",
    "        while tem==0:\n",
    "            tem = Zp.random_element()\n",
    "        if FindinList(tem,l_xs)<0:\n",
    "            l_xs.append(tem)\n",
    "    return l_xs\n"
   ]
  },
  {
   "cell_type": "code",
   "execution_count": 24,
   "metadata": {},
   "outputs": [],
   "source": [
    "#input:prime number, order\n",
    "#output a efficiency list of a polynomial\n",
    "def GenPolynomial(p, n_Polynomialorder):\n",
    "    Zp = GF(p)\n",
    "    n_efficiency = []\n",
    "    for i in range(n_Polynomialorder + 1):\n",
    "        n_efficiency.append(Zp.random_element())\n",
    "    return n_efficiency"
   ]
  },
  {
   "cell_type": "code",
   "execution_count": 27,
   "metadata": {},
   "outputs": [
    {
     "data": {
      "text/plain": [
       "[9, 39, 9, 28]"
      ]
     },
     "execution_count": 27,
     "metadata": {},
     "output_type": "execute_result"
    }
   ],
   "source": [
    "GenPolynomial(p, 3)"
   ]
  },
  {
   "cell_type": "code",
   "execution_count": null,
   "metadata": {},
   "outputs": [],
   "source": []
  },
  {
   "cell_type": "code",
   "execution_count": 18,
   "metadata": {},
   "outputs": [],
   "source": [
    "#input: order, efficiency, xvlaues\n",
    "#output: Result\n",
    "def EvalPolynomial(n_Polynomialorder, n_efficiency, xvlaues):\n",
    "    result=0\n",
    "    for i in range(n_Polynomialorder + 1):\n",
    "        result=result + n_efficiency[i] * xvlaues^i\n",
    "    return result"
   ]
  },
  {
   "cell_type": "code",
   "execution_count": 19,
   "metadata": {},
   "outputs": [],
   "source": [
    "# Create a secret y among n_clounds with polynomial degree n_order\n",
    "def secretshare(y, n_clouds, n_order, l_xs):\n",
    "    shares = []\n",
    "    f_poly = GenPolynomial(p, n_order)\n",
    "    f_poly[0] = y\n",
    "    for x in range(n_clouds):\n",
    "        resultValue = EvalPolynomial(n_order, f_poly, l_xs[x])\n",
    "        shares.append(resultValue)\n",
    "    return shares"
   ]
  },
  {
   "cell_type": "code",
   "execution_count": 20,
   "metadata": {},
   "outputs": [],
   "source": [
    "def interpolate(x_values, y_values, x=0):\n",
    "    def _basis(j):\n",
    "        p = [(x - x_values[m]) / (x_values[j] - x_values[m]) for m in range(k) if m != j]\n",
    "        return reduce(np.multiply, p)\n",
    "\n",
    "    assert len(x_values) != 0 and (len(x_values) == len(y_values)), \\\n",
    "        \"x and y cannot be empty and must have the same length\"\n",
    "    k = len(x_values)\n",
    "    return sum(_basis(j) * y_values[j] for j in range(k))"
   ]
  },
  {
   "cell_type": "code",
   "execution_count": 21,
   "metadata": {},
   "outputs": [
    {
     "name": "stderr",
     "output_type": "stream",
     "text": [
      "INFO:root:main program\n",
      "\n",
      "INFO:root:----------------------------------------------------------------------\n"
     ]
    }
   ],
   "source": [
    "logging.info('main program\\n')\n",
    "logging.info('----------------------------------------------------------------------')\n",
    "# main program"
   ]
  },
  {
   "cell_type": "code",
   "execution_count": 22,
   "metadata": {},
   "outputs": [
    {
     "name": "stderr",
     "output_type": "stream",
     "text": [
      "INFO:root:The finite filed we are using: Zp=Finite Field of size 59\n",
      "INFO:root:cloud numbers: 10\n",
      "INFO:root:x values for each cloud: [28, 58, 47, 1, 7, 10, 49, 23, 56, 19]\n"
     ]
    }
   ],
   "source": [
    "# number of clouds\n",
    "n_clouds=10\n",
    "# genearte n_clouds x values for each cloud as an identification of an clound\n",
    "l_xs=[]\n",
    "l_xs=GenR(n_clouds, Zp)\n",
    "logging.info(f\"The finite filed we are using: Zp={Zp}\")\n",
    "logging.info(f\"cloud numbers: {len(l_xs)}\")\n",
    "logging.info(f\"x values for each cloud: {l_xs}\")"
   ]
  },
  {
   "cell_type": "code",
   "execution_count": 23,
   "metadata": {},
   "outputs": [
    {
     "name": "stderr",
     "output_type": "stream",
     "text": [
      "INFO:root:file stream to be searched: Alice Love Bob and Bob Love too\n"
     ]
    }
   ],
   "source": [
    "# input one file to share\n",
    "FiletoBestored='Alice Love Bob and Bob Love too'.strip()\n",
    "logging.info(f\"file stream to be searched: {FiletoBestored}\")\n",
    "# Map FiletoBestored to VectorList\n",
    "vector=[]\n",
    "\n",
    "# for temporary store vector\n",
    "l_Filshares=[]\n",
    "# for one file in one cloud, one row for one cloud. (for example 10 clouds)\n",
    "# in each row, every cell for one alphabet (for example each cell consists of 53 elements)\n",
    "\n",
    "for x in range(n_clouds):\n",
    "    l_Filshares.append([])"
   ]
  },
  {
   "cell_type": "code",
   "execution_count": 18,
   "metadata": {},
   "outputs": [
    {
     "data": {
      "text/plain": [
       "[307, 653, 162, 611, 2209, 2029, 2156, 576, 1341, 1374]"
      ]
     },
     "execution_count": 18,
     "metadata": {},
     "output_type": "execute_result"
    }
   ],
   "source": [
    "shares=secretshare(1, n_clouds, 1, l_xs)  # one degree sharing, so we need 1 here.\n",
    "shares"
   ]
  },
  {
   "cell_type": "code",
   "execution_count": null,
   "metadata": {},
   "outputs": [],
   "source": []
  },
  {
   "cell_type": "code",
   "execution_count": 19,
   "metadata": {},
   "outputs": [
    {
     "name": "stderr",
     "output_type": "stream",
     "text": [
      "INFO:root:The char [A] --> (1, 0, 0, 0, 0, 0, 0, 0, 0, 0, 0, 0, 0, 0, 0, 0, 0, 0, 0, 0, 0, 0, 0, 0, 0, 0, 0, 0, 0, 0, 0, 0, 0, 0, 0, 0, 0, 0, 0, 0, 0, 0, 0, 0, 0, 0, 0, 0, 0, 0, 0, 0, 0)\n"
     ]
    }
   ],
   "source": [
    "x = FiletoBestored[0]\n",
    "vector=MapAlphabetToVector(x) # Get a vector representation for a char x\n",
    "logging.info(f\"The char [{x}] --> {vector}\")"
   ]
  },
  {
   "cell_type": "code",
   "execution_count": 20,
   "metadata": {},
   "outputs": [
    {
     "data": {
      "text/plain": [
       "[[], [], [], [], [], [], [], [], [], []]"
      ]
     },
     "execution_count": 20,
     "metadata": {},
     "output_type": "execute_result"
    }
   ],
   "source": [
    "l_y_vectorshares=[] # for one vector,or for one symbol\n",
    "for xx in range(n_clouds):\n",
    "    l_y_vectorshares.append([])\n",
    "l_y_vectorshares"
   ]
  },
  {
   "cell_type": "code",
   "execution_count": 21,
   "metadata": {},
   "outputs": [],
   "source": [
    "# for xx in range(n_clouds):\n",
    "#     l_y_vectorshares[xx].append(shares[xx])\n",
    "# l_y_vectorshares"
   ]
  },
  {
   "cell_type": "code",
   "execution_count": 22,
   "metadata": {},
   "outputs": [],
   "source": [
    "for x in FiletoBestored:\n",
    "    vector=MapAlphabetToVector(x) # Get a vector representation for a char x\n",
    "\n",
    "    #secret share each vector\n",
    "    l_y_vectorshares=[] # for one vector,or for one symbol\n",
    "    for xx in range(n_clouds):\n",
    "        l_y_vectorshares.append([])\n",
    "\n",
    "    shares=[]  #for one element (0 or 1)\n",
    "    for y in vector:\n",
    "        shares=secretshare(y, n_clouds, 1, l_xs)  # one degree sharing, so we need 1 here.\n",
    "        for xx in range(n_clouds):\n",
    "            l_y_vectorshares[xx].append(shares[xx])\n",
    "    \n",
    "    # send to clouds\n",
    "    # transfer data in l_y_vectorshares to l_Filshares\n",
    "    for xx in range(n_clouds):\n",
    "        l_Filshares[xx].append(l_y_vectorshares[xx])\n"
   ]
  },
  {
   "cell_type": "code",
   "execution_count": 23,
   "metadata": {},
   "outputs": [
    {
     "name": "stderr",
     "output_type": "stream",
     "text": [
      "INFO:root:len(l_Filshares) = 10, len(l_Filshares[0]) = 31 , len(l_Filshares[0][0]) = 53\n",
      "INFO:root:l_Filshares[0][0]: [487, 829, 665, 2363, 1263, 2293, 443, 992, 440, 1225, 1886, 1160, 2165, 46, 1443, 786, 1239, 1611, 1174, 2054, 1334, 1155, 2306, 1738, 674, 445, 658, 252, 1490, 2231, 1398, 1000, 1810, 2322, 329, 471, 2, 792, 1279, 2227, 810, 2012, 285, 508, 31, 46, 282, 933, 2297, 1875, 1478, 2002, 2095]\n"
     ]
    }
   ],
   "source": [
    "logging.info(f\"len(l_Filshares) = {len(l_Filshares)}, len(l_Filshares[0]) = {len(l_Filshares[0])} , len(l_Filshares[0][0]) = {len(l_Filshares[0][0])}\")\n",
    "\n",
    "logging.info(f\"l_Filshares[0][0]: {l_Filshares[0][0]}\")"
   ]
  },
  {
   "cell_type": "code",
   "execution_count": 24,
   "metadata": {},
   "outputs": [
    {
     "name": "stderr",
     "output_type": "stream",
     "text": [
      "INFO:root:distribute file ending...\n",
      "INFO:root:-----------------------------------\n"
     ]
    }
   ],
   "source": [
    "logging.info('distribute file ending...')\n",
    "logging.info('-----------------------------------')"
   ]
  },
  {
   "cell_type": "code",
   "execution_count": 25,
   "metadata": {},
   "outputs": [
    {
     "name": "stderr",
     "output_type": "stream",
     "text": [
      "INFO:root:Generate AA now\n"
     ]
    }
   ],
   "source": [
    "logging.info('Generate AA now')\n",
    "\n",
    "n_node=5\n",
    "l_Node=[]\n",
    "l_NodesharesforC=[]\n",
    "for i in range(n_node):\n",
    "    l_Node.append(0)"
   ]
  },
  {
   "cell_type": "code",
   "execution_count": 26,
   "metadata": {},
   "outputs": [
    {
     "data": {
      "text/plain": [
       "[0, 0, 0, 0, 0]"
      ]
     },
     "execution_count": 26,
     "metadata": {},
     "output_type": "execute_result"
    }
   ],
   "source": [
    "l_Node"
   ]
  },
  {
   "cell_type": "code",
   "execution_count": 27,
   "metadata": {},
   "outputs": [],
   "source": [
    "# set initial value for each node\n",
    "l_Node[0]=1  #for 'L'\n",
    "l_Node[1]=0  #for 'o'\n",
    "l_Node[2]=0  #for 'v'\n",
    "l_Node[3]=0  #for 'e'\n",
    "l_Node[4]=0"
   ]
  },
  {
   "cell_type": "code",
   "execution_count": 28,
   "metadata": {},
   "outputs": [
    {
     "data": {
      "text/plain": [
       "[1, 0, 0, 0, 0]"
      ]
     },
     "execution_count": 28,
     "metadata": {},
     "output_type": "execute_result"
    }
   ],
   "source": [
    "l_Node"
   ]
  },
  {
   "cell_type": "code",
   "execution_count": 29,
   "metadata": {},
   "outputs": [],
   "source": [
    "# set positon for the word 'Love'\n",
    "n_1to2=alphabetlist.index('L') #it is 11\n",
    "n_2to3=alphabetlist.index('o') #it is 40\n",
    "n_3to4=alphabetlist.index('v') #it is 47\n",
    "n_4to5=alphabetlist.index('e') #it is 30"
   ]
  },
  {
   "cell_type": "code",
   "execution_count": 30,
   "metadata": {},
   "outputs": [
    {
     "name": "stderr",
     "output_type": "stream",
     "text": [
      "INFO:root:Index [L -> 11], [o -> 40], [v -> 47], [e -> 30]\n"
     ]
    }
   ],
   "source": [
    "logging.info(f\"Index [L -> {n_1to2}], [o -> {n_2to3}], [v -> {n_3to4}], [e -> {n_4to5}]\")"
   ]
  },
  {
   "cell_type": "code",
   "execution_count": 31,
   "metadata": {},
   "outputs": [],
   "source": [
    "#set initial cell for n_clouds clouds\n",
    "for xx in range(n_clouds):\n",
    "    l_NodesharesforC.append([])"
   ]
  },
  {
   "cell_type": "code",
   "execution_count": 32,
   "metadata": {},
   "outputs": [
    {
     "data": {
      "text/plain": [
       "[[], [], [], [], [], [], [], [], [], []]"
      ]
     },
     "execution_count": 32,
     "metadata": {},
     "output_type": "execute_result"
    }
   ],
   "source": [
    "l_NodesharesforC"
   ]
  },
  {
   "cell_type": "code",
   "execution_count": 33,
   "metadata": {},
   "outputs": [
    {
     "name": "stderr",
     "output_type": "stream",
     "text": [
      "INFO:root:Secret[1], Node[0], Shares: [2126, 229, 222, 584, 782, 1157, 1559, 1179, 320, 748]\n",
      "INFO:root:Secret[0], Node[1], Shares: [274, 215, 2188, 1024, 1006, 2110, 86, 308, 1228, 370]\n",
      "INFO:root:Secret[0], Node[2], Shares: [690, 1736, 2167, 1743, 541, 1407, 1260, 1371, 169, 1267]\n",
      "INFO:root:Secret[0], Node[3], Shares: [1951, 610, 871, 2158, 1551, 150, 1346, 757, 2267, 2129]\n",
      "INFO:root:Secret[0], Node[4], Shares: [1662, 1795, 1629, 1164, 1091, 1522, 2122, 1793, 1585, 709]\n"
     ]
    }
   ],
   "source": [
    "# secret share AA\n",
    "# each share for x cloud is stored in l_NodesharesforC[x]\n",
    "for i in range(n_node):\n",
    "    shares = secretshare(l_Node[i], n_clouds, i + 2, l_xs)\n",
    "    logging.info(f\"Secret[{l_Node[i]}], Node[{i}], Shares: {shares}\")\n",
    "    for xx in range(n_clouds):\n",
    "#         logging.info(f\"Secret[{l_Node[i]}], Cloud[{xx}], Shares: {shares[xx]}\")\n",
    "        l_NodesharesforC[xx].append(shares[xx])"
   ]
  },
  {
   "cell_type": "code",
   "execution_count": 34,
   "metadata": {},
   "outputs": [
    {
     "name": "stderr",
     "output_type": "stream",
     "text": [
      "INFO:root:len(l_NodesharesforC) = 10, len(l_NodesharesforC[0]) = 5\n",
      "INFO:root:l_NodesharesforC[0]: [2126, 274, 690, 1951, 1662]\n"
     ]
    }
   ],
   "source": [
    "logging.info(f\"len(l_NodesharesforC) = {len(l_NodesharesforC)}, len(l_NodesharesforC[0]) = {len(l_NodesharesforC[0])}\")\n",
    "\n",
    "logging.info(f\"l_NodesharesforC[0]: {l_NodesharesforC[0]}\")"
   ]
  },
  {
   "cell_type": "markdown",
   "metadata": {},
   "source": [
    "The state of each node will be shared among 10 clounds, as shown in l_NodesharesforC. In this object, each row means five shares state of nodes in a cloud server."
   ]
  },
  {
   "cell_type": "code",
   "execution_count": 35,
   "metadata": {},
   "outputs": [
    {
     "data": {
      "text/plain": [
       "[[2126, 274, 690, 1951, 1662],\n",
       " [229, 215, 1736, 610, 1795],\n",
       " [222, 2188, 2167, 871, 1629],\n",
       " [584, 1024, 1743, 2158, 1164],\n",
       " [782, 1006, 541, 1551, 1091],\n",
       " [1157, 2110, 1407, 150, 1522],\n",
       " [1559, 86, 1260, 1346, 2122],\n",
       " [1179, 308, 1371, 757, 1793],\n",
       " [320, 1228, 169, 2267, 1585],\n",
       " [748, 370, 1267, 2129, 709]]"
      ]
     },
     "execution_count": 35,
     "metadata": {},
     "output_type": "execute_result"
    }
   ],
   "source": [
    "l_NodesharesforC"
   ]
  },
  {
   "cell_type": "code",
   "execution_count": 36,
   "metadata": {},
   "outputs": [
    {
     "name": "stderr",
     "output_type": "stream",
     "text": [
      "INFO:root:original AA:N0,N1,N2,N3,N4 -> [1, 0, 0, 0, 0]\n",
      "INFO:root:Generate AA ending...\n",
      "INFO:root:---------------------------------------\n"
     ]
    }
   ],
   "source": [
    "logging.info(f\"original AA:N0,N1,N2,N3,N4 -> {l_Node}\")\n",
    "logging.info(f\"Generate AA ending...\")\n",
    "logging.info(\"---------------------------------------\")"
   ]
  },
  {
   "cell_type": "code",
   "execution_count": 37,
   "metadata": {},
   "outputs": [
    {
     "name": "stderr",
     "output_type": "stream",
     "text": [
      "INFO:root:Updating AA now\n"
     ]
    },
    {
     "data": {
      "text/plain": [
       "31"
      ]
     },
     "execution_count": 37,
     "metadata": {},
     "output_type": "execute_result"
    }
   ],
   "source": [
    "# todo upate AA in clouds.\n",
    "logging.info(\"Updating AA now\")\n",
    "\n",
    "# each cloud will update AA for theirselves\n",
    "FileLen=len(l_Filshares[0]) # it is 14 for 'Alice Love Bob'\n",
    "FileLen"
   ]
  },
  {
   "cell_type": "code",
   "execution_count": 38,
   "metadata": {},
   "outputs": [],
   "source": [
    "for i in range(FileLen):\n",
    "    # for each symbol in file stream\n",
    "    for xx in range(n_clouds):\n",
    "        l_NodesharesforC[xx][4] = l_NodesharesforC[xx][4] + l_NodesharesforC[xx][3] * l_Filshares[xx][i][n_4to5]\n",
    "        l_NodesharesforC[xx][3] = l_NodesharesforC[xx][2] * l_Filshares[xx][i][n_3to4]\n",
    "        l_NodesharesforC[xx][2] = l_NodesharesforC[xx][1] * l_Filshares[xx][i][n_2to3]\n",
    "        l_NodesharesforC[xx][1] = l_NodesharesforC[xx][0] * l_Filshares[xx][i][n_1to2]"
   ]
  },
  {
   "cell_type": "code",
   "execution_count": 39,
   "metadata": {},
   "outputs": [
    {
     "name": "stderr",
     "output_type": "stream",
     "text": [
      "INFO:root:The state machine is updated according to input\n"
     ]
    },
    {
     "data": {
      "text/plain": [
       "[[2126, 2280, 1918, 623, 1116],\n",
       " [229, 2239, 1142, 1483, 1015],\n",
       " [222, 950, 1532, 877, 109],\n",
       " [584, 440, 554, 2232, 864],\n",
       " [782, 1483, 1578, 703, 646],\n",
       " [1157, 1112, 2277, 1014, 1305],\n",
       " [1559, 117, 268, 350, 321],\n",
       " [1179, 1389, 1049, 925, 1779],\n",
       " [320, 46, 1036, 70, 2205],\n",
       " [748, 108, 296, 743, 1419]]"
      ]
     },
     "execution_count": 39,
     "metadata": {},
     "output_type": "execute_result"
    }
   ],
   "source": [
    "logging.info(\"The state machine is updated according to input\")\n",
    "l_NodesharesforC"
   ]
  },
  {
   "cell_type": "code",
   "execution_count": 40,
   "metadata": {},
   "outputs": [
    {
     "name": "stderr",
     "output_type": "stream",
     "text": [
      "INFO:root:Upate AA ending...\n",
      "INFO:root:--------------------------------------------\n",
      "INFO:root:Reconstruct AA now\n",
      "INFO:root:l_Node is reinitilized [0, 0, 0, 0, 0]\n"
     ]
    }
   ],
   "source": [
    "logging.info(\"Upate AA ending...\")\n",
    "logging.info(\"--------------------------------------------\")\n",
    "\n",
    "# todo Reconstruct AA\n",
    "logging.info(\"Reconstruct AA now\")\n",
    "# From shares got from clouds\n",
    "# which are stored in list l_NodesharesforC\n",
    "n_node = 5\n",
    "for i in range(n_node):\n",
    "    l_Node[i] = 0\n",
    "logging.info(f\"l_Node is reinitilized {l_Node}\")"
   ]
  },
  {
   "cell_type": "code",
   "execution_count": 41,
   "metadata": {},
   "outputs": [
    {
     "name": "stderr",
     "output_type": "stream",
     "text": [
      "INFO:root:The identifier of each party server is: l_xs=[391, 569, 866, 2100, 2029, 1799, 1301, 1395, 1184, 830]\n",
      "INFO:root:l_Node[0] = 1 is recovered using lxs=[391, 569, 866], lys=[2126, 229, 222]\n",
      "INFO:root:l_Node[1] = 0 is recovered using lxs=[391, 569, 866, 2100], lys=[2280, 2239, 950, 440]\n",
      "INFO:root:l_Node[2] = 0 is recovered using lxs=[391, 569, 866, 2100, 2029], lys=[1918, 1142, 1532, 554, 1578]\n",
      "INFO:root:l_Node[3] = 0 is recovered using lxs=[391, 569, 866, 2100, 2029, 1799], lys=[623, 1483, 877, 2232, 703, 1014]\n",
      "INFO:root:l_Node[4] = 2 is recovered using lxs=[391, 569, 866, 2100, 2029, 1799, 1301], lys=[1116, 1015, 109, 864, 646, 1305, 321]\n"
     ]
    }
   ],
   "source": [
    "logging.info(f\"The identifier of each party server is: l_xs={l_xs}\")\n",
    "for xx in range(5):\n",
    "    lxs = []\n",
    "    lys = []\n",
    "    for y in range(xx + 3):\n",
    "        lxs.append(l_xs[y])\n",
    "        lys.append(l_NodesharesforC[y][xx])\n",
    "    \n",
    "    l_Node[xx] = interpolate(lxs, lys)\n",
    "    logging.info(f\"l_Node[{xx}] = {l_Node[xx]} is recovered using lxs={lxs}, lys={lys}\")\n"
   ]
  },
  {
   "cell_type": "code",
   "execution_count": 42,
   "metadata": {},
   "outputs": [
    {
     "name": "stderr",
     "output_type": "stream",
     "text": [
      "INFO:root:Reconstruct AA:N0,N1,N2,N3,N4 -> [1, 0, 0, 0, 2]\n",
      "INFO:root:Reconstruct AA ending...\n",
      "INFO:root:-------------------------------------\n"
     ]
    }
   ],
   "source": [
    "# the second node\n",
    "\n",
    "logging.info(f\"Reconstruct AA:N0,N1,N2,N3,N4 -> {l_Node}\")\n",
    "logging.info(\"Reconstruct AA ending...\")\n",
    "logging.info(\"-------------------------------------\")"
   ]
  },
  {
   "cell_type": "code",
   "execution_count": null,
   "metadata": {},
   "outputs": [],
   "source": []
  },
  {
   "cell_type": "code",
   "execution_count": null,
   "metadata": {},
   "outputs": [],
   "source": []
  },
  {
   "cell_type": "code",
   "execution_count": null,
   "metadata": {},
   "outputs": [],
   "source": []
  },
  {
   "cell_type": "code",
   "execution_count": null,
   "metadata": {},
   "outputs": [],
   "source": []
  },
  {
   "cell_type": "code",
   "execution_count": null,
   "metadata": {},
   "outputs": [],
   "source": []
  },
  {
   "cell_type": "code",
   "execution_count": null,
   "metadata": {},
   "outputs": [],
   "source": []
  },
  {
   "cell_type": "code",
   "execution_count": null,
   "metadata": {},
   "outputs": [],
   "source": []
  },
  {
   "cell_type": "code",
   "execution_count": null,
   "metadata": {},
   "outputs": [],
   "source": []
  }
 ],
 "metadata": {
  "kernelspec": {
   "display_name": "SageMath 9.0",
   "language": "sage",
   "name": "sagemath"
  },
  "language_info": {
   "codemirror_mode": {
    "name": "ipython",
    "version": 3
   },
   "file_extension": ".py",
   "mimetype": "text/x-python",
   "name": "python",
   "nbconvert_exporter": "python",
   "pygments_lexer": "ipython3",
   "version": "3.7.3"
  }
 },
 "nbformat": 4,
 "nbformat_minor": 2
}
